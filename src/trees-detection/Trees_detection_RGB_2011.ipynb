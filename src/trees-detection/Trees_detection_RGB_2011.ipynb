{
  "cells": [
    {
      "cell_type": "code",
      "execution_count": 1,
      "metadata": {
        "id": "TakiD3yxQHcO"
      },
      "outputs": [],
      "source": [
        "colab = True"
      ]
    },
    {
      "cell_type": "code",
      "execution_count": 2,
      "metadata": {
        "id": "oGjwgeJwWxA1"
      },
      "outputs": [],
      "source": [
        "import os"
      ]
    },
    {
      "cell_type": "code",
      "execution_count": 3,
      "metadata": {
        "id": "OlpzVF0NcXKn",
        "colab": {
          "base_uri": "https://localhost:8080/"
        },
        "outputId": "e6cc79a5-4721-4a09-cbbb-56f1731cb8a2"
      },
      "outputs": [
        {
          "output_type": "stream",
          "name": "stdout",
          "text": [
            "Mounted at /content/drive\n"
          ]
        }
      ],
      "source": [
        "if colab:\n",
        "  from google.colab import drive\n",
        "  drive.mount('/content/drive')"
      ]
    },
    {
      "cell_type": "code",
      "execution_count": 4,
      "metadata": {
        "id": "aptSCC4mceSG"
      },
      "outputs": [],
      "source": [
        "if colab:\n",
        "  base_dir = '/content/drive/MyDrive/green_areas_detection'\n",
        "  %cp -R \"/content/drive/MyDrive/green_areas_detection/trees_detection/yolov7\" \"./\"\n",
        "  %cp -R \"/content/drive/MyDrive/green_areas_detection/trees_detection/weigths\" \"./\"\n",
        "else:\n",
        "  base_dir = ''"
      ]
    },
    {
      "cell_type": "code",
      "execution_count": 5,
      "metadata": {
        "id": "akzatBH3s3af",
        "colab": {
          "base_uri": "https://localhost:8080/"
        },
        "outputId": "41a6c87d-d348-4381-b6f6-33ecc7f66615"
      },
      "outputs": [
        {
          "output_type": "stream",
          "name": "stdout",
          "text": [
            "/content/yolov7\n"
          ]
        }
      ],
      "source": [
        "# IMPORTANT : from now on, we enter inside the `yolov7` folder\n",
        "%cd yolov7"
      ]
    },
    {
      "cell_type": "markdown",
      "metadata": {
        "id": "FGXqY_gZWJTQ"
      },
      "source": [
        "# LOAD AND PREPARE DATASET\n",
        "We use $3$ images for the training : `19K35`, `19K38`, `18K11`.\n",
        "\n",
        "We use $1$ image for the validation : `19K53`.  \n",
        "\n",
        "We use $1$ image for the validation : `19K59`.  \n",
        "\n",
        "We use only the 3 RGB channels."
      ]
    },
    {
      "cell_type": "code",
      "execution_count": 6,
      "metadata": {
        "id": "MEWGUBStPVet"
      },
      "outputs": [],
      "source": [
        "from trees_detection_utils.dataset_handler import crop_images_and_bbs, save_bbs_as_txt, crop_images"
      ]
    },
    {
      "cell_type": "code",
      "execution_count": 7,
      "metadata": {
        "id": "5RmT-vE0WNgm"
      },
      "outputs": [],
      "source": [
        "CROP_SIZE = 640\n",
        "STEP = 320"
      ]
    },
    {
      "cell_type": "markdown",
      "metadata": {
        "id": "mZJVI5HN3yLL"
      },
      "source": [
        "## Training images\n",
        "We create the folder `train`, with two subfolders.\n",
        "1. `train\\images`, containing the crops.\n",
        "2. `train\\labels`, containing the info about the bounding boxes of each crop. For each crop, a corresponding `.txt` file is present, containing the bounding boxes enclosed in that crop."
      ]
    },
    {
      "cell_type": "code",
      "execution_count": 8,
      "metadata": {
        "id": "-r09jHXH5tkg"
      },
      "outputs": [],
      "source": [
        "dataset_folder = os.path.join(base_dir, 'dataset_2011')\n",
        "\n",
        "train_image_names_list = ['18K11', '19K38', '19K35']\n",
        "\n",
        "train_image_paths_list = [os.path.join(dataset_folder, img_name, f'{img_name}.tif') for img_name in train_image_names_list]\n",
        "\n",
        "train_bbs_shp_paths_list = [os.path.join(dataset_folder, img_name, 'trees_shp', f'{img_name}_trees.shp') for img_name in train_image_names_list]"
      ]
    },
    {
      "cell_type": "code",
      "execution_count": 9,
      "metadata": {
        "id": "RnKRSJciHT-b",
        "colab": {
          "base_uri": "https://localhost:8080/"
        },
        "outputId": "cfd10cc8-b959-4cd7-cac8-09f6ced50dd7"
      },
      "outputs": [
        {
          "output_type": "stream",
          "name": "stdout",
          "text": [
            "Processing image 18K11.tif\n"
          ]
        },
        {
          "output_type": "stream",
          "name": "stderr",
          "text": [
            "100%|██████████| 475/475 [00:04<00:00, 109.15it/s]\n"
          ]
        },
        {
          "output_type": "stream",
          "name": "stdout",
          "text": [
            "BBs frequencies assignment {0: 0.01, 1: 0.02, 2: 0.23, 3: 0.01, 4: 0.71, 6: 0.03, 9: 0.0}\n",
            "\n",
            "Processing image 19K38.tif\n"
          ]
        },
        {
          "output_type": "stream",
          "name": "stderr",
          "text": [
            "100%|██████████| 475/475 [00:04<00:00, 108.60it/s]\n"
          ]
        },
        {
          "output_type": "stream",
          "name": "stdout",
          "text": [
            "BBs frequencies assignment {0: 0.01, 1: 0.02, 2: 0.22, 3: 0.01, 4: 0.71, 6: 0.03, 9: 0.0}\n",
            "\n",
            "Processing image 19K35.tif\n"
          ]
        },
        {
          "output_type": "stream",
          "name": "stderr",
          "text": [
            "100%|██████████| 364/364 [00:03<00:00, 107.88it/s]"
          ]
        },
        {
          "output_type": "stream",
          "name": "stdout",
          "text": [
            "BBs frequencies assignment {0: 0.01, 1: 0.02, 2: 0.22, 3: 0.01, 4: 0.69, 6: 0.04, 9: 0.0}\n",
            "\n"
          ]
        },
        {
          "output_type": "stream",
          "name": "stderr",
          "text": [
            "\n"
          ]
        }
      ],
      "source": [
        "crop_images_and_bbs(train_image_paths_list, train_bbs_shp_paths_list, crop_size=CROP_SIZE, step=STEP, folder_path='./train', infrared=False)"
      ]
    },
    {
      "cell_type": "markdown",
      "metadata": {
        "id": "Fhy5K3DpJVXY"
      },
      "source": [
        "## Validation images\n",
        "We create the folder `val`, with two subfolders.\n",
        "1. `val\\images`, containing the crops.\n",
        "2. `val\\labels`, containing the info about the bounding boxes of each crop. For each crop, a corresponding `.txt` file is present, containing the bounding boxes enclosed in that crop."
      ]
    },
    {
      "cell_type": "code",
      "execution_count": 10,
      "metadata": {
        "id": "5NZnIxIGJVXY"
      },
      "outputs": [],
      "source": [
        "dataset_folder = os.path.join(base_dir, 'dataset_2011')\n",
        "\n",
        "val_image_names_list = ['19K53']\n",
        "\n",
        "val_image_paths_list = [os.path.join(dataset_folder, img_name, f'{img_name}.tif') for img_name in val_image_names_list]\n",
        "\n",
        "val_bbs_shp_paths_list = [os.path.join(dataset_folder, img_name, 'trees_shp', f'{img_name}_trees.shp') for img_name in val_image_names_list]"
      ]
    },
    {
      "cell_type": "code",
      "execution_count": 11,
      "metadata": {
        "id": "Dn6VWyTVKMSN",
        "colab": {
          "base_uri": "https://localhost:8080/"
        },
        "outputId": "1a595fdf-f833-49f4-c8b0-555dbab4c560"
      },
      "outputs": [
        {
          "output_type": "stream",
          "name": "stdout",
          "text": [
            "Processing image 19K53.tif\n"
          ]
        },
        {
          "output_type": "stream",
          "name": "stderr",
          "text": [
            "100%|██████████| 446/446 [00:04<00:00, 106.07it/s]"
          ]
        },
        {
          "output_type": "stream",
          "name": "stdout",
          "text": [
            "BBs frequencies assignment {0: 0.02, 1: 0.03, 2: 0.27, 3: 0.0, 4: 0.67, 6: 0.02}\n",
            "\n"
          ]
        },
        {
          "output_type": "stream",
          "name": "stderr",
          "text": [
            "\n"
          ]
        }
      ],
      "source": [
        "crop_images_and_bbs(val_image_paths_list, val_bbs_shp_paths_list, crop_size=CROP_SIZE, step=STEP, folder_path='./val', infrared=False)"
      ]
    },
    {
      "cell_type": "code",
      "execution_count": 12,
      "metadata": {
        "id": "XjdBC7zebyGs"
      },
      "outputs": [],
      "source": [
        "save_bbs_as_txt(val_bbs_shp_paths_list[0], val_image_paths_list[0], output_file_path=None)"
      ]
    },
    {
      "cell_type": "markdown",
      "metadata": {
        "id": "UrfBaiX766a0"
      },
      "source": [
        "## Test images\n",
        "We create the folder `test`, with two subfolders.\n",
        "1. `test\\images`, containing the crops.\n",
        "2. `test\\labels`, containing the info about the bounding boxes of each crop. For each crop, a corresponding `.txt` file is present, containing the bounding boxes enclosed in that crop."
      ]
    },
    {
      "cell_type": "code",
      "execution_count": 13,
      "metadata": {
        "id": "cHBd0BI66-bL"
      },
      "outputs": [],
      "source": [
        "dataset_folder = os.path.join(base_dir, 'dataset_2011')\n",
        "\n",
        "test_image_names_list = ['19K59']\n",
        "\n",
        "test_image_paths_list = [os.path.join(dataset_folder, img_name, f'{img_name}.tif') for img_name in test_image_names_list]\n",
        "\n",
        "test_bbs_shp_paths_list = [os.path.join(dataset_folder, img_name, 'trees_shp', f'{img_name}_trees.shp') for img_name in test_image_names_list]"
      ]
    },
    {
      "cell_type": "code",
      "execution_count": 14,
      "metadata": {
        "id": "KhWjI46VL9l2",
        "colab": {
          "base_uri": "https://localhost:8080/"
        },
        "outputId": "1d7f15fb-636b-4bf4-bc55-44a5e78b75cd"
      },
      "outputs": [
        {
          "output_type": "stream",
          "name": "stdout",
          "text": [
            "Processing image 19K59.tif\n"
          ]
        },
        {
          "output_type": "stream",
          "name": "stderr",
          "text": [
            "100%|██████████| 475/475 [00:04<00:00, 107.71it/s]"
          ]
        },
        {
          "output_type": "stream",
          "name": "stdout",
          "text": [
            "BBs frequencies assignment {0: 0.02, 1: 0.02, 2: 0.25, 3: 0.01, 4: 0.63, 6: 0.07, 9: 0.0}\n",
            "\n"
          ]
        },
        {
          "output_type": "stream",
          "name": "stderr",
          "text": [
            "\n"
          ]
        }
      ],
      "source": [
        "\n",
        "crop_images_and_bbs(test_image_paths_list, test_bbs_shp_paths_list, crop_size=CROP_SIZE, step=STEP, folder_path='./test', infrared=False)"
      ]
    },
    {
      "cell_type": "code",
      "execution_count": 15,
      "metadata": {
        "id": "GePx5-px7Uxu"
      },
      "outputs": [],
      "source": [
        "save_bbs_as_txt(test_bbs_shp_paths_list[0], test_image_paths_list[0], output_file_path=None)"
      ]
    },
    {
      "cell_type": "markdown",
      "metadata": {
        "id": "7mGmQbAO5pQb"
      },
      "source": [
        "# YOLO MODEL\n",
        "https://github.com/WongKinYiu/yolov7"
      ]
    },
    {
      "cell_type": "code",
      "execution_count": null,
      "metadata": {
        "colab": {
          "base_uri": "https://localhost:8080/"
        },
        "id": "JGJspIl90XhV",
        "outputId": "47a75e5a-0f85-46d9-ee93-0cfcf9dd8d16"
      },
      "outputs": [
        {
          "output_type": "stream",
          "name": "stdout",
          "text": [
            "Mon Oct 30 09:24:07 2023       \n",
            "+-----------------------------------------------------------------------------+\n",
            "| NVIDIA-SMI 525.105.17   Driver Version: 525.105.17   CUDA Version: 12.0     |\n",
            "|-------------------------------+----------------------+----------------------+\n",
            "| GPU  Name        Persistence-M| Bus-Id        Disp.A | Volatile Uncorr. ECC |\n",
            "| Fan  Temp  Perf  Pwr:Usage/Cap|         Memory-Usage | GPU-Util  Compute M. |\n",
            "|                               |                      |               MIG M. |\n",
            "|===============================+======================+======================|\n",
            "|   0  Tesla V100-SXM2...  Off  | 00000000:00:04.0 Off |                    0 |\n",
            "| N/A   34C    P0    24W / 300W |      0MiB / 16384MiB |      0%      Default |\n",
            "|                               |                      |                  N/A |\n",
            "+-------------------------------+----------------------+----------------------+\n",
            "                                                                               \n",
            "+-----------------------------------------------------------------------------+\n",
            "| Processes:                                                                  |\n",
            "|  GPU   GI   CI        PID   Type   Process name                  GPU Memory |\n",
            "|        ID   ID                                                   Usage      |\n",
            "|=============================================================================|\n",
            "|  No running processes found                                                 |\n",
            "+-----------------------------------------------------------------------------+\n"
          ]
        }
      ],
      "source": [
        "# Just to check GPU\n",
        "!nvidia-smi"
      ]
    },
    {
      "cell_type": "code",
      "execution_count": null,
      "metadata": {
        "colab": {
          "base_uri": "https://localhost:8080/"
        },
        "id": "-0diwz-Mkj-m",
        "outputId": "315fdf65-c204-43f1-a3cf-87459e80fff9"
      },
      "outputs": [
        {
          "name": "stdout",
          "output_type": "stream",
          "text": [
            "[Errno 2] No such file or directory: 'yolov7'\n",
            "/content/yolov7\n"
          ]
        }
      ],
      "source": [
        "%cd yolov7"
      ]
    },
    {
      "cell_type": "code",
      "execution_count": null,
      "metadata": {
        "colab": {
          "base_uri": "https://localhost:8080/"
        },
        "id": "nD-uPyQ_2jiN",
        "outputId": "52193e87-9068-4363-e259-9420e0bc8422"
      },
      "outputs": [
        {
          "name": "stdout",
          "output_type": "stream",
          "text": [
            "Requirement already satisfied: matplotlib>=3.2.2 in /usr/local/lib/python3.10/dist-packages (from -r requirements.txt (line 4)) (3.7.1)\n",
            "Requirement already satisfied: numpy>=1.18.5 in /usr/local/lib/python3.10/dist-packages (from -r requirements.txt (line 5)) (1.23.5)\n",
            "Requirement already satisfied: opencv-python>=4.1.1 in /usr/local/lib/python3.10/dist-packages (from -r requirements.txt (line 6)) (4.8.0.76)\n",
            "Requirement already satisfied: Pillow>=7.1.2 in /usr/local/lib/python3.10/dist-packages (from -r requirements.txt (line 7)) (9.4.0)\n",
            "Requirement already satisfied: PyYAML>=5.3.1 in /usr/local/lib/python3.10/dist-packages (from -r requirements.txt (line 8)) (6.0.1)\n",
            "Requirement already satisfied: requests>=2.23.0 in /usr/local/lib/python3.10/dist-packages (from -r requirements.txt (line 9)) (2.31.0)\n",
            "Requirement already satisfied: scipy>=1.4.1 in /usr/local/lib/python3.10/dist-packages (from -r requirements.txt (line 10)) (1.11.3)\n",
            "Requirement already satisfied: torch!=1.12.0,>=1.7.0 in /usr/local/lib/python3.10/dist-packages (from -r requirements.txt (line 11)) (2.0.1+cu118)\n",
            "Requirement already satisfied: torchvision!=0.13.0,>=0.8.1 in /usr/local/lib/python3.10/dist-packages (from -r requirements.txt (line 12)) (0.15.2+cu118)\n",
            "Requirement already satisfied: tqdm>=4.41.0 in /usr/local/lib/python3.10/dist-packages (from -r requirements.txt (line 13)) (4.66.1)\n",
            "Requirement already satisfied: protobuf<4.21.3 in /usr/local/lib/python3.10/dist-packages (from -r requirements.txt (line 14)) (3.20.3)\n",
            "Requirement already satisfied: tensorboard>=2.4.1 in /usr/local/lib/python3.10/dist-packages (from -r requirements.txt (line 17)) (2.13.0)\n",
            "Requirement already satisfied: pandas>=1.1.4 in /usr/local/lib/python3.10/dist-packages (from -r requirements.txt (line 21)) (1.5.3)\n",
            "Requirement already satisfied: seaborn>=0.11.0 in /usr/local/lib/python3.10/dist-packages (from -r requirements.txt (line 22)) (0.12.2)\n",
            "Requirement already satisfied: ipython in /usr/local/lib/python3.10/dist-packages (from -r requirements.txt (line 34)) (7.34.0)\n",
            "Requirement already satisfied: psutil in /usr/local/lib/python3.10/dist-packages (from -r requirements.txt (line 35)) (5.9.5)\n",
            "Collecting thop (from -r requirements.txt (line 36))\n",
            "  Downloading thop-0.1.1.post2209072238-py3-none-any.whl (15 kB)\n",
            "Requirement already satisfied: contourpy>=1.0.1 in /usr/local/lib/python3.10/dist-packages (from matplotlib>=3.2.2->-r requirements.txt (line 4)) (1.1.1)\n",
            "Requirement already satisfied: cycler>=0.10 in /usr/local/lib/python3.10/dist-packages (from matplotlib>=3.2.2->-r requirements.txt (line 4)) (0.12.0)\n",
            "Requirement already satisfied: fonttools>=4.22.0 in /usr/local/lib/python3.10/dist-packages (from matplotlib>=3.2.2->-r requirements.txt (line 4)) (4.43.0)\n",
            "Requirement already satisfied: kiwisolver>=1.0.1 in /usr/local/lib/python3.10/dist-packages (from matplotlib>=3.2.2->-r requirements.txt (line 4)) (1.4.5)\n",
            "Requirement already satisfied: packaging>=20.0 in /usr/local/lib/python3.10/dist-packages (from matplotlib>=3.2.2->-r requirements.txt (line 4)) (23.2)\n",
            "Requirement already satisfied: pyparsing>=2.3.1 in /usr/local/lib/python3.10/dist-packages (from matplotlib>=3.2.2->-r requirements.txt (line 4)) (3.1.1)\n",
            "Requirement already satisfied: python-dateutil>=2.7 in /usr/local/lib/python3.10/dist-packages (from matplotlib>=3.2.2->-r requirements.txt (line 4)) (2.8.2)\n",
            "Requirement already satisfied: charset-normalizer<4,>=2 in /usr/local/lib/python3.10/dist-packages (from requests>=2.23.0->-r requirements.txt (line 9)) (3.3.0)\n",
            "Requirement already satisfied: idna<4,>=2.5 in /usr/local/lib/python3.10/dist-packages (from requests>=2.23.0->-r requirements.txt (line 9)) (3.4)\n",
            "Requirement already satisfied: urllib3<3,>=1.21.1 in /usr/local/lib/python3.10/dist-packages (from requests>=2.23.0->-r requirements.txt (line 9)) (2.0.6)\n",
            "Requirement already satisfied: certifi>=2017.4.17 in /usr/local/lib/python3.10/dist-packages (from requests>=2.23.0->-r requirements.txt (line 9)) (2023.7.22)\n",
            "Requirement already satisfied: filelock in /usr/local/lib/python3.10/dist-packages (from torch!=1.12.0,>=1.7.0->-r requirements.txt (line 11)) (3.12.4)\n",
            "Requirement already satisfied: typing-extensions in /usr/local/lib/python3.10/dist-packages (from torch!=1.12.0,>=1.7.0->-r requirements.txt (line 11)) (4.5.0)\n",
            "Requirement already satisfied: sympy in /usr/local/lib/python3.10/dist-packages (from torch!=1.12.0,>=1.7.0->-r requirements.txt (line 11)) (1.12)\n",
            "Requirement already satisfied: networkx in /usr/local/lib/python3.10/dist-packages (from torch!=1.12.0,>=1.7.0->-r requirements.txt (line 11)) (3.1)\n",
            "Requirement already satisfied: jinja2 in /usr/local/lib/python3.10/dist-packages (from torch!=1.12.0,>=1.7.0->-r requirements.txt (line 11)) (3.1.2)\n",
            "Requirement already satisfied: triton==2.0.0 in /usr/local/lib/python3.10/dist-packages (from torch!=1.12.0,>=1.7.0->-r requirements.txt (line 11)) (2.0.0)\n",
            "Requirement already satisfied: cmake in /usr/local/lib/python3.10/dist-packages (from triton==2.0.0->torch!=1.12.0,>=1.7.0->-r requirements.txt (line 11)) (3.27.6)\n",
            "Requirement already satisfied: lit in /usr/local/lib/python3.10/dist-packages (from triton==2.0.0->torch!=1.12.0,>=1.7.0->-r requirements.txt (line 11)) (17.0.2)\n",
            "Requirement already satisfied: absl-py>=0.4 in /usr/local/lib/python3.10/dist-packages (from tensorboard>=2.4.1->-r requirements.txt (line 17)) (1.4.0)\n",
            "Requirement already satisfied: grpcio>=1.48.2 in /usr/local/lib/python3.10/dist-packages (from tensorboard>=2.4.1->-r requirements.txt (line 17)) (1.59.0)\n",
            "Requirement already satisfied: google-auth<3,>=1.6.3 in /usr/local/lib/python3.10/dist-packages (from tensorboard>=2.4.1->-r requirements.txt (line 17)) (2.17.3)\n",
            "Requirement already satisfied: google-auth-oauthlib<1.1,>=0.5 in /usr/local/lib/python3.10/dist-packages (from tensorboard>=2.4.1->-r requirements.txt (line 17)) (1.0.0)\n",
            "Requirement already satisfied: markdown>=2.6.8 in /usr/local/lib/python3.10/dist-packages (from tensorboard>=2.4.1->-r requirements.txt (line 17)) (3.4.4)\n",
            "Requirement already satisfied: setuptools>=41.0.0 in /usr/local/lib/python3.10/dist-packages (from tensorboard>=2.4.1->-r requirements.txt (line 17)) (67.7.2)\n",
            "Requirement already satisfied: tensorboard-data-server<0.8.0,>=0.7.0 in /usr/local/lib/python3.10/dist-packages (from tensorboard>=2.4.1->-r requirements.txt (line 17)) (0.7.1)\n",
            "Requirement already satisfied: werkzeug>=1.0.1 in /usr/local/lib/python3.10/dist-packages (from tensorboard>=2.4.1->-r requirements.txt (line 17)) (3.0.0)\n",
            "Requirement already satisfied: wheel>=0.26 in /usr/local/lib/python3.10/dist-packages (from tensorboard>=2.4.1->-r requirements.txt (line 17)) (0.41.2)\n",
            "Requirement already satisfied: pytz>=2020.1 in /usr/local/lib/python3.10/dist-packages (from pandas>=1.1.4->-r requirements.txt (line 21)) (2023.3.post1)\n",
            "Collecting jedi>=0.16 (from ipython->-r requirements.txt (line 34))\n",
            "  Downloading jedi-0.19.1-py2.py3-none-any.whl (1.6 MB)\n",
            "\u001b[2K     \u001b[90m━━━━━━━━━━━━━━━━━━━━━━━━━━━━━━━━━━━━━━━━\u001b[0m \u001b[32m1.6/1.6 MB\u001b[0m \u001b[31m19.5 MB/s\u001b[0m eta \u001b[36m0:00:00\u001b[0m\n",
            "\u001b[?25hRequirement already satisfied: decorator in /usr/local/lib/python3.10/dist-packages (from ipython->-r requirements.txt (line 34)) (4.4.2)\n",
            "Requirement already satisfied: pickleshare in /usr/local/lib/python3.10/dist-packages (from ipython->-r requirements.txt (line 34)) (0.7.5)\n",
            "Requirement already satisfied: traitlets>=4.2 in /usr/local/lib/python3.10/dist-packages (from ipython->-r requirements.txt (line 34)) (5.7.1)\n",
            "Requirement already satisfied: prompt-toolkit!=3.0.0,!=3.0.1,<3.1.0,>=2.0.0 in /usr/local/lib/python3.10/dist-packages (from ipython->-r requirements.txt (line 34)) (3.0.39)\n",
            "Requirement already satisfied: pygments in /usr/local/lib/python3.10/dist-packages (from ipython->-r requirements.txt (line 34)) (2.16.1)\n",
            "Requirement already satisfied: backcall in /usr/local/lib/python3.10/dist-packages (from ipython->-r requirements.txt (line 34)) (0.2.0)\n",
            "Requirement already satisfied: matplotlib-inline in /usr/local/lib/python3.10/dist-packages (from ipython->-r requirements.txt (line 34)) (0.1.6)\n",
            "Requirement already satisfied: pexpect>4.3 in /usr/local/lib/python3.10/dist-packages (from ipython->-r requirements.txt (line 34)) (4.8.0)\n",
            "Requirement already satisfied: cachetools<6.0,>=2.0.0 in /usr/local/lib/python3.10/dist-packages (from google-auth<3,>=1.6.3->tensorboard>=2.4.1->-r requirements.txt (line 17)) (5.3.1)\n",
            "Requirement already satisfied: pyasn1-modules>=0.2.1 in /usr/local/lib/python3.10/dist-packages (from google-auth<3,>=1.6.3->tensorboard>=2.4.1->-r requirements.txt (line 17)) (0.3.0)\n",
            "Requirement already satisfied: six>=1.9.0 in /usr/local/lib/python3.10/dist-packages (from google-auth<3,>=1.6.3->tensorboard>=2.4.1->-r requirements.txt (line 17)) (1.16.0)\n",
            "Requirement already satisfied: rsa<5,>=3.1.4 in /usr/local/lib/python3.10/dist-packages (from google-auth<3,>=1.6.3->tensorboard>=2.4.1->-r requirements.txt (line 17)) (4.9)\n",
            "Requirement already satisfied: requests-oauthlib>=0.7.0 in /usr/local/lib/python3.10/dist-packages (from google-auth-oauthlib<1.1,>=0.5->tensorboard>=2.4.1->-r requirements.txt (line 17)) (1.3.1)\n",
            "Requirement already satisfied: parso<0.9.0,>=0.8.3 in /usr/local/lib/python3.10/dist-packages (from jedi>=0.16->ipython->-r requirements.txt (line 34)) (0.8.3)\n",
            "Requirement already satisfied: ptyprocess>=0.5 in /usr/local/lib/python3.10/dist-packages (from pexpect>4.3->ipython->-r requirements.txt (line 34)) (0.7.0)\n",
            "Requirement already satisfied: wcwidth in /usr/local/lib/python3.10/dist-packages (from prompt-toolkit!=3.0.0,!=3.0.1,<3.1.0,>=2.0.0->ipython->-r requirements.txt (line 34)) (0.2.8)\n",
            "Requirement already satisfied: MarkupSafe>=2.1.1 in /usr/local/lib/python3.10/dist-packages (from werkzeug>=1.0.1->tensorboard>=2.4.1->-r requirements.txt (line 17)) (2.1.3)\n",
            "Requirement already satisfied: mpmath>=0.19 in /usr/local/lib/python3.10/dist-packages (from sympy->torch!=1.12.0,>=1.7.0->-r requirements.txt (line 11)) (1.3.0)\n",
            "Requirement already satisfied: pyasn1<0.6.0,>=0.4.6 in /usr/local/lib/python3.10/dist-packages (from pyasn1-modules>=0.2.1->google-auth<3,>=1.6.3->tensorboard>=2.4.1->-r requirements.txt (line 17)) (0.5.0)\n",
            "Requirement already satisfied: oauthlib>=3.0.0 in /usr/local/lib/python3.10/dist-packages (from requests-oauthlib>=0.7.0->google-auth-oauthlib<1.1,>=0.5->tensorboard>=2.4.1->-r requirements.txt (line 17)) (3.2.2)\n",
            "Installing collected packages: jedi, thop\n",
            "Successfully installed jedi-0.19.1 thop-0.1.1.post2209072238\n"
          ]
        }
      ],
      "source": [
        "!pip install -r requirements.txt ;"
      ]
    },
    {
      "cell_type": "markdown",
      "metadata": {
        "id": "bHfT9gEiBsBd"
      },
      "source": [
        "# Training\n",
        "Train the model on the $3$ train images, with $1$ val image.\n",
        "\n",
        "*(The starting point of this training is the fine-tuning on the pre-trained `yolov7_training.pt` weigths).*\n"
      ]
    },
    {
      "cell_type": "code",
      "source": [
        "# NEW\n",
        "!python train.py --rgb_only --epochs 25 --workers 8 --device 0 --batch-size 8 --data 'data.yaml' --img 640 640 --cfg 'cfg/training/yolov7-tree.yaml' --weights 'yolov7_training.pt'"
      ],
      "metadata": {
        "id": "MeR-p44bb6Km"
      },
      "execution_count": null,
      "outputs": []
    },
    {
      "cell_type": "markdown",
      "metadata": {
        "id": "CTOKQnQ2Lvlm"
      },
      "source": [
        "*Remark : the printed scores (MAP; precision, recall, ...) are computed on the validation image. But pay attention that they are computed on the validation crops, not on whole full val image. In addition, pay attention that these scores are computed using particular confidence and iou_nms thresholds. So, you don't have to much high consideration on these scores.*"
      ]
    },
    {
      "cell_type": "markdown",
      "metadata": {
        "id": "0W0MpUaTCJro"
      },
      "source": [
        "# Inference and evaluation on the full validation image"
      ]
    },
    {
      "cell_type": "code",
      "execution_count": null,
      "metadata": {
        "colab": {
          "base_uri": "https://localhost:8080/"
        },
        "id": "i8QaoHNoKCcx",
        "outputId": "98f5174c-8bb2-4330-8f18-1d0e919160e6"
      },
      "outputs": [
        {
          "name": "stdout",
          "output_type": "stream",
          "text": [
            "[Errno 2] No such file or directory: 'yolov7'\n",
            "/content/yolov7\n"
          ]
        }
      ],
      "source": [
        "%cd yolov7"
      ]
    },
    {
      "cell_type": "code",
      "execution_count": 19,
      "metadata": {
        "id": "q_nD09QouqGy"
      },
      "outputs": [],
      "source": [
        "from trees_detection_utils.inference import predict_on_img"
      ]
    },
    {
      "cell_type": "markdown",
      "metadata": {
        "id": "RTu_Ams6f_Cv"
      },
      "source": [
        "### Inference\n",
        "Perform inference on the whole validation image. The result of this is a single `.txt` file, containing all the bounding boxes on the whole validation image.\n",
        "\n",
        "For now, we perform this inference by setting `conf_thres=0.25` and `iou_nms_thres=0.45`. These two very important inference parameters will be later tuned."
      ]
    },
    {
      "cell_type": "code",
      "execution_count": 17,
      "metadata": {
        "colab": {
          "base_uri": "https://localhost:8080/"
        },
        "id": "_B4usM6yRuV8",
        "outputId": "0bc219f2-67e2-4c6c-a918-8f3eac0895a4"
      },
      "outputs": [
        {
          "output_type": "stream",
          "name": "stdout",
          "text": [
            "CROP IMAGE ...\n"
          ]
        },
        {
          "output_type": "stream",
          "name": "stderr",
          "text": [
            "100%|██████████| 475/475 [00:04<00:00, 101.23it/s]\n"
          ]
        },
        {
          "output_type": "stream",
          "name": "stdout",
          "text": [
            "FINISH CROP IMAGE\n",
            "\n",
            "RUN MODEL ON PATCHES ...\n",
            "Fusing layers... \n",
            "RepConv.fuse_repvgg_block\n",
            "RepConv.fuse_repvgg_block\n",
            "RepConv.fuse_repvgg_block\n",
            "IDetect.fuse\n",
            " Convert model to Traced-model... \n",
            " traced_script_module saved! \n",
            " model is traced! \n",
            "\n"
          ]
        },
        {
          "output_type": "stream",
          "name": "stderr",
          "text": [
            "/usr/local/lib/python3.10/dist-packages/torch/functional.py:504: UserWarning: torch.meshgrid: in an upcoming release, it will be required to pass the indexing argument. (Triggered internally at ../aten/src/ATen/native/TensorShape.cpp:3526.)\n",
            "  return _VF.meshgrid(tensors, **kwargs)  # type: ignore[attr-defined]\n",
            "100%|██████████| 475/475 [00:31<00:00, 15.07it/s]\n"
          ]
        },
        {
          "output_type": "stream",
          "name": "stdout",
          "text": [
            "FINISH RUN MODEL ON PATCHES\n",
            "\n",
            "UNIFY CROPS BBS ...\n"
          ]
        },
        {
          "output_type": "stream",
          "name": "stderr",
          "text": [
            "100%|██████████| 465/465 [00:00<00:00, 10879.47it/s]\n",
            "/content/yolov7/trees_detection_utils/inference.py:68: RuntimeWarning: invalid value encountered in divide\n",
            "  intersect_ratios = np.where(rows_min_area_flag, inter/area1, inter/area2)\n"
          ]
        },
        {
          "output_type": "stream",
          "name": "stdout",
          "text": [
            "FINISH UNIFY CROPS\n",
            "\n",
            "SAVING IMAGE ...\n"
          ]
        },
        {
          "output_type": "stream",
          "name": "stderr",
          "text": [
            "100%|██████████| 4023/4023 [00:00<00:00, 60673.79it/s]\n"
          ]
        },
        {
          "output_type": "stream",
          "name": "stdout",
          "text": [
            "Image saved in ./full_figure.jpeg\n",
            "FINISH SAVING IMAGE\n"
          ]
        }
      ],
      "source": [
        "path_to_weigths = '../weigths/best_rgb_train_2011.pt'\n",
        "image_path = os.path.join(base_dir, 'dataset_2011/19K53/19K53.tif')\n",
        "predict_on_img(path_to_weigths, image_path, output_bbs_path='./boxes.txt', crop_size=CROP_SIZE, step=STEP,\n",
        "               conf_thres=0.25, iou_nms_thres=0.45, intersect_thres=0.75, verbose=True,\n",
        "               save_fig_pred_bbs=True, infrared=False)"
      ]
    },
    {
      "cell_type": "markdown",
      "metadata": {
        "id": "KpWeW2hDY1UP"
      },
      "source": [
        "### Evaluation\n",
        "Evaluate these predicted bounding boxes w.r.t. the ground truth ones, still on the whole val image."
      ]
    },
    {
      "cell_type": "code",
      "execution_count": 23,
      "metadata": {
        "id": "nafvEiewuvfp"
      },
      "outputs": [],
      "source": [
        "from trees_detection_utils.evaluation import visualize_errors_and_missings, evaluate_predicted_boxes"
      ]
    },
    {
      "cell_type": "code",
      "execution_count": 19,
      "metadata": {
        "colab": {
          "base_uri": "https://localhost:8080/"
        },
        "id": "IMFW7BaUxpU4",
        "outputId": "29839203-6e38-4652-f627-1a02ecbc2f89"
      },
      "outputs": [
        {
          "output_type": "stream",
          "name": "stderr",
          "text": [
            "100%|██████████| 4023/4023 [00:00<00:00, 52075.74it/s]\n",
            "100%|██████████| 3830/3830 [00:00<00:00, 92378.64it/s]\n"
          ]
        },
        {
          "output_type": "stream",
          "name": "stdout",
          "text": [
            "Figure saved\n"
          ]
        }
      ],
      "source": [
        "# Save a figure containing both the ground truths and predictes boxes, both with the\n",
        "# missings and the errors\n",
        "image_path = os.path.join(base_dir, 'dataset_2011/19K53/19K53.tif')\n",
        "gt_boxes_txt_path = os.path.join(base_dir, 'dataset_2011/19K53/19K53_boxes.txt')\n",
        "pred_boxes_txt_path = 'boxes.txt'\n",
        "visualize_errors_and_missings(image_path, gt_boxes_txt_path, pred_boxes_txt_path,\n",
        "                              iou_eval_thres=0.4, show=False)"
      ]
    },
    {
      "cell_type": "code",
      "source": [
        "# NEW\n",
        "%matplotlib inline\n",
        "gt_boxes_txt_path = os.path.join(base_dir,'dataset_2011/19K53/19K53_boxes.txt')\n",
        "pred_boxes_txt_path = 'boxes.txt'\n",
        "map_score, last_f1, last_prec, last_rec = evaluate_predicted_boxes(gt_boxes_txt_path, pred_boxes_txt_path, iou_eval_thres=0.4, plot_prec_rec=True, plot_f1=True, verbose=True)"
      ],
      "metadata": {
        "colab": {
          "base_uri": "https://localhost:8080/",
          "height": 990
        },
        "id": "7qbgAmc8AEyo",
        "outputId": "e6086bae-c061-4e12-f9aa-ed2093847661"
      },
      "execution_count": 20,
      "outputs": [
        {
          "output_type": "stream",
          "name": "stderr",
          "text": [
            "4023it [00:31, 129.49it/s]\n"
          ]
        },
        {
          "output_type": "stream",
          "name": "stdout",
          "text": [
            "mAP: 0.60\n",
            "Last precision: 0.66\n",
            "Last recall: 0.69\n",
            "Last f1: 0.67\n",
            "Best f1: 0.68; index: 3605\n"
          ]
        },
        {
          "output_type": "display_data",
          "data": {
            "text/plain": [
              "<Figure size 640x480 with 1 Axes>"
            ],
            "image/png": "[encoded data removed]"
          },
          "metadata": {}
        },
        {
          "output_type": "display_data",
          "data": {
            "text/plain": [
              "<Figure size 640x480 with 1 Axes>"
            ],
            "image/png": "[encoded data removed]"
          },
          "metadata": {}
        }
      ]
    },
    {
      "cell_type": "markdown",
      "metadata": {
        "id": "ie0DpZ6CLvlo"
      },
      "source": [
        "Validation scores.\n",
        "- F1 score : $0.68$.\n",
        "- Precision : $0.66$.\n",
        "- Recall : $0.69$.\n",
        "- MAP : $0.60$."
      ]
    },
    {
      "cell_type": "markdown",
      "metadata": {
        "id": "ZNa0EE2rzh5w"
      },
      "source": [
        "# Hyperparameters tuning\n",
        "Let's now tune the two inference parameters `conf_thres` and `iou_nms_thrss` on the validation image.\n",
        "\n",
        "Exaustive grid search among all possible couples of values.\n",
        "\n",
        "This tuning is done w.r.t. the f1 score. This is the measure to monitor."
      ]
    },
    {
      "cell_type": "code",
      "execution_count": 21,
      "metadata": {
        "id": "LzOanbrsDrVn"
      },
      "outputs": [],
      "source": [
        "from trees_detection_utils.evaluation import inference_parameters_tuning"
      ]
    },
    {
      "cell_type": "code",
      "execution_count": 23,
      "metadata": {
        "colab": {
          "base_uri": "https://localhost:8080/",
          "height": 1000
        },
        "id": "LQwz8q1fS4LS",
        "outputId": "bd46e0a7-599d-4b31-d116-b9851e6f5ac7"
      },
      "outputs": [
        {
          "metadata": {
            "tags": null
          },
          "name": "stdout",
          "output_type": "stream",
          "text": [
            "[(0.1, 0.3), (0.1, 0.45), (0.1, 0.6), (0.15, 0.3), (0.15, 0.45), (0.15, 0.6), (0.2, 0.3), (0.2, 0.45), (0.2, 0.6), (0.25, 0.3), (0.25, 0.45), (0.25, 0.6), (0.3, 0.3), (0.3, 0.45), (0.3, 0.6), (0.35, 0.3), (0.35, 0.45), (0.35, 0.6), (0.4, 0.3), (0.4, 0.45), (0.4, 0.6), (0.45, 0.3), (0.45, 0.45), (0.45, 0.6), (0.5, 0.3), (0.5, 0.45), (0.5, 0.6)]\n",
            "START HYPERPARAMETERS conf_thres:0.1 iou_nms_thres:0.3\n",
            "CROP IMAGE ...\n"
          ]
        },
        {
          "metadata": {
            "tags": null
          },
          "name": "stderr",
          "output_type": "stream",
          "text": [
            "100%|██████████| 475/475 [00:04<00:00, 103.45it/s]\n"
          ]
        },
        {
          "metadata": {
            "tags": null
          },
          "name": "stdout",
          "output_type": "stream",
          "text": [
            "FINISH CROP IMAGE\n",
            "\n",
            "RUN MODEL ON PATCHES ...\n",
            "Fusing layers... \n",
            "RepConv.fuse_repvgg_block\n",
            "RepConv.fuse_repvgg_block\n",
            "RepConv.fuse_repvgg_block\n",
            "IDetect.fuse\n",
            " Convert model to Traced-model... \n",
            " traced_script_module saved! \n",
            " model is traced! \n",
            "\n"
          ]
        },
        {
          "metadata": {
            "tags": null
          },
          "name": "stderr",
          "output_type": "stream",
          "text": [
            "100%|██████████| 475/475 [00:36<00:00, 13.19it/s]\n"
          ]
        },
        {
          "metadata": {
            "tags": null
          },
          "name": "stdout",
          "output_type": "stream",
          "text": [
            "FINISH RUN MODEL ON PATCHES\n",
            "\n",
            "UNIFY CROPS BBS ...\n"
          ]
        },
        {
          "metadata": {
            "tags": null
          },
          "name": "stderr",
          "output_type": "stream",
          "text": [
            "100%|██████████| 472/472 [00:00<00:00, 7972.00it/s]\n"
          ]
        },
        {
          "metadata": {
            "tags": null
          },
          "name": "stdout",
          "output_type": "stream",
          "text": [
            "FINISH UNIFY CROPS\n",
            "\n"
          ]
        },
        {
          "metadata": {
            "tags": null
          },
          "name": "stderr",
          "output_type": "stream",
          "text": [
            "6482it [00:51, 126.74it/s]\n"
          ]
        },
        {
          "metadata": {
            "tags": null
          },
          "name": "stdout",
          "output_type": "stream",
          "text": [
            "mAP: 0.65\n",
            "Last precision: 0.46\n",
            "Last recall: 0.78\n",
            "Last f1: 0.58\n",
            "Best f1: 0.68; index: 3560\n",
            "mAP:0.647197483364988 f1:0.5762218774243599 prec:0.45834618944770134 rec:0.7757180156657963\n",
            "END HYPERPARAMETERS conf_thres:0.1 iou_nms_thres:0.3\n",
            "\n",
            "START HYPERPARAMETERS conf_thres:0.1 iou_nms_thres:0.45\n",
            "CROP IMAGE ...\n"
          ]
        },
        {
          "metadata": {
            "tags": null
          },
          "name": "stderr",
          "output_type": "stream",
          "text": [
            "100%|██████████| 475/475 [00:04<00:00, 103.07it/s]\n"
          ]
        },
        {
          "metadata": {
            "tags": null
          },
          "name": "stdout",
          "output_type": "stream",
          "text": [
            "FINISH CROP IMAGE\n",
            "\n",
            "RUN MODEL ON PATCHES ...\n",
            "Fusing layers... \n",
            "RepConv.fuse_repvgg_block\n",
            "RepConv.fuse_repvgg_block\n",
            "RepConv.fuse_repvgg_block\n",
            "IDetect.fuse\n",
            " Convert model to Traced-model... \n",
            " traced_script_module saved! \n",
            " model is traced! \n",
            "\n"
          ]
        },
        {
          "metadata": {
            "tags": null
          },
          "name": "stderr",
          "output_type": "stream",
          "text": [
            "100%|██████████| 475/475 [00:37<00:00, 12.78it/s]\n"
          ]
        },
        {
          "metadata": {
            "tags": null
          },
          "name": "stdout",
          "output_type": "stream",
          "text": [
            "FINISH RUN MODEL ON PATCHES\n",
            "\n",
            "UNIFY CROPS BBS ...\n"
          ]
        },
        {
          "metadata": {
            "tags": null
          },
          "name": "stderr",
          "output_type": "stream",
          "text": [
            "100%|██████████| 472/472 [00:00<00:00, 7115.25it/s]\n"
          ]
        },
        {
          "metadata": {
            "tags": null
          },
          "name": "stdout",
          "output_type": "stream",
          "text": [
            "FINISH UNIFY CROPS\n",
            "\n"
          ]
        },
        {
          "metadata": {
            "tags": null
          },
          "name": "stderr",
          "output_type": "stream",
          "text": [
            "6436it [00:50, 128.08it/s]\n"
          ]
        },
        {
          "metadata": {
            "tags": null
          },
          "name": "stdout",
          "output_type": "stream",
          "text": [
            "mAP: 0.65\n",
            "Last precision: 0.46\n",
            "Last recall: 0.77\n",
            "Last f1: 0.58\n",
            "Best f1: 0.67; index: 3450\n",
            "mAP:0.6457542792038186 f1:0.5760763685953634 prec:0.4594468614045991 rec:0.7720626631853786\n",
            "END HYPERPARAMETERS conf_thres:0.1 iou_nms_thres:0.45\n",
            "\n",
            "START HYPERPARAMETERS conf_thres:0.1 iou_nms_thres:0.6\n",
            "CROP IMAGE ...\n"
          ]
        },
        {
          "metadata": {
            "tags": null
          },
          "name": "stderr",
          "output_type": "stream",
          "text": [
            "100%|██████████| 475/475 [00:04<00:00, 103.40it/s]\n"
          ]
        },
        {
          "metadata": {
            "tags": null
          },
          "name": "stdout",
          "output_type": "stream",
          "text": [
            "FINISH CROP IMAGE\n",
            "\n",
            "RUN MODEL ON PATCHES ...\n",
            "Fusing layers... \n",
            "RepConv.fuse_repvgg_block\n",
            "RepConv.fuse_repvgg_block\n",
            "RepConv.fuse_repvgg_block\n",
            "IDetect.fuse\n",
            " Convert model to Traced-model... \n",
            " traced_script_module saved! \n",
            " model is traced! \n",
            "\n"
          ]
        },
        {
          "metadata": {
            "tags": null
          },
          "name": "stderr",
          "output_type": "stream",
          "text": [
            "100%|██████████| 475/475 [00:40<00:00, 11.86it/s]\n"
          ]
        },
        {
          "metadata": {
            "tags": null
          },
          "name": "stdout",
          "output_type": "stream",
          "text": [
            "FINISH RUN MODEL ON PATCHES\n",
            "\n",
            "UNIFY CROPS BBS ...\n"
          ]
        },
        {
          "metadata": {
            "tags": null
          },
          "name": "stderr",
          "output_type": "stream",
          "text": [
            "100%|██████████| 472/472 [00:00<00:00, 1659.73it/s]\n"
          ]
        },
        {
          "metadata": {
            "tags": null
          },
          "name": "stdout",
          "output_type": "stream",
          "text": [
            "FINISH UNIFY CROPS\n",
            "\n"
          ]
        },
        {
          "metadata": {
            "tags": null
          },
          "name": "stderr",
          "output_type": "stream",
          "text": [
            "6315it [00:49, 127.39it/s]\n"
          ]
        },
        {
          "metadata": {
            "tags": null
          },
          "name": "stdout",
          "output_type": "stream",
          "text": [
            "mAP: 0.63\n",
            "Last precision: 0.46\n",
            "Last recall: 0.76\n",
            "Last f1: 0.57\n",
            "Best f1: 0.65; index: 3181\n",
            "mAP:0.6317484286021265 f1:0.5736816165598818 prec:0.46080760095011875 rec:0.7597911227154047\n",
            "END HYPERPARAMETERS conf_thres:0.1 iou_nms_thres:0.6\n",
            "\n",
            "START HYPERPARAMETERS conf_thres:0.15 iou_nms_thres:0.3\n",
            "CROP IMAGE ...\n"
          ]
        },
        {
          "metadata": {
            "tags": null
          },
          "name": "stderr",
          "output_type": "stream",
          "text": [
            "100%|██████████| 475/475 [00:04<00:00, 99.29it/s]\n"
          ]
        },
        {
          "metadata": {
            "tags": null
          },
          "name": "stdout",
          "output_type": "stream",
          "text": [
            "FINISH CROP IMAGE\n",
            "\n",
            "RUN MODEL ON PATCHES ...\n",
            "Fusing layers... \n",
            "RepConv.fuse_repvgg_block\n",
            "RepConv.fuse_repvgg_block\n",
            "RepConv.fuse_repvgg_block\n",
            "IDetect.fuse\n",
            " Convert model to Traced-model... \n",
            " traced_script_module saved! \n",
            " model is traced! \n",
            "\n"
          ]
        },
        {
          "metadata": {
            "tags": null
          },
          "name": "stderr",
          "output_type": "stream",
          "text": [
            "100%|██████████| 475/475 [00:34<00:00, 13.95it/s]\n"
          ]
        },
        {
          "metadata": {
            "tags": null
          },
          "name": "stdout",
          "output_type": "stream",
          "text": [
            "FINISH RUN MODEL ON PATCHES\n",
            "\n",
            "UNIFY CROPS BBS ...\n"
          ]
        },
        {
          "metadata": {
            "tags": null
          },
          "name": "stderr",
          "output_type": "stream",
          "text": [
            "100%|██████████| 472/472 [00:00<00:00, 8394.51it/s]\n"
          ]
        },
        {
          "metadata": {
            "tags": null
          },
          "name": "stdout",
          "output_type": "stream",
          "text": [
            "FINISH UNIFY CROPS\n",
            "\n"
          ]
        },
        {
          "metadata": {
            "tags": null
          },
          "name": "stderr",
          "output_type": "stream",
          "text": [
            "5421it [00:42, 128.34it/s]\n"
          ]
        },
        {
          "metadata": {
            "tags": null
          },
          "name": "stdout",
          "output_type": "stream",
          "text": [
            "mAP: 0.64\n",
            "Last precision: 0.53\n",
            "Last recall: 0.76\n",
            "Last f1: 0.63\n",
            "Best f1: 0.68; index: 3627\n",
            "mAP:0.6370105748798611 f1:0.6254458977407849 prec:0.5336653753919941 rec:0.7553524804177546\n",
            "END HYPERPARAMETERS conf_thres:0.15 iou_nms_thres:0.3\n",
            "\n",
            "START HYPERPARAMETERS conf_thres:0.15 iou_nms_thres:0.45\n",
            "CROP IMAGE ...\n"
          ]
        },
        {
          "metadata": {
            "tags": null
          },
          "name": "stderr",
          "output_type": "stream",
          "text": [
            "100%|██████████| 475/475 [00:04<00:00, 99.28it/s] \n"
          ]
        },
        {
          "metadata": {
            "tags": null
          },
          "name": "stdout",
          "output_type": "stream",
          "text": [
            "FINISH CROP IMAGE\n",
            "\n",
            "RUN MODEL ON PATCHES ...\n",
            "Fusing layers... \n",
            "RepConv.fuse_repvgg_block\n",
            "RepConv.fuse_repvgg_block\n",
            "RepConv.fuse_repvgg_block\n",
            "IDetect.fuse\n",
            " Convert model to Traced-model... \n",
            " traced_script_module saved! \n",
            " model is traced! \n",
            "\n"
          ]
        },
        {
          "metadata": {
            "tags": null
          },
          "name": "stderr",
          "output_type": "stream",
          "text": [
            "100%|██████████| 475/475 [00:34<00:00, 13.81it/s]\n"
          ]
        },
        {
          "metadata": {
            "tags": null
          },
          "name": "stdout",
          "output_type": "stream",
          "text": [
            "FINISH RUN MODEL ON PATCHES\n",
            "\n",
            "UNIFY CROPS BBS ...\n"
          ]
        },
        {
          "metadata": {
            "tags": null
          },
          "name": "stderr",
          "output_type": "stream",
          "text": [
            "100%|██████████| 472/472 [00:00<00:00, 8694.27it/s]\n"
          ]
        },
        {
          "metadata": {
            "tags": null
          },
          "name": "stdout",
          "output_type": "stream",
          "text": [
            "FINISH UNIFY CROPS\n",
            "\n"
          ]
        },
        {
          "metadata": {
            "tags": null
          },
          "name": "stderr",
          "output_type": "stream",
          "text": [
            "5407it [00:42, 127.97it/s]\n"
          ]
        },
        {
          "metadata": {
            "tags": null
          },
          "name": "stdout",
          "output_type": "stream",
          "text": [
            "mAP: 0.64\n",
            "Last precision: 0.53\n",
            "Last recall: 0.76\n",
            "Last f1: 0.63\n",
            "Best f1: 0.68; index: 3578\n",
            "mAP:0.6393313722486523 f1:0.6261773303020461 prec:0.5348622156463844 rec:0.7550913838120105\n",
            "END HYPERPARAMETERS conf_thres:0.15 iou_nms_thres:0.45\n",
            "\n",
            "START HYPERPARAMETERS conf_thres:0.15 iou_nms_thres:0.6\n",
            "CROP IMAGE ...\n"
          ]
        },
        {
          "metadata": {
            "tags": null
          },
          "name": "stderr",
          "output_type": "stream",
          "text": [
            "100%|██████████| 475/475 [00:04<00:00, 101.63it/s]\n"
          ]
        },
        {
          "metadata": {
            "tags": null
          },
          "name": "stdout",
          "output_type": "stream",
          "text": [
            "FINISH CROP IMAGE\n",
            "\n",
            "RUN MODEL ON PATCHES ...\n",
            "Fusing layers... \n",
            "RepConv.fuse_repvgg_block\n",
            "RepConv.fuse_repvgg_block\n",
            "RepConv.fuse_repvgg_block\n",
            "IDetect.fuse\n",
            " Convert model to Traced-model... \n",
            " traced_script_module saved! \n",
            " model is traced! \n",
            "\n"
          ]
        },
        {
          "metadata": {
            "tags": null
          },
          "name": "stderr",
          "output_type": "stream",
          "text": [
            "100%|██████████| 475/475 [00:35<00:00, 13.30it/s]\n"
          ]
        },
        {
          "metadata": {
            "tags": null
          },
          "name": "stdout",
          "output_type": "stream",
          "text": [
            "FINISH RUN MODEL ON PATCHES\n",
            "\n",
            "UNIFY CROPS BBS ...\n"
          ]
        },
        {
          "metadata": {
            "tags": null
          },
          "name": "stderr",
          "output_type": "stream",
          "text": [
            "100%|██████████| 472/472 [00:00<00:00, 8143.78it/s]\n"
          ]
        },
        {
          "metadata": {
            "tags": null
          },
          "name": "stdout",
          "output_type": "stream",
          "text": [
            "FINISH UNIFY CROPS\n",
            "\n"
          ]
        },
        {
          "metadata": {
            "tags": null
          },
          "name": "stderr",
          "output_type": "stream",
          "text": [
            "5323it [00:40, 129.85it/s]\n"
          ]
        },
        {
          "metadata": {
            "tags": null
          },
          "name": "stdout",
          "output_type": "stream",
          "text": [
            "mAP: 0.64\n",
            "Last precision: 0.54\n",
            "Last recall: 0.75\n",
            "Last f1: 0.63\n",
            "Best f1: 0.67; index: 3418\n",
            "mAP:0.635681718486265 f1:0.6268982847153939 prec:0.5389817771933121 rec:0.7490861618798955\n",
            "END HYPERPARAMETERS conf_thres:0.15 iou_nms_thres:0.6\n",
            "\n",
            "START HYPERPARAMETERS conf_thres:0.2 iou_nms_thres:0.3\n",
            "CROP IMAGE ...\n"
          ]
        },
        {
          "metadata": {
            "tags": null
          },
          "name": "stderr",
          "output_type": "stream",
          "text": [
            "100%|██████████| 475/475 [00:04<00:00, 101.99it/s]\n"
          ]
        },
        {
          "metadata": {
            "tags": null
          },
          "name": "stdout",
          "output_type": "stream",
          "text": [
            "FINISH CROP IMAGE\n",
            "\n",
            "RUN MODEL ON PATCHES ...\n",
            "Fusing layers... \n",
            "RepConv.fuse_repvgg_block\n",
            "RepConv.fuse_repvgg_block\n",
            "RepConv.fuse_repvgg_block\n",
            "IDetect.fuse\n",
            " Convert model to Traced-model... \n",
            " traced_script_module saved! \n",
            " model is traced! \n",
            "\n"
          ]
        },
        {
          "metadata": {
            "tags": null
          },
          "name": "stderr",
          "output_type": "stream",
          "text": [
            "100%|██████████| 475/475 [00:32<00:00, 14.74it/s]\n"
          ]
        },
        {
          "metadata": {
            "tags": null
          },
          "name": "stdout",
          "output_type": "stream",
          "text": [
            "FINISH RUN MODEL ON PATCHES\n",
            "\n",
            "UNIFY CROPS BBS ...\n"
          ]
        },
        {
          "metadata": {
            "tags": null
          },
          "name": "stderr",
          "output_type": "stream",
          "text": [
            "100%|██████████| 469/469 [00:00<00:00, 10018.79it/s]\n"
          ]
        },
        {
          "metadata": {
            "tags": null
          },
          "name": "stdout",
          "output_type": "stream",
          "text": [
            "FINISH UNIFY CROPS\n",
            "\n"
          ]
        },
        {
          "metadata": {
            "tags": null
          },
          "name": "stderr",
          "output_type": "stream",
          "text": [
            "4614it [00:36, 127.86it/s]\n"
          ]
        },
        {
          "metadata": {
            "tags": null
          },
          "name": "stdout",
          "output_type": "stream",
          "text": [
            "mAP: 0.62\n",
            "Last precision: 0.60\n",
            "Last recall: 0.72\n",
            "Last f1: 0.65\n",
            "Best f1: 0.68; index: 3600\n",
            "mAP:0.6177724600224264 f1:0.6549028896257698 prec:0.5992631122670135 rec:0.7219321148825065\n",
            "END HYPERPARAMETERS conf_thres:0.2 iou_nms_thres:0.3\n",
            "\n",
            "START HYPERPARAMETERS conf_thres:0.2 iou_nms_thres:0.45\n",
            "CROP IMAGE ...\n"
          ]
        },
        {
          "metadata": {
            "tags": null
          },
          "name": "stderr",
          "output_type": "stream",
          "text": [
            "100%|██████████| 475/475 [00:04<00:00, 101.73it/s]\n"
          ]
        },
        {
          "metadata": {
            "tags": null
          },
          "name": "stdout",
          "output_type": "stream",
          "text": [
            "FINISH CROP IMAGE\n",
            "\n",
            "RUN MODEL ON PATCHES ...\n",
            "Fusing layers... \n",
            "RepConv.fuse_repvgg_block\n",
            "RepConv.fuse_repvgg_block\n",
            "RepConv.fuse_repvgg_block\n",
            "IDetect.fuse\n",
            " Convert model to Traced-model... \n",
            " traced_script_module saved! \n",
            " model is traced! \n",
            "\n"
          ]
        },
        {
          "metadata": {
            "tags": null
          },
          "name": "stderr",
          "output_type": "stream",
          "text": [
            "100%|██████████| 475/475 [00:32<00:00, 14.47it/s]\n"
          ]
        },
        {
          "metadata": {
            "tags": null
          },
          "name": "stdout",
          "output_type": "stream",
          "text": [
            "FINISH RUN MODEL ON PATCHES\n",
            "\n",
            "UNIFY CROPS BBS ...\n"
          ]
        },
        {
          "metadata": {
            "tags": null
          },
          "name": "stderr",
          "output_type": "stream",
          "text": [
            "100%|██████████| 469/469 [00:00<00:00, 9616.86it/s]\n"
          ]
        },
        {
          "metadata": {
            "tags": null
          },
          "name": "stdout",
          "output_type": "stream",
          "text": [
            "FINISH UNIFY CROPS\n",
            "\n"
          ]
        },
        {
          "metadata": {
            "tags": null
          },
          "name": "stderr",
          "output_type": "stream",
          "text": [
            "4626it [00:35, 129.50it/s]\n"
          ]
        },
        {
          "metadata": {
            "tags": null
          },
          "name": "stdout",
          "output_type": "stream",
          "text": [
            "mAP: 0.62\n",
            "Last precision: 0.60\n",
            "Last recall: 0.72\n",
            "Last f1: 0.66\n",
            "Best f1: 0.68; index: 3616\n",
            "mAP:0.621828424797725 f1:0.6558656575212866 prec:0.5994379593601383 rec:0.7240208877284595\n",
            "END HYPERPARAMETERS conf_thres:0.2 iou_nms_thres:0.45\n",
            "\n",
            "START HYPERPARAMETERS conf_thres:0.2 iou_nms_thres:0.6\n",
            "CROP IMAGE ...\n"
          ]
        },
        {
          "metadata": {
            "tags": null
          },
          "name": "stderr",
          "output_type": "stream",
          "text": [
            "100%|██████████| 475/475 [00:04<00:00, 102.83it/s]\n"
          ]
        },
        {
          "metadata": {
            "tags": null
          },
          "name": "stdout",
          "output_type": "stream",
          "text": [
            "FINISH CROP IMAGE\n",
            "\n",
            "RUN MODEL ON PATCHES ...\n",
            "Fusing layers... \n",
            "RepConv.fuse_repvgg_block\n",
            "RepConv.fuse_repvgg_block\n",
            "RepConv.fuse_repvgg_block\n",
            "IDetect.fuse\n",
            " Convert model to Traced-model... \n",
            " traced_script_module saved! \n",
            " model is traced! \n",
            "\n"
          ]
        },
        {
          "metadata": {
            "tags": null
          },
          "name": "stderr",
          "output_type": "stream",
          "text": [
            "100%|██████████| 475/475 [00:33<00:00, 14.29it/s]\n"
          ]
        },
        {
          "metadata": {
            "tags": null
          },
          "name": "stdout",
          "output_type": "stream",
          "text": [
            "FINISH RUN MODEL ON PATCHES\n",
            "\n",
            "UNIFY CROPS BBS ...\n"
          ]
        },
        {
          "metadata": {
            "tags": null
          },
          "name": "stderr",
          "output_type": "stream",
          "text": [
            "100%|██████████| 469/469 [00:00<00:00, 8724.61it/s]\n"
          ]
        },
        {
          "metadata": {
            "tags": null
          },
          "name": "stdout",
          "output_type": "stream",
          "text": [
            "FINISH UNIFY CROPS\n",
            "\n"
          ]
        },
        {
          "metadata": {
            "tags": null
          },
          "name": "stderr",
          "output_type": "stream",
          "text": [
            "4567it [00:36, 125.41it/s]\n"
          ]
        },
        {
          "metadata": {
            "tags": null
          },
          "name": "stdout",
          "output_type": "stream",
          "text": [
            "mAP: 0.62\n",
            "Last precision: 0.60\n",
            "Last recall: 0.72\n",
            "Last f1: 0.66\n",
            "Best f1: 0.68; index: 3567\n",
            "mAP:0.6222391323011452 f1:0.6576158151720853 prec:0.604554412086709 rec:0.72088772845953\n",
            "END HYPERPARAMETERS conf_thres:0.2 iou_nms_thres:0.6\n",
            "\n",
            "START HYPERPARAMETERS conf_thres:0.25 iou_nms_thres:0.3\n",
            "CROP IMAGE ...\n"
          ]
        },
        {
          "metadata": {
            "tags": null
          },
          "name": "stderr",
          "output_type": "stream",
          "text": [
            "100%|██████████| 475/475 [00:04<00:00, 101.30it/s]\n"
          ]
        },
        {
          "metadata": {
            "tags": null
          },
          "name": "stdout",
          "output_type": "stream",
          "text": [
            "FINISH CROP IMAGE\n",
            "\n",
            "RUN MODEL ON PATCHES ...\n",
            "Fusing layers... \n",
            "RepConv.fuse_repvgg_block\n",
            "RepConv.fuse_repvgg_block\n",
            "RepConv.fuse_repvgg_block\n",
            "IDetect.fuse\n",
            " Convert model to Traced-model... \n",
            " traced_script_module saved! \n",
            " model is traced! \n",
            "\n"
          ]
        },
        {
          "metadata": {
            "tags": null
          },
          "name": "stderr",
          "output_type": "stream",
          "text": [
            "100%|██████████| 475/475 [00:30<00:00, 15.37it/s]\n"
          ]
        },
        {
          "metadata": {
            "tags": null
          },
          "name": "stdout",
          "output_type": "stream",
          "text": [
            "FINISH RUN MODEL ON PATCHES\n",
            "\n",
            "UNIFY CROPS BBS ...\n"
          ]
        },
        {
          "metadata": {
            "tags": null
          },
          "name": "stderr",
          "output_type": "stream",
          "text": [
            "100%|██████████| 465/465 [00:00<00:00, 11932.18it/s]\n"
          ]
        },
        {
          "metadata": {
            "tags": null
          },
          "name": "stdout",
          "output_type": "stream",
          "text": [
            "FINISH UNIFY CROPS\n",
            "\n"
          ]
        },
        {
          "metadata": {
            "tags": null
          },
          "name": "stderr",
          "output_type": "stream",
          "text": [
            "4013it [00:31, 127.51it/s]\n"
          ]
        },
        {
          "metadata": {
            "tags": null
          },
          "name": "stdout",
          "output_type": "stream",
          "text": [
            "mAP: 0.60\n",
            "Last precision: 0.66\n",
            "Last recall: 0.69\n",
            "Last f1: 0.67\n",
            "Best f1: 0.68; index: 3609\n",
            "mAP:0.5957683911971284 f1:0.6719367588932806 prec:0.656615998006479 rec:0.6879895561357703\n",
            "END HYPERPARAMETERS conf_thres:0.25 iou_nms_thres:0.3\n",
            "\n",
            "START HYPERPARAMETERS conf_thres:0.25 iou_nms_thres:0.45\n",
            "CROP IMAGE ...\n"
          ]
        },
        {
          "metadata": {
            "tags": null
          },
          "name": "stderr",
          "output_type": "stream",
          "text": [
            "100%|██████████| 475/475 [00:04<00:00, 102.38it/s]\n"
          ]
        },
        {
          "metadata": {
            "tags": null
          },
          "name": "stdout",
          "output_type": "stream",
          "text": [
            "FINISH CROP IMAGE\n",
            "\n",
            "RUN MODEL ON PATCHES ...\n",
            "Fusing layers... \n",
            "RepConv.fuse_repvgg_block\n",
            "RepConv.fuse_repvgg_block\n",
            "RepConv.fuse_repvgg_block\n",
            "IDetect.fuse\n",
            " Convert model to Traced-model... \n",
            " traced_script_module saved! \n",
            " model is traced! \n",
            "\n"
          ]
        },
        {
          "metadata": {
            "tags": null
          },
          "name": "stderr",
          "output_type": "stream",
          "text": [
            "100%|██████████| 475/475 [00:30<00:00, 15.51it/s]\n"
          ]
        },
        {
          "metadata": {
            "tags": null
          },
          "name": "stdout",
          "output_type": "stream",
          "text": [
            "FINISH RUN MODEL ON PATCHES\n",
            "\n",
            "UNIFY CROPS BBS ...\n"
          ]
        },
        {
          "metadata": {
            "tags": null
          },
          "name": "stderr",
          "output_type": "stream",
          "text": [
            "100%|██████████| 465/465 [00:00<00:00, 10824.70it/s]\n"
          ]
        },
        {
          "metadata": {
            "tags": null
          },
          "name": "stdout",
          "output_type": "stream",
          "text": [
            "FINISH UNIFY CROPS\n",
            "\n"
          ]
        },
        {
          "metadata": {
            "tags": null
          },
          "name": "stderr",
          "output_type": "stream",
          "text": [
            "4023it [00:30, 130.14it/s]\n"
          ]
        },
        {
          "metadata": {
            "tags": null
          },
          "name": "stdout",
          "output_type": "stream",
          "text": [
            "mAP: 0.60\n",
            "Last precision: 0.66\n",
            "Last recall: 0.69\n",
            "Last f1: 0.67\n",
            "Best f1: 0.68; index: 3605\n",
            "mAP:0.5998109815634436 f1:0.6733732331593022 prec:0.6572209793686303 rec:0.6903394255874674\n",
            "END HYPERPARAMETERS conf_thres:0.25 iou_nms_thres:0.45\n",
            "\n",
            "START HYPERPARAMETERS conf_thres:0.25 iou_nms_thres:0.6\n",
            "CROP IMAGE ...\n"
          ]
        },
        {
          "metadata": {
            "tags": null
          },
          "name": "stderr",
          "output_type": "stream",
          "text": [
            "100%|██████████| 475/475 [00:04<00:00, 105.08it/s]\n"
          ]
        },
        {
          "metadata": {
            "tags": null
          },
          "name": "stdout",
          "output_type": "stream",
          "text": [
            "FINISH CROP IMAGE\n",
            "\n",
            "RUN MODEL ON PATCHES ...\n",
            "Fusing layers... \n",
            "RepConv.fuse_repvgg_block\n",
            "RepConv.fuse_repvgg_block\n",
            "RepConv.fuse_repvgg_block\n",
            "IDetect.fuse\n",
            " Convert model to Traced-model... \n",
            " traced_script_module saved! \n",
            " model is traced! \n",
            "\n"
          ]
        },
        {
          "metadata": {
            "tags": null
          },
          "name": "stderr",
          "output_type": "stream",
          "text": [
            "100%|██████████| 475/475 [00:30<00:00, 15.42it/s]\n"
          ]
        },
        {
          "metadata": {
            "tags": null
          },
          "name": "stdout",
          "output_type": "stream",
          "text": [
            "FINISH RUN MODEL ON PATCHES\n",
            "\n",
            "UNIFY CROPS BBS ...\n"
          ]
        },
        {
          "metadata": {
            "tags": null
          },
          "name": "stderr",
          "output_type": "stream",
          "text": [
            "100%|██████████| 465/465 [00:00<00:00, 11123.13it/s]\n"
          ]
        },
        {
          "metadata": {
            "tags": null
          },
          "name": "stdout",
          "output_type": "stream",
          "text": [
            "FINISH UNIFY CROPS\n",
            "\n"
          ]
        },
        {
          "metadata": {
            "tags": null
          },
          "name": "stderr",
          "output_type": "stream",
          "text": [
            "3992it [00:31, 127.67it/s]\n"
          ]
        },
        {
          "metadata": {
            "tags": null
          },
          "name": "stdout",
          "output_type": "stream",
          "text": [
            "mAP: 0.60\n",
            "Last precision: 0.66\n",
            "Last recall: 0.69\n",
            "Last f1: 0.68\n",
            "Best f1: 0.68; index: 3666\n",
            "mAP:0.6034380273361121 f1:0.6760419330094605 prec:0.6623246492985972 rec:0.6903394255874674\n",
            "END HYPERPARAMETERS conf_thres:0.25 iou_nms_thres:0.6\n",
            "\n",
            "START HYPERPARAMETERS conf_thres:0.3 iou_nms_thres:0.3\n",
            "CROP IMAGE ...\n"
          ]
        },
        {
          "metadata": {
            "tags": null
          },
          "name": "stderr",
          "output_type": "stream",
          "text": [
            "100%|██████████| 475/475 [00:04<00:00, 106.85it/s]\n"
          ]
        },
        {
          "metadata": {
            "tags": null
          },
          "name": "stdout",
          "output_type": "stream",
          "text": [
            "FINISH CROP IMAGE\n",
            "\n",
            "RUN MODEL ON PATCHES ...\n",
            "Fusing layers... \n",
            "RepConv.fuse_repvgg_block\n",
            "RepConv.fuse_repvgg_block\n",
            "RepConv.fuse_repvgg_block\n",
            "IDetect.fuse\n",
            " Convert model to Traced-model... \n",
            " traced_script_module saved! \n",
            " model is traced! \n",
            "\n"
          ]
        },
        {
          "metadata": {
            "tags": null
          },
          "name": "stderr",
          "output_type": "stream",
          "text": [
            "100%|██████████| 475/475 [00:29<00:00, 16.25it/s]\n"
          ]
        },
        {
          "metadata": {
            "tags": null
          },
          "name": "stdout",
          "output_type": "stream",
          "text": [
            "FINISH RUN MODEL ON PATCHES\n",
            "\n",
            "UNIFY CROPS BBS ...\n"
          ]
        },
        {
          "metadata": {
            "tags": null
          },
          "name": "stderr",
          "output_type": "stream",
          "text": [
            "100%|██████████| 462/462 [00:00<00:00, 11954.08it/s]\n"
          ]
        },
        {
          "metadata": {
            "tags": null
          },
          "name": "stdout",
          "output_type": "stream",
          "text": [
            "FINISH UNIFY CROPS\n",
            "\n"
          ]
        },
        {
          "metadata": {
            "tags": null
          },
          "name": "stderr",
          "output_type": "stream",
          "text": [
            "3520it [00:27, 125.77it/s]\n"
          ]
        },
        {
          "metadata": {
            "tags": null
          },
          "name": "stdout",
          "output_type": "stream",
          "text": [
            "mAP: 0.57\n",
            "Last precision: 0.71\n",
            "Last recall: 0.65\n",
            "Last f1: 0.68\n",
            "Best f1: 0.68; index: 3432\n",
            "mAP:0.5685175258453571 f1:0.675374149659864 prec:0.7051136363636363 rec:0.6480417754569191\n",
            "END HYPERPARAMETERS conf_thres:0.3 iou_nms_thres:0.3\n",
            "\n",
            "START HYPERPARAMETERS conf_thres:0.3 iou_nms_thres:0.45\n",
            "CROP IMAGE ...\n"
          ]
        },
        {
          "metadata": {
            "tags": null
          },
          "name": "stderr",
          "output_type": "stream",
          "text": [
            "100%|██████████| 475/475 [00:04<00:00, 103.86it/s]\n"
          ]
        },
        {
          "metadata": {
            "tags": null
          },
          "name": "stdout",
          "output_type": "stream",
          "text": [
            "FINISH CROP IMAGE\n",
            "\n",
            "RUN MODEL ON PATCHES ...\n",
            "Fusing layers... \n",
            "RepConv.fuse_repvgg_block\n",
            "RepConv.fuse_repvgg_block\n",
            "RepConv.fuse_repvgg_block\n",
            "IDetect.fuse\n",
            " Convert model to Traced-model... \n",
            " traced_script_module saved! \n",
            " model is traced! \n",
            "\n"
          ]
        },
        {
          "metadata": {
            "tags": null
          },
          "name": "stderr",
          "output_type": "stream",
          "text": [
            "100%|██████████| 475/475 [00:29<00:00, 16.01it/s]\n"
          ]
        },
        {
          "metadata": {
            "tags": null
          },
          "name": "stdout",
          "output_type": "stream",
          "text": [
            "FINISH RUN MODEL ON PATCHES\n",
            "\n",
            "UNIFY CROPS BBS ...\n"
          ]
        },
        {
          "metadata": {
            "tags": null
          },
          "name": "stderr",
          "output_type": "stream",
          "text": [
            "100%|██████████| 462/462 [00:00<00:00, 12216.50it/s]\n"
          ]
        },
        {
          "metadata": {
            "tags": null
          },
          "name": "stdout",
          "output_type": "stream",
          "text": [
            "FINISH UNIFY CROPS\n",
            "\n"
          ]
        },
        {
          "metadata": {
            "tags": null
          },
          "name": "stderr",
          "output_type": "stream",
          "text": [
            "3527it [00:27, 130.28it/s]\n"
          ]
        },
        {
          "metadata": {
            "tags": null
          },
          "name": "stdout",
          "output_type": "stream",
          "text": [
            "mAP: 0.57\n",
            "Last precision: 0.71\n",
            "Last recall: 0.65\n",
            "Last f1: 0.68\n",
            "Best f1: 0.68; index: 3479\n",
            "mAP:0.5721903452164107 f1:0.6769063476960718 prec:0.7059824213212362 rec:0.6501305483028721\n",
            "END HYPERPARAMETERS conf_thres:0.3 iou_nms_thres:0.45\n",
            "\n",
            "START HYPERPARAMETERS conf_thres:0.3 iou_nms_thres:0.6\n",
            "CROP IMAGE ...\n"
          ]
        },
        {
          "metadata": {
            "tags": null
          },
          "name": "stderr",
          "output_type": "stream",
          "text": [
            "100%|██████████| 475/475 [00:04<00:00, 104.48it/s]\n"
          ]
        },
        {
          "metadata": {
            "tags": null
          },
          "name": "stdout",
          "output_type": "stream",
          "text": [
            "FINISH CROP IMAGE\n",
            "\n",
            "RUN MODEL ON PATCHES ...\n",
            "Fusing layers... \n",
            "RepConv.fuse_repvgg_block\n",
            "RepConv.fuse_repvgg_block\n",
            "RepConv.fuse_repvgg_block\n",
            "IDetect.fuse\n",
            " Convert model to Traced-model... \n",
            " traced_script_module saved! \n",
            " model is traced! \n",
            "\n"
          ]
        },
        {
          "metadata": {
            "tags": null
          },
          "name": "stderr",
          "output_type": "stream",
          "text": [
            "100%|██████████| 475/475 [00:29<00:00, 15.94it/s]\n"
          ]
        },
        {
          "metadata": {
            "tags": null
          },
          "name": "stdout",
          "output_type": "stream",
          "text": [
            "FINISH RUN MODEL ON PATCHES\n",
            "\n",
            "UNIFY CROPS BBS ...\n"
          ]
        },
        {
          "metadata": {
            "tags": null
          },
          "name": "stderr",
          "output_type": "stream",
          "text": [
            "100%|██████████| 462/462 [00:00<00:00, 11800.19it/s]\n"
          ]
        },
        {
          "metadata": {
            "tags": null
          },
          "name": "stdout",
          "output_type": "stream",
          "text": [
            "FINISH UNIFY CROPS\n",
            "\n"
          ]
        },
        {
          "metadata": {
            "tags": null
          },
          "name": "stderr",
          "output_type": "stream",
          "text": [
            "3503it [00:26, 131.62it/s]\n"
          ]
        },
        {
          "metadata": {
            "tags": null
          },
          "name": "stdout",
          "output_type": "stream",
          "text": [
            "mAP: 0.58\n",
            "Last precision: 0.71\n",
            "Last recall: 0.65\n",
            "Last f1: 0.68\n",
            "Best f1: 0.68; index: 3450\n",
            "mAP:0.5756023832000644 f1:0.6788490385926633 prec:0.7105338281473023 rec:0.649869451697128\n",
            "END HYPERPARAMETERS conf_thres:0.3 iou_nms_thres:0.6\n",
            "\n",
            "START HYPERPARAMETERS conf_thres:0.35 iou_nms_thres:0.3\n",
            "CROP IMAGE ...\n"
          ]
        },
        {
          "metadata": {
            "tags": null
          },
          "name": "stderr",
          "output_type": "stream",
          "text": [
            "100%|██████████| 475/475 [00:04<00:00, 105.48it/s]\n"
          ]
        },
        {
          "metadata": {
            "tags": null
          },
          "name": "stdout",
          "output_type": "stream",
          "text": [
            "FINISH CROP IMAGE\n",
            "\n",
            "RUN MODEL ON PATCHES ...\n",
            "Fusing layers... \n",
            "RepConv.fuse_repvgg_block\n",
            "RepConv.fuse_repvgg_block\n",
            "RepConv.fuse_repvgg_block\n",
            "IDetect.fuse\n",
            " Convert model to Traced-model... \n",
            " traced_script_module saved! \n",
            " model is traced! \n",
            "\n"
          ]
        },
        {
          "metadata": {
            "tags": null
          },
          "name": "stderr",
          "output_type": "stream",
          "text": [
            "100%|██████████| 475/475 [00:28<00:00, 16.76it/s]\n"
          ]
        },
        {
          "metadata": {
            "tags": null
          },
          "name": "stdout",
          "output_type": "stream",
          "text": [
            "FINISH RUN MODEL ON PATCHES\n",
            "\n",
            "UNIFY CROPS BBS ...\n"
          ]
        },
        {
          "metadata": {
            "tags": null
          },
          "name": "stderr",
          "output_type": "stream",
          "text": [
            "100%|██████████| 458/458 [00:00<00:00, 13092.73it/s]\n"
          ]
        },
        {
          "metadata": {
            "tags": null
          },
          "name": "stdout",
          "output_type": "stream",
          "text": [
            "FINISH UNIFY CROPS\n",
            "\n"
          ]
        },
        {
          "metadata": {
            "tags": null
          },
          "name": "stderr",
          "output_type": "stream",
          "text": [
            "3076it [00:23, 130.89it/s]\n"
          ]
        },
        {
          "metadata": {
            "tags": null
          },
          "name": "stdout",
          "output_type": "stream",
          "text": [
            "mAP: 0.53\n",
            "Last precision: 0.75\n",
            "Last recall: 0.60\n",
            "Last f1: 0.66\n",
            "Best f1: 0.66; index: 3037\n",
            "mAP:0.532477658964862 f1:0.6640602374746598 prec:0.7454486345903771 rec:0.5986945169712794\n",
            "END HYPERPARAMETERS conf_thres:0.35 iou_nms_thres:0.3\n",
            "\n",
            "START HYPERPARAMETERS conf_thres:0.35 iou_nms_thres:0.45\n",
            "CROP IMAGE ...\n"
          ]
        },
        {
          "metadata": {
            "tags": null
          },
          "name": "stderr",
          "output_type": "stream",
          "text": [
            "100%|██████████| 475/475 [00:04<00:00, 107.53it/s]\n"
          ]
        },
        {
          "metadata": {
            "tags": null
          },
          "name": "stdout",
          "output_type": "stream",
          "text": [
            "FINISH CROP IMAGE\n",
            "\n",
            "RUN MODEL ON PATCHES ...\n",
            "Fusing layers... \n",
            "RepConv.fuse_repvgg_block\n",
            "RepConv.fuse_repvgg_block\n",
            "RepConv.fuse_repvgg_block\n",
            "IDetect.fuse\n",
            " Convert model to Traced-model... \n",
            " traced_script_module saved! \n",
            " model is traced! \n",
            "\n"
          ]
        },
        {
          "metadata": {
            "tags": null
          },
          "name": "stderr",
          "output_type": "stream",
          "text": [
            "100%|██████████| 475/475 [00:28<00:00, 16.84it/s]\n"
          ]
        },
        {
          "metadata": {
            "tags": null
          },
          "name": "stdout",
          "output_type": "stream",
          "text": [
            "FINISH RUN MODEL ON PATCHES\n",
            "\n",
            "UNIFY CROPS BBS ...\n"
          ]
        },
        {
          "metadata": {
            "tags": null
          },
          "name": "stderr",
          "output_type": "stream",
          "text": [
            "100%|██████████| 458/458 [00:00<00:00, 13551.68it/s]\n"
          ]
        },
        {
          "metadata": {
            "tags": null
          },
          "name": "stdout",
          "output_type": "stream",
          "text": [
            "FINISH UNIFY CROPS\n",
            "\n"
          ]
        },
        {
          "metadata": {
            "tags": null
          },
          "name": "stderr",
          "output_type": "stream",
          "text": [
            "3083it [00:23, 130.89it/s]\n"
          ]
        },
        {
          "metadata": {
            "tags": null
          },
          "name": "stdout",
          "output_type": "stream",
          "text": [
            "mAP: 0.54\n",
            "Last precision: 0.75\n",
            "Last recall: 0.60\n",
            "Last f1: 0.66\n",
            "Best f1: 0.66; index: 3081\n",
            "mAP:0.5353987072799506 f1:0.664545060031824 prec:0.7450535192993837 rec:0.5997389033942558\n",
            "END HYPERPARAMETERS conf_thres:0.35 iou_nms_thres:0.45\n",
            "\n",
            "START HYPERPARAMETERS conf_thres:0.35 iou_nms_thres:0.6\n",
            "CROP IMAGE ...\n"
          ]
        },
        {
          "metadata": {
            "tags": null
          },
          "name": "stderr",
          "output_type": "stream",
          "text": [
            "100%|██████████| 475/475 [00:04<00:00, 106.28it/s]\n"
          ]
        },
        {
          "metadata": {
            "tags": null
          },
          "name": "stdout",
          "output_type": "stream",
          "text": [
            "FINISH CROP IMAGE\n",
            "\n",
            "RUN MODEL ON PATCHES ...\n",
            "Fusing layers... \n",
            "RepConv.fuse_repvgg_block\n",
            "RepConv.fuse_repvgg_block\n",
            "RepConv.fuse_repvgg_block\n",
            "IDetect.fuse\n",
            " Convert model to Traced-model... \n",
            " traced_script_module saved! \n",
            " model is traced! \n",
            "\n"
          ]
        },
        {
          "metadata": {
            "tags": null
          },
          "name": "stderr",
          "output_type": "stream",
          "text": [
            "100%|██████████| 475/475 [00:28<00:00, 16.52it/s]\n"
          ]
        },
        {
          "metadata": {
            "tags": null
          },
          "name": "stdout",
          "output_type": "stream",
          "text": [
            "FINISH RUN MODEL ON PATCHES\n",
            "\n",
            "UNIFY CROPS BBS ...\n"
          ]
        },
        {
          "metadata": {
            "tags": null
          },
          "name": "stderr",
          "output_type": "stream",
          "text": [
            "100%|██████████| 458/458 [00:00<00:00, 13577.92it/s]\n"
          ]
        },
        {
          "metadata": {
            "tags": null
          },
          "name": "stdout",
          "output_type": "stream",
          "text": [
            "FINISH UNIFY CROPS\n",
            "\n"
          ]
        },
        {
          "metadata": {
            "tags": null
          },
          "name": "stderr",
          "output_type": "stream",
          "text": [
            "3066it [00:23, 130.07it/s]\n"
          ]
        },
        {
          "metadata": {
            "tags": null
          },
          "name": "stdout",
          "output_type": "stream",
          "text": [
            "mAP: 0.54\n",
            "Last precision: 0.75\n",
            "Last recall: 0.60\n",
            "Last f1: 0.67\n",
            "Best f1: 0.67; index: 3065\n",
            "mAP:0.5389247698257915 f1:0.6664733178654292 prec:0.7495107632093934 rec:0.6\n",
            "END HYPERPARAMETERS conf_thres:0.35 iou_nms_thres:0.6\n",
            "\n",
            "START HYPERPARAMETERS conf_thres:0.4 iou_nms_thres:0.3\n",
            "CROP IMAGE ...\n"
          ]
        },
        {
          "metadata": {
            "tags": null
          },
          "name": "stderr",
          "output_type": "stream",
          "text": [
            "100%|██████████| 475/475 [00:04<00:00, 104.79it/s]\n"
          ]
        },
        {
          "metadata": {
            "tags": null
          },
          "name": "stdout",
          "output_type": "stream",
          "text": [
            "FINISH CROP IMAGE\n",
            "\n",
            "RUN MODEL ON PATCHES ...\n",
            "Fusing layers... \n",
            "RepConv.fuse_repvgg_block\n",
            "RepConv.fuse_repvgg_block\n",
            "RepConv.fuse_repvgg_block\n",
            "IDetect.fuse\n",
            " Convert model to Traced-model... \n",
            " traced_script_module saved! \n",
            " model is traced! \n",
            "\n"
          ]
        },
        {
          "metadata": {
            "tags": null
          },
          "name": "stderr",
          "output_type": "stream",
          "text": [
            "100%|██████████| 475/475 [00:27<00:00, 17.15it/s]\n"
          ]
        },
        {
          "metadata": {
            "tags": null
          },
          "name": "stdout",
          "output_type": "stream",
          "text": [
            "FINISH RUN MODEL ON PATCHES\n",
            "\n",
            "UNIFY CROPS BBS ...\n"
          ]
        },
        {
          "metadata": {
            "tags": null
          },
          "name": "stderr",
          "output_type": "stream",
          "text": [
            "100%|██████████| 455/455 [00:00<00:00, 14016.13it/s]\n"
          ]
        },
        {
          "metadata": {
            "tags": null
          },
          "name": "stdout",
          "output_type": "stream",
          "text": [
            "FINISH UNIFY CROPS\n",
            "\n"
          ]
        },
        {
          "metadata": {
            "tags": null
          },
          "name": "stderr",
          "output_type": "stream",
          "text": [
            "2677it [00:20, 130.12it/s]\n"
          ]
        },
        {
          "metadata": {
            "tags": null
          },
          "name": "stdout",
          "output_type": "stream",
          "text": [
            "mAP: 0.49\n",
            "Last precision: 0.78\n",
            "Last recall: 0.55\n",
            "Last f1: 0.64\n",
            "Best f1: 0.64; index: 2676\n",
            "mAP:0.49216777912239695 f1:0.6429998463193484 prec:0.7814717967874486 rec:0.5462140992167102\n",
            "END HYPERPARAMETERS conf_thres:0.4 iou_nms_thres:0.3\n",
            "\n",
            "START HYPERPARAMETERS conf_thres:0.4 iou_nms_thres:0.45\n",
            "CROP IMAGE ...\n"
          ]
        },
        {
          "metadata": {
            "tags": null
          },
          "name": "stderr",
          "output_type": "stream",
          "text": [
            "100%|██████████| 475/475 [00:04<00:00, 102.48it/s]\n"
          ]
        },
        {
          "metadata": {
            "tags": null
          },
          "name": "stdout",
          "output_type": "stream",
          "text": [
            "FINISH CROP IMAGE\n",
            "\n",
            "RUN MODEL ON PATCHES ...\n",
            "Fusing layers... \n",
            "RepConv.fuse_repvgg_block\n",
            "RepConv.fuse_repvgg_block\n",
            "RepConv.fuse_repvgg_block\n",
            "IDetect.fuse\n",
            " Convert model to Traced-model... \n",
            " traced_script_module saved! \n",
            " model is traced! \n",
            "\n"
          ]
        },
        {
          "metadata": {
            "tags": null
          },
          "name": "stderr",
          "output_type": "stream",
          "text": [
            "100%|██████████| 475/475 [00:27<00:00, 17.41it/s]\n"
          ]
        },
        {
          "metadata": {
            "tags": null
          },
          "name": "stdout",
          "output_type": "stream",
          "text": [
            "FINISH RUN MODEL ON PATCHES\n",
            "\n",
            "UNIFY CROPS BBS ...\n"
          ]
        },
        {
          "metadata": {
            "tags": null
          },
          "name": "stderr",
          "output_type": "stream",
          "text": [
            "100%|██████████| 455/455 [00:00<00:00, 14764.45it/s]\n"
          ]
        },
        {
          "metadata": {
            "tags": null
          },
          "name": "stdout",
          "output_type": "stream",
          "text": [
            "FINISH UNIFY CROPS\n",
            "\n"
          ]
        },
        {
          "metadata": {
            "tags": null
          },
          "name": "stderr",
          "output_type": "stream",
          "text": [
            "2678it [00:20, 129.64it/s]\n"
          ]
        },
        {
          "metadata": {
            "tags": null
          },
          "name": "stdout",
          "output_type": "stream",
          "text": [
            "mAP: 0.50\n",
            "Last precision: 0.78\n",
            "Last recall: 0.55\n",
            "Last f1: 0.64\n",
            "Best f1: 0.64; index: 2677\n",
            "mAP:0.4955501735058672 f1:0.6447449293177628 prec:0.7834204630321135 rec:0.547780678851175\n",
            "END HYPERPARAMETERS conf_thres:0.4 iou_nms_thres:0.45\n",
            "\n",
            "START HYPERPARAMETERS conf_thres:0.4 iou_nms_thres:0.6\n",
            "CROP IMAGE ...\n"
          ]
        },
        {
          "metadata": {
            "tags": null
          },
          "name": "stderr",
          "output_type": "stream",
          "text": [
            "100%|██████████| 475/475 [00:04<00:00, 105.01it/s]\n"
          ]
        },
        {
          "metadata": {
            "tags": null
          },
          "name": "stdout",
          "output_type": "stream",
          "text": [
            "FINISH CROP IMAGE\n",
            "\n",
            "RUN MODEL ON PATCHES ...\n",
            "Fusing layers... \n",
            "RepConv.fuse_repvgg_block\n",
            "RepConv.fuse_repvgg_block\n",
            "RepConv.fuse_repvgg_block\n",
            "IDetect.fuse\n",
            " Convert model to Traced-model... \n",
            " traced_script_module saved! \n",
            " model is traced! \n",
            "\n"
          ]
        },
        {
          "output_type": "stream",
          "name": "stderr",
          "text": [
            "100%|██████████| 475/475 [00:27<00:00, 17.13it/s]\n"
          ]
        },
        {
          "output_type": "stream",
          "name": "stdout",
          "text": [
            "FINISH RUN MODEL ON PATCHES\n",
            "\n",
            "UNIFY CROPS BBS ...\n"
          ]
        },
        {
          "output_type": "stream",
          "name": "stderr",
          "text": [
            "100%|██████████| 455/455 [00:00<00:00, 13578.05it/s]\n"
          ]
        },
        {
          "output_type": "stream",
          "name": "stdout",
          "text": [
            "FINISH UNIFY CROPS\n",
            "\n"
          ]
        },
        {
          "output_type": "stream",
          "name": "stderr",
          "text": [
            "2664it [00:20, 129.79it/s]\n"
          ]
        },
        {
          "output_type": "stream",
          "name": "stdout",
          "text": [
            "mAP: 0.50\n",
            "Last precision: 0.79\n",
            "Last recall: 0.55\n",
            "Last f1: 0.65\n",
            "Best f1: 0.65; index: 2663\n",
            "mAP:0.4992093924413471 f1:0.6467508469356329 prec:0.7882882882882883 rec:0.5483028720626631\n",
            "END HYPERPARAMETERS conf_thres:0.4 iou_nms_thres:0.6\n",
            "\n",
            "START HYPERPARAMETERS conf_thres:0.45 iou_nms_thres:0.3\n",
            "CROP IMAGE ...\n"
          ]
        },
        {
          "output_type": "stream",
          "name": "stderr",
          "text": [
            "100%|██████████| 475/475 [00:04<00:00, 105.47it/s]\n"
          ]
        },
        {
          "output_type": "stream",
          "name": "stdout",
          "text": [
            "FINISH CROP IMAGE\n",
            "\n",
            "RUN MODEL ON PATCHES ...\n",
            "Fusing layers... \n",
            "RepConv.fuse_repvgg_block\n",
            "RepConv.fuse_repvgg_block\n",
            "RepConv.fuse_repvgg_block\n",
            "IDetect.fuse\n",
            " Convert model to Traced-model... \n",
            " traced_script_module saved! \n",
            " model is traced! \n",
            "\n"
          ]
        },
        {
          "output_type": "stream",
          "name": "stderr",
          "text": [
            "100%|██████████| 475/475 [00:26<00:00, 17.65it/s]\n"
          ]
        },
        {
          "output_type": "stream",
          "name": "stdout",
          "text": [
            "FINISH RUN MODEL ON PATCHES\n",
            "\n",
            "UNIFY CROPS BBS ...\n"
          ]
        },
        {
          "output_type": "stream",
          "name": "stderr",
          "text": [
            "100%|██████████| 450/450 [00:00<00:00, 16887.25it/s]\n"
          ]
        },
        {
          "output_type": "stream",
          "name": "stdout",
          "text": [
            "FINISH UNIFY CROPS\n",
            "\n"
          ]
        },
        {
          "output_type": "stream",
          "name": "stderr",
          "text": [
            "2271it [00:17, 129.45it/s]\n"
          ]
        },
        {
          "output_type": "stream",
          "name": "stdout",
          "text": [
            "mAP: 0.45\n",
            "Last precision: 0.82\n",
            "Last recall: 0.49\n",
            "Last f1: 0.61\n",
            "Best f1: 0.61; index: 2269\n",
            "mAP:0.4461720634059156 f1:0.6136698901819374 prec:0.8243064729194187 rec:0.48877284595300263\n",
            "END HYPERPARAMETERS conf_thres:0.45 iou_nms_thres:0.3\n",
            "\n",
            "START HYPERPARAMETERS conf_thres:0.45 iou_nms_thres:0.45\n",
            "CROP IMAGE ...\n"
          ]
        },
        {
          "output_type": "stream",
          "name": "stderr",
          "text": [
            "100%|██████████| 475/475 [00:04<00:00, 103.50it/s]\n"
          ]
        },
        {
          "output_type": "stream",
          "name": "stdout",
          "text": [
            "FINISH CROP IMAGE\n",
            "\n",
            "RUN MODEL ON PATCHES ...\n",
            "Fusing layers... \n",
            "RepConv.fuse_repvgg_block\n",
            "RepConv.fuse_repvgg_block\n",
            "RepConv.fuse_repvgg_block\n",
            "IDetect.fuse\n",
            " Convert model to Traced-model... \n",
            " traced_script_module saved! \n",
            " model is traced! \n",
            "\n"
          ]
        },
        {
          "output_type": "stream",
          "name": "stderr",
          "text": [
            "100%|██████████| 475/475 [00:26<00:00, 17.63it/s]\n"
          ]
        },
        {
          "output_type": "stream",
          "name": "stdout",
          "text": [
            "FINISH RUN MODEL ON PATCHES\n",
            "\n",
            "UNIFY CROPS BBS ...\n"
          ]
        },
        {
          "output_type": "stream",
          "name": "stderr",
          "text": [
            "100%|██████████| 450/450 [00:00<00:00, 16423.92it/s]\n"
          ]
        },
        {
          "output_type": "stream",
          "name": "stdout",
          "text": [
            "FINISH UNIFY CROPS\n",
            "\n"
          ]
        },
        {
          "output_type": "stream",
          "name": "stderr",
          "text": [
            "2271it [00:17, 127.93it/s]\n"
          ]
        },
        {
          "output_type": "stream",
          "name": "stdout",
          "text": [
            "mAP: 0.45\n",
            "Last precision: 0.83\n",
            "Last recall: 0.49\n",
            "Last f1: 0.62\n",
            "Best f1: 0.62; index: 2270\n",
            "mAP:0.4492892090759397 f1:0.6153089657433207 prec:0.8265081461911052 rec:0.4900783289817232\n",
            "END HYPERPARAMETERS conf_thres:0.45 iou_nms_thres:0.45\n",
            "\n",
            "START HYPERPARAMETERS conf_thres:0.45 iou_nms_thres:0.6\n",
            "CROP IMAGE ...\n"
          ]
        },
        {
          "output_type": "stream",
          "name": "stderr",
          "text": [
            "100%|██████████| 475/475 [00:04<00:00, 103.38it/s]\n"
          ]
        },
        {
          "output_type": "stream",
          "name": "stdout",
          "text": [
            "FINISH CROP IMAGE\n",
            "\n",
            "RUN MODEL ON PATCHES ...\n",
            "Fusing layers... \n",
            "RepConv.fuse_repvgg_block\n",
            "RepConv.fuse_repvgg_block\n",
            "RepConv.fuse_repvgg_block\n",
            "IDetect.fuse\n",
            " Convert model to Traced-model... \n",
            " traced_script_module saved! \n",
            " model is traced! \n",
            "\n"
          ]
        },
        {
          "output_type": "stream",
          "name": "stderr",
          "text": [
            "100%|██████████| 475/475 [00:27<00:00, 17.55it/s]\n"
          ]
        },
        {
          "output_type": "stream",
          "name": "stdout",
          "text": [
            "FINISH RUN MODEL ON PATCHES\n",
            "\n",
            "UNIFY CROPS BBS ...\n"
          ]
        },
        {
          "output_type": "stream",
          "name": "stderr",
          "text": [
            "100%|██████████| 450/450 [00:00<00:00, 15838.32it/s]\n"
          ]
        },
        {
          "output_type": "stream",
          "name": "stdout",
          "text": [
            "FINISH UNIFY CROPS\n",
            "\n"
          ]
        },
        {
          "output_type": "stream",
          "name": "stderr",
          "text": [
            "2262it [00:17, 128.68it/s]\n"
          ]
        },
        {
          "output_type": "stream",
          "name": "stdout",
          "text": [
            "mAP: 0.45\n",
            "Last precision: 0.83\n",
            "Last recall: 0.49\n",
            "Last f1: 0.62\n",
            "Best f1: 0.62; index: 2261\n",
            "mAP:0.4519603687101715 f1:0.6168745896257386 prec:0.8306808134394341 rec:0.4906005221932115\n",
            "END HYPERPARAMETERS conf_thres:0.45 iou_nms_thres:0.6\n",
            "\n",
            "START HYPERPARAMETERS conf_thres:0.5 iou_nms_thres:0.3\n",
            "CROP IMAGE ...\n"
          ]
        },
        {
          "output_type": "stream",
          "name": "stderr",
          "text": [
            "100%|██████████| 475/475 [00:04<00:00, 106.72it/s]\n"
          ]
        },
        {
          "output_type": "stream",
          "name": "stdout",
          "text": [
            "FINISH CROP IMAGE\n",
            "\n",
            "RUN MODEL ON PATCHES ...\n",
            "Fusing layers... \n",
            "RepConv.fuse_repvgg_block\n",
            "RepConv.fuse_repvgg_block\n",
            "RepConv.fuse_repvgg_block\n",
            "IDetect.fuse\n",
            " Convert model to Traced-model... \n",
            " traced_script_module saved! \n",
            " model is traced! \n",
            "\n"
          ]
        },
        {
          "output_type": "stream",
          "name": "stderr",
          "text": [
            "100%|██████████| 475/475 [00:26<00:00, 18.10it/s]\n"
          ]
        },
        {
          "output_type": "stream",
          "name": "stdout",
          "text": [
            "FINISH RUN MODEL ON PATCHES\n",
            "\n",
            "UNIFY CROPS BBS ...\n"
          ]
        },
        {
          "output_type": "stream",
          "name": "stderr",
          "text": [
            "100%|██████████| 447/447 [00:00<00:00, 16220.70it/s]\n"
          ]
        },
        {
          "output_type": "stream",
          "name": "stdout",
          "text": [
            "FINISH UNIFY CROPS\n",
            "\n"
          ]
        },
        {
          "output_type": "stream",
          "name": "stderr",
          "text": [
            "1931it [00:15, 128.64it/s]\n"
          ]
        },
        {
          "output_type": "stream",
          "name": "stdout",
          "text": [
            "mAP: 0.40\n",
            "Last precision: 0.86\n",
            "Last recall: 0.43\n",
            "Last f1: 0.57\n",
            "Best f1: 0.57; index: 1930\n",
            "mAP:0.3977251930145402 f1:0.5735115431348724 prec:0.8555152770585189 rec:0.43133159268929505\n",
            "END HYPERPARAMETERS conf_thres:0.5 iou_nms_thres:0.3\n",
            "\n",
            "START HYPERPARAMETERS conf_thres:0.5 iou_nms_thres:0.45\n",
            "CROP IMAGE ...\n"
          ]
        },
        {
          "output_type": "stream",
          "name": "stderr",
          "text": [
            "100%|██████████| 475/475 [00:04<00:00, 102.99it/s]\n"
          ]
        },
        {
          "output_type": "stream",
          "name": "stdout",
          "text": [
            "FINISH CROP IMAGE\n",
            "\n",
            "RUN MODEL ON PATCHES ...\n",
            "Fusing layers... \n",
            "RepConv.fuse_repvgg_block\n",
            "RepConv.fuse_repvgg_block\n",
            "RepConv.fuse_repvgg_block\n",
            "IDetect.fuse\n",
            " Convert model to Traced-model... \n",
            " traced_script_module saved! \n",
            " model is traced! \n",
            "\n"
          ]
        },
        {
          "output_type": "stream",
          "name": "stderr",
          "text": [
            "100%|██████████| 475/475 [00:26<00:00, 17.99it/s]\n"
          ]
        },
        {
          "output_type": "stream",
          "name": "stdout",
          "text": [
            "FINISH RUN MODEL ON PATCHES\n",
            "\n",
            "UNIFY CROPS BBS ...\n"
          ]
        },
        {
          "output_type": "stream",
          "name": "stderr",
          "text": [
            "100%|██████████| 447/447 [00:00<00:00, 17941.01it/s]\n"
          ]
        },
        {
          "output_type": "stream",
          "name": "stdout",
          "text": [
            "FINISH UNIFY CROPS\n",
            "\n"
          ]
        },
        {
          "output_type": "stream",
          "name": "stderr",
          "text": [
            "1932it [00:14, 129.75it/s]\n"
          ]
        },
        {
          "output_type": "stream",
          "name": "stdout",
          "text": [
            "mAP: 0.40\n",
            "Last precision: 0.86\n",
            "Last recall: 0.43\n",
            "Last f1: 0.58\n",
            "Best f1: 0.58; index: 1931\n",
            "mAP:0.4009649121679861 f1:0.5754946199236376 prec:0.8581780538302277 rec:0.43289817232375977\n",
            "END HYPERPARAMETERS conf_thres:0.5 iou_nms_thres:0.45\n",
            "\n",
            "START HYPERPARAMETERS conf_thres:0.5 iou_nms_thres:0.6\n",
            "CROP IMAGE ...\n"
          ]
        },
        {
          "output_type": "stream",
          "name": "stderr",
          "text": [
            "100%|██████████| 475/475 [00:04<00:00, 106.33it/s]\n"
          ]
        },
        {
          "output_type": "stream",
          "name": "stdout",
          "text": [
            "FINISH CROP IMAGE\n",
            "\n",
            "RUN MODEL ON PATCHES ...\n",
            "Fusing layers... \n",
            "RepConv.fuse_repvgg_block\n",
            "RepConv.fuse_repvgg_block\n",
            "RepConv.fuse_repvgg_block\n",
            "IDetect.fuse\n",
            " Convert model to Traced-model... \n",
            " traced_script_module saved! \n",
            " model is traced! \n",
            "\n"
          ]
        },
        {
          "output_type": "stream",
          "name": "stderr",
          "text": [
            "100%|██████████| 475/475 [00:26<00:00, 17.98it/s]\n"
          ]
        },
        {
          "output_type": "stream",
          "name": "stdout",
          "text": [
            "FINISH RUN MODEL ON PATCHES\n",
            "\n",
            "UNIFY CROPS BBS ...\n"
          ]
        },
        {
          "output_type": "stream",
          "name": "stderr",
          "text": [
            "100%|██████████| 447/447 [00:00<00:00, 16280.71it/s]\n"
          ]
        },
        {
          "output_type": "stream",
          "name": "stdout",
          "text": [
            "FINISH UNIFY CROPS\n",
            "\n"
          ]
        },
        {
          "output_type": "stream",
          "name": "stderr",
          "text": [
            "1927it [00:14, 131.06it/s]\n"
          ]
        },
        {
          "output_type": "stream",
          "name": "stdout",
          "text": [
            "mAP: 0.40\n",
            "Last precision: 0.86\n",
            "Last recall: 0.43\n",
            "Last f1: 0.58\n",
            "Best f1: 0.58; index: 1926\n",
            "mAP:0.4043509913648712 f1:0.577731457356262 prec:0.8629994810586403 rec:0.4342036553524804\n",
            "END HYPERPARAMETERS conf_thres:0.5 iou_nms_thres:0.6\n",
            "\n",
            "BEST HYPERPARAMETERS conf_thres:0.3 iou_nms_thres:0.6\n",
            "mAP:0.5756023832000644 f1:0.6788490385926633 prec:0.7105338281473023 rec:0.649869451697128\n"
          ]
        },
        {
          "output_type": "display_data",
          "data": {
            "text/plain": [
              "<Figure size 640x480 with 2 Axes>"
            ],
            "image/png": "[encoded data removed]"
          },
          "metadata": {}
        }
      ],
      "source": [
        "%matplotlib inline\n",
        "path_to_weigths = '../weigths/best_rgb_train_2011.pt'\n",
        "image_path = os.path.join(base_dir, 'dataset_2011/19K53/19K53.tif')\n",
        "gt_boxes_txt_path = os.path.join(base_dir, 'dataset_2011/19K53/19K53_boxes.txt')\n",
        "conf_thres_list = [0.1, 0.15, 0.2, 0.25, 0.3, 0.35, 0.4, 0.45, 0.5]\n",
        "iou_nms_thres_list = [0.3, 0.45, 0.6]\n",
        "hyperparameters_list, hyperparameters_metrics_dict = inference_parameters_tuning(path_to_weigths, image_path, gt_boxes_txt_path, conf_thres_list, iou_nms_thres_list,\n",
        "                                                           infrared=False, crop_size=CROP_SIZE, step=STEP, preferred_metric='f1',\n",
        "                                                           iou_eval_thres=0.4, plot=True)"
      ]
    },
    {
      "cell_type": "markdown",
      "metadata": {
        "id": "uumHNyBaLvlp"
      },
      "source": [
        "Results of the tuning.\n",
        "- Best values : `best_conf=0.30` and `best_iou_nms=0.60`.\n",
        "- F1 score : $0.68$.\n",
        "- Precision : $0.71$ ; Recall : $0.65$.\n",
        "- MAP : $0.58$."
      ]
    },
    {
      "cell_type": "code",
      "execution_count": 16,
      "metadata": {
        "id": "4X923g812hqH"
      },
      "outputs": [],
      "source": [
        "best_conf = 0.30\n",
        "best_iou_nms = 0.60"
      ]
    },
    {
      "cell_type": "markdown",
      "metadata": {
        "id": "9pNYWUHr0QG0"
      },
      "source": [
        "# Test\n",
        "Let's now perform a training on the train + validation : we call this **full training**. This is our final model. *(The starting point of this training is still the fine-tuning on the pre-trained `yolov7_training.pt` weigths).*\n",
        "\n",
        "We then test this final model on the test image. The inference is run using the bets inference parameters found before with the tuning."
      ]
    },
    {
      "cell_type": "markdown",
      "metadata": {
        "id": "v1zH3SBILvlp"
      },
      "source": [
        "### Full training"
      ]
    },
    {
      "cell_type": "code",
      "execution_count": 17,
      "metadata": {
        "id": "U179C4We62-4"
      },
      "outputs": [],
      "source": [
        "%mkdir full_train\n",
        "%cp -r train/images full_train/\n",
        "%cp -r train/labels full_train/\n",
        "%cp -r val/images full_train/\n",
        "%cp -r val/labels full_train/"
      ]
    },
    {
      "cell_type": "code",
      "source": [
        "# NEW\n",
        "!python train.py --rgb_only --epochs 30 --workers 8 --device 0 --batch-size 8 --data 'data_fulltrain.yaml' --img 640 640 --cfg 'cfg/training/yolov7-tree.yaml' --weights 'yolov7_training.pt'"
      ],
      "metadata": {
        "colab": {
          "base_uri": "https://localhost:8080/"
        },
        "id": "KZGGhToUi2NB",
        "outputId": "0dc2f34b-abc2-4d69-837e-23dafd2fc6cb"
      },
      "execution_count": null,
      "outputs": [
        {
          "output_type": "stream",
          "name": "stdout",
          "text": [
            "2023-10-30 11:49:45.894290: E tensorflow/compiler/xla/stream_executor/cuda/cuda_dnn.cc:9342] Unable to register cuDNN factory: Attempting to register factory for plugin cuDNN when one has already been registered\n",
            "2023-10-30 11:49:45.894354: E tensorflow/compiler/xla/stream_executor/cuda/cuda_fft.cc:609] Unable to register cuFFT factory: Attempting to register factory for plugin cuFFT when one has already been registered\n",
            "2023-10-30 11:49:45.894383: E tensorflow/compiler/xla/stream_executor/cuda/cuda_blas.cc:1518] Unable to register cuBLAS factory: Attempting to register factory for plugin cuBLAS when one has already been registered\n",
            "2023-10-30 11:49:45.902066: I tensorflow/core/platform/cpu_feature_guard.cc:182] This TensorFlow binary is optimized to use available CPU instructions in performance-critical operations.\n",
            "To enable the following instructions: AVX2 AVX512F FMA, in other operations, rebuild TensorFlow with the appropriate compiler flags.\n",
            "2023-10-30 11:49:46.858946: W tensorflow/compiler/tf2tensorrt/utils/py_utils.cc:38] TF-TRT Warning: Could not find TensorRT\n",
            "YOLOR 🚀 2023-10-30 torch 2.1.0+cu118 CUDA:0 (Tesla V100-SXM2-16GB, 16150.875MB)\n",
            "\n",
            "Namespace(rgb_only=True, weights='yolov7_training.pt', cfg='cfg/training/yolov7-tree.yaml', data='data_fulltrain.yaml', hyp='data/hyp.scratch.p5.yaml', epochs=30, batch_size=8, img_size=[640, 640], rect=False, resume=False, nosave=False, notest=False, noautoanchor=False, evolve=False, bucket='', cache_images=False, image_weights=False, device='0', multi_scale=False, single_cls=False, adam=False, sync_bn=False, local_rank=-1, workers=8, project='runs/train', entity=None, name='exp', exist_ok=False, quad=False, linear_lr=False, label_smoothing=0.0, upload_dataset=False, bbox_interval=-1, save_period=-1, artifact_alias='latest', freeze=[0], v5_metric=False, world_size=1, global_rank=-1, save_dir='runs/train/exp', total_batch_size=8)\n",
            "\u001b[34m\u001b[1mtensorboard: \u001b[0mStart with 'tensorboard --logdir runs/train', view at http://localhost:6006/\n",
            "\u001b[34m\u001b[1mhyperparameters: \u001b[0mlr0=0.01, lrf=0.1, momentum=0.937, weight_decay=0.0005, warmup_epochs=3.0, warmup_momentum=0.8, warmup_bias_lr=0.1, box=0.05, cls=0.3, cls_pw=1.0, obj=0.7, obj_pw=1.0, iou_t=0.2, anchor_t=4.0, fl_gamma=0.0, hsv_h=0.015, hsv_s=0.7, hsv_v=0.4, degrees=0.0, translate=0.2, scale=0.9, shear=0.0, perspective=0.0, flipud=0.0, fliplr=0.5, mosaic=1.0, mixup=0.15, copy_paste=0.0, paste_in=0.15, loss_ota=1\n",
            "\u001b[34m\u001b[1mwandb: \u001b[0mInstall Weights & Biases for YOLOR logging with 'pip install wandb' (recommended)\n",
            "\n",
            "                 from  n    params  module                                  arguments                     \n",
            "  0                -1  1       928  models.common.Conv                      [3, 32, 3, 1]                 \n",
            "  1                -1  1     18560  models.common.Conv                      [32, 64, 3, 2]                \n",
            "  2                -1  1     36992  models.common.Conv                      [64, 64, 3, 1]                \n",
            "  3                -1  1     73984  models.common.Conv                      [64, 128, 3, 2]               \n",
            "  4                -1  1      8320  models.common.Conv                      [128, 64, 1, 1]               \n",
            "  5                -2  1      8320  models.common.Conv                      [128, 64, 1, 1]               \n",
            "  6                -1  1     36992  models.common.Conv                      [64, 64, 3, 1]                \n",
            "  7                -1  1     36992  models.common.Conv                      [64, 64, 3, 1]                \n",
            "  8                -1  1     36992  models.common.Conv                      [64, 64, 3, 1]                \n",
            "  9                -1  1     36992  models.common.Conv                      [64, 64, 3, 1]                \n",
            " 10  [-1, -3, -5, -6]  1         0  models.common.Concat                    [1]                           \n",
            " 11                -1  1     66048  models.common.Conv                      [256, 256, 1, 1]              \n",
            " 12                -1  1         0  models.common.MP                        []                            \n",
            " 13                -1  1     33024  models.common.Conv                      [256, 128, 1, 1]              \n",
            " 14                -3  1     33024  models.common.Conv                      [256, 128, 1, 1]              \n",
            " 15                -1  1    147712  models.common.Conv                      [128, 128, 3, 2]              \n",
            " 16          [-1, -3]  1         0  models.common.Concat                    [1]                           \n",
            " 17                -1  1     33024  models.common.Conv                      [256, 128, 1, 1]              \n",
            " 18                -2  1     33024  models.common.Conv                      [256, 128, 1, 1]              \n",
            " 19                -1  1    147712  models.common.Conv                      [128, 128, 3, 1]              \n",
            " 20                -1  1    147712  models.common.Conv                      [128, 128, 3, 1]              \n",
            " 21                -1  1    147712  models.common.Conv                      [128, 128, 3, 1]              \n",
            " 22                -1  1    147712  models.common.Conv                      [128, 128, 3, 1]              \n",
            " 23  [-1, -3, -5, -6]  1         0  models.common.Concat                    [1]                           \n",
            " 24                -1  1    263168  models.common.Conv                      [512, 512, 1, 1]              \n",
            " 25                -1  1         0  models.common.MP                        []                            \n",
            " 26                -1  1    131584  models.common.Conv                      [512, 256, 1, 1]              \n",
            " 27                -3  1    131584  models.common.Conv                      [512, 256, 1, 1]              \n",
            " 28                -1  1    590336  models.common.Conv                      [256, 256, 3, 2]              \n",
            " 29          [-1, -3]  1         0  models.common.Concat                    [1]                           \n",
            " 30                -1  1    131584  models.common.Conv                      [512, 256, 1, 1]              \n",
            " 31                -2  1    131584  models.common.Conv                      [512, 256, 1, 1]              \n",
            " 32                -1  1    590336  models.common.Conv                      [256, 256, 3, 1]              \n",
            " 33                -1  1    590336  models.common.Conv                      [256, 256, 3, 1]              \n",
            " 34                -1  1    590336  models.common.Conv                      [256, 256, 3, 1]              \n",
            " 35                -1  1    590336  models.common.Conv                      [256, 256, 3, 1]              \n",
            " 36  [-1, -3, -5, -6]  1         0  models.common.Concat                    [1]                           \n",
            " 37                -1  1   1050624  models.common.Conv                      [1024, 1024, 1, 1]            \n",
            " 38                -1  1         0  models.common.MP                        []                            \n",
            " 39                -1  1    525312  models.common.Conv                      [1024, 512, 1, 1]             \n",
            " 40                -3  1    525312  models.common.Conv                      [1024, 512, 1, 1]             \n",
            " 41                -1  1   2360320  models.common.Conv                      [512, 512, 3, 2]              \n",
            " 42          [-1, -3]  1         0  models.common.Concat                    [1]                           \n",
            " 43                -1  1    262656  models.common.Conv                      [1024, 256, 1, 1]             \n",
            " 44                -2  1    262656  models.common.Conv                      [1024, 256, 1, 1]             \n",
            " 45                -1  1    590336  models.common.Conv                      [256, 256, 3, 1]              \n",
            " 46                -1  1    590336  models.common.Conv                      [256, 256, 3, 1]              \n",
            " 47                -1  1    590336  models.common.Conv                      [256, 256, 3, 1]              \n",
            " 48                -1  1    590336  models.common.Conv                      [256, 256, 3, 1]              \n",
            " 49  [-1, -3, -5, -6]  1         0  models.common.Concat                    [1]                           \n",
            " 50                -1  1   1050624  models.common.Conv                      [1024, 1024, 1, 1]            \n",
            " 51                -1  1   7609344  models.common.SPPCSPC                   [1024, 512, 1]                \n",
            " 52                -1  1    131584  models.common.Conv                      [512, 256, 1, 1]              \n",
            " 53                -1  1         0  torch.nn.modules.upsampling.Upsample    [None, 2, 'nearest']          \n",
            " 54                37  1    262656  models.common.Conv                      [1024, 256, 1, 1]             \n",
            " 55          [-1, -2]  1         0  models.common.Concat                    [1]                           \n",
            " 56                -1  1    131584  models.common.Conv                      [512, 256, 1, 1]              \n",
            " 57                -2  1    131584  models.common.Conv                      [512, 256, 1, 1]              \n",
            " 58                -1  1    295168  models.common.Conv                      [256, 128, 3, 1]              \n",
            " 59                -1  1    147712  models.common.Conv                      [128, 128, 3, 1]              \n",
            " 60                -1  1    147712  models.common.Conv                      [128, 128, 3, 1]              \n",
            " 61                -1  1    147712  models.common.Conv                      [128, 128, 3, 1]              \n",
            " 62[-1, -2, -3, -4, -5, -6]  1         0  models.common.Concat                    [1]                           \n",
            " 63                -1  1    262656  models.common.Conv                      [1024, 256, 1, 1]             \n",
            " 64                -1  1     33024  models.common.Conv                      [256, 128, 1, 1]              \n",
            " 65                -1  1         0  torch.nn.modules.upsampling.Upsample    [None, 2, 'nearest']          \n",
            " 66                24  1     65792  models.common.Conv                      [512, 128, 1, 1]              \n",
            " 67          [-1, -2]  1         0  models.common.Concat                    [1]                           \n",
            " 68                -1  1     33024  models.common.Conv                      [256, 128, 1, 1]              \n",
            " 69                -2  1     33024  models.common.Conv                      [256, 128, 1, 1]              \n",
            " 70                -1  1     73856  models.common.Conv                      [128, 64, 3, 1]               \n",
            " 71                -1  1     36992  models.common.Conv                      [64, 64, 3, 1]                \n",
            " 72                -1  1     36992  models.common.Conv                      [64, 64, 3, 1]                \n",
            " 73                -1  1     36992  models.common.Conv                      [64, 64, 3, 1]                \n",
            " 74[-1, -2, -3, -4, -5, -6]  1         0  models.common.Concat                    [1]                           \n",
            " 75                -1  1     65792  models.common.Conv                      [512, 128, 1, 1]              \n",
            " 76                -1  1         0  models.common.MP                        []                            \n",
            " 77                -1  1     16640  models.common.Conv                      [128, 128, 1, 1]              \n",
            " 78                -3  1     16640  models.common.Conv                      [128, 128, 1, 1]              \n",
            " 79                -1  1    147712  models.common.Conv                      [128, 128, 3, 2]              \n",
            " 80      [-1, -3, 63]  1         0  models.common.Concat                    [1]                           \n",
            " 81                -1  1    131584  models.common.Conv                      [512, 256, 1, 1]              \n",
            " 82                -2  1    131584  models.common.Conv                      [512, 256, 1, 1]              \n",
            " 83                -1  1    295168  models.common.Conv                      [256, 128, 3, 1]              \n",
            " 84                -1  1    147712  models.common.Conv                      [128, 128, 3, 1]              \n",
            " 85                -1  1    147712  models.common.Conv                      [128, 128, 3, 1]              \n",
            " 86                -1  1    147712  models.common.Conv                      [128, 128, 3, 1]              \n",
            " 87[-1, -2, -3, -4, -5, -6]  1         0  models.common.Concat                    [1]                           \n",
            " 88                -1  1    262656  models.common.Conv                      [1024, 256, 1, 1]             \n",
            " 89                -1  1         0  models.common.MP                        []                            \n",
            " 90                -1  1     66048  models.common.Conv                      [256, 256, 1, 1]              \n",
            " 91                -3  1     66048  models.common.Conv                      [256, 256, 1, 1]              \n",
            " 92                -1  1    590336  models.common.Conv                      [256, 256, 3, 2]              \n",
            " 93      [-1, -3, 51]  1         0  models.common.Concat                    [1]                           \n",
            " 94                -1  1    525312  models.common.Conv                      [1024, 512, 1, 1]             \n",
            " 95                -2  1    525312  models.common.Conv                      [1024, 512, 1, 1]             \n",
            " 96                -1  1   1180160  models.common.Conv                      [512, 256, 3, 1]              \n",
            " 97                -1  1    590336  models.common.Conv                      [256, 256, 3, 1]              \n",
            " 98                -1  1    590336  models.common.Conv                      [256, 256, 3, 1]              \n",
            " 99                -1  1    590336  models.common.Conv                      [256, 256, 3, 1]              \n",
            "100[-1, -2, -3, -4, -5, -6]  1         0  models.common.Concat                    [1]                           \n",
            "101                -1  1   1049600  models.common.Conv                      [2048, 512, 1, 1]             \n",
            "102                75  1    328704  models.common.RepConv                   [128, 256, 3, 1]              \n",
            "103                88  1   1312768  models.common.RepConv                   [256, 512, 3, 1]              \n",
            "104               101  1   5246976  models.common.RepConv                   [512, 1024, 3, 1]             \n",
            "105   [102, 103, 104]  1     34156  models.yolo.IDetect                     [1, [[12, 16, 19, 36, 40, 28], [36, 75, 76, 55, 72, 146], [142, 110, 192, 243, 459, 401]], [256, 512, 1024]]\n",
            "Model Summary: 415 layers, 37196556 parameters, 37196556 gradients\n",
            "\n",
            "Transferred 555/566 items from yolov7_training.pt\n",
            "Scaled weight_decay = 0.0005\n",
            "Optimizer groups: 95 .bias, 95 conv.weight, 98 other\n",
            "\u001b[34m\u001b[1mtrain: \u001b[0mScanning 'full_train/labels' images and labels... 1760 found, 0 missing, 0 empty, 0 corrupted: 100% 1760/1760 [00:01<00:00, 1228.23it/s]\n",
            "\u001b[34m\u001b[1mtrain: \u001b[0mNew cache created: full_train/labels.cache\n",
            "\u001b[34m\u001b[1mval: \u001b[0mScanning 'test/labels' images and labels... 475 found, 0 missing, 0 empty, 0 corrupted: 100% 475/475 [00:00<00:00, 655.57it/s]\n",
            "\u001b[34m\u001b[1mval: \u001b[0mNew cache created: test/labels.cache\n",
            "\n",
            "\u001b[34m\u001b[1mautoanchor: \u001b[0mAnalyzing anchors... anchors/target = 4.55, Best Possible Recall (BPR) = 0.9998\n",
            "Image sizes 640 train, 640 test\n",
            "Using 8 dataloader workers\n",
            "Logging results to runs/train/exp\n",
            "Starting training for 30 epochs...\n",
            "\n",
            "     Epoch   gpu_mem       box       obj       cls     total    labels  img_size\n",
            "      0/29     7.37G    0.0806    0.1145         0    0.1951       892       640: 100% 220/220 [01:34<00:00,  2.32it/s]\n",
            "               Class      Images      Labels           P           R      mAP@.5  mAP@.5:.95:   0% 0/30 [00:00<?, ?it/s]/usr/local/lib/python3.10/dist-packages/torch/functional.py:504: UserWarning: torch.meshgrid: in an upcoming release, it will be required to pass the indexing argument. (Triggered internally at ../aten/src/ATen/native/TensorShape.cpp:3526.)\n",
            "  return _VF.meshgrid(tensors, **kwargs)  # type: ignore[attr-defined]\n",
            "               Class      Images      Labels           P           R      mAP@.5  mAP@.5:.95: 100% 30/30 [00:17<00:00,  1.76it/s]\n",
            "                 all         475       21529       0.248        0.32       0.183      0.0387\n",
            "\n",
            "     Epoch   gpu_mem       box       obj       cls     total    labels  img_size\n",
            "      1/29     7.61G    0.0715     0.133         0    0.2045      1159       640: 100% 220/220 [01:16<00:00,  2.86it/s]\n",
            "               Class      Images      Labels           P           R      mAP@.5  mAP@.5:.95: 100% 30/30 [00:37<00:00,  1.24s/it]\n",
            "                 all         475       21529      0.0033       0.486       0.003    0.000438\n",
            "\n",
            "     Epoch   gpu_mem       box       obj       cls     total    labels  img_size\n",
            "      2/29     8.54G   0.07391    0.1587         0    0.2326      2409       640: 100% 220/220 [01:18<00:00,  2.80it/s]\n",
            "               Class      Images      Labels           P           R      mAP@.5  mAP@.5:.95: 100% 30/30 [00:30<00:00,  1.01s/it]\n",
            "                 all         475       21529        0.08       0.243      0.0532     0.00875\n",
            "\n",
            "     Epoch   gpu_mem       box       obj       cls     total    labels  img_size\n",
            "      3/29     8.54G   0.07016    0.1663         0    0.2364      2075       640: 100% 220/220 [01:17<00:00,  2.84it/s]\n",
            "               Class      Images      Labels           P           R      mAP@.5  mAP@.5:.95: 100% 30/30 [00:09<00:00,  3.15it/s]\n",
            "                 all         475       21529       0.335       0.243       0.213      0.0552\n",
            "\n",
            "     Epoch   gpu_mem       box       obj       cls     total    labels  img_size\n",
            "      4/29     8.54G   0.07219    0.1529         0    0.2251      1126       640: 100% 220/220 [01:16<00:00,  2.87it/s]\n",
            "               Class      Images      Labels           P           R      mAP@.5  mAP@.5:.95: 100% 30/30 [00:10<00:00,  2.78it/s]\n",
            "                 all         475       21529       0.439       0.381       0.346      0.0953\n",
            "\n",
            "     Epoch   gpu_mem       box       obj       cls     total    labels  img_size\n",
            "      5/29     8.54G   0.07692    0.1518         0    0.2288       611       640: 100% 220/220 [01:17<00:00,  2.85it/s]\n",
            "               Class      Images      Labels           P           R      mAP@.5  mAP@.5:.95: 100% 30/30 [00:08<00:00,  3.38it/s]\n",
            "                 all         475       21529       0.491       0.432       0.411       0.131\n",
            "\n",
            "     Epoch   gpu_mem       box       obj       cls     total    labels  img_size\n",
            "      6/29     8.54G   0.07206    0.1569         0     0.229      1170       640: 100% 220/220 [01:17<00:00,  2.85it/s]\n",
            "               Class      Images      Labels           P           R      mAP@.5  mAP@.5:.95: 100% 30/30 [00:08<00:00,  3.66it/s]\n",
            "                 all         475       21529       0.571       0.516        0.52       0.179\n",
            "\n",
            "     Epoch   gpu_mem       box       obj       cls     total    labels  img_size\n",
            "      7/29     8.54G   0.06822    0.1558         0     0.224       978       640: 100% 220/220 [01:17<00:00,  2.85it/s]\n",
            "               Class      Images      Labels           P           R      mAP@.5  mAP@.5:.95: 100% 30/30 [00:09<00:00,  3.26it/s]\n",
            "                 all         475       21529       0.476       0.379       0.367        0.12\n",
            "\n",
            "     Epoch   gpu_mem       box       obj       cls     total    labels  img_size\n",
            "      8/29     8.54G    0.0738    0.1508         0    0.2246      1189       640: 100% 220/220 [01:17<00:00,  2.85it/s]\n",
            "               Class      Images      Labels           P           R      mAP@.5  mAP@.5:.95: 100% 30/30 [00:08<00:00,  3.41it/s]\n",
            "                 all         475       21529       0.559       0.503       0.506       0.176\n",
            "\n",
            "     Epoch   gpu_mem       box       obj       cls     total    labels  img_size\n",
            "      9/29     8.54G     0.072    0.1574         0    0.2294      1968       640: 100% 220/220 [01:18<00:00,  2.79it/s]\n",
            "               Class      Images      Labels           P           R      mAP@.5  mAP@.5:.95: 100% 30/30 [00:08<00:00,  3.64it/s]\n",
            "                 all         475       21529       0.609       0.525       0.543       0.199\n",
            "\n",
            "     Epoch   gpu_mem       box       obj       cls     total    labels  img_size\n",
            "     10/29     8.54G   0.06708    0.1538         0    0.2209      1199       640: 100% 220/220 [01:18<00:00,  2.80it/s]\n",
            "               Class      Images      Labels           P           R      mAP@.5  mAP@.5:.95: 100% 30/30 [00:07<00:00,  4.02it/s]\n",
            "                 all         475       21529       0.596        0.56        0.56       0.201\n",
            "\n",
            "     Epoch   gpu_mem       box       obj       cls     total    labels  img_size\n",
            "     11/29     8.54G    0.0738    0.1474         0    0.2212      1041       640: 100% 220/220 [01:17<00:00,  2.84it/s]\n",
            "               Class      Images      Labels           P           R      mAP@.5  mAP@.5:.95: 100% 30/30 [00:08<00:00,  3.72it/s]\n",
            "                 all         475       21529       0.622         0.5       0.532       0.192\n",
            "\n",
            "     Epoch   gpu_mem       box       obj       cls     total    labels  img_size\n",
            "     12/29     8.54G   0.06944     0.147         0    0.2165       468       640: 100% 220/220 [01:15<00:00,  2.91it/s]\n",
            "               Class      Images      Labels           P           R      mAP@.5  mAP@.5:.95: 100% 30/30 [00:07<00:00,  3.88it/s]\n",
            "                 all         475       21529       0.601       0.548       0.561       0.201\n",
            "\n",
            "     Epoch   gpu_mem       box       obj       cls     total    labels  img_size\n",
            "     13/29     8.54G   0.07383    0.1485         0    0.2223      1373       640: 100% 220/220 [01:17<00:00,  2.84it/s]\n",
            "               Class      Images      Labels           P           R      mAP@.5  mAP@.5:.95: 100% 30/30 [00:07<00:00,  4.00it/s]\n",
            "                 all         475       21529       0.611       0.582       0.592       0.224\n",
            "\n",
            "     Epoch   gpu_mem       box       obj       cls     total    labels  img_size\n",
            "     14/29     8.54G   0.07074    0.1452         0    0.2159      1738       640: 100% 220/220 [01:16<00:00,  2.88it/s]\n",
            "               Class      Images      Labels           P           R      mAP@.5  mAP@.5:.95: 100% 30/30 [00:07<00:00,  4.03it/s]\n",
            "                 all         475       21529       0.595       0.593       0.589       0.221\n",
            "\n",
            "     Epoch   gpu_mem       box       obj       cls     total    labels  img_size\n",
            "     15/29     8.54G   0.06984    0.1452         0    0.2151      1566       640: 100% 220/220 [01:17<00:00,  2.84it/s]\n",
            "               Class      Images      Labels           P           R      mAP@.5  mAP@.5:.95: 100% 30/30 [00:07<00:00,  4.05it/s]\n",
            "                 all         475       21529        0.62       0.593       0.602       0.226\n",
            "\n",
            "     Epoch   gpu_mem       box       obj       cls     total    labels  img_size\n",
            "     16/29     8.54G   0.07024    0.1437         0    0.2139      1454       640: 100% 220/220 [01:16<00:00,  2.87it/s]\n",
            "               Class      Images      Labels           P           R      mAP@.5  mAP@.5:.95: 100% 30/30 [00:06<00:00,  4.34it/s]\n",
            "                 all         475       21529       0.635       0.575       0.598       0.223\n",
            "\n",
            "     Epoch   gpu_mem       box       obj       cls     total    labels  img_size\n",
            "     17/29     8.54G   0.07043    0.1456         0     0.216      1828       640: 100% 220/220 [01:19<00:00,  2.77it/s]\n",
            "               Class      Images      Labels           P           R      mAP@.5  mAP@.5:.95: 100% 30/30 [00:07<00:00,  4.24it/s]\n",
            "                 all         475       21529       0.626       0.601       0.613       0.227\n",
            "\n",
            "     Epoch   gpu_mem       box       obj       cls     total    labels  img_size\n",
            "     18/29     8.54G   0.07404    0.1451         0    0.2192       843       640: 100% 220/220 [01:17<00:00,  2.84it/s]\n",
            "               Class      Images      Labels           P           R      mAP@.5  mAP@.5:.95: 100% 30/30 [00:07<00:00,  4.24it/s]\n",
            "                 all         475       21529       0.626         0.6       0.616       0.237\n",
            "\n",
            "     Epoch   gpu_mem       box       obj       cls     total    labels  img_size\n",
            "     19/29     8.54G   0.07255    0.1469         0    0.2195      1354       640: 100% 220/220 [01:18<00:00,  2.80it/s]\n",
            "               Class      Images      Labels           P           R      mAP@.5  mAP@.5:.95: 100% 30/30 [00:07<00:00,  4.23it/s]\n",
            "                 all         475       21529        0.62         0.6       0.609       0.231\n",
            "\n",
            "     Epoch   gpu_mem       box       obj       cls     total    labels  img_size\n",
            "     20/29     8.54G   0.07033    0.1462         0    0.2166      1417       640: 100% 220/220 [01:17<00:00,  2.83it/s]\n",
            "               Class      Images      Labels           P           R      mAP@.5  mAP@.5:.95: 100% 30/30 [00:06<00:00,  4.48it/s]\n",
            "                 all         475       21529       0.624       0.525        0.56       0.207\n",
            "\n",
            "     Epoch   gpu_mem       box       obj       cls     total    labels  img_size\n",
            "     21/29     8.54G   0.06984    0.1462         0     0.216       720       640: 100% 220/220 [01:18<00:00,  2.81it/s]\n",
            "               Class      Images      Labels           P           R      mAP@.5  mAP@.5:.95: 100% 30/30 [00:07<00:00,  4.18it/s]\n",
            "                 all         475       21529       0.645       0.597       0.624       0.237\n",
            "\n",
            "     Epoch   gpu_mem       box       obj       cls     total    labels  img_size\n",
            "     22/29     8.54G   0.07106    0.1459         0     0.217       933       640: 100% 220/220 [01:19<00:00,  2.78it/s]\n",
            "               Class      Images      Labels           P           R      mAP@.5  mAP@.5:.95: 100% 30/30 [00:06<00:00,  4.33it/s]\n",
            "                 all         475       21529        0.65       0.586       0.617       0.238\n",
            "\n",
            "     Epoch   gpu_mem       box       obj       cls     total    labels  img_size\n",
            "     23/29     8.54G    0.0712    0.1415         0    0.2127      1044       640: 100% 220/220 [01:17<00:00,  2.85it/s]\n",
            "               Class      Images      Labels           P           R      mAP@.5  mAP@.5:.95: 100% 30/30 [00:07<00:00,  4.27it/s]\n",
            "                 all         475       21529       0.629       0.604       0.618       0.235\n",
            "\n",
            "     Epoch   gpu_mem       box       obj       cls     total    labels  img_size\n",
            "     24/29     8.54G   0.07099    0.1432         0    0.2142      1244       640: 100% 220/220 [01:17<00:00,  2.85it/s]\n",
            "               Class      Images      Labels           P           R      mAP@.5  mAP@.5:.95: 100% 30/30 [00:07<00:00,  4.22it/s]\n",
            "                 all         475       21529       0.639       0.594       0.614       0.234\n",
            "\n",
            "     Epoch   gpu_mem       box       obj       cls     total    labels  img_size\n",
            "     25/29     8.54G   0.07145    0.1426         0     0.214      1186       640: 100% 220/220 [01:17<00:00,  2.85it/s]\n",
            "               Class      Images      Labels           P           R      mAP@.5  mAP@.5:.95: 100% 30/30 [00:07<00:00,  4.26it/s]\n",
            "                 all         475       21529       0.642       0.615       0.633       0.244\n",
            "\n",
            "     Epoch   gpu_mem       box       obj       cls     total    labels  img_size\n",
            "     26/29     8.54G   0.06906    0.1424         0    0.2115       999       640: 100% 220/220 [01:17<00:00,  2.86it/s]\n",
            "               Class      Images      Labels           P           R      mAP@.5  mAP@.5:.95: 100% 30/30 [00:07<00:00,  4.21it/s]\n",
            "                 all         475       21529       0.653        0.61       0.634       0.245\n",
            "\n",
            "     Epoch   gpu_mem       box       obj       cls     total    labels  img_size\n",
            "     27/29     8.54G   0.06858    0.1406         0    0.2092      1483       640: 100% 220/220 [01:17<00:00,  2.86it/s]\n",
            "               Class      Images      Labels           P           R      mAP@.5  mAP@.5:.95: 100% 30/30 [00:07<00:00,  4.21it/s]\n",
            "                 all         475       21529       0.647       0.614       0.632       0.246\n",
            "\n",
            "     Epoch   gpu_mem       box       obj       cls     total    labels  img_size\n",
            "     28/29     8.54G   0.07036    0.1419         0    0.2123      1418       640: 100% 220/220 [01:16<00:00,  2.88it/s]\n",
            "               Class      Images      Labels           P           R      mAP@.5  mAP@.5:.95: 100% 30/30 [00:07<00:00,  4.03it/s]\n",
            "                 all         475       21529       0.632        0.61       0.625       0.242\n",
            "\n",
            "     Epoch   gpu_mem       box       obj       cls     total    labels  img_size\n",
            "     29/29     8.54G   0.07197    0.1406         0    0.2126      1635       640: 100% 220/220 [01:17<00:00,  2.85it/s]\n",
            "               Class      Images      Labels           P           R      mAP@.5  mAP@.5:.95: 100% 30/30 [00:14<00:00,  2.13it/s]\n",
            "                 all         475       21529       0.658       0.596       0.627       0.244\n",
            "30 epochs completed in 0.757 hours.\n",
            "\n",
            "Optimizer stripped from runs/train/exp/weights/last.pt, 74.8MB\n",
            "Optimizer stripped from runs/train/exp/weights/best.pt, 74.8MB\n"
          ]
        }
      ]
    },
    {
      "cell_type": "markdown",
      "metadata": {
        "id": "PR65NvCE2viG"
      },
      "source": [
        "### Inference"
      ]
    },
    {
      "cell_type": "code",
      "execution_count": 20,
      "metadata": {
        "colab": {
          "base_uri": "https://localhost:8080/"
        },
        "id": "BT3LpkFV7btT",
        "outputId": "473c054d-7da1-41d9-9a22-edbedf6b1289"
      },
      "outputs": [
        {
          "output_type": "stream",
          "name": "stdout",
          "text": [
            "CROP IMAGE ...\n"
          ]
        },
        {
          "output_type": "stream",
          "name": "stderr",
          "text": [
            "100%|██████████| 475/475 [00:04<00:00, 109.39it/s]\n"
          ]
        },
        {
          "output_type": "stream",
          "name": "stdout",
          "text": [
            "FINISH CROP IMAGE\n",
            "\n",
            "RUN MODEL ON PATCHES ...\n",
            "Fusing layers... \n",
            "RepConv.fuse_repvgg_block\n",
            "RepConv.fuse_repvgg_block\n",
            "RepConv.fuse_repvgg_block\n",
            "IDetect.fuse\n",
            " Convert model to Traced-model... \n",
            " traced_script_module saved! \n",
            " model is traced! \n",
            "\n"
          ]
        },
        {
          "output_type": "stream",
          "name": "stderr",
          "text": [
            "/usr/local/lib/python3.10/dist-packages/torch/functional.py:504: UserWarning: torch.meshgrid: in an upcoming release, it will be required to pass the indexing argument. (Triggered internally at ../aten/src/ATen/native/TensorShape.cpp:3526.)\n",
            "  return _VF.meshgrid(tensors, **kwargs)  # type: ignore[attr-defined]\n",
            "100%|██████████| 475/475 [00:34<00:00, 13.58it/s]\n"
          ]
        },
        {
          "output_type": "stream",
          "name": "stdout",
          "text": [
            "FINISH RUN MODEL ON PATCHES\n",
            "\n",
            "UNIFY CROPS BBS ...\n"
          ]
        },
        {
          "output_type": "stream",
          "name": "stderr",
          "text": [
            "100%|██████████| 475/475 [00:00<00:00, 7991.55it/s]\n"
          ]
        },
        {
          "output_type": "stream",
          "name": "stdout",
          "text": [
            "FINISH UNIFY CROPS\n",
            "\n",
            "SAVING IMAGE ...\n"
          ]
        },
        {
          "output_type": "stream",
          "name": "stderr",
          "text": [
            "100%|██████████| 6845/6845 [00:00<00:00, 64407.17it/s]\n"
          ]
        },
        {
          "output_type": "stream",
          "name": "stdout",
          "text": [
            "Image saved in ./full_figure.jpeg\n",
            "FINISH SAVING IMAGE\n"
          ]
        }
      ],
      "source": [
        "path_to_weigths = '../weigths/best_rgb_fulltrain_2011.pt'\n",
        "image_path = os.path.join(base_dir, 'dataset_2011/19K59/19K59.tif')\n",
        "predict_on_img(path_to_weigths, image_path, output_bbs_path='./boxes.txt', infrared=False, crop_size=CROP_SIZE, step=STEP,\n",
        "                   conf_thres=best_conf, iou_nms_thres=best_iou_nms, intersect_thres=0.75, verbose=True, save_fig_pred_bbs=True)"
      ]
    },
    {
      "cell_type": "markdown",
      "metadata": {
        "id": "0OYgADLn3I3G"
      },
      "source": [
        "### Evaluation"
      ]
    },
    {
      "cell_type": "code",
      "execution_count": 25,
      "metadata": {
        "colab": {
          "base_uri": "https://localhost:8080/"
        },
        "id": "o4KW2p2z3ILX",
        "outputId": "c3078b1b-9499-44c9-8c9e-2b526177e8c8"
      },
      "outputs": [
        {
          "output_type": "stream",
          "name": "stderr",
          "text": [
            "100%|██████████| 6845/6845 [00:00<00:00, 55421.09it/s]\n",
            "100%|██████████| 6202/6202 [00:00<00:00, 119532.74it/s]\n"
          ]
        },
        {
          "output_type": "stream",
          "name": "stdout",
          "text": [
            "Figure saved\n"
          ]
        }
      ],
      "source": [
        "image_path = os.path.join(base_dir, 'dataset_2011/19K59/19K59.tif')\n",
        "gt_boxes_txt_path = os.path.join(base_dir, 'dataset_2011/19K59/19K59_boxes.txt')\n",
        "pred_boxes_txt_path = 'boxes.txt'\n",
        "visualize_errors_and_missings(image_path, gt_boxes_txt_path, pred_boxes_txt_path, iou_eval_thres=0.4, show=False)"
      ]
    },
    {
      "cell_type": "code",
      "execution_count": 26,
      "metadata": {
        "colab": {
          "base_uri": "https://localhost:8080/",
          "height": 989
        },
        "id": "5j_ZWDWzcvip",
        "outputId": "5a2243c5-ada7-4ce1-fe9e-c7c6d2ac4c34"
      },
      "outputs": [
        {
          "output_type": "stream",
          "name": "stderr",
          "text": [
            "6845it [01:21, 84.22it/s]\n"
          ]
        },
        {
          "output_type": "stream",
          "name": "stdout",
          "text": [
            "mAP: 0.63\n",
            "Last precision: 0.66\n",
            "Last recall: 0.73\n",
            "Last f1: 0.69\n",
            "Best f1: 0.70; index: 6403\n"
          ]
        },
        {
          "output_type": "display_data",
          "data": {
            "text/plain": [
              "<Figure size 640x480 with 1 Axes>"
            ],
            "image/png": "[encoded data removed]"
          },
          "metadata": {}
        },
        {
          "output_type": "display_data",
          "data": {
            "text/plain": [
              "<Figure size 640x480 with 1 Axes>"
            ],
            "image/png": "[encoded data removed]"
          },
          "metadata": {}
        }
      ],
      "source": [
        "%matplotlib inline\n",
        "gt_boxes_txt_path = os.path.join(base_dir,'dataset_2011/19K59/19K59_boxes.txt')\n",
        "pred_boxes_txt_path = 'boxes.txt'\n",
        "map_score, last_f1, last_prec, last_rec = evaluate_predicted_boxes(gt_boxes_txt_path, pred_boxes_txt_path,\n",
        "                                                                   iou_eval_thres=0.4,\n",
        "                                                                   plot_prec_rec=True, plot_f1=True, verbose=True)"
      ]
    },
    {
      "cell_type": "markdown",
      "metadata": {
        "id": "sJ4UVdXmLvlr"
      },
      "source": [
        "Final test scores.\n",
        "- F1 score : $0.7$.\n",
        "- Precision : $0.66$.\n",
        "- Recall : $0.73$.\n",
        "- MAP : $0.63$."
      ]
    }
  ],
  "metadata": {
    "accelerator": "GPU",
    "colab": {
      "gpuType": "T4",
      "machine_shape": "hm",
      "provenance": []
    },
    "kernelspec": {
      "display_name": "Python 3",
      "name": "python3"
    },
    "language_info": {
      "name": "python"
    }
  },
  "nbformat": 4,
  "nbformat_minor": 0
}