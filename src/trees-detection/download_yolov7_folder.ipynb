{
 "cells": [
  {
   "cell_type": "markdown",
   "metadata": {},
   "source": [
    "Code used for downloading the yolov7 folder the first time."
   ]
  },
  {
   "cell_type": "code",
   "execution_count": null,
   "metadata": {},
   "outputs": [],
   "source": [
    "# current version of YOLOv7 is not compatible with pytorch>1.12.1 and numpy>1.20.1\n",
    "# until the appropriate changes get made to the main repository, we will be using a fork containing the patched code\n",
    "# you can track the progress here: https://github.com/roboflow/notebooks/issues/27\n",
    "!git clone https://github.com/SkalskiP/yolov7.git\n",
    "%cd yolov7\n",
    "!git checkout fix/problems_associated_with_the_latest_versions_of_pytorch_and_numpy"
   ]
  },
  {
   "cell_type": "code",
   "execution_count": null,
   "metadata": {},
   "outputs": [],
   "source": [
    "!zip -r yolov7.zip yolov7"
   ]
  },
  {
   "cell_type": "code",
   "execution_count": 1,
   "metadata": {},
   "outputs": [
    {
     "name": "stdout",
     "output_type": "stream",
     "text": [
      "[WinError 3] Impossibile trovare il percorso specificato: '/content/yolov7'\n",
      "c:\\Users\\pitti\\Desktop\\Progetto Comune Firenze\\green-areas-detection\\src\\trees-detection\n"
     ]
    },
    {
     "name": "stderr",
     "output_type": "stream",
     "text": [
      "\"wget\" non � riconosciuto come comando interno o esterno,\n",
      " un programma eseguibile o un file batch.\n"
     ]
    }
   ],
   "source": [
    "# download COCO starting checkpoint\n",
    "%cd /content/yolov7\n",
    "!wget -r https://github.com/WongKinYiu/yolov7/releases/download/v0.1/yolov7_training.pt"
   ]
  },
  {
   "cell_type": "code",
   "execution_count": null,
   "metadata": {},
   "outputs": [],
   "source": []
  }
 ],
 "metadata": {
  "kernelspec": {
   "display_name": "green_areas_detection",
   "language": "python",
   "name": "python3"
  },
  "language_info": {
   "codemirror_mode": {
    "name": "ipython",
    "version": 3
   },
   "file_extension": ".py",
   "mimetype": "text/x-python",
   "name": "python",
   "nbconvert_exporter": "python",
   "pygments_lexer": "ipython3",
   "version": "3.10.0"
  },
  "orig_nbformat": 4
 },
 "nbformat": 4,
 "nbformat_minor": 2
}
