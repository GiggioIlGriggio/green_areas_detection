{
  "cells": [
    {
      "cell_type": "code",
      "execution_count": null,
      "metadata": {
        "id": "TakiD3yxQHcO"
      },
      "outputs": [],
      "source": [
        "# Set whether this notebook is run in colab or not\n",
        "colab = True"
      ]
    },
    {
      "cell_type": "code",
      "execution_count": null,
      "metadata": {
        "id": "oGjwgeJwWxA1"
      },
      "outputs": [],
      "source": [
        "import os"
      ]
    },
    {
      "cell_type": "code",
      "execution_count": null,
      "metadata": {
        "colab": {
          "base_uri": "https://localhost:8080/"
        },
        "id": "OlpzVF0NcXKn",
        "outputId": "19e7fe30-1b82-4835-d3ad-7e6ccb39bcdf"
      },
      "outputs": [
        {
          "name": "stdout",
          "output_type": "stream",
          "text": [
            "Mounted at /content/drive\n"
          ]
        }
      ],
      "source": [
        "if colab:\n",
        "  from google.colab import drive\n",
        "  drive.mount('/content/drive')"
      ]
    },
    {
      "cell_type": "code",
      "execution_count": null,
      "metadata": {
        "id": "aptSCC4mceSG"
      },
      "outputs": [],
      "source": [
        "if colab:\n",
        "  base_dir = '/content/drive/MyDrive/green_areas_detection'\n",
        "  %cp -R \"/content/drive/MyDrive/green_areas_detection/trees_detection/yolov7\" \"./\"\n",
        "  %cp -R \"/content/drive/MyDrive/green_areas_detection/trees_detection/weigths\" \"./\"\n",
        "else:\n",
        "  base_dir = ''"
      ]
    },
    {
      "cell_type": "code",
      "execution_count": null,
      "metadata": {
        "colab": {
          "base_uri": "https://localhost:8080/"
        },
        "id": "akzatBH3s3af",
        "outputId": "e591ea6f-626c-4a1e-aeca-af83878b1301"
      },
      "outputs": [
        {
          "name": "stdout",
          "output_type": "stream",
          "text": [
            "/content/yolov7\n"
          ]
        }
      ],
      "source": [
        "# IMPORTANT : from now on, we enter inside the `yolov7` folder\n",
        "%cd yolov7"
      ]
    },
    {
      "cell_type": "markdown",
      "metadata": {
        "id": "FGXqY_gZWJTQ"
      },
      "source": [
        "# LOAD AND PREPARE DATASET\n",
        "We use $3$ images for the training : `19K35`, `19K38`, `18K11`.\n",
        "\n",
        "We use $1$ image for the validation : `19K53`.  \n",
        "\n",
        "We use $1$ image for the validation : `19K59`.  \n",
        "\n",
        "We use all the four channels : RGB + infrared."
      ]
    },
    {
      "cell_type": "code",
      "execution_count": null,
      "metadata": {
        "id": "MEWGUBStPVet"
      },
      "outputs": [],
      "source": [
        "from trees_detection_utils.dataset_handler import crop_images_and_bbs, save_bbs_as_txt, crop_images"
      ]
    },
    {
      "cell_type": "code",
      "execution_count": null,
      "metadata": {
        "id": "5RmT-vE0WNgm"
      },
      "outputs": [],
      "source": [
        "CROP_SIZE = 640\n",
        "STEP = 320"
      ]
    },
    {
      "cell_type": "markdown",
      "metadata": {
        "id": "mZJVI5HN3yLL"
      },
      "source": [
        "## Training images\n",
        "We create the folder `train`, with two subfolders.\n",
        "1. `train\\images`, containing the crops.\n",
        "2. `train\\labels`, containing the info about the bounding boxes of each crop. For each crop, a corresponding `.txt` file is present, containing the bounding boxes enclosed in that crop."
      ]
    },
    {
      "cell_type": "code",
      "execution_count": null,
      "metadata": {
        "id": "-r09jHXH5tkg"
      },
      "outputs": [],
      "source": [
        "dataset_folder = os.path.join(base_dir, 'dataset')\n",
        "\n",
        "train_image_names_list = ['18K11', '19K38', '19K35']\n",
        "\n",
        "train_image_paths_list = [os.path.join(dataset_folder, img_name, f'{img_name}.tif') for img_name in train_image_names_list]\n",
        "\n",
        "train_bbs_shp_paths_list = [os.path.join(dataset_folder, img_name, 'trees_shp', f'{img_name}_trees.shp') for img_name in train_image_names_list]"
      ]
    },
    {
      "cell_type": "code",
      "execution_count": null,
      "metadata": {
        "colab": {
          "base_uri": "https://localhost:8080/"
        },
        "id": "RnKRSJciHT-b",
        "outputId": "54dfb7b2-0a21-4e35-ba6f-7cd31c0741d6"
      },
      "outputs": [
        {
          "name": "stdout",
          "output_type": "stream",
          "text": [
            "Processing image 18K11.tif\n"
          ]
        },
        {
          "name": "stderr",
          "output_type": "stream",
          "text": [
            "/usr/local/lib/python3.10/dist-packages/PIL/Image.py:3167: DecompressionBombWarning: Image size (98211778 pixels) exceeds limit of 89478485 pixels, could be decompression bomb DOS attack.\n",
            "  warnings.warn(\n",
            "100%|██████████| 911/911 [00:11<00:00, 78.59it/s]\n"
          ]
        },
        {
          "name": "stdout",
          "output_type": "stream",
          "text": [
            "BBs frequencies assignment {0: 0.01, 1: 0.02, 2: 0.24, 3: 0.01, 4: 0.69, 6: 0.04, 9: 0.0}\n",
            "\n",
            "Processing image 19K38.tif\n"
          ]
        },
        {
          "name": "stderr",
          "output_type": "stream",
          "text": [
            "100%|██████████| 875/875 [00:11<00:00, 78.56it/s]\n"
          ]
        },
        {
          "name": "stdout",
          "output_type": "stream",
          "text": [
            "BBs frequencies assignment {0: 0.01, 1: 0.02, 2: 0.23, 3: 0.0, 4: 0.7, 6: 0.03, 9: 0.0}\n",
            "\n",
            "Processing image 19K35.tif\n"
          ]
        },
        {
          "name": "stderr",
          "output_type": "stream",
          "text": [
            "100%|██████████| 655/655 [00:08<00:00, 78.77it/s]"
          ]
        },
        {
          "name": "stdout",
          "output_type": "stream",
          "text": [
            "BBs frequencies assignment {0: 0.02, 1: 0.04, 2: 0.28, 3: 0.01, 4: 0.61, 6: 0.05, 9: 0.0}\n",
            "\n"
          ]
        },
        {
          "name": "stderr",
          "output_type": "stream",
          "text": [
            "\n"
          ]
        }
      ],
      "source": [
        "crop_images_and_bbs(train_image_paths_list, train_bbs_shp_paths_list, crop_size=CROP_SIZE, step=STEP, folder_path='./train', infrared=True)"
      ]
    },
    {
      "cell_type": "markdown",
      "metadata": {
        "id": "Fhy5K3DpJVXY"
      },
      "source": [
        "## Validation images\n",
        "We create the folder `val`, with two subfolders.\n",
        "1. `val\\images`, containing the crops.\n",
        "2. `val\\labels`, containing the info about the bounding boxes of each crop. For each crop, a corresponding `.txt` file is present, containing the bounding boxes enclosed in that crop."
      ]
    },
    {
      "cell_type": "code",
      "execution_count": null,
      "metadata": {
        "id": "5NZnIxIGJVXY"
      },
      "outputs": [],
      "source": [
        "dataset_folder = os.path.join(base_dir, 'dataset')\n",
        "\n",
        "val_image_names_list = ['19K53']\n",
        "\n",
        "val_image_paths_list = [os.path.join(dataset_folder, img_name, f'{img_name}.tif') for img_name in val_image_names_list]\n",
        "\n",
        "val_bbs_shp_paths_list = [os.path.join(dataset_folder, img_name, 'trees_shp', f'{img_name}_trees.shp') for img_name in val_image_names_list]"
      ]
    },
    {
      "cell_type": "code",
      "execution_count": null,
      "metadata": {
        "colab": {
          "base_uri": "https://localhost:8080/"
        },
        "id": "Dn6VWyTVKMSN",
        "outputId": "cb044df5-347f-4fc4-e234-08720fde8ce3"
      },
      "outputs": [
        {
          "name": "stdout",
          "output_type": "stream",
          "text": [
            "Processing image 19K53.tif\n"
          ]
        },
        {
          "name": "stderr",
          "output_type": "stream",
          "text": [
            "100%|██████████| 855/855 [00:10<00:00, 78.21it/s]"
          ]
        },
        {
          "name": "stdout",
          "output_type": "stream",
          "text": [
            "BBs frequencies assignment {0: 0.01, 1: 0.04, 2: 0.28, 3: 0.01, 4: 0.64, 6: 0.03, 9: 0.0}\n",
            "\n"
          ]
        },
        {
          "name": "stderr",
          "output_type": "stream",
          "text": [
            "\n"
          ]
        }
      ],
      "source": [
        "crop_images_and_bbs(val_image_paths_list, val_bbs_shp_paths_list, crop_size=CROP_SIZE, step=STEP, folder_path='./val', infrared=True)"
      ]
    },
    {
      "cell_type": "code",
      "execution_count": null,
      "metadata": {
        "id": "XjdBC7zebyGs"
      },
      "outputs": [],
      "source": [
        "save_bbs_as_txt(val_bbs_shp_paths_list[0], val_image_paths_list[0], output_file_path=None)"
      ]
    },
    {
      "cell_type": "markdown",
      "metadata": {
        "id": "UrfBaiX766a0"
      },
      "source": [
        "## Test images\n",
        "We create the folder `test`, with two subfolders.\n",
        "1. `test\\images`, containing the crops.\n",
        "2. `test\\labels`, containing the info about the bounding boxes of each crop. For each crop, a corresponding `.txt` file is present, containing the bounding boxes enclosed in that crop."
      ]
    },
    {
      "cell_type": "code",
      "execution_count": null,
      "metadata": {
        "id": "cHBd0BI66-bL"
      },
      "outputs": [],
      "source": [
        "dataset_folder = os.path.join(base_dir, 'dataset')\n",
        "\n",
        "test_image_names_list = ['19K59']\n",
        "\n",
        "test_image_paths_list = [os.path.join(dataset_folder, img_name, f'{img_name}.tif') for img_name in test_image_names_list]\n",
        "\n",
        "test_bbs_shp_paths_list = [os.path.join(dataset_folder, img_name, 'trees_shp', f'{img_name}_trees.shp') for img_name in test_image_names_list]"
      ]
    },
    {
      "cell_type": "code",
      "execution_count": null,
      "metadata": {
        "colab": {
          "base_uri": "https://localhost:8080/"
        },
        "id": "69pybMRzL2kr",
        "outputId": "cf34f7c1-767d-47d1-e1ce-4b6964624207"
      },
      "outputs": [
        {
          "name": "stdout",
          "output_type": "stream",
          "text": [
            "Processing image 19K59.tif\n"
          ]
        },
        {
          "name": "stderr",
          "output_type": "stream",
          "text": [
            "100%|██████████| 944/944 [00:12<00:00, 78.03it/s]"
          ]
        },
        {
          "name": "stdout",
          "output_type": "stream",
          "text": [
            "BBs frequencies assignment {0: 0.01, 1: 0.03, 2: 0.24, 3: 0.01, 4: 0.65, 6: 0.05, 9: 0.0}\n",
            "\n"
          ]
        },
        {
          "name": "stderr",
          "output_type": "stream",
          "text": [
            "\n"
          ]
        }
      ],
      "source": [
        "crop_images_and_bbs(test_image_paths_list, test_bbs_shp_paths_list, crop_size=CROP_SIZE, step=STEP, folder_path='./test', infrared=True)"
      ]
    },
    {
      "cell_type": "code",
      "execution_count": null,
      "metadata": {
        "id": "GePx5-px7Uxu"
      },
      "outputs": [],
      "source": [
        "save_bbs_as_txt(test_bbs_shp_paths_list[0], test_image_paths_list[0], output_file_path=None)"
      ]
    },
    {
      "cell_type": "markdown",
      "metadata": {
        "id": "7mGmQbAO5pQb"
      },
      "source": [
        "# YOLO MODEL\n",
        "https://github.com/WongKinYiu/yolov7"
      ]
    },
    {
      "cell_type": "code",
      "execution_count": null,
      "metadata": {
        "colab": {
          "base_uri": "https://localhost:8080/"
        },
        "id": "JGJspIl90XhV",
        "outputId": "57cb3377-ea03-48cf-d23b-856b67c98523"
      },
      "outputs": [
        {
          "name": "stdout",
          "output_type": "stream",
          "text": [
            "Fri Oct  6 12:32:51 2023       \n",
            "+-----------------------------------------------------------------------------+\n",
            "| NVIDIA-SMI 525.105.17   Driver Version: 525.105.17   CUDA Version: 12.0     |\n",
            "|-------------------------------+----------------------+----------------------+\n",
            "| GPU  Name        Persistence-M| Bus-Id        Disp.A | Volatile Uncorr. ECC |\n",
            "| Fan  Temp  Perf  Pwr:Usage/Cap|         Memory-Usage | GPU-Util  Compute M. |\n",
            "|                               |                      |               MIG M. |\n",
            "|===============================+======================+======================|\n",
            "|   0  Tesla T4            Off  | 00000000:00:04.0 Off |                    0 |\n",
            "| N/A   35C    P8     9W /  70W |      0MiB / 15360MiB |      0%      Default |\n",
            "|                               |                      |                  N/A |\n",
            "+-------------------------------+----------------------+----------------------+\n",
            "                                                                               \n",
            "+-----------------------------------------------------------------------------+\n",
            "| Processes:                                                                  |\n",
            "|  GPU   GI   CI        PID   Type   Process name                  GPU Memory |\n",
            "|        ID   ID                                                   Usage      |\n",
            "|=============================================================================|\n",
            "|  No running processes found                                                 |\n",
            "+-----------------------------------------------------------------------------+\n"
          ]
        }
      ],
      "source": [
        "# Just to check GPU\n",
        "!nvidia-smi"
      ]
    },
    {
      "cell_type": "code",
      "execution_count": null,
      "metadata": {
        "colab": {
          "base_uri": "https://localhost:8080/"
        },
        "id": "-0diwz-Mkj-m",
        "outputId": "5a234810-2038-4446-eefc-d886e0e547e6"
      },
      "outputs": [
        {
          "name": "stdout",
          "output_type": "stream",
          "text": [
            "[Errno 2] No such file or directory: 'yolov7'\n",
            "/content/yolov7\n"
          ]
        }
      ],
      "source": [
        "%cd yolov7"
      ]
    },
    {
      "cell_type": "code",
      "execution_count": null,
      "metadata": {
        "colab": {
          "base_uri": "https://localhost:8080/"
        },
        "id": "nD-uPyQ_2jiN",
        "outputId": "8f71373f-35b2-4df0-e090-020eb617f6c8"
      },
      "outputs": [
        {
          "name": "stdout",
          "output_type": "stream",
          "text": [
            "Requirement already satisfied: matplotlib>=3.2.2 in /usr/local/lib/python3.10/dist-packages (from -r requirements.txt (line 4)) (3.7.1)\n",
            "Requirement already satisfied: numpy>=1.18.5 in /usr/local/lib/python3.10/dist-packages (from -r requirements.txt (line 5)) (1.23.5)\n",
            "Requirement already satisfied: opencv-python>=4.1.1 in /usr/local/lib/python3.10/dist-packages (from -r requirements.txt (line 6)) (4.8.0.76)\n",
            "Requirement already satisfied: Pillow>=7.1.2 in /usr/local/lib/python3.10/dist-packages (from -r requirements.txt (line 7)) (9.4.0)\n",
            "Requirement already satisfied: PyYAML>=5.3.1 in /usr/local/lib/python3.10/dist-packages (from -r requirements.txt (line 8)) (6.0.1)\n",
            "Requirement already satisfied: requests>=2.23.0 in /usr/local/lib/python3.10/dist-packages (from -r requirements.txt (line 9)) (2.31.0)\n",
            "Requirement already satisfied: scipy>=1.4.1 in /usr/local/lib/python3.10/dist-packages (from -r requirements.txt (line 10)) (1.11.3)\n",
            "Requirement already satisfied: torch!=1.12.0,>=1.7.0 in /usr/local/lib/python3.10/dist-packages (from -r requirements.txt (line 11)) (2.0.1+cu118)\n",
            "Requirement already satisfied: torchvision!=0.13.0,>=0.8.1 in /usr/local/lib/python3.10/dist-packages (from -r requirements.txt (line 12)) (0.15.2+cu118)\n",
            "Requirement already satisfied: tqdm>=4.41.0 in /usr/local/lib/python3.10/dist-packages (from -r requirements.txt (line 13)) (4.66.1)\n",
            "Requirement already satisfied: protobuf<4.21.3 in /usr/local/lib/python3.10/dist-packages (from -r requirements.txt (line 14)) (3.20.3)\n",
            "Requirement already satisfied: tensorboard>=2.4.1 in /usr/local/lib/python3.10/dist-packages (from -r requirements.txt (line 17)) (2.13.0)\n",
            "Requirement already satisfied: pandas>=1.1.4 in /usr/local/lib/python3.10/dist-packages (from -r requirements.txt (line 21)) (1.5.3)\n",
            "Requirement already satisfied: seaborn>=0.11.0 in /usr/local/lib/python3.10/dist-packages (from -r requirements.txt (line 22)) (0.12.2)\n",
            "Requirement already satisfied: ipython in /usr/local/lib/python3.10/dist-packages (from -r requirements.txt (line 34)) (7.34.0)\n",
            "Requirement already satisfied: psutil in /usr/local/lib/python3.10/dist-packages (from -r requirements.txt (line 35)) (5.9.5)\n",
            "Collecting thop (from -r requirements.txt (line 36))\n",
            "  Downloading thop-0.1.1.post2209072238-py3-none-any.whl (15 kB)\n",
            "Requirement already satisfied: contourpy>=1.0.1 in /usr/local/lib/python3.10/dist-packages (from matplotlib>=3.2.2->-r requirements.txt (line 4)) (1.1.1)\n",
            "Requirement already satisfied: cycler>=0.10 in /usr/local/lib/python3.10/dist-packages (from matplotlib>=3.2.2->-r requirements.txt (line 4)) (0.12.0)\n",
            "Requirement already satisfied: fonttools>=4.22.0 in /usr/local/lib/python3.10/dist-packages (from matplotlib>=3.2.2->-r requirements.txt (line 4)) (4.43.0)\n",
            "Requirement already satisfied: kiwisolver>=1.0.1 in /usr/local/lib/python3.10/dist-packages (from matplotlib>=3.2.2->-r requirements.txt (line 4)) (1.4.5)\n",
            "Requirement already satisfied: packaging>=20.0 in /usr/local/lib/python3.10/dist-packages (from matplotlib>=3.2.2->-r requirements.txt (line 4)) (23.2)\n",
            "Requirement already satisfied: pyparsing>=2.3.1 in /usr/local/lib/python3.10/dist-packages (from matplotlib>=3.2.2->-r requirements.txt (line 4)) (3.1.1)\n",
            "Requirement already satisfied: python-dateutil>=2.7 in /usr/local/lib/python3.10/dist-packages (from matplotlib>=3.2.2->-r requirements.txt (line 4)) (2.8.2)\n",
            "Requirement already satisfied: charset-normalizer<4,>=2 in /usr/local/lib/python3.10/dist-packages (from requests>=2.23.0->-r requirements.txt (line 9)) (3.3.0)\n",
            "Requirement already satisfied: idna<4,>=2.5 in /usr/local/lib/python3.10/dist-packages (from requests>=2.23.0->-r requirements.txt (line 9)) (3.4)\n",
            "Requirement already satisfied: urllib3<3,>=1.21.1 in /usr/local/lib/python3.10/dist-packages (from requests>=2.23.0->-r requirements.txt (line 9)) (2.0.6)\n",
            "Requirement already satisfied: certifi>=2017.4.17 in /usr/local/lib/python3.10/dist-packages (from requests>=2.23.0->-r requirements.txt (line 9)) (2023.7.22)\n",
            "Requirement already satisfied: filelock in /usr/local/lib/python3.10/dist-packages (from torch!=1.12.0,>=1.7.0->-r requirements.txt (line 11)) (3.12.4)\n",
            "Requirement already satisfied: typing-extensions in /usr/local/lib/python3.10/dist-packages (from torch!=1.12.0,>=1.7.0->-r requirements.txt (line 11)) (4.5.0)\n",
            "Requirement already satisfied: sympy in /usr/local/lib/python3.10/dist-packages (from torch!=1.12.0,>=1.7.0->-r requirements.txt (line 11)) (1.12)\n",
            "Requirement already satisfied: networkx in /usr/local/lib/python3.10/dist-packages (from torch!=1.12.0,>=1.7.0->-r requirements.txt (line 11)) (3.1)\n",
            "Requirement already satisfied: jinja2 in /usr/local/lib/python3.10/dist-packages (from torch!=1.12.0,>=1.7.0->-r requirements.txt (line 11)) (3.1.2)\n",
            "Requirement already satisfied: triton==2.0.0 in /usr/local/lib/python3.10/dist-packages (from torch!=1.12.0,>=1.7.0->-r requirements.txt (line 11)) (2.0.0)\n",
            "Requirement already satisfied: cmake in /usr/local/lib/python3.10/dist-packages (from triton==2.0.0->torch!=1.12.0,>=1.7.0->-r requirements.txt (line 11)) (3.27.6)\n",
            "Requirement already satisfied: lit in /usr/local/lib/python3.10/dist-packages (from triton==2.0.0->torch!=1.12.0,>=1.7.0->-r requirements.txt (line 11)) (17.0.2)\n",
            "Requirement already satisfied: absl-py>=0.4 in /usr/local/lib/python3.10/dist-packages (from tensorboard>=2.4.1->-r requirements.txt (line 17)) (1.4.0)\n",
            "Requirement already satisfied: grpcio>=1.48.2 in /usr/local/lib/python3.10/dist-packages (from tensorboard>=2.4.1->-r requirements.txt (line 17)) (1.59.0)\n",
            "Requirement already satisfied: google-auth<3,>=1.6.3 in /usr/local/lib/python3.10/dist-packages (from tensorboard>=2.4.1->-r requirements.txt (line 17)) (2.17.3)\n",
            "Requirement already satisfied: google-auth-oauthlib<1.1,>=0.5 in /usr/local/lib/python3.10/dist-packages (from tensorboard>=2.4.1->-r requirements.txt (line 17)) (1.0.0)\n",
            "Requirement already satisfied: markdown>=2.6.8 in /usr/local/lib/python3.10/dist-packages (from tensorboard>=2.4.1->-r requirements.txt (line 17)) (3.4.4)\n",
            "Requirement already satisfied: setuptools>=41.0.0 in /usr/local/lib/python3.10/dist-packages (from tensorboard>=2.4.1->-r requirements.txt (line 17)) (67.7.2)\n",
            "Requirement already satisfied: tensorboard-data-server<0.8.0,>=0.7.0 in /usr/local/lib/python3.10/dist-packages (from tensorboard>=2.4.1->-r requirements.txt (line 17)) (0.7.1)\n",
            "Requirement already satisfied: werkzeug>=1.0.1 in /usr/local/lib/python3.10/dist-packages (from tensorboard>=2.4.1->-r requirements.txt (line 17)) (3.0.0)\n",
            "Requirement already satisfied: wheel>=0.26 in /usr/local/lib/python3.10/dist-packages (from tensorboard>=2.4.1->-r requirements.txt (line 17)) (0.41.2)\n",
            "Requirement already satisfied: pytz>=2020.1 in /usr/local/lib/python3.10/dist-packages (from pandas>=1.1.4->-r requirements.txt (line 21)) (2023.3.post1)\n",
            "Collecting jedi>=0.16 (from ipython->-r requirements.txt (line 34))\n",
            "  Downloading jedi-0.19.1-py2.py3-none-any.whl (1.6 MB)\n",
            "\u001b[2K     \u001b[90m━━━━━━━━━━━━━━━━━━━━━━━━━━━━━━━━━━━━━━━━\u001b[0m \u001b[32m1.6/1.6 MB\u001b[0m \u001b[31m19.0 MB/s\u001b[0m eta \u001b[36m0:00:00\u001b[0m\n",
            "\u001b[?25hRequirement already satisfied: decorator in /usr/local/lib/python3.10/dist-packages (from ipython->-r requirements.txt (line 34)) (4.4.2)\n",
            "Requirement already satisfied: pickleshare in /usr/local/lib/python3.10/dist-packages (from ipython->-r requirements.txt (line 34)) (0.7.5)\n",
            "Requirement already satisfied: traitlets>=4.2 in /usr/local/lib/python3.10/dist-packages (from ipython->-r requirements.txt (line 34)) (5.7.1)\n",
            "Requirement already satisfied: prompt-toolkit!=3.0.0,!=3.0.1,<3.1.0,>=2.0.0 in /usr/local/lib/python3.10/dist-packages (from ipython->-r requirements.txt (line 34)) (3.0.39)\n",
            "Requirement already satisfied: pygments in /usr/local/lib/python3.10/dist-packages (from ipython->-r requirements.txt (line 34)) (2.16.1)\n",
            "Requirement already satisfied: backcall in /usr/local/lib/python3.10/dist-packages (from ipython->-r requirements.txt (line 34)) (0.2.0)\n",
            "Requirement already satisfied: matplotlib-inline in /usr/local/lib/python3.10/dist-packages (from ipython->-r requirements.txt (line 34)) (0.1.6)\n",
            "Requirement already satisfied: pexpect>4.3 in /usr/local/lib/python3.10/dist-packages (from ipython->-r requirements.txt (line 34)) (4.8.0)\n",
            "Requirement already satisfied: cachetools<6.0,>=2.0.0 in /usr/local/lib/python3.10/dist-packages (from google-auth<3,>=1.6.3->tensorboard>=2.4.1->-r requirements.txt (line 17)) (5.3.1)\n",
            "Requirement already satisfied: pyasn1-modules>=0.2.1 in /usr/local/lib/python3.10/dist-packages (from google-auth<3,>=1.6.3->tensorboard>=2.4.1->-r requirements.txt (line 17)) (0.3.0)\n",
            "Requirement already satisfied: six>=1.9.0 in /usr/local/lib/python3.10/dist-packages (from google-auth<3,>=1.6.3->tensorboard>=2.4.1->-r requirements.txt (line 17)) (1.16.0)\n",
            "Requirement already satisfied: rsa<5,>=3.1.4 in /usr/local/lib/python3.10/dist-packages (from google-auth<3,>=1.6.3->tensorboard>=2.4.1->-r requirements.txt (line 17)) (4.9)\n",
            "Requirement already satisfied: requests-oauthlib>=0.7.0 in /usr/local/lib/python3.10/dist-packages (from google-auth-oauthlib<1.1,>=0.5->tensorboard>=2.4.1->-r requirements.txt (line 17)) (1.3.1)\n",
            "Requirement already satisfied: parso<0.9.0,>=0.8.3 in /usr/local/lib/python3.10/dist-packages (from jedi>=0.16->ipython->-r requirements.txt (line 34)) (0.8.3)\n",
            "Requirement already satisfied: ptyprocess>=0.5 in /usr/local/lib/python3.10/dist-packages (from pexpect>4.3->ipython->-r requirements.txt (line 34)) (0.7.0)\n",
            "Requirement already satisfied: wcwidth in /usr/local/lib/python3.10/dist-packages (from prompt-toolkit!=3.0.0,!=3.0.1,<3.1.0,>=2.0.0->ipython->-r requirements.txt (line 34)) (0.2.8)\n",
            "Requirement already satisfied: MarkupSafe>=2.1.1 in /usr/local/lib/python3.10/dist-packages (from werkzeug>=1.0.1->tensorboard>=2.4.1->-r requirements.txt (line 17)) (2.1.3)\n",
            "Requirement already satisfied: mpmath>=0.19 in /usr/local/lib/python3.10/dist-packages (from sympy->torch!=1.12.0,>=1.7.0->-r requirements.txt (line 11)) (1.3.0)\n",
            "Requirement already satisfied: pyasn1<0.6.0,>=0.4.6 in /usr/local/lib/python3.10/dist-packages (from pyasn1-modules>=0.2.1->google-auth<3,>=1.6.3->tensorboard>=2.4.1->-r requirements.txt (line 17)) (0.5.0)\n",
            "Requirement already satisfied: oauthlib>=3.0.0 in /usr/local/lib/python3.10/dist-packages (from requests-oauthlib>=0.7.0->google-auth-oauthlib<1.1,>=0.5->tensorboard>=2.4.1->-r requirements.txt (line 17)) (3.2.2)\n",
            "Installing collected packages: jedi, thop\n",
            "Successfully installed jedi-0.19.1 thop-0.1.1.post2209072238\n"
          ]
        }
      ],
      "source": [
        "!pip install -r requirements.txt ;"
      ]
    },
    {
      "cell_type": "markdown",
      "metadata": {
        "id": "bHfT9gEiBsBd"
      },
      "source": [
        "# Training\n"
      ]
    },
    {
      "cell_type": "markdown",
      "metadata": {},
      "source": [
        "Train the model on the $3$ train images, with $1$ val image.\n",
        "\n",
        "*(The starting point of this training is the fine-tuning on the pre-trained `yolov7_training.pt` weigths).*"
      ]
    },
    {
      "cell_type": "code",
      "execution_count": null,
      "metadata": {
        "colab": {
          "base_uri": "https://localhost:8080/"
        },
        "id": "CbFKOuBtGyne",
        "outputId": "f5052d9a-f3f1-42ba-e5bf-22b8ab40e41a"
      },
      "outputs": [
        {
          "name": "stdout",
          "output_type": "stream",
          "text": [
            "2023-10-05 12:15:05.666924: I tensorflow/core/platform/cpu_feature_guard.cc:182] This TensorFlow binary is optimized to use available CPU instructions in performance-critical operations.\n",
            "To enable the following instructions: AVX2 FMA, in other operations, rebuild TensorFlow with the appropriate compiler flags.\n",
            "2023-10-05 12:15:06.662179: W tensorflow/compiler/tf2tensorrt/utils/py_utils.cc:38] TF-TRT Warning: Could not find TensorRT\n",
            "YOLOR 🚀 2023-10-5 torch 2.0.1+cu118 CUDA:0 (Tesla T4, 15101.8125MB)\n",
            "\n",
            "Namespace(rgb_only=False, weights='yolov7_training.pt', cfg='cfg/training/yolov7-tree.yaml', data='data.yaml', hyp='data/hyp.scratch.p5.yaml', epochs=25, batch_size=8, img_size=[640, 640], rect=False, resume=False, nosave=False, notest=False, noautoanchor=False, evolve=False, bucket='', cache_images=False, image_weights=False, device='0', multi_scale=False, single_cls=False, adam=False, sync_bn=False, local_rank=-1, workers=8, project='runs/train', entity=None, name='exp', exist_ok=False, quad=False, linear_lr=False, label_smoothing=0.0, upload_dataset=False, bbox_interval=-1, save_period=-1, artifact_alias='latest', freeze=[0], v5_metric=False, world_size=1, global_rank=-1, save_dir='runs/train/exp', total_batch_size=8)\n",
            "\u001b[34m\u001b[1mtensorboard: \u001b[0mStart with 'tensorboard --logdir runs/train', view at http://localhost:6006/\n",
            "\u001b[34m\u001b[1mhyperparameters: \u001b[0mlr0=0.01, lrf=0.1, momentum=0.937, weight_decay=0.0005, warmup_epochs=3.0, warmup_momentum=0.8, warmup_bias_lr=0.1, box=0.05, cls=0.3, cls_pw=1.0, obj=0.7, obj_pw=1.0, iou_t=0.2, anchor_t=4.0, fl_gamma=0.0, hsv_h=0.015, hsv_s=0.7, hsv_v=0.4, degrees=0.0, translate=0.2, scale=0.9, shear=0.0, perspective=0.0, flipud=0.0, fliplr=0.5, mosaic=1.0, mixup=0.15, copy_paste=0.0, paste_in=0.15, loss_ota=1\n",
            "\u001b[34m\u001b[1mwandb: \u001b[0mInstall Weights & Biases for YOLOR logging with 'pip install wandb' (recommended)\n",
            "\n",
            "                 from  n    params  module                                  arguments                     \n",
            "  0                -1  1      1216  models.common.Conv                      [4, 32, 3, 1]                 \n",
            "  1                -1  1     18560  models.common.Conv                      [32, 64, 3, 2]                \n",
            "  2                -1  1     36992  models.common.Conv                      [64, 64, 3, 1]                \n",
            "  3                -1  1     73984  models.common.Conv                      [64, 128, 3, 2]               \n",
            "  4                -1  1      8320  models.common.Conv                      [128, 64, 1, 1]               \n",
            "  5                -2  1      8320  models.common.Conv                      [128, 64, 1, 1]               \n",
            "  6                -1  1     36992  models.common.Conv                      [64, 64, 3, 1]                \n",
            "  7                -1  1     36992  models.common.Conv                      [64, 64, 3, 1]                \n",
            "  8                -1  1     36992  models.common.Conv                      [64, 64, 3, 1]                \n",
            "  9                -1  1     36992  models.common.Conv                      [64, 64, 3, 1]                \n",
            " 10  [-1, -3, -5, -6]  1         0  models.common.Concat                    [1]                           \n",
            " 11                -1  1     66048  models.common.Conv                      [256, 256, 1, 1]              \n",
            " 12                -1  1         0  models.common.MP                        []                            \n",
            " 13                -1  1     33024  models.common.Conv                      [256, 128, 1, 1]              \n",
            " 14                -3  1     33024  models.common.Conv                      [256, 128, 1, 1]              \n",
            " 15                -1  1    147712  models.common.Conv                      [128, 128, 3, 2]              \n",
            " 16          [-1, -3]  1         0  models.common.Concat                    [1]                           \n",
            " 17                -1  1     33024  models.common.Conv                      [256, 128, 1, 1]              \n",
            " 18                -2  1     33024  models.common.Conv                      [256, 128, 1, 1]              \n",
            " 19                -1  1    147712  models.common.Conv                      [128, 128, 3, 1]              \n",
            " 20                -1  1    147712  models.common.Conv                      [128, 128, 3, 1]              \n",
            " 21                -1  1    147712  models.common.Conv                      [128, 128, 3, 1]              \n",
            " 22                -1  1    147712  models.common.Conv                      [128, 128, 3, 1]              \n",
            " 23  [-1, -3, -5, -6]  1         0  models.common.Concat                    [1]                           \n",
            " 24                -1  1    263168  models.common.Conv                      [512, 512, 1, 1]              \n",
            " 25                -1  1         0  models.common.MP                        []                            \n",
            " 26                -1  1    131584  models.common.Conv                      [512, 256, 1, 1]              \n",
            " 27                -3  1    131584  models.common.Conv                      [512, 256, 1, 1]              \n",
            " 28                -1  1    590336  models.common.Conv                      [256, 256, 3, 2]              \n",
            " 29          [-1, -3]  1         0  models.common.Concat                    [1]                           \n",
            " 30                -1  1    131584  models.common.Conv                      [512, 256, 1, 1]              \n",
            " 31                -2  1    131584  models.common.Conv                      [512, 256, 1, 1]              \n",
            " 32                -1  1    590336  models.common.Conv                      [256, 256, 3, 1]              \n",
            " 33                -1  1    590336  models.common.Conv                      [256, 256, 3, 1]              \n",
            " 34                -1  1    590336  models.common.Conv                      [256, 256, 3, 1]              \n",
            " 35                -1  1    590336  models.common.Conv                      [256, 256, 3, 1]              \n",
            " 36  [-1, -3, -5, -6]  1         0  models.common.Concat                    [1]                           \n",
            " 37                -1  1   1050624  models.common.Conv                      [1024, 1024, 1, 1]            \n",
            " 38                -1  1         0  models.common.MP                        []                            \n",
            " 39                -1  1    525312  models.common.Conv                      [1024, 512, 1, 1]             \n",
            " 40                -3  1    525312  models.common.Conv                      [1024, 512, 1, 1]             \n",
            " 41                -1  1   2360320  models.common.Conv                      [512, 512, 3, 2]              \n",
            " 42          [-1, -3]  1         0  models.common.Concat                    [1]                           \n",
            " 43                -1  1    262656  models.common.Conv                      [1024, 256, 1, 1]             \n",
            " 44                -2  1    262656  models.common.Conv                      [1024, 256, 1, 1]             \n",
            " 45                -1  1    590336  models.common.Conv                      [256, 256, 3, 1]              \n",
            " 46                -1  1    590336  models.common.Conv                      [256, 256, 3, 1]              \n",
            " 47                -1  1    590336  models.common.Conv                      [256, 256, 3, 1]              \n",
            " 48                -1  1    590336  models.common.Conv                      [256, 256, 3, 1]              \n",
            " 49  [-1, -3, -5, -6]  1         0  models.common.Concat                    [1]                           \n",
            " 50                -1  1   1050624  models.common.Conv                      [1024, 1024, 1, 1]            \n",
            " 51                -1  1   7609344  models.common.SPPCSPC                   [1024, 512, 1]                \n",
            " 52                -1  1    131584  models.common.Conv                      [512, 256, 1, 1]              \n",
            " 53                -1  1         0  torch.nn.modules.upsampling.Upsample    [None, 2, 'nearest']          \n",
            " 54                37  1    262656  models.common.Conv                      [1024, 256, 1, 1]             \n",
            " 55          [-1, -2]  1         0  models.common.Concat                    [1]                           \n",
            " 56                -1  1    131584  models.common.Conv                      [512, 256, 1, 1]              \n",
            " 57                -2  1    131584  models.common.Conv                      [512, 256, 1, 1]              \n",
            " 58                -1  1    295168  models.common.Conv                      [256, 128, 3, 1]              \n",
            " 59                -1  1    147712  models.common.Conv                      [128, 128, 3, 1]              \n",
            " 60                -1  1    147712  models.common.Conv                      [128, 128, 3, 1]              \n",
            " 61                -1  1    147712  models.common.Conv                      [128, 128, 3, 1]              \n",
            " 62[-1, -2, -3, -4, -5, -6]  1         0  models.common.Concat                    [1]                           \n",
            " 63                -1  1    262656  models.common.Conv                      [1024, 256, 1, 1]             \n",
            " 64                -1  1     33024  models.common.Conv                      [256, 128, 1, 1]              \n",
            " 65                -1  1         0  torch.nn.modules.upsampling.Upsample    [None, 2, 'nearest']          \n",
            " 66                24  1     65792  models.common.Conv                      [512, 128, 1, 1]              \n",
            " 67          [-1, -2]  1         0  models.common.Concat                    [1]                           \n",
            " 68                -1  1     33024  models.common.Conv                      [256, 128, 1, 1]              \n",
            " 69                -2  1     33024  models.common.Conv                      [256, 128, 1, 1]              \n",
            " 70                -1  1     73856  models.common.Conv                      [128, 64, 3, 1]               \n",
            " 71                -1  1     36992  models.common.Conv                      [64, 64, 3, 1]                \n",
            " 72                -1  1     36992  models.common.Conv                      [64, 64, 3, 1]                \n",
            " 73                -1  1     36992  models.common.Conv                      [64, 64, 3, 1]                \n",
            " 74[-1, -2, -3, -4, -5, -6]  1         0  models.common.Concat                    [1]                           \n",
            " 75                -1  1     65792  models.common.Conv                      [512, 128, 1, 1]              \n",
            " 76                -1  1         0  models.common.MP                        []                            \n",
            " 77                -1  1     16640  models.common.Conv                      [128, 128, 1, 1]              \n",
            " 78                -3  1     16640  models.common.Conv                      [128, 128, 1, 1]              \n",
            " 79                -1  1    147712  models.common.Conv                      [128, 128, 3, 2]              \n",
            " 80      [-1, -3, 63]  1         0  models.common.Concat                    [1]                           \n",
            " 81                -1  1    131584  models.common.Conv                      [512, 256, 1, 1]              \n",
            " 82                -2  1    131584  models.common.Conv                      [512, 256, 1, 1]              \n",
            " 83                -1  1    295168  models.common.Conv                      [256, 128, 3, 1]              \n",
            " 84                -1  1    147712  models.common.Conv                      [128, 128, 3, 1]              \n",
            " 85                -1  1    147712  models.common.Conv                      [128, 128, 3, 1]              \n",
            " 86                -1  1    147712  models.common.Conv                      [128, 128, 3, 1]              \n",
            " 87[-1, -2, -3, -4, -5, -6]  1         0  models.common.Concat                    [1]                           \n",
            " 88                -1  1    262656  models.common.Conv                      [1024, 256, 1, 1]             \n",
            " 89                -1  1         0  models.common.MP                        []                            \n",
            " 90                -1  1     66048  models.common.Conv                      [256, 256, 1, 1]              \n",
            " 91                -3  1     66048  models.common.Conv                      [256, 256, 1, 1]              \n",
            " 92                -1  1    590336  models.common.Conv                      [256, 256, 3, 2]              \n",
            " 93      [-1, -3, 51]  1         0  models.common.Concat                    [1]                           \n",
            " 94                -1  1    525312  models.common.Conv                      [1024, 512, 1, 1]             \n",
            " 95                -2  1    525312  models.common.Conv                      [1024, 512, 1, 1]             \n",
            " 96                -1  1   1180160  models.common.Conv                      [512, 256, 3, 1]              \n",
            " 97                -1  1    590336  models.common.Conv                      [256, 256, 3, 1]              \n",
            " 98                -1  1    590336  models.common.Conv                      [256, 256, 3, 1]              \n",
            " 99                -1  1    590336  models.common.Conv                      [256, 256, 3, 1]              \n",
            "100[-1, -2, -3, -4, -5, -6]  1         0  models.common.Concat                    [1]                           \n",
            "101                -1  1   1049600  models.common.Conv                      [2048, 512, 1, 1]             \n",
            "102                75  1    328704  models.common.RepConv                   [128, 256, 3, 1]              \n",
            "103                88  1   1312768  models.common.RepConv                   [256, 512, 3, 1]              \n",
            "104               101  1   5246976  models.common.RepConv                   [512, 1024, 3, 1]             \n",
            "105   [102, 103, 104]  1     34156  models.yolo.IDetect                     [1, [[12, 16, 19, 36, 40, 28], [36, 75, 76, 55, 72, 146], [142, 110, 192, 243, 459, 401]], [256, 512, 1024]]\n",
            "Model Summary: 415 layers, 37196844 parameters, 37196844 gradients\n",
            "\n",
            "Transferred 554/566 items from yolov7_training.pt\n",
            "Scaled weight_decay = 0.0005\n",
            "Optimizer groups: 95 .bias, 95 conv.weight, 98 other\n",
            "\u001b[34m\u001b[1mtrain: \u001b[0mScanning 'train/labels' images and labels... 2441 found, 0 missing, 0 empty, 0 corrupted: 100% 2441/2441 [00:01<00:00, 1326.81it/s]\n",
            "\u001b[34m\u001b[1mtrain: \u001b[0mNew cache created: train/labels.cache\n",
            "\u001b[34m\u001b[1mval: \u001b[0mScanning 'val/labels' images and labels... 855 found, 0 missing, 0 empty, 0 corrupted: 100% 855/855 [00:01<00:00, 819.52it/s]\n",
            "\u001b[34m\u001b[1mval: \u001b[0mNew cache created: val/labels.cache\n",
            "\n",
            "\u001b[34m\u001b[1mautoanchor: \u001b[0mAnalyzing anchors... anchors/target = 5.60, Best Possible Recall (BPR) = 0.9999\n",
            "Image sizes 640 train, 640 test\n",
            "Using 8 dataloader workers\n",
            "Logging results to runs/train/exp\n",
            "Starting training for 25 epochs...\n",
            "\n",
            "     Epoch   gpu_mem       box       obj       cls     total    labels  img_size\n",
            "      0/24     1.53G   0.08512   0.09322         0    0.1783       870       640:   0% 1/306 [00:18<1:33:55, 18.48s/it]Exception in thread Thread-5 (plot_images):\n",
            "Traceback (most recent call last):\n",
            "  File \"/usr/lib/python3.10/threading.py\", line 1016, in _bootstrap_inner\n",
            "    self.run()\n",
            "  File \"/usr/lib/python3.10/threading.py\", line 953, in run\n",
            "    self._target(*self._args, **self._kwargs)\n",
            "  File \"/content/yolov7/utils/plots.py\", line 151, in plot_images\n",
            "    mosaic[block_y:block_y + h, block_x:block_x + w, :] = img\n",
            "ValueError: could not broadcast input array from shape (640,640,4) into shape (640,640,3)\n",
            "      0/24     6.86G   0.08374    0.1143         0     0.198      1003       640:   1% 2/306 [00:19<40:07,  7.92s/it]  Exception in thread Thread-6 (plot_images):\n",
            "Traceback (most recent call last):\n",
            "  File \"/usr/lib/python3.10/threading.py\", line 1016, in _bootstrap_inner\n",
            "    self.run()\n",
            "  File \"/usr/lib/python3.10/threading.py\", line 953, in run\n",
            "    self._target(*self._args, **self._kwargs)\n",
            "  File \"/content/yolov7/utils/plots.py\", line 151, in plot_images\n",
            "    mosaic[block_y:block_y + h, block_x:block_x + w, :] = img\n",
            "ValueError: could not broadcast input array from shape (640,640,4) into shape (640,640,3)\n",
            "      0/24     6.86G   0.08359    0.1196         0    0.2032       881       640:   1% 3/306 [00:19<22:56,  4.54s/it]Exception in thread Thread-7 (plot_images):\n",
            "Traceback (most recent call last):\n",
            "  File \"/usr/lib/python3.10/threading.py\", line 1016, in _bootstrap_inner\n",
            "    self.run()\n",
            "  File \"/usr/lib/python3.10/threading.py\", line 953, in run\n",
            "    self._target(*self._args, **self._kwargs)\n",
            "  File \"/content/yolov7/utils/plots.py\", line 151, in plot_images\n",
            "    mosaic[block_y:block_y + h, block_x:block_x + w, :] = img\n",
            "ValueError: could not broadcast input array from shape (640,640,4) into shape (640,640,3)\n",
            "      0/24     6.86G   0.08474    0.1401         0    0.2249      1732       640:   1% 4/306 [00:20<15:01,  2.99s/it]Exception in thread Thread-8 (plot_images):\n",
            "Traceback (most recent call last):\n",
            "  File \"/usr/lib/python3.10/threading.py\", line 1016, in _bootstrap_inner\n",
            "    self.run()\n",
            "  File \"/usr/lib/python3.10/threading.py\", line 953, in run\n",
            "    self._target(*self._args, **self._kwargs)\n",
            "  File \"/content/yolov7/utils/plots.py\", line 151, in plot_images\n",
            "    mosaic[block_y:block_y + h, block_x:block_x + w, :] = img\n",
            "ValueError: could not broadcast input array from shape (640,640,4) into shape (640,640,3)\n",
            "      0/24     6.86G   0.08441    0.1232         0    0.2076       570       640:   2% 5/306 [00:20<10:27,  2.08s/it]Exception in thread Thread-9 (plot_images):\n",
            "Traceback (most recent call last):\n",
            "  File \"/usr/lib/python3.10/threading.py\", line 1016, in _bootstrap_inner\n",
            "    self.run()\n",
            "  File \"/usr/lib/python3.10/threading.py\", line 953, in run\n",
            "    self._target(*self._args, **self._kwargs)\n",
            "  File \"/content/yolov7/utils/plots.py\", line 151, in plot_images\n",
            "    mosaic[block_y:block_y + h, block_x:block_x + w, :] = img\n",
            "ValueError: could not broadcast input array from shape (640,640,4) into shape (640,640,3)\n",
            "      0/24     6.86G   0.08495    0.1267         0    0.2116      1526       640:   2% 6/306 [00:21<07:51,  1.57s/it]Exception in thread Thread-10 (plot_images):\n",
            "Traceback (most recent call last):\n",
            "  File \"/usr/lib/python3.10/threading.py\", line 1016, in _bootstrap_inner\n",
            "    self.run()\n",
            "  File \"/usr/lib/python3.10/threading.py\", line 953, in run\n",
            "    self._target(*self._args, **self._kwargs)\n",
            "  File \"/content/yolov7/utils/plots.py\", line 151, in plot_images\n",
            "    mosaic[block_y:block_y + h, block_x:block_x + w, :] = img\n",
            "ValueError: could not broadcast input array from shape (640,640,4) into shape (640,640,3)\n",
            "      0/24     6.86G   0.08475    0.1286         0    0.2133       910       640:   2% 7/306 [00:21<06:06,  1.23s/it]Exception in thread Thread-11 (plot_images):\n",
            "Traceback (most recent call last):\n",
            "  File \"/usr/lib/python3.10/threading.py\", line 1016, in _bootstrap_inner\n",
            "    self.run()\n",
            "  File \"/usr/lib/python3.10/threading.py\", line 953, in run\n",
            "    self._target(*self._args, **self._kwargs)\n",
            "  File \"/content/yolov7/utils/plots.py\", line 151, in plot_images\n",
            "    mosaic[block_y:block_y + h, block_x:block_x + w, :] = img\n",
            "ValueError: could not broadcast input array from shape (640,640,4) into shape (640,640,3)\n",
            "      0/24     6.86G   0.08493    0.1287         0    0.2136      1295       640:   3% 8/306 [00:22<05:01,  1.01s/it]Exception in thread Thread-12 (plot_images):\n",
            "Traceback (most recent call last):\n",
            "  File \"/usr/lib/python3.10/threading.py\", line 1016, in _bootstrap_inner\n",
            "    self.run()\n",
            "  File \"/usr/lib/python3.10/threading.py\", line 953, in run\n",
            "    self._target(*self._args, **self._kwargs)\n",
            "  File \"/content/yolov7/utils/plots.py\", line 151, in plot_images\n",
            "    mosaic[block_y:block_y + h, block_x:block_x + w, :] = img\n",
            "ValueError: could not broadcast input array from shape (640,640,4) into shape (640,640,3)\n",
            "      0/24     6.86G   0.08482    0.1251         0    0.2099       839       640:   3% 9/306 [00:22<04:13,  1.17it/s]Exception in thread Thread-13 (plot_images):\n",
            "Traceback (most recent call last):\n",
            "  File \"/usr/lib/python3.10/threading.py\", line 1016, in _bootstrap_inner\n",
            "    self.run()\n",
            "  File \"/usr/lib/python3.10/threading.py\", line 953, in run\n",
            "    self._target(*self._args, **self._kwargs)\n",
            "  File \"/content/yolov7/utils/plots.py\", line 151, in plot_images\n",
            "    mosaic[block_y:block_y + h, block_x:block_x + w, :] = img\n",
            "ValueError: could not broadcast input array from shape (640,640,4) into shape (640,640,3)\n",
            "      0/24     6.86G    0.0851    0.1258         0    0.2109      1622       640:   3% 10/306 [00:23<03:48,  1.29it/s]Exception in thread Thread-14 (plot_images):\n",
            "Traceback (most recent call last):\n",
            "  File \"/usr/lib/python3.10/threading.py\", line 1016, in _bootstrap_inner\n",
            "    self.run()\n",
            "  File \"/usr/lib/python3.10/threading.py\", line 953, in run\n",
            "    self._target(*self._args, **self._kwargs)\n",
            "  File \"/content/yolov7/utils/plots.py\", line 151, in plot_images\n",
            "    mosaic[block_y:block_y + h, block_x:block_x + w, :] = img\n",
            "ValueError: could not broadcast input array from shape (640,640,4) into shape (640,640,3)\n",
            "      0/24     1.51G   0.07444    0.1162         0    0.1906       114       640: 100% 306/306 [02:52<00:00,  1.77it/s]\n",
            "               Class      Images      Labels           P           R      mAP@.5  mAP@.5:.95:   0% 0/54 [00:00<?, ?it/s]/usr/local/lib/python3.10/dist-packages/torch/functional.py:504: UserWarning: torch.meshgrid: in an upcoming release, it will be required to pass the indexing argument. (Triggered internally at ../aten/src/ATen/native/TensorShape.cpp:3483.)\n",
            "  return _VF.meshgrid(tensors, **kwargs)  # type: ignore[attr-defined]\n",
            "               Class      Images      Labels           P           R      mAP@.5  mAP@.5:.95: 100% 54/54 [00:31<00:00,  1.74it/s]\n",
            "                 all         855       15936       0.241       0.293       0.159      0.0381\n",
            "\n",
            "     Epoch   gpu_mem       box       obj       cls     total    labels  img_size\n",
            "      1/24     7.06G   0.06257    0.1363         0    0.1988       407       640: 100% 306/306 [02:33<00:00,  2.00it/s]\n",
            "               Class      Images      Labels           P           R      mAP@.5  mAP@.5:.95: 100% 54/54 [00:20<00:00,  2.68it/s]\n",
            "                 all         855       15936        0.47       0.432        0.38       0.102\n",
            "\n",
            "     Epoch   gpu_mem       box       obj       cls     total    labels  img_size\n",
            "      2/24      8.7G   0.06093    0.1255         0    0.1864        63       640: 100% 306/306 [02:33<00:00,  1.99it/s]\n",
            "               Class      Images      Labels           P           R      mAP@.5  mAP@.5:.95: 100% 54/54 [00:19<00:00,  2.84it/s]\n",
            "                 all         855       15936       0.634        0.48       0.516        0.17\n",
            "\n",
            "     Epoch   gpu_mem       box       obj       cls     total    labels  img_size\n",
            "      3/24      8.7G   0.05828     0.113         0    0.1712       221       640: 100% 306/306 [02:34<00:00,  1.98it/s]\n",
            "               Class      Images      Labels           P           R      mAP@.5  mAP@.5:.95: 100% 54/54 [00:18<00:00,  2.85it/s]\n",
            "                 all         855       15936       0.638       0.525       0.546       0.186\n",
            "\n",
            "     Epoch   gpu_mem       box       obj       cls     total    labels  img_size\n",
            "      4/24      8.7G   0.05521    0.1154         0    0.1706       153       640: 100% 306/306 [02:35<00:00,  1.96it/s]\n",
            "               Class      Images      Labels           P           R      mAP@.5  mAP@.5:.95: 100% 54/54 [00:18<00:00,  2.93it/s]\n",
            "                 all         855       15936       0.616       0.527       0.537        0.19\n",
            "\n",
            "     Epoch   gpu_mem       box       obj       cls     total    labels  img_size\n",
            "      5/24     8.71G   0.05376    0.1147         0    0.1685       139       640: 100% 306/306 [02:35<00:00,  1.97it/s]\n",
            "               Class      Images      Labels           P           R      mAP@.5  mAP@.5:.95: 100% 54/54 [00:18<00:00,  2.90it/s]\n",
            "                 all         855       15936       0.615       0.562       0.556       0.194\n",
            "\n",
            "     Epoch   gpu_mem       box       obj       cls     total    labels  img_size\n",
            "      6/24     8.71G   0.05288    0.1134         0    0.1663       297       640: 100% 306/306 [02:35<00:00,  1.96it/s]\n",
            "               Class      Images      Labels           P           R      mAP@.5  mAP@.5:.95: 100% 54/54 [00:18<00:00,  2.86it/s]\n",
            "                 all         855       15936       0.601       0.523       0.526       0.184\n",
            "\n",
            "     Epoch   gpu_mem       box       obj       cls     total    labels  img_size\n",
            "      7/24     8.71G   0.05243    0.1127         0    0.1651       182       640: 100% 306/306 [02:34<00:00,  1.98it/s]\n",
            "               Class      Images      Labels           P           R      mAP@.5  mAP@.5:.95: 100% 54/54 [00:18<00:00,  2.90it/s]\n",
            "                 all         855       15936       0.611       0.548       0.541       0.186\n",
            "\n",
            "     Epoch   gpu_mem       box       obj       cls     total    labels  img_size\n",
            "      8/24     8.71G   0.05199    0.1132         0    0.1652       183       640: 100% 306/306 [02:34<00:00,  1.98it/s]\n",
            "               Class      Images      Labels           P           R      mAP@.5  mAP@.5:.95: 100% 54/54 [00:18<00:00,  2.87it/s]\n",
            "                 all         855       15936         0.6       0.546       0.529       0.187\n",
            "\n",
            "     Epoch   gpu_mem       box       obj       cls     total    labels  img_size\n",
            "      9/24     8.71G   0.05151    0.1129         0    0.1644        38       640: 100% 306/306 [02:34<00:00,  1.98it/s]\n",
            "               Class      Images      Labels           P           R      mAP@.5  mAP@.5:.95: 100% 54/54 [00:18<00:00,  2.96it/s]\n",
            "                 all         855       15936       0.582       0.548       0.515       0.179\n",
            "\n",
            "     Epoch   gpu_mem       box       obj       cls     total    labels  img_size\n",
            "     10/24     8.72G   0.05136    0.1123         0    0.1637       117       640: 100% 306/306 [02:33<00:00,  1.99it/s]\n",
            "               Class      Images      Labels           P           R      mAP@.5  mAP@.5:.95: 100% 54/54 [00:18<00:00,  2.94it/s]\n",
            "                 all         855       15936       0.607       0.564       0.555        0.19\n",
            "\n",
            "     Epoch   gpu_mem       box       obj       cls     total    labels  img_size\n",
            "     11/24     8.72G   0.05065    0.1132         0    0.1638       212       640: 100% 306/306 [02:34<00:00,  1.98it/s]\n",
            "               Class      Images      Labels           P           R      mAP@.5  mAP@.5:.95: 100% 54/54 [00:18<00:00,  2.96it/s]\n",
            "                 all         855       15936       0.605       0.547       0.535        0.19\n",
            "\n",
            "     Epoch   gpu_mem       box       obj       cls     total    labels  img_size\n",
            "     12/24     8.72G   0.05069    0.1136         0    0.1642        88       640: 100% 306/306 [02:35<00:00,  1.96it/s]\n",
            "               Class      Images      Labels           P           R      mAP@.5  mAP@.5:.95: 100% 54/54 [00:18<00:00,  2.91it/s]\n",
            "                 all         855       15936       0.576       0.571       0.531       0.186\n",
            "\n",
            "     Epoch   gpu_mem       box       obj       cls     total    labels  img_size\n",
            "     13/24     8.72G   0.05022      0.11         0    0.1603       127       640: 100% 306/306 [02:34<00:00,  1.98it/s]\n",
            "               Class      Images      Labels           P           R      mAP@.5  mAP@.5:.95: 100% 54/54 [00:18<00:00,  2.95it/s]\n",
            "                 all         855       15936       0.626       0.539       0.547       0.193\n",
            "\n",
            "     Epoch   gpu_mem       box       obj       cls     total    labels  img_size\n",
            "     14/24     8.72G   0.04991    0.1107         0    0.1606       198       640: 100% 306/306 [02:35<00:00,  1.97it/s]\n",
            "               Class      Images      Labels           P           R      mAP@.5  mAP@.5:.95: 100% 54/54 [00:18<00:00,  2.99it/s]\n",
            "                 all         855       15936       0.599       0.558       0.534       0.189\n",
            "\n",
            "     Epoch   gpu_mem       box       obj       cls     total    labels  img_size\n",
            "     15/24     8.72G   0.04959    0.1113         0    0.1609         3       640: 100% 306/306 [02:34<00:00,  1.98it/s]\n",
            "               Class      Images      Labels           P           R      mAP@.5  mAP@.5:.95: 100% 54/54 [00:18<00:00,  2.95it/s]\n",
            "                 all         855       15936       0.618       0.534       0.534       0.188\n",
            "\n",
            "     Epoch   gpu_mem       box       obj       cls     total    labels  img_size\n",
            "     16/24     8.72G   0.04909     0.112         0    0.1611       210       640: 100% 306/306 [02:35<00:00,  1.97it/s]\n",
            "               Class      Images      Labels           P           R      mAP@.5  mAP@.5:.95: 100% 54/54 [00:17<00:00,  3.01it/s]\n",
            "                 all         855       15936         0.6       0.542       0.527       0.183\n",
            "\n",
            "     Epoch   gpu_mem       box       obj       cls     total    labels  img_size\n",
            "     17/24     8.72G   0.04941    0.1112         0    0.1607        88       640: 100% 306/306 [02:35<00:00,  1.97it/s]\n",
            "               Class      Images      Labels           P           R      mAP@.5  mAP@.5:.95: 100% 54/54 [00:18<00:00,  3.00it/s]\n",
            "                 all         855       15936       0.594        0.51       0.499       0.175\n",
            "\n",
            "     Epoch   gpu_mem       box       obj       cls     total    labels  img_size\n",
            "     18/24     8.72G   0.04918    0.1089         0    0.1581       290       640: 100% 306/306 [02:35<00:00,  1.97it/s]\n",
            "               Class      Images      Labels           P           R      mAP@.5  mAP@.5:.95: 100% 54/54 [00:18<00:00,  2.98it/s]\n",
            "                 all         855       15936       0.592       0.558       0.531        0.19\n",
            "\n",
            "     Epoch   gpu_mem       box       obj       cls     total    labels  img_size\n",
            "     19/24     8.72G    0.0489    0.1083         0    0.1572        85       640: 100% 306/306 [02:35<00:00,  1.97it/s]\n",
            "               Class      Images      Labels           P           R      mAP@.5  mAP@.5:.95: 100% 54/54 [00:18<00:00,  2.98it/s]\n",
            "                 all         855       15936       0.583       0.538       0.495       0.174\n",
            "\n",
            "     Epoch   gpu_mem       box       obj       cls     total    labels  img_size\n",
            "     20/24     8.72G   0.04869    0.1127         0    0.1614       416       640: 100% 306/306 [02:36<00:00,  1.96it/s]\n",
            "               Class      Images      Labels           P           R      mAP@.5  mAP@.5:.95: 100% 54/54 [00:17<00:00,  3.01it/s]\n",
            "                 all         855       15936       0.586       0.527       0.494       0.176\n",
            "\n",
            "     Epoch   gpu_mem       box       obj       cls     total    labels  img_size\n",
            "     21/24     8.72G   0.04818    0.1088         0    0.1569        76       640: 100% 306/306 [02:34<00:00,  1.98it/s]\n",
            "               Class      Images      Labels           P           R      mAP@.5  mAP@.5:.95: 100% 54/54 [00:18<00:00,  2.97it/s]\n",
            "                 all         855       15936       0.594       0.538        0.51       0.183\n",
            "\n",
            "     Epoch   gpu_mem       box       obj       cls     total    labels  img_size\n",
            "     22/24     8.72G   0.04855    0.1121         0    0.1606       239       640: 100% 306/306 [02:36<00:00,  1.96it/s]\n",
            "               Class      Images      Labels           P           R      mAP@.5  mAP@.5:.95: 100% 54/54 [00:18<00:00,  2.99it/s]\n",
            "                 all         855       15936       0.592       0.528       0.492       0.175\n",
            "\n",
            "     Epoch   gpu_mem       box       obj       cls     total    labels  img_size\n",
            "     23/24     8.72G   0.04848    0.1109         0    0.1594       217       640: 100% 306/306 [02:36<00:00,  1.96it/s]\n",
            "               Class      Images      Labels           P           R      mAP@.5  mAP@.5:.95: 100% 54/54 [00:17<00:00,  3.03it/s]\n",
            "                 all         855       15936       0.591       0.538       0.503       0.177\n",
            "\n",
            "     Epoch   gpu_mem       box       obj       cls     total    labels  img_size\n",
            "     24/24     8.72G   0.04804    0.1086         0    0.1566       364       640: 100% 306/306 [02:35<00:00,  1.97it/s]\n",
            "               Class      Images      Labels           P           R      mAP@.5  mAP@.5:.95:   2% 1/54 [00:00<00:24,  2.12it/s]Exception in thread Thread-15 (plot_images):\n",
            "Traceback (most recent call last):\n",
            "  File \"/usr/lib/python3.10/threading.py\", line 1016, in _bootstrap_inner\n",
            "    self.run()\n",
            "  File \"/usr/lib/python3.10/threading.py\", line 953, in run\n",
            "    self._target(*self._args, **self._kwargs)\n",
            "  File \"/content/yolov7/utils/plots.py\", line 151, in plot_images\n",
            "    mosaic[block_y:block_y + h, block_x:block_x + w, :] = img\n",
            "ValueError: could not broadcast input array from shape (640,640,4) into shape (640,640,3)\n",
            "Exception in thread Thread-16 (plot_images):\n",
            "Traceback (most recent call last):\n",
            "  File \"/usr/lib/python3.10/threading.py\", line 1016, in _bootstrap_inner\n",
            "    self.run()\n",
            "  File \"/usr/lib/python3.10/threading.py\", line 953, in run\n",
            "    self._target(*self._args, **self._kwargs)\n",
            "  File \"/content/yolov7/utils/plots.py\", line 151, in plot_images\n",
            "    mosaic[block_y:block_y + h, block_x:block_x + w, :] = img\n",
            "ValueError: could not broadcast input array from shape (640,640,4) into shape (640,640,3)\n",
            "               Class      Images      Labels           P           R      mAP@.5  mAP@.5:.95:   4% 2/54 [00:00<00:25,  2.01it/s]Exception in thread Thread-17 (plot_images):\n",
            "Traceback (most recent call last):\n",
            "  File \"/usr/lib/python3.10/threading.py\", line 1016, in _bootstrap_inner\n",
            "    self.run()\n",
            "  File \"/usr/lib/python3.10/threading.py\", line 953, in run\n",
            "    self._target(*self._args, **self._kwargs)\n",
            "  File \"/content/yolov7/utils/plots.py\", line 151, in plot_images\n",
            "    mosaic[block_y:block_y + h, block_x:block_x + w, :] = img\n",
            "ValueError: could not broadcast input array from shape (640,640,4) into shape (640,640,3)\n",
            "Exception in thread Thread-18 (plot_images):\n",
            "Traceback (most recent call last):\n",
            "  File \"/usr/lib/python3.10/threading.py\", line 1016, in _bootstrap_inner\n",
            "    self.run()\n",
            "  File \"/usr/lib/python3.10/threading.py\", line 953, in run\n",
            "    self._target(*self._args, **self._kwargs)\n",
            "  File \"/content/yolov7/utils/plots.py\", line 151, in plot_images\n",
            "    mosaic[block_y:block_y + h, block_x:block_x + w, :] = img\n",
            "ValueError: could not broadcast input array from shape (640,640,4) into shape (640,640,3)\n",
            "               Class      Images      Labels           P           R      mAP@.5  mAP@.5:.95:   6% 3/54 [00:01<00:26,  1.96it/s]Exception in thread Thread-19 (plot_images):\n",
            "Traceback (most recent call last):\n",
            "  File \"/usr/lib/python3.10/threading.py\", line 1016, in _bootstrap_inner\n",
            "    self.run()\n",
            "  File \"/usr/lib/python3.10/threading.py\", line 953, in run\n",
            "    self._target(*self._args, **self._kwargs)\n",
            "  File \"/content/yolov7/utils/plots.py\", line 151, in plot_images\n",
            "    mosaic[block_y:block_y + h, block_x:block_x + w, :] = img\n",
            "ValueError: could not broadcast input array from shape (640,640,4) into shape (640,640,3)\n",
            "Exception in thread Thread-20 (plot_images):\n",
            "Traceback (most recent call last):\n",
            "  File \"/usr/lib/python3.10/threading.py\", line 1016, in _bootstrap_inner\n",
            "    self.run()\n",
            "  File \"/usr/lib/python3.10/threading.py\", line 953, in run\n",
            "    self._target(*self._args, **self._kwargs)\n",
            "  File \"/content/yolov7/utils/plots.py\", line 151, in plot_images\n",
            "    mosaic[block_y:block_y + h, block_x:block_x + w, :] = img\n",
            "ValueError: could not broadcast input array from shape (640,640,4) into shape (640,640,3)\n",
            "               Class      Images      Labels           P           R      mAP@.5  mAP@.5:.95: 100% 54/54 [00:20<00:00,  2.59it/s]\n",
            "                 all         855       15936       0.594       0.534       0.491       0.172\n",
            "25 epochs completed in 1.227 hours.\n",
            "\n",
            "Optimizer stripped from runs/train/exp/weights/last.pt, 74.8MB\n",
            "Optimizer stripped from runs/train/exp/weights/best.pt, 74.8MB\n"
          ]
        }
      ],
      "source": [
        "#3 +1(53val) +1(59test) RUNNATO 5/10 14:10\n",
        "!python train.py --epochs 25 --workers 8 --device 0 --batch-size 8 --data 'data.yaml' --img 640 640 --cfg 'cfg/training/yolov7-tree.yaml' --weights 'yolov7_training.pt'"
      ]
    },
    {
      "cell_type": "markdown",
      "metadata": {},
      "source": [
        "*Remark : the printed scores (MAP; precision, recall, ...) are computed on the validation image. But pay attention that they are computed on the validation crops, not on whole full val image. In addition, pay attention that these scores are computed using particular confidence and iou_nms thresholds. So, you don't have to much high consideration on these scores.*"
      ]
    },
    {
      "cell_type": "markdown",
      "metadata": {
        "id": "0W0MpUaTCJro"
      },
      "source": [
        "# Inference and evaluation on the whole validation image"
      ]
    },
    {
      "cell_type": "code",
      "execution_count": null,
      "metadata": {
        "colab": {
          "base_uri": "https://localhost:8080/"
        },
        "id": "i8QaoHNoKCcx",
        "outputId": "aabaa14c-e235-444f-a29e-6860c21573b4"
      },
      "outputs": [
        {
          "name": "stdout",
          "output_type": "stream",
          "text": [
            "/content/yolov7\n"
          ]
        }
      ],
      "source": [
        "%cd yolov7"
      ]
    },
    {
      "cell_type": "code",
      "execution_count": null,
      "metadata": {
        "id": "q_nD09QouqGy"
      },
      "outputs": [],
      "source": [
        "from trees_detection_utils.inference import predict_on_img"
      ]
    },
    {
      "cell_type": "markdown",
      "metadata": {
        "id": "RTu_Ams6f_Cv"
      },
      "source": [
        "### Inference"
      ]
    },
    {
      "cell_type": "markdown",
      "metadata": {},
      "source": [
        "Perform inference on the whole validation image. The result of this is a single `.txt` file, containing all the bounding boxes on the whole validation image.\n",
        "\n",
        "For now, we perform this inference by setting `conf_thres=0.25` and `iou_nms_thres=0.45`. These two very important inference parameters will be later tuned."
      ]
    },
    {
      "cell_type": "code",
      "execution_count": null,
      "metadata": {
        "colab": {
          "base_uri": "https://localhost:8080/"
        },
        "id": "z4f7zvKrvO00",
        "outputId": "8b503746-9d04-4f26-cf9c-f7e9d8314805"
      },
      "outputs": [
        {
          "name": "stdout",
          "output_type": "stream",
          "text": [
            "CROP IMAGE ...\n"
          ]
        },
        {
          "name": "stderr",
          "output_type": "stream",
          "text": [
            "100%|██████████| 945/945 [00:13<00:00, 67.83it/s]\n"
          ]
        },
        {
          "name": "stdout",
          "output_type": "stream",
          "text": [
            "FINISH CROP IMAGE\n",
            "\n",
            "RUN MODEL ON PATCHES ...\n",
            "Fusing layers... \n",
            "RepConv.fuse_repvgg_block\n",
            "RepConv.fuse_repvgg_block\n",
            "RepConv.fuse_repvgg_block\n",
            "IDetect.fuse\n",
            " Convert model to Traced-model... \n",
            " traced_script_module saved! \n",
            " model is traced! \n",
            "\n"
          ]
        },
        {
          "name": "stderr",
          "output_type": "stream",
          "text": [
            "100%|██████████| 945/945 [01:08<00:00, 13.76it/s]\n"
          ]
        },
        {
          "name": "stdout",
          "output_type": "stream",
          "text": [
            "FINISH RUN MODEL ON PATCHES\n",
            "\n",
            "UNIFY CROPS BBS ...\n"
          ]
        },
        {
          "name": "stderr",
          "output_type": "stream",
          "text": [
            "100%|██████████| 868/868 [00:00<00:00, 13564.70it/s]\n"
          ]
        },
        {
          "name": "stdout",
          "output_type": "stream",
          "text": [
            "Number of bbs after joining:, 17015\n",
            "Number of bbs after NMS:, 5060\n",
            "Number of bbs after enclosed bbs filtering:, 4431\n",
            "FINISH UNIFY CROPS\n",
            "\n",
            "SAVING IMAGE ...\n"
          ]
        },
        {
          "name": "stderr",
          "output_type": "stream",
          "text": [
            "100%|██████████| 4431/4431 [00:00<00:00, 47654.11it/s]\n"
          ]
        },
        {
          "name": "stdout",
          "output_type": "stream",
          "text": [
            "Image saved\n",
            "FINISH SAVING IMAGE\n"
          ]
        }
      ],
      "source": [
        "path_to_weigths = 'weigths/best_infrared_train.pt'\n",
        "image_path = os.path.join(base_dir, 'dataset/19K53/19K53.tif')\n",
        "predict_on_img(path_to_weigths, image_path, output_bbs_path='./boxes.txt', crop_size=CROP_SIZE, step=STEP,\n",
        "               conf_thres=0.25, iou_nms_thres=0.45, intersect_thres=0.75, verbose=True,\n",
        "               save_fig_pred_bbs=True, infrared=True)"
      ]
    },
    {
      "cell_type": "markdown",
      "metadata": {},
      "source": [
        "The model predicts $4431$ boxes on the whole validation image."
      ]
    },
    {
      "cell_type": "markdown",
      "metadata": {
        "id": "KpWeW2hDY1UP"
      },
      "source": [
        "### Evaluation"
      ]
    },
    {
      "cell_type": "markdown",
      "metadata": {},
      "source": [
        "Evaluate these predicted bounding boxes w.r.t. the ground truth ones, still on the whole val image."
      ]
    },
    {
      "cell_type": "code",
      "execution_count": null,
      "metadata": {
        "id": "nafvEiewuvfp"
      },
      "outputs": [],
      "source": [
        "from trees_detection_utils.evaluation import visualize_errors_and_missings, evaluate_predicted_boxes"
      ]
    },
    {
      "cell_type": "code",
      "execution_count": null,
      "metadata": {
        "colab": {
          "base_uri": "https://localhost:8080/"
        },
        "id": "IMFW7BaUxpU4",
        "outputId": "ee879664-f5bc-4ab7-925c-9471d0ef84d0"
      },
      "outputs": [
        {
          "name": "stderr",
          "output_type": "stream",
          "text": [
            "/usr/local/lib/python3.10/dist-packages/PIL/Image.py:3167: DecompressionBombWarning: Image size (98211778 pixels) exceeds limit of 89478485 pixels, could be decompression bomb DOS attack.\n",
            "  warnings.warn(\n",
            "100%|██████████| 3940/3940 [00:00<00:00, 45287.54it/s]\n",
            "100%|██████████| 4785/4785 [00:00<00:00, 86937.71it/s]\n"
          ]
        },
        {
          "name": "stdout",
          "output_type": "stream",
          "text": [
            "Figure saved\n"
          ]
        }
      ],
      "source": [
        "# Save a figure containing both the ground truths and predictes boxes, both with the \n",
        "# missings and the errors\n",
        "image_path = os.path.join(base_dir, 'dataset/19K53/19K53_RGB.tif')\n",
        "gt_boxes_txt_path = os.path.join(base_dir, 'dataset/19K53/19K53_boxes.txt')\n",
        "pred_boxes_txt_path = 'boxes.txt'\n",
        "visualize_errors_and_missings(image_path, gt_boxes_txt_path, pred_boxes_txt_path,\n",
        "                              iou_eval_thres=0.4, show=False)"
      ]
    },
    {
      "cell_type": "code",
      "execution_count": null,
      "metadata": {
        "colab": {
          "base_uri": "https://localhost:8080/",
          "height": 989
        },
        "id": "cY8C5uJSyZw6",
        "outputId": "0a17b5d1-d918-49c6-b7cb-6d4f2644a54e"
      },
      "outputs": [
        {
          "name": "stderr",
          "output_type": "stream",
          "text": [
            "4431it [00:49, 89.52it/s]\n"
          ]
        },
        {
          "name": "stdout",
          "output_type": "stream",
          "text": [
            "mAP: 0.62\n",
            "Last precision: 0.72\n",
            "Last recall: 0.67\n",
            "Last f1: 0.70\n",
            "Best f1: 0.70; index: 4089\n"
          ]
        },
        {
          "data": {
            "image/png": "[encoded data removed]",
            "text/plain": [
              "<Figure size 640x480 with 1 Axes>"
            ]
          },
          "metadata": {},
          "output_type": "display_data"
        },
        {
          "data": {
            "image/png": "[encoded data removed]",
            "text/plain": [
              "<Figure size 640x480 with 1 Axes>"
            ]
          },
          "metadata": {},
          "output_type": "display_data"
        }
      ],
      "source": [
        "%matplotlib inline\n",
        "gt_boxes_txt_path = os.path.join(base_dir,'dataset/19K53/19K53_boxes.txt')\n",
        "pred_boxes_txt_path = 'boxes.txt'\n",
        "map_score, last_f1, last_prec, last_rec = evaluate_predicted_boxes(gt_boxes_txt_path, pred_boxes_txt_path, iou_eval_thres=0.4, plot_prec_rec=True, plot_f1=True, verbose=True)"
      ]
    },
    {
      "cell_type": "markdown",
      "metadata": {},
      "source": [
        "Validation scores. \n",
        "- F1 score : $0.7$.\n",
        "- Precision : $0.72$.\n",
        "- Recall : $0.67$.\n",
        "- MAP : $0.62$."
      ]
    },
    {
      "cell_type": "markdown",
      "metadata": {
        "id": "ZNa0EE2rzh5w"
      },
      "source": [
        "# Hyperparameters tuning"
      ]
    },
    {
      "cell_type": "markdown",
      "metadata": {},
      "source": [
        "Let's now tune the two inference parameters `conf_thres` and `iou_nms_thrss` on the validation image.\n",
        "\n",
        "Exaustive grid search among all possible couples of values.\n",
        "\n",
        "This tuning is done w.r.t. the f1 score. This is the measure to monitor."
      ]
    },
    {
      "cell_type": "code",
      "execution_count": null,
      "metadata": {
        "id": "-1yK1fZMAzFc"
      },
      "outputs": [],
      "source": [
        "from trees_detection_utils.evaluation import inference_parameters_tuning"
      ]
    },
    {
      "cell_type": "code",
      "execution_count": null,
      "metadata": {
        "colab": {
          "base_uri": "https://localhost:8080/",
          "height": 1000
        },
        "id": "xFqhKMKs0R-Y",
        "outputId": "ed4ba24a-1f38-4198-da0b-56d7fe9f3a61"
      },
      "outputs": [
        {
          "name": "stdout",
          "output_type": "stream",
          "text": [
            "[(0.1, 0.3), (0.1, 0.45), (0.1, 0.6), (0.15, 0.3), (0.15, 0.45), (0.15, 0.6), (0.2, 0.3), (0.2, 0.45), (0.2, 0.6), (0.25, 0.3), (0.25, 0.45), (0.25, 0.6), (0.3, 0.3), (0.3, 0.45), (0.3, 0.6), (0.35, 0.3), (0.35, 0.45), (0.35, 0.6), (0.4, 0.3), (0.4, 0.45), (0.4, 0.6), (0.45, 0.3), (0.45, 0.45), (0.45, 0.6), (0.5, 0.3), (0.5, 0.45), (0.5, 0.6)]\n",
            "START HYPERPARAMETERS conf_thres:0.1 iou_nms_thres:0.3\n",
            "CROP IMAGE ...\n"
          ]
        },
        {
          "name": "stderr",
          "output_type": "stream",
          "text": [
            "100%|██████████| 945/945 [00:13<00:00, 69.08it/s]\n"
          ]
        },
        {
          "name": "stdout",
          "output_type": "stream",
          "text": [
            "FINISH CROP IMAGE\n",
            "\n",
            "RUN MODEL ON PATCHES ...\n",
            "Fusing layers... \n",
            "RepConv.fuse_repvgg_block\n",
            "RepConv.fuse_repvgg_block\n",
            "RepConv.fuse_repvgg_block\n",
            "IDetect.fuse\n",
            " Convert model to Traced-model... \n",
            " traced_script_module saved! \n",
            " model is traced! \n",
            "\n"
          ]
        },
        {
          "name": "stderr",
          "output_type": "stream",
          "text": [
            "100%|██████████| 945/945 [01:11<00:00, 13.18it/s]\n"
          ]
        },
        {
          "name": "stdout",
          "output_type": "stream",
          "text": [
            "FINISH RUN MODEL ON PATCHES\n",
            "\n",
            "UNIFY CROPS BBS ...\n"
          ]
        },
        {
          "name": "stderr",
          "output_type": "stream",
          "text": [
            "100%|██████████| 899/899 [00:00<00:00, 3357.61it/s]\n"
          ]
        },
        {
          "name": "stdout",
          "output_type": "stream",
          "text": [
            "Number of bbs after joining:, 22983\n",
            "Number of bbs after NMS:, 6593\n",
            "Number of bbs after enclosed bbs filtering:, 5927\n",
            "FINISH UNIFY CROPS\n",
            "\n"
          ]
        },
        {
          "name": "stderr",
          "output_type": "stream",
          "text": [
            "5927it [01:06, 88.87it/s]\n"
          ]
        },
        {
          "name": "stdout",
          "output_type": "stream",
          "text": [
            "mAP: 0.66\n",
            "Last precision: 0.59\n",
            "Last recall: 0.73\n",
            "Last f1: 0.65\n",
            "Best f1: 0.70; index: 4208\n",
            "mAP:0.6582218860804206 f1:0.6527259148618373 prec:0.5898430909397672 rec:0.7306165099268548\n",
            "END HYPERPARAMETERS conf_thres:0.1 iou_nms_thres:0.3\n",
            "\n",
            "START HYPERPARAMETERS conf_thres:0.1 iou_nms_thres:0.45\n",
            "CROP IMAGE ...\n"
          ]
        },
        {
          "name": "stderr",
          "output_type": "stream",
          "text": [
            "100%|██████████| 945/945 [00:13<00:00, 69.07it/s]\n"
          ]
        },
        {
          "name": "stdout",
          "output_type": "stream",
          "text": [
            "FINISH CROP IMAGE\n",
            "\n",
            "RUN MODEL ON PATCHES ...\n",
            "Fusing layers... \n",
            "RepConv.fuse_repvgg_block\n",
            "RepConv.fuse_repvgg_block\n",
            "RepConv.fuse_repvgg_block\n",
            "IDetect.fuse\n",
            " Convert model to Traced-model... \n",
            " traced_script_module saved! \n",
            " model is traced! \n",
            "\n"
          ]
        },
        {
          "name": "stderr",
          "output_type": "stream",
          "text": [
            "100%|██████████| 945/945 [01:11<00:00, 13.16it/s]\n"
          ]
        },
        {
          "name": "stdout",
          "output_type": "stream",
          "text": [
            "FINISH RUN MODEL ON PATCHES\n",
            "\n",
            "UNIFY CROPS BBS ...\n"
          ]
        },
        {
          "name": "stderr",
          "output_type": "stream",
          "text": [
            "100%|██████████| 899/899 [00:00<00:00, 11243.44it/s]\n"
          ]
        },
        {
          "name": "stdout",
          "output_type": "stream",
          "text": [
            "Number of bbs after joining:, 24698\n",
            "Number of bbs after NMS:, 7574\n",
            "Number of bbs after enclosed bbs filtering:, 5954\n",
            "FINISH UNIFY CROPS\n",
            "\n"
          ]
        },
        {
          "name": "stderr",
          "output_type": "stream",
          "text": [
            "5954it [01:05, 91.30it/s]\n"
          ]
        },
        {
          "name": "stdout",
          "output_type": "stream",
          "text": [
            "mAP: 0.66\n",
            "Last precision: 0.59\n",
            "Last recall: 0.73\n",
            "Last f1: 0.65\n",
            "Best f1: 0.70; index: 4120\n",
            "mAP:0.6576979183402237 f1:0.6497811714312319 prec:0.5859926100100773 rec:0.729153605015674\n",
            "END HYPERPARAMETERS conf_thres:0.1 iou_nms_thres:0.45\n",
            "\n",
            "START HYPERPARAMETERS conf_thres:0.1 iou_nms_thres:0.6\n",
            "CROP IMAGE ...\n"
          ]
        },
        {
          "name": "stderr",
          "output_type": "stream",
          "text": [
            "100%|██████████| 945/945 [00:13<00:00, 70.24it/s]\n"
          ]
        },
        {
          "name": "stdout",
          "output_type": "stream",
          "text": [
            "FINISH CROP IMAGE\n",
            "\n",
            "RUN MODEL ON PATCHES ...\n",
            "Fusing layers... \n",
            "RepConv.fuse_repvgg_block\n",
            "RepConv.fuse_repvgg_block\n",
            "RepConv.fuse_repvgg_block\n",
            "IDetect.fuse\n",
            " Convert model to Traced-model... \n",
            " traced_script_module saved! \n",
            " model is traced! \n",
            "\n"
          ]
        },
        {
          "name": "stderr",
          "output_type": "stream",
          "text": [
            "100%|██████████| 945/945 [01:13<00:00, 12.87it/s]\n"
          ]
        },
        {
          "name": "stdout",
          "output_type": "stream",
          "text": [
            "FINISH RUN MODEL ON PATCHES\n",
            "\n",
            "UNIFY CROPS BBS ...\n"
          ]
        },
        {
          "name": "stderr",
          "output_type": "stream",
          "text": [
            "100%|██████████| 899/899 [00:00<00:00, 10492.68it/s]\n"
          ]
        },
        {
          "name": "stdout",
          "output_type": "stream",
          "text": [
            "Number of bbs after joining:, 28199\n",
            "Number of bbs after NMS:, 9426\n",
            "Number of bbs after enclosed bbs filtering:, 5871\n",
            "FINISH UNIFY CROPS\n",
            "\n"
          ]
        },
        {
          "name": "stderr",
          "output_type": "stream",
          "text": [
            "5871it [01:04, 91.71it/s]\n"
          ]
        },
        {
          "name": "stdout",
          "output_type": "stream",
          "text": [
            "mAP: 0.64\n",
            "Last precision: 0.58\n",
            "Last recall: 0.72\n",
            "Last f1: 0.64\n",
            "Best f1: 0.67; index: 3771\n",
            "mAP:0.6416367554397212 f1:0.6433933933933934 prec:0.5838869017203202 rec:0.716405433646813\n",
            "END HYPERPARAMETERS conf_thres:0.1 iou_nms_thres:0.6\n",
            "\n",
            "START HYPERPARAMETERS conf_thres:0.15 iou_nms_thres:0.3\n",
            "CROP IMAGE ...\n"
          ]
        },
        {
          "name": "stderr",
          "output_type": "stream",
          "text": [
            "100%|██████████| 945/945 [00:13<00:00, 68.51it/s]\n"
          ]
        },
        {
          "name": "stdout",
          "output_type": "stream",
          "text": [
            "FINISH CROP IMAGE\n",
            "\n",
            "RUN MODEL ON PATCHES ...\n",
            "Fusing layers... \n",
            "RepConv.fuse_repvgg_block\n",
            "RepConv.fuse_repvgg_block\n",
            "RepConv.fuse_repvgg_block\n",
            "IDetect.fuse\n",
            " Convert model to Traced-model... \n",
            " traced_script_module saved! \n",
            " model is traced! \n",
            "\n"
          ]
        },
        {
          "name": "stderr",
          "output_type": "stream",
          "text": [
            "100%|██████████| 945/945 [01:10<00:00, 13.37it/s]\n"
          ]
        },
        {
          "name": "stdout",
          "output_type": "stream",
          "text": [
            "FINISH RUN MODEL ON PATCHES\n",
            "\n",
            "UNIFY CROPS BBS ...\n"
          ]
        },
        {
          "name": "stderr",
          "output_type": "stream",
          "text": [
            "100%|██████████| 884/884 [00:00<00:00, 3611.43it/s]\n"
          ]
        },
        {
          "name": "stdout",
          "output_type": "stream",
          "text": [
            "Number of bbs after joining:, 20179\n",
            "Number of bbs after NMS:, 5734\n",
            "Number of bbs after enclosed bbs filtering:, 5278\n",
            "FINISH UNIFY CROPS\n",
            "\n"
          ]
        },
        {
          "name": "stderr",
          "output_type": "stream",
          "text": [
            "5278it [00:59, 88.42it/s]\n"
          ]
        },
        {
          "name": "stdout",
          "output_type": "stream",
          "text": [
            "mAP: 0.65\n",
            "Last precision: 0.65\n",
            "Last recall: 0.71\n",
            "Last f1: 0.68\n",
            "Best f1: 0.70; index: 4139\n",
            "mAP:0.6468073486945978 f1:0.677134055450661 prec:0.645509662751042 rec:0.7120167189132707\n",
            "END HYPERPARAMETERS conf_thres:0.15 iou_nms_thres:0.3\n",
            "\n",
            "START HYPERPARAMETERS conf_thres:0.15 iou_nms_thres:0.45\n",
            "CROP IMAGE ...\n"
          ]
        },
        {
          "name": "stderr",
          "output_type": "stream",
          "text": [
            "100%|██████████| 945/945 [00:13<00:00, 69.18it/s]\n"
          ]
        },
        {
          "name": "stdout",
          "output_type": "stream",
          "text": [
            "FINISH CROP IMAGE\n",
            "\n",
            "RUN MODEL ON PATCHES ...\n",
            "Fusing layers... \n",
            "RepConv.fuse_repvgg_block\n",
            "RepConv.fuse_repvgg_block\n",
            "RepConv.fuse_repvgg_block\n",
            "IDetect.fuse\n",
            " Convert model to Traced-model... \n",
            " traced_script_module saved! \n",
            " model is traced! \n",
            "\n"
          ]
        },
        {
          "name": "stderr",
          "output_type": "stream",
          "text": [
            "100%|██████████| 945/945 [01:10<00:00, 13.41it/s]\n"
          ]
        },
        {
          "name": "stdout",
          "output_type": "stream",
          "text": [
            "FINISH RUN MODEL ON PATCHES\n",
            "\n",
            "UNIFY CROPS BBS ...\n"
          ]
        },
        {
          "name": "stderr",
          "output_type": "stream",
          "text": [
            "100%|██████████| 884/884 [00:00<00:00, 11771.32it/s]\n"
          ]
        },
        {
          "name": "stdout",
          "output_type": "stream",
          "text": [
            "Number of bbs after joining:, 21122\n",
            "Number of bbs after NMS:, 6413\n",
            "Number of bbs after enclosed bbs filtering:, 5322\n",
            "FINISH UNIFY CROPS\n",
            "\n"
          ]
        },
        {
          "name": "stderr",
          "output_type": "stream",
          "text": [
            "5322it [00:57, 91.94it/s]\n"
          ]
        },
        {
          "name": "stdout",
          "output_type": "stream",
          "text": [
            "mAP: 0.65\n",
            "Last precision: 0.64\n",
            "Last recall: 0.71\n",
            "Last f1: 0.68\n",
            "Best f1: 0.70; index: 4194\n",
            "mAP:0.6501433471810987 f1:0.6759671514791729 prec:0.6418639609169485 rec:0.7138975966562173\n",
            "END HYPERPARAMETERS conf_thres:0.15 iou_nms_thres:0.45\n",
            "\n",
            "START HYPERPARAMETERS conf_thres:0.15 iou_nms_thres:0.6\n",
            "CROP IMAGE ...\n"
          ]
        },
        {
          "name": "stderr",
          "output_type": "stream",
          "text": [
            "100%|██████████| 945/945 [00:13<00:00, 68.90it/s]\n"
          ]
        },
        {
          "name": "stdout",
          "output_type": "stream",
          "text": [
            "FINISH CROP IMAGE\n",
            "\n",
            "RUN MODEL ON PATCHES ...\n",
            "Fusing layers... \n",
            "RepConv.fuse_repvgg_block\n",
            "RepConv.fuse_repvgg_block\n",
            "RepConv.fuse_repvgg_block\n",
            "IDetect.fuse\n",
            " Convert model to Traced-model... \n",
            " traced_script_module saved! \n",
            " model is traced! \n",
            "\n"
          ]
        },
        {
          "name": "stderr",
          "output_type": "stream",
          "text": [
            "100%|██████████| 945/945 [01:11<00:00, 13.17it/s]\n"
          ]
        },
        {
          "name": "stdout",
          "output_type": "stream",
          "text": [
            "FINISH RUN MODEL ON PATCHES\n",
            "\n",
            "UNIFY CROPS BBS ...\n"
          ]
        },
        {
          "name": "stderr",
          "output_type": "stream",
          "text": [
            "100%|██████████| 884/884 [00:00<00:00, 12645.94it/s]\n"
          ]
        },
        {
          "name": "stdout",
          "output_type": "stream",
          "text": [
            "Number of bbs after joining:, 22899\n",
            "Number of bbs after NMS:, 7514\n",
            "Number of bbs after enclosed bbs filtering:, 5253\n",
            "FINISH UNIFY CROPS\n",
            "\n"
          ]
        },
        {
          "name": "stderr",
          "output_type": "stream",
          "text": [
            "5253it [00:58, 90.06it/s]\n"
          ]
        },
        {
          "name": "stdout",
          "output_type": "stream",
          "text": [
            "mAP: 0.64\n",
            "Last precision: 0.64\n",
            "Last recall: 0.71\n",
            "Last f1: 0.67\n",
            "Best f1: 0.69; index: 3993\n",
            "mAP:0.6413472007581789 f1:0.6732416816098824 prec:0.6432514753474206 rec:0.7061650992685475\n",
            "END HYPERPARAMETERS conf_thres:0.15 iou_nms_thres:0.6\n",
            "\n",
            "START HYPERPARAMETERS conf_thres:0.2 iou_nms_thres:0.3\n",
            "CROP IMAGE ...\n"
          ]
        },
        {
          "name": "stderr",
          "output_type": "stream",
          "text": [
            "100%|██████████| 945/945 [00:13<00:00, 69.93it/s]\n"
          ]
        },
        {
          "name": "stdout",
          "output_type": "stream",
          "text": [
            "FINISH CROP IMAGE\n",
            "\n",
            "RUN MODEL ON PATCHES ...\n",
            "Fusing layers... \n",
            "RepConv.fuse_repvgg_block\n",
            "RepConv.fuse_repvgg_block\n",
            "RepConv.fuse_repvgg_block\n",
            "IDetect.fuse\n",
            " Convert model to Traced-model... \n",
            " traced_script_module saved! \n",
            " model is traced! \n",
            "\n"
          ]
        },
        {
          "name": "stderr",
          "output_type": "stream",
          "text": [
            "100%|██████████| 945/945 [01:08<00:00, 13.72it/s]\n"
          ]
        },
        {
          "name": "stdout",
          "output_type": "stream",
          "text": [
            "FINISH RUN MODEL ON PATCHES\n",
            "\n",
            "UNIFY CROPS BBS ...\n"
          ]
        },
        {
          "name": "stderr",
          "output_type": "stream",
          "text": [
            "100%|██████████| 876/876 [00:00<00:00, 13602.24it/s]\n"
          ]
        },
        {
          "name": "stdout",
          "output_type": "stream",
          "text": [
            "Number of bbs after joining:, 18221\n",
            "Number of bbs after NMS:, 5100\n",
            "Number of bbs after enclosed bbs filtering:, 4764\n",
            "FINISH UNIFY CROPS\n",
            "\n"
          ]
        },
        {
          "name": "stderr",
          "output_type": "stream",
          "text": [
            "4764it [00:53, 89.49it/s]\n"
          ]
        },
        {
          "name": "stdout",
          "output_type": "stream",
          "text": [
            "mAP: 0.63\n",
            "Last precision: 0.69\n",
            "Last recall: 0.69\n",
            "Last f1: 0.69\n",
            "Best f1: 0.70; index: 4143\n",
            "mAP:0.630660360790318 f1:0.6894962823332287 prec:0.6910159529806885 rec:0.6879832810867293\n",
            "END HYPERPARAMETERS conf_thres:0.2 iou_nms_thres:0.3\n",
            "\n",
            "START HYPERPARAMETERS conf_thres:0.2 iou_nms_thres:0.45\n",
            "CROP IMAGE ...\n"
          ]
        },
        {
          "name": "stderr",
          "output_type": "stream",
          "text": [
            "100%|██████████| 945/945 [00:15<00:00, 62.80it/s]\n"
          ]
        },
        {
          "name": "stdout",
          "output_type": "stream",
          "text": [
            "FINISH CROP IMAGE\n",
            "\n",
            "RUN MODEL ON PATCHES ...\n",
            "Fusing layers... \n",
            "RepConv.fuse_repvgg_block\n",
            "RepConv.fuse_repvgg_block\n",
            "RepConv.fuse_repvgg_block\n",
            "IDetect.fuse\n",
            " Convert model to Traced-model... \n",
            " traced_script_module saved! \n",
            " model is traced! \n",
            "\n"
          ]
        },
        {
          "name": "stderr",
          "output_type": "stream",
          "text": [
            "100%|██████████| 945/945 [01:09<00:00, 13.53it/s]\n"
          ]
        },
        {
          "name": "stdout",
          "output_type": "stream",
          "text": [
            "FINISH RUN MODEL ON PATCHES\n",
            "\n",
            "UNIFY CROPS BBS ...\n"
          ]
        },
        {
          "name": "stderr",
          "output_type": "stream",
          "text": [
            "100%|██████████| 876/876 [00:00<00:00, 13507.83it/s]\n"
          ]
        },
        {
          "name": "stdout",
          "output_type": "stream",
          "text": [
            "Number of bbs after joining:, 18771\n",
            "Number of bbs after NMS:, 5612\n",
            "Number of bbs after enclosed bbs filtering:, 4802\n",
            "FINISH UNIFY CROPS\n",
            "\n"
          ]
        },
        {
          "name": "stderr",
          "output_type": "stream",
          "text": [
            "4802it [00:52, 91.39it/s]\n"
          ]
        },
        {
          "name": "stdout",
          "output_type": "stream",
          "text": [
            "mAP: 0.64\n",
            "Last precision: 0.69\n",
            "Last recall: 0.69\n",
            "Last f1: 0.69\n",
            "Best f1: 0.70; index: 4223\n",
            "mAP:0.6351027732337937 f1:0.6905184103473454 prec:0.6892961266139108 rec:0.6917450365726228\n",
            "END HYPERPARAMETERS conf_thres:0.2 iou_nms_thres:0.45\n",
            "\n",
            "START HYPERPARAMETERS conf_thres:0.2 iou_nms_thres:0.6\n",
            "CROP IMAGE ...\n"
          ]
        },
        {
          "name": "stderr",
          "output_type": "stream",
          "text": [
            "100%|██████████| 945/945 [00:14<00:00, 63.69it/s]\n"
          ]
        },
        {
          "name": "stdout",
          "output_type": "stream",
          "text": [
            "FINISH CROP IMAGE\n",
            "\n",
            "RUN MODEL ON PATCHES ...\n",
            "Fusing layers... \n",
            "RepConv.fuse_repvgg_block\n",
            "RepConv.fuse_repvgg_block\n",
            "RepConv.fuse_repvgg_block\n",
            "IDetect.fuse\n",
            " Convert model to Traced-model... \n",
            " traced_script_module saved! \n",
            " model is traced! \n",
            "\n"
          ]
        },
        {
          "name": "stderr",
          "output_type": "stream",
          "text": [
            "100%|██████████| 945/945 [01:08<00:00, 13.76it/s]\n"
          ]
        },
        {
          "name": "stdout",
          "output_type": "stream",
          "text": [
            "FINISH RUN MODEL ON PATCHES\n",
            "\n",
            "UNIFY CROPS BBS ...\n"
          ]
        },
        {
          "name": "stderr",
          "output_type": "stream",
          "text": [
            "100%|██████████| 876/876 [00:00<00:00, 12944.97it/s]\n"
          ]
        },
        {
          "name": "stdout",
          "output_type": "stream",
          "text": [
            "Number of bbs after joining:, 19799\n",
            "Number of bbs after NMS:, 6386\n",
            "Number of bbs after enclosed bbs filtering:, 4775\n",
            "FINISH UNIFY CROPS\n",
            "\n"
          ]
        },
        {
          "name": "stderr",
          "output_type": "stream",
          "text": [
            "4775it [00:51, 93.08it/s]\n"
          ]
        },
        {
          "name": "stdout",
          "output_type": "stream",
          "text": [
            "mAP: 0.63\n",
            "Last precision: 0.69\n",
            "Last recall: 0.69\n",
            "Last f1: 0.69\n",
            "Best f1: 0.69; index: 4139\n",
            "mAP:0.6309310270671223 f1:0.6872384937238494 prec:0.6879581151832461 rec:0.6865203761755486\n",
            "END HYPERPARAMETERS conf_thres:0.2 iou_nms_thres:0.6\n",
            "\n",
            "START HYPERPARAMETERS conf_thres:0.25 iou_nms_thres:0.3\n",
            "CROP IMAGE ...\n"
          ]
        },
        {
          "name": "stderr",
          "output_type": "stream",
          "text": [
            "100%|██████████| 945/945 [00:14<00:00, 64.22it/s]\n"
          ]
        },
        {
          "name": "stdout",
          "output_type": "stream",
          "text": [
            "FINISH CROP IMAGE\n",
            "\n",
            "RUN MODEL ON PATCHES ...\n",
            "Fusing layers... \n",
            "RepConv.fuse_repvgg_block\n",
            "RepConv.fuse_repvgg_block\n",
            "RepConv.fuse_repvgg_block\n",
            "IDetect.fuse\n",
            " Convert model to Traced-model... \n",
            " traced_script_module saved! \n",
            " model is traced! \n",
            "\n"
          ]
        },
        {
          "name": "stderr",
          "output_type": "stream",
          "text": [
            "100%|██████████| 945/945 [01:07<00:00, 14.03it/s]\n"
          ]
        },
        {
          "name": "stdout",
          "output_type": "stream",
          "text": [
            "FINISH RUN MODEL ON PATCHES\n",
            "\n",
            "UNIFY CROPS BBS ...\n"
          ]
        },
        {
          "name": "stderr",
          "output_type": "stream",
          "text": [
            "100%|██████████| 868/868 [00:00<00:00, 14799.17it/s]\n"
          ]
        },
        {
          "name": "stdout",
          "output_type": "stream",
          "text": [
            "Number of bbs after joining:, 16669\n",
            "Number of bbs after NMS:, 4668\n",
            "Number of bbs after enclosed bbs filtering:, 4399\n",
            "FINISH UNIFY CROPS\n",
            "\n"
          ]
        },
        {
          "name": "stderr",
          "output_type": "stream",
          "text": [
            "4399it [00:47, 93.25it/s]\n"
          ]
        },
        {
          "name": "stdout",
          "output_type": "stream",
          "text": [
            "mAP: 0.62\n",
            "Last precision: 0.73\n",
            "Last recall: 0.67\n",
            "Last f1: 0.69\n",
            "Best f1: 0.70; index: 4145\n",
            "mAP:0.6155087260050545 f1:0.6946864111498258 prec:0.7251648101841327 rec:0.6666666666666666\n",
            "END HYPERPARAMETERS conf_thres:0.25 iou_nms_thres:0.3\n",
            "\n",
            "START HYPERPARAMETERS conf_thres:0.25 iou_nms_thres:0.45\n",
            "CROP IMAGE ...\n"
          ]
        },
        {
          "name": "stderr",
          "output_type": "stream",
          "text": [
            "100%|██████████| 945/945 [00:13<00:00, 69.72it/s]\n"
          ]
        },
        {
          "name": "stdout",
          "output_type": "stream",
          "text": [
            "FINISH CROP IMAGE\n",
            "\n",
            "RUN MODEL ON PATCHES ...\n",
            "Fusing layers... \n",
            "RepConv.fuse_repvgg_block\n",
            "RepConv.fuse_repvgg_block\n",
            "RepConv.fuse_repvgg_block\n",
            "IDetect.fuse\n",
            " Convert model to Traced-model... \n",
            " traced_script_module saved! \n",
            " model is traced! \n",
            "\n"
          ]
        },
        {
          "name": "stderr",
          "output_type": "stream",
          "text": [
            "100%|██████████| 945/945 [01:07<00:00, 13.95it/s]\n"
          ]
        },
        {
          "name": "stdout",
          "output_type": "stream",
          "text": [
            "FINISH RUN MODEL ON PATCHES\n",
            "\n",
            "UNIFY CROPS BBS ...\n"
          ]
        },
        {
          "name": "stderr",
          "output_type": "stream",
          "text": [
            "100%|██████████| 868/868 [00:00<00:00, 14194.86it/s]\n"
          ]
        },
        {
          "name": "stdout",
          "output_type": "stream",
          "text": [
            "Number of bbs after joining:, 17015\n",
            "Number of bbs after NMS:, 5060\n",
            "Number of bbs after enclosed bbs filtering:, 4431\n",
            "FINISH UNIFY CROPS\n",
            "\n"
          ]
        },
        {
          "name": "stderr",
          "output_type": "stream",
          "text": [
            "4431it [00:49, 90.19it/s]\n"
          ]
        },
        {
          "name": "stdout",
          "output_type": "stream",
          "text": [
            "mAP: 0.62\n",
            "Last precision: 0.72\n",
            "Last recall: 0.67\n",
            "Last f1: 0.70\n",
            "Best f1: 0.70; index: 4089\n",
            "mAP:0.6194433417612185 f1:0.6957465277777778 prec:0.7235387045813586 rec:0.6700104493207941\n",
            "END HYPERPARAMETERS conf_thres:0.25 iou_nms_thres:0.45\n",
            "\n",
            "START HYPERPARAMETERS conf_thres:0.25 iou_nms_thres:0.6\n",
            "CROP IMAGE ...\n"
          ]
        },
        {
          "name": "stderr",
          "output_type": "stream",
          "text": [
            "100%|██████████| 945/945 [00:13<00:00, 69.53it/s]\n"
          ]
        },
        {
          "name": "stdout",
          "output_type": "stream",
          "text": [
            "FINISH CROP IMAGE\n",
            "\n",
            "RUN MODEL ON PATCHES ...\n",
            "Fusing layers... \n",
            "RepConv.fuse_repvgg_block\n",
            "RepConv.fuse_repvgg_block\n",
            "RepConv.fuse_repvgg_block\n",
            "IDetect.fuse\n",
            " Convert model to Traced-model... \n",
            " traced_script_module saved! \n",
            " model is traced! \n",
            "\n"
          ]
        },
        {
          "name": "stderr",
          "output_type": "stream",
          "text": [
            "100%|██████████| 945/945 [01:08<00:00, 13.87it/s]\n"
          ]
        },
        {
          "name": "stdout",
          "output_type": "stream",
          "text": [
            "FINISH RUN MODEL ON PATCHES\n",
            "\n",
            "UNIFY CROPS BBS ...\n"
          ]
        },
        {
          "name": "stderr",
          "output_type": "stream",
          "text": [
            "100%|██████████| 868/868 [00:00<00:00, 14315.37it/s]\n"
          ]
        },
        {
          "name": "stdout",
          "output_type": "stream",
          "text": [
            "Number of bbs after joining:, 17602\n",
            "Number of bbs after NMS:, 5632\n",
            "Number of bbs after enclosed bbs filtering:, 4413\n",
            "FINISH UNIFY CROPS\n",
            "\n"
          ]
        },
        {
          "name": "stderr",
          "output_type": "stream",
          "text": [
            "4413it [00:49, 89.81it/s]\n"
          ]
        },
        {
          "name": "stdout",
          "output_type": "stream",
          "text": [
            "mAP: 0.62\n",
            "Last precision: 0.73\n",
            "Last recall: 0.67\n",
            "Last f1: 0.70\n",
            "Best f1: 0.70; index: 4209\n",
            "mAP:0.6196361956802089 f1:0.6958034355294629 prec:0.7251302968502152 rec:0.6687565308254964\n",
            "END HYPERPARAMETERS conf_thres:0.25 iou_nms_thres:0.6\n",
            "\n",
            "START HYPERPARAMETERS conf_thres:0.3 iou_nms_thres:0.3\n",
            "CROP IMAGE ...\n"
          ]
        },
        {
          "name": "stderr",
          "output_type": "stream",
          "text": [
            "100%|██████████| 945/945 [00:13<00:00, 68.76it/s]\n"
          ]
        },
        {
          "name": "stdout",
          "output_type": "stream",
          "text": [
            "FINISH CROP IMAGE\n",
            "\n",
            "RUN MODEL ON PATCHES ...\n",
            "Fusing layers... \n",
            "RepConv.fuse_repvgg_block\n",
            "RepConv.fuse_repvgg_block\n",
            "RepConv.fuse_repvgg_block\n",
            "IDetect.fuse\n",
            " Convert model to Traced-model... \n",
            " traced_script_module saved! \n",
            " model is traced! \n",
            "\n"
          ]
        },
        {
          "name": "stderr",
          "output_type": "stream",
          "text": [
            "100%|██████████| 945/945 [01:08<00:00, 13.89it/s]\n"
          ]
        },
        {
          "name": "stdout",
          "output_type": "stream",
          "text": [
            "FINISH RUN MODEL ON PATCHES\n",
            "\n",
            "UNIFY CROPS BBS ...\n"
          ]
        },
        {
          "name": "stderr",
          "output_type": "stream",
          "text": [
            "100%|██████████| 860/860 [00:00<00:00, 14365.71it/s]\n"
          ]
        },
        {
          "name": "stdout",
          "output_type": "stream",
          "text": [
            "Number of bbs after joining:, 15272\n",
            "Number of bbs after NMS:, 4248\n",
            "Number of bbs after enclosed bbs filtering:, 4048\n",
            "FINISH UNIFY CROPS\n",
            "\n"
          ]
        },
        {
          "name": "stderr",
          "output_type": "stream",
          "text": [
            "4048it [00:45, 88.94it/s]\n"
          ]
        },
        {
          "name": "stdout",
          "output_type": "stream",
          "text": [
            "mAP: 0.60\n",
            "Last precision: 0.76\n",
            "Last recall: 0.64\n",
            "Last f1: 0.70\n",
            "Best f1: 0.70; index: 3910\n",
            "mAP:0.5974537513457947 f1:0.6962526887807087 prec:0.7596343873517787 rec:0.6426332288401254\n",
            "END HYPERPARAMETERS conf_thres:0.3 iou_nms_thres:0.3\n",
            "\n",
            "START HYPERPARAMETERS conf_thres:0.3 iou_nms_thres:0.45\n",
            "CROP IMAGE ...\n"
          ]
        },
        {
          "name": "stderr",
          "output_type": "stream",
          "text": [
            "100%|██████████| 945/945 [00:13<00:00, 68.75it/s]\n"
          ]
        },
        {
          "name": "stdout",
          "output_type": "stream",
          "text": [
            "FINISH CROP IMAGE\n",
            "\n",
            "RUN MODEL ON PATCHES ...\n",
            "Fusing layers... \n",
            "RepConv.fuse_repvgg_block\n",
            "RepConv.fuse_repvgg_block\n",
            "RepConv.fuse_repvgg_block\n",
            "IDetect.fuse\n",
            " Convert model to Traced-model... \n",
            " traced_script_module saved! \n",
            " model is traced! \n",
            "\n"
          ]
        },
        {
          "name": "stderr",
          "output_type": "stream",
          "text": [
            "100%|██████████| 945/945 [01:08<00:00, 13.85it/s]\n"
          ]
        },
        {
          "name": "stdout",
          "output_type": "stream",
          "text": [
            "FINISH RUN MODEL ON PATCHES\n",
            "\n",
            "UNIFY CROPS BBS ...\n"
          ]
        },
        {
          "name": "stderr",
          "output_type": "stream",
          "text": [
            "100%|██████████| 860/860 [00:00<00:00, 14875.38it/s]\n"
          ]
        },
        {
          "name": "stdout",
          "output_type": "stream",
          "text": [
            "Number of bbs after joining:, 15502\n",
            "Number of bbs after NMS:, 4565\n",
            "Number of bbs after enclosed bbs filtering:, 4081\n",
            "FINISH UNIFY CROPS\n",
            "\n"
          ]
        },
        {
          "name": "stderr",
          "output_type": "stream",
          "text": [
            "4081it [00:47, 85.22it/s]\n"
          ]
        },
        {
          "name": "stdout",
          "output_type": "stream",
          "text": [
            "mAP: 0.60\n",
            "Last precision: 0.76\n",
            "Last recall: 0.65\n",
            "Last f1: 0.70\n",
            "Best f1: 0.70; index: 3939\n",
            "mAP:0.601758111556524 f1:0.6977216332055042 prec:0.757902474883607 rec:0.6463949843260188\n",
            "END HYPERPARAMETERS conf_thres:0.3 iou_nms_thres:0.45\n",
            "\n",
            "START HYPERPARAMETERS conf_thres:0.3 iou_nms_thres:0.6\n",
            "CROP IMAGE ...\n"
          ]
        },
        {
          "name": "stderr",
          "output_type": "stream",
          "text": [
            "100%|██████████| 945/945 [00:15<00:00, 59.35it/s]\n"
          ]
        },
        {
          "name": "stdout",
          "output_type": "stream",
          "text": [
            "FINISH CROP IMAGE\n",
            "\n",
            "RUN MODEL ON PATCHES ...\n",
            "Fusing layers... \n",
            "RepConv.fuse_repvgg_block\n",
            "RepConv.fuse_repvgg_block\n",
            "RepConv.fuse_repvgg_block\n",
            "IDetect.fuse\n",
            " Convert model to Traced-model... \n",
            " traced_script_module saved! \n",
            " model is traced! \n",
            "\n"
          ]
        },
        {
          "name": "stderr",
          "output_type": "stream",
          "text": [
            "100%|██████████| 945/945 [01:09<00:00, 13.53it/s]\n"
          ]
        },
        {
          "name": "stdout",
          "output_type": "stream",
          "text": [
            "FINISH RUN MODEL ON PATCHES\n",
            "\n",
            "UNIFY CROPS BBS ...\n"
          ]
        },
        {
          "name": "stderr",
          "output_type": "stream",
          "text": [
            "100%|██████████| 860/860 [00:00<00:00, 15015.89it/s]\n"
          ]
        },
        {
          "name": "stdout",
          "output_type": "stream",
          "text": [
            "Number of bbs after joining:, 15840\n",
            "Number of bbs after NMS:, 5017\n",
            "Number of bbs after enclosed bbs filtering:, 4066\n",
            "FINISH UNIFY CROPS\n",
            "\n"
          ]
        },
        {
          "name": "stderr",
          "output_type": "stream",
          "text": [
            "4066it [00:46, 87.11it/s]\n"
          ]
        },
        {
          "name": "stdout",
          "output_type": "stream",
          "text": [
            "mAP: 0.60\n",
            "Last precision: 0.76\n",
            "Last recall: 0.65\n",
            "Last f1: 0.70\n",
            "Best f1: 0.70; index: 4065\n",
            "mAP:0.6031307595866406 f1:0.699130041803186 prec:0.7609444171175602 rec:0.6466039707419018\n",
            "END HYPERPARAMETERS conf_thres:0.3 iou_nms_thres:0.6\n",
            "\n",
            "START HYPERPARAMETERS conf_thres:0.35 iou_nms_thres:0.3\n",
            "CROP IMAGE ...\n"
          ]
        },
        {
          "name": "stderr",
          "output_type": "stream",
          "text": [
            "100%|██████████| 945/945 [00:14<00:00, 66.65it/s]\n"
          ]
        },
        {
          "name": "stdout",
          "output_type": "stream",
          "text": [
            "FINISH CROP IMAGE\n",
            "\n",
            "RUN MODEL ON PATCHES ...\n",
            "Fusing layers... \n",
            "RepConv.fuse_repvgg_block\n",
            "RepConv.fuse_repvgg_block\n",
            "RepConv.fuse_repvgg_block\n",
            "IDetect.fuse\n",
            " Convert model to Traced-model... \n",
            " traced_script_module saved! \n",
            " model is traced! \n",
            "\n"
          ]
        },
        {
          "name": "stderr",
          "output_type": "stream",
          "text": [
            "100%|██████████| 945/945 [01:09<00:00, 13.64it/s]\n"
          ]
        },
        {
          "name": "stdout",
          "output_type": "stream",
          "text": [
            "FINISH RUN MODEL ON PATCHES\n",
            "\n",
            "UNIFY CROPS BBS ...\n"
          ]
        },
        {
          "name": "stderr",
          "output_type": "stream",
          "text": [
            "100%|██████████| 854/854 [00:00<00:00, 3396.23it/s]\n"
          ]
        },
        {
          "name": "stdout",
          "output_type": "stream",
          "text": [
            "Number of bbs after joining:, 14081\n",
            "Number of bbs after NMS:, 3917\n",
            "Number of bbs after enclosed bbs filtering:, 3756\n",
            "FINISH UNIFY CROPS\n",
            "\n"
          ]
        },
        {
          "name": "stderr",
          "output_type": "stream",
          "text": [
            "3756it [00:42, 89.26it/s]\n"
          ]
        },
        {
          "name": "stdout",
          "output_type": "stream",
          "text": [
            "mAP: 0.58\n",
            "Last precision: 0.79\n",
            "Last recall: 0.62\n",
            "Last f1: 0.70\n",
            "Best f1: 0.70; index: 3752\n",
            "mAP:0.5801039500218385 f1:0.6950005854115444 prec:0.7902023429179978 rec:0.6202716823406479\n",
            "END HYPERPARAMETERS conf_thres:0.35 iou_nms_thres:0.3\n",
            "\n",
            "START HYPERPARAMETERS conf_thres:0.35 iou_nms_thres:0.45\n",
            "CROP IMAGE ...\n"
          ]
        },
        {
          "name": "stderr",
          "output_type": "stream",
          "text": [
            "100%|██████████| 945/945 [00:13<00:00, 68.25it/s]\n"
          ]
        },
        {
          "name": "stdout",
          "output_type": "stream",
          "text": [
            "FINISH CROP IMAGE\n",
            "\n",
            "RUN MODEL ON PATCHES ...\n",
            "Fusing layers... \n",
            "RepConv.fuse_repvgg_block\n",
            "RepConv.fuse_repvgg_block\n",
            "RepConv.fuse_repvgg_block\n",
            "IDetect.fuse\n",
            " Convert model to Traced-model... \n",
            " traced_script_module saved! \n",
            " model is traced! \n",
            "\n"
          ]
        },
        {
          "name": "stderr",
          "output_type": "stream",
          "text": [
            "100%|██████████| 945/945 [01:07<00:00, 14.02it/s]\n"
          ]
        },
        {
          "name": "stdout",
          "output_type": "stream",
          "text": [
            "FINISH RUN MODEL ON PATCHES\n",
            "\n",
            "UNIFY CROPS BBS ...\n"
          ]
        },
        {
          "name": "stderr",
          "output_type": "stream",
          "text": [
            "100%|██████████| 854/854 [00:00<00:00, 14348.46it/s]\n"
          ]
        },
        {
          "name": "stdout",
          "output_type": "stream",
          "text": [
            "Number of bbs after joining:, 14192\n",
            "Number of bbs after NMS:, 4166\n",
            "Number of bbs after enclosed bbs filtering:, 3781\n",
            "FINISH UNIFY CROPS\n",
            "\n"
          ]
        },
        {
          "name": "stderr",
          "output_type": "stream",
          "text": [
            "3781it [00:41, 91.29it/s]\n"
          ]
        },
        {
          "name": "stdout",
          "output_type": "stream",
          "text": [
            "mAP: 0.58\n",
            "Last precision: 0.79\n",
            "Last recall: 0.62\n",
            "Last f1: 0.70\n",
            "Best f1: 0.70; index: 3776\n",
            "mAP:0.5841043367355917 f1:0.6967079150128415 prec:0.7892092039143084 rec:0.6236154649947754\n",
            "END HYPERPARAMETERS conf_thres:0.35 iou_nms_thres:0.45\n",
            "\n",
            "START HYPERPARAMETERS conf_thres:0.35 iou_nms_thres:0.6\n",
            "CROP IMAGE ...\n"
          ]
        },
        {
          "name": "stderr",
          "output_type": "stream",
          "text": [
            "100%|██████████| 945/945 [00:13<00:00, 70.90it/s]\n"
          ]
        },
        {
          "name": "stdout",
          "output_type": "stream",
          "text": [
            "FINISH CROP IMAGE\n",
            "\n",
            "RUN MODEL ON PATCHES ...\n",
            "Fusing layers... \n",
            "RepConv.fuse_repvgg_block\n",
            "RepConv.fuse_repvgg_block\n",
            "RepConv.fuse_repvgg_block\n",
            "IDetect.fuse\n",
            " Convert model to Traced-model... \n",
            " traced_script_module saved! \n",
            " model is traced! \n",
            "\n"
          ]
        },
        {
          "name": "stderr",
          "output_type": "stream",
          "text": [
            "100%|██████████| 945/945 [01:05<00:00, 14.39it/s]\n"
          ]
        },
        {
          "name": "stdout",
          "output_type": "stream",
          "text": [
            "FINISH RUN MODEL ON PATCHES\n",
            "\n",
            "UNIFY CROPS BBS ...\n"
          ]
        },
        {
          "name": "stderr",
          "output_type": "stream",
          "text": [
            "100%|██████████| 854/854 [00:00<00:00, 3438.44it/s]\n"
          ]
        },
        {
          "name": "stdout",
          "output_type": "stream",
          "text": [
            "Number of bbs after joining:, 14393\n",
            "Number of bbs after NMS:, 4536\n",
            "Number of bbs after enclosed bbs filtering:, 3773\n",
            "FINISH UNIFY CROPS\n",
            "\n"
          ]
        },
        {
          "name": "stderr",
          "output_type": "stream",
          "text": [
            "3773it [00:40, 92.85it/s]\n"
          ]
        },
        {
          "name": "stdout",
          "output_type": "stream",
          "text": [
            "mAP: 0.59\n",
            "Last precision: 0.79\n",
            "Last recall: 0.62\n",
            "Last f1: 0.70\n",
            "Best f1: 0.70; index: 3772\n",
            "mAP:0.5853151949116968 f1:0.6971254966113578 prec:0.7906175457195865 rec:0.6234064785788924\n",
            "END HYPERPARAMETERS conf_thres:0.35 iou_nms_thres:0.6\n",
            "\n",
            "START HYPERPARAMETERS conf_thres:0.4 iou_nms_thres:0.3\n",
            "CROP IMAGE ...\n"
          ]
        },
        {
          "name": "stderr",
          "output_type": "stream",
          "text": [
            "100%|██████████| 945/945 [00:13<00:00, 70.31it/s]\n"
          ]
        },
        {
          "name": "stdout",
          "output_type": "stream",
          "text": [
            "FINISH CROP IMAGE\n",
            "\n",
            "RUN MODEL ON PATCHES ...\n",
            "Fusing layers... \n",
            "RepConv.fuse_repvgg_block\n",
            "RepConv.fuse_repvgg_block\n",
            "RepConv.fuse_repvgg_block\n",
            "IDetect.fuse\n",
            " Convert model to Traced-model... \n",
            " traced_script_module saved! \n",
            " model is traced! \n",
            "\n"
          ]
        },
        {
          "name": "stderr",
          "output_type": "stream",
          "text": [
            "100%|██████████| 945/945 [01:05<00:00, 14.44it/s]\n"
          ]
        },
        {
          "name": "stdout",
          "output_type": "stream",
          "text": [
            "FINISH RUN MODEL ON PATCHES\n",
            "\n",
            "UNIFY CROPS BBS ...\n"
          ]
        },
        {
          "name": "stderr",
          "output_type": "stream",
          "text": [
            "100%|██████████| 843/843 [00:00<00:00, 15124.53it/s]\n"
          ]
        },
        {
          "name": "stdout",
          "output_type": "stream",
          "text": [
            "Number of bbs after joining:, 12809\n",
            "Number of bbs after NMS:, 3577\n",
            "Number of bbs after enclosed bbs filtering:, 3453\n",
            "FINISH UNIFY CROPS\n",
            "\n"
          ]
        },
        {
          "name": "stderr",
          "output_type": "stream",
          "text": [
            "3453it [00:37, 91.54it/s]\n"
          ]
        },
        {
          "name": "stdout",
          "output_type": "stream",
          "text": [
            "mAP: 0.55\n",
            "Last precision: 0.82\n",
            "Last recall: 0.59\n",
            "Last f1: 0.68\n",
            "Best f1: 0.68; index: 3450\n",
            "mAP:0.554959160496018 f1:0.6841466375333819 prec:0.8161019403417318 rec:0.5889237199582027\n",
            "END HYPERPARAMETERS conf_thres:0.4 iou_nms_thres:0.3\n",
            "\n",
            "START HYPERPARAMETERS conf_thres:0.4 iou_nms_thres:0.45\n",
            "CROP IMAGE ...\n"
          ]
        },
        {
          "name": "stderr",
          "output_type": "stream",
          "text": [
            "100%|██████████| 945/945 [00:13<00:00, 71.00it/s]\n"
          ]
        },
        {
          "name": "stdout",
          "output_type": "stream",
          "text": [
            "FINISH CROP IMAGE\n",
            "\n",
            "RUN MODEL ON PATCHES ...\n",
            "Fusing layers... \n",
            "RepConv.fuse_repvgg_block\n",
            "RepConv.fuse_repvgg_block\n",
            "RepConv.fuse_repvgg_block\n",
            "IDetect.fuse\n",
            " Convert model to Traced-model... \n",
            " traced_script_module saved! \n",
            " model is traced! \n",
            "\n"
          ]
        },
        {
          "name": "stderr",
          "output_type": "stream",
          "text": [
            "100%|██████████| 945/945 [01:05<00:00, 14.39it/s]\n"
          ]
        },
        {
          "name": "stdout",
          "output_type": "stream",
          "text": [
            "FINISH RUN MODEL ON PATCHES\n",
            "\n",
            "UNIFY CROPS BBS ...\n"
          ]
        },
        {
          "name": "stderr",
          "output_type": "stream",
          "text": [
            "100%|██████████| 843/843 [00:00<00:00, 3398.38it/s]\n"
          ]
        },
        {
          "name": "stdout",
          "output_type": "stream",
          "text": [
            "Number of bbs after joining:, 12873\n",
            "Number of bbs after NMS:, 3770\n",
            "Number of bbs after enclosed bbs filtering:, 3471\n",
            "FINISH UNIFY CROPS\n",
            "\n"
          ]
        },
        {
          "name": "stderr",
          "output_type": "stream",
          "text": [
            "3471it [00:39, 88.19it/s]\n"
          ]
        },
        {
          "name": "stdout",
          "output_type": "stream",
          "text": [
            "mAP: 0.56\n",
            "Last precision: 0.82\n",
            "Last recall: 0.59\n",
            "Last f1: 0.69\n",
            "Best f1: 0.69; index: 3465\n",
            "mAP:0.5584295479444321 f1:0.6858042635658914 prec:0.8156150965139729 rec:0.5916405433646813\n",
            "END HYPERPARAMETERS conf_thres:0.4 iou_nms_thres:0.45\n",
            "\n",
            "START HYPERPARAMETERS conf_thres:0.4 iou_nms_thres:0.6\n",
            "CROP IMAGE ...\n"
          ]
        },
        {
          "name": "stderr",
          "output_type": "stream",
          "text": [
            "100%|██████████| 945/945 [00:13<00:00, 68.92it/s]\n"
          ]
        },
        {
          "name": "stdout",
          "output_type": "stream",
          "text": [
            "FINISH CROP IMAGE\n",
            "\n",
            "RUN MODEL ON PATCHES ...\n",
            "Fusing layers... \n",
            "RepConv.fuse_repvgg_block\n",
            "RepConv.fuse_repvgg_block\n",
            "RepConv.fuse_repvgg_block\n",
            "IDetect.fuse\n",
            " Convert model to Traced-model... \n",
            " traced_script_module saved! \n",
            " model is traced! \n",
            "\n"
          ]
        },
        {
          "name": "stderr",
          "output_type": "stream",
          "text": [
            "100%|██████████| 945/945 [01:06<00:00, 14.28it/s]\n"
          ]
        },
        {
          "name": "stdout",
          "output_type": "stream",
          "text": [
            "FINISH RUN MODEL ON PATCHES\n",
            "\n",
            "UNIFY CROPS BBS ...\n"
          ]
        },
        {
          "name": "stderr",
          "output_type": "stream",
          "text": [
            "100%|██████████| 843/843 [00:00<00:00, 14711.59it/s]\n"
          ]
        },
        {
          "name": "stdout",
          "output_type": "stream",
          "text": [
            "Number of bbs after joining:, 12971\n",
            "Number of bbs after NMS:, 4074\n",
            "Number of bbs after enclosed bbs filtering:, 3464\n",
            "FINISH UNIFY CROPS\n",
            "\n"
          ]
        },
        {
          "name": "stderr",
          "output_type": "stream",
          "text": [
            "3464it [00:38, 90.46it/s]\n"
          ]
        },
        {
          "name": "stdout",
          "output_type": "stream",
          "text": [
            "mAP: 0.56\n",
            "Last precision: 0.82\n",
            "Last recall: 0.59\n",
            "Last f1: 0.69\n",
            "Best f1: 0.69; index: 3461\n",
            "mAP:0.5595340440238544 f1:0.6859013213722875 prec:0.8166859122401847 rec:0.5912225705329154\n",
            "END HYPERPARAMETERS conf_thres:0.4 iou_nms_thres:0.6\n",
            "\n",
            "START HYPERPARAMETERS conf_thres:0.45 iou_nms_thres:0.3\n",
            "CROP IMAGE ...\n"
          ]
        },
        {
          "name": "stderr",
          "output_type": "stream",
          "text": [
            "100%|██████████| 945/945 [00:13<00:00, 69.13it/s]\n"
          ]
        },
        {
          "name": "stdout",
          "output_type": "stream",
          "text": [
            "FINISH CROP IMAGE\n",
            "\n",
            "RUN MODEL ON PATCHES ...\n",
            "Fusing layers... \n",
            "RepConv.fuse_repvgg_block\n",
            "RepConv.fuse_repvgg_block\n",
            "RepConv.fuse_repvgg_block\n",
            "IDetect.fuse\n",
            " Convert model to Traced-model... \n",
            " traced_script_module saved! \n",
            " model is traced! \n",
            "\n"
          ]
        },
        {
          "name": "stderr",
          "output_type": "stream",
          "text": [
            "100%|██████████| 945/945 [01:04<00:00, 14.58it/s]\n"
          ]
        },
        {
          "name": "stdout",
          "output_type": "stream",
          "text": [
            "FINISH RUN MODEL ON PATCHES\n",
            "\n",
            "UNIFY CROPS BBS ...\n"
          ]
        },
        {
          "name": "stderr",
          "output_type": "stream",
          "text": [
            "100%|██████████| 838/838 [00:00<00:00, 16001.51it/s]\n"
          ]
        },
        {
          "name": "stdout",
          "output_type": "stream",
          "text": [
            "Number of bbs after joining:, 11587\n",
            "Number of bbs after NMS:, 3257\n",
            "Number of bbs after enclosed bbs filtering:, 3163\n",
            "FINISH UNIFY CROPS\n",
            "\n"
          ]
        },
        {
          "name": "stderr",
          "output_type": "stream",
          "text": [
            "3163it [00:34, 92.27it/s]\n"
          ]
        },
        {
          "name": "stdout",
          "output_type": "stream",
          "text": [
            "mAP: 0.53\n",
            "Last precision: 0.85\n",
            "Last recall: 0.56\n",
            "Last f1: 0.67\n",
            "Best f1: 0.67; index: 3159\n",
            "mAP:0.5300924098438042 f1:0.6731253145445395 prec:0.8457160923174202 rec:0.5590386624869383\n",
            "END HYPERPARAMETERS conf_thres:0.45 iou_nms_thres:0.3\n",
            "\n",
            "START HYPERPARAMETERS conf_thres:0.45 iou_nms_thres:0.45\n",
            "CROP IMAGE ...\n"
          ]
        },
        {
          "name": "stderr",
          "output_type": "stream",
          "text": [
            "100%|██████████| 945/945 [00:13<00:00, 69.14it/s]\n"
          ]
        },
        {
          "name": "stdout",
          "output_type": "stream",
          "text": [
            "FINISH CROP IMAGE\n",
            "\n",
            "RUN MODEL ON PATCHES ...\n",
            "Fusing layers... \n",
            "RepConv.fuse_repvgg_block\n",
            "RepConv.fuse_repvgg_block\n",
            "RepConv.fuse_repvgg_block\n",
            "IDetect.fuse\n",
            " Convert model to Traced-model... \n",
            " traced_script_module saved! \n",
            " model is traced! \n",
            "\n"
          ]
        },
        {
          "name": "stderr",
          "output_type": "stream",
          "text": [
            "100%|██████████| 945/945 [01:04<00:00, 14.55it/s]\n"
          ]
        },
        {
          "name": "stdout",
          "output_type": "stream",
          "text": [
            "FINISH RUN MODEL ON PATCHES\n",
            "\n",
            "UNIFY CROPS BBS ...\n"
          ]
        },
        {
          "name": "stderr",
          "output_type": "stream",
          "text": [
            "100%|██████████| 838/838 [00:00<00:00, 17002.18it/s]\n"
          ]
        },
        {
          "name": "stdout",
          "output_type": "stream",
          "text": [
            "Number of bbs after joining:, 11623\n",
            "Number of bbs after NMS:, 3406\n",
            "Number of bbs after enclosed bbs filtering:, 3174\n",
            "FINISH UNIFY CROPS\n",
            "\n"
          ]
        },
        {
          "name": "stderr",
          "output_type": "stream",
          "text": [
            "3174it [00:34, 91.14it/s]\n"
          ]
        },
        {
          "name": "stdout",
          "output_type": "stream",
          "text": [
            "mAP: 0.53\n",
            "Last precision: 0.85\n",
            "Last recall: 0.56\n",
            "Last f1: 0.67\n",
            "Best f1: 0.68; index: 3171\n",
            "mAP:0.5331270725491063 f1:0.6749591657243373 prec:0.8462507876496534 rec:0.561337513061651\n",
            "END HYPERPARAMETERS conf_thres:0.45 iou_nms_thres:0.45\n",
            "\n",
            "START HYPERPARAMETERS conf_thres:0.45 iou_nms_thres:0.6\n",
            "CROP IMAGE ...\n"
          ]
        },
        {
          "name": "stderr",
          "output_type": "stream",
          "text": [
            "100%|██████████| 945/945 [00:13<00:00, 71.00it/s]\n"
          ]
        },
        {
          "name": "stdout",
          "output_type": "stream",
          "text": [
            "FINISH CROP IMAGE\n",
            "\n",
            "RUN MODEL ON PATCHES ...\n",
            "Fusing layers... \n",
            "RepConv.fuse_repvgg_block\n",
            "RepConv.fuse_repvgg_block\n",
            "RepConv.fuse_repvgg_block\n",
            "IDetect.fuse\n",
            " Convert model to Traced-model... \n",
            " traced_script_module saved! \n",
            " model is traced! \n",
            "\n"
          ]
        },
        {
          "name": "stderr",
          "output_type": "stream",
          "text": [
            "100%|██████████| 945/945 [01:05<00:00, 14.44it/s]\n"
          ]
        },
        {
          "name": "stdout",
          "output_type": "stream",
          "text": [
            "FINISH RUN MODEL ON PATCHES\n",
            "\n",
            "UNIFY CROPS BBS ...\n"
          ]
        },
        {
          "name": "stderr",
          "output_type": "stream",
          "text": [
            "100%|██████████| 838/838 [00:00<00:00, 17099.62it/s]\n"
          ]
        },
        {
          "name": "stdout",
          "output_type": "stream",
          "text": [
            "Number of bbs after joining:, 11661\n",
            "Number of bbs after NMS:, 3654\n",
            "Number of bbs after enclosed bbs filtering:, 3170\n",
            "FINISH UNIFY CROPS\n",
            "\n"
          ]
        },
        {
          "name": "stderr",
          "output_type": "stream",
          "text": [
            "3170it [00:34, 92.70it/s]\n"
          ]
        },
        {
          "name": "stdout",
          "output_type": "stream",
          "text": [
            "mAP: 0.53\n",
            "Last precision: 0.85\n",
            "Last recall: 0.56\n",
            "Last f1: 0.68\n",
            "Best f1: 0.68; index: 3168\n",
            "mAP:0.5349808467171838 f1:0.675801382778127 prec:0.8479495268138801 rec:0.561755485893417\n",
            "END HYPERPARAMETERS conf_thres:0.45 iou_nms_thres:0.6\n",
            "\n",
            "START HYPERPARAMETERS conf_thres:0.5 iou_nms_thres:0.3\n",
            "CROP IMAGE ...\n"
          ]
        },
        {
          "name": "stderr",
          "output_type": "stream",
          "text": [
            "100%|██████████| 945/945 [00:14<00:00, 65.64it/s]\n"
          ]
        },
        {
          "name": "stdout",
          "output_type": "stream",
          "text": [
            "FINISH CROP IMAGE\n",
            "\n",
            "RUN MODEL ON PATCHES ...\n",
            "Fusing layers... \n",
            "RepConv.fuse_repvgg_block\n",
            "RepConv.fuse_repvgg_block\n",
            "RepConv.fuse_repvgg_block\n",
            "IDetect.fuse\n",
            " Convert model to Traced-model... \n",
            " traced_script_module saved! \n",
            " model is traced! \n",
            "\n"
          ]
        },
        {
          "name": "stderr",
          "output_type": "stream",
          "text": [
            "100%|██████████| 945/945 [01:04<00:00, 14.64it/s]\n"
          ]
        },
        {
          "name": "stdout",
          "output_type": "stream",
          "text": [
            "FINISH RUN MODEL ON PATCHES\n",
            "\n",
            "UNIFY CROPS BBS ...\n"
          ]
        },
        {
          "name": "stderr",
          "output_type": "stream",
          "text": [
            "100%|██████████| 832/832 [00:00<00:00, 17671.76it/s]\n"
          ]
        },
        {
          "name": "stdout",
          "output_type": "stream",
          "text": [
            "Number of bbs after joining:, 10323\n",
            "Number of bbs after NMS:, 2897\n",
            "Number of bbs after enclosed bbs filtering:, 2834\n",
            "FINISH UNIFY CROPS\n",
            "\n"
          ]
        },
        {
          "name": "stderr",
          "output_type": "stream",
          "text": [
            "2834it [00:30, 92.16it/s]\n"
          ]
        },
        {
          "name": "stdout",
          "output_type": "stream",
          "text": [
            "mAP: 0.49\n",
            "Last precision: 0.87\n",
            "Last recall: 0.52\n",
            "Last f1: 0.65\n",
            "Best f1: 0.65; index: 2833\n",
            "mAP:0.4947953392274096 f1:0.6507415671347946 prec:0.8747353563867325 rec:0.5180773249738767\n",
            "END HYPERPARAMETERS conf_thres:0.5 iou_nms_thres:0.3\n",
            "\n",
            "START HYPERPARAMETERS conf_thres:0.5 iou_nms_thres:0.45\n",
            "CROP IMAGE ...\n"
          ]
        },
        {
          "name": "stderr",
          "output_type": "stream",
          "text": [
            "100%|██████████| 945/945 [00:13<00:00, 70.36it/s]\n"
          ]
        },
        {
          "name": "stdout",
          "output_type": "stream",
          "text": [
            "FINISH CROP IMAGE\n",
            "\n",
            "RUN MODEL ON PATCHES ...\n",
            "Fusing layers... \n",
            "RepConv.fuse_repvgg_block\n",
            "RepConv.fuse_repvgg_block\n",
            "RepConv.fuse_repvgg_block\n",
            "IDetect.fuse\n",
            " Convert model to Traced-model... \n",
            " traced_script_module saved! \n",
            " model is traced! \n",
            "\n"
          ]
        },
        {
          "name": "stderr",
          "output_type": "stream",
          "text": [
            "100%|██████████| 945/945 [01:07<00:00, 13.93it/s]\n"
          ]
        },
        {
          "name": "stdout",
          "output_type": "stream",
          "text": [
            "FINISH RUN MODEL ON PATCHES\n",
            "\n",
            "UNIFY CROPS BBS ...\n"
          ]
        },
        {
          "name": "stderr",
          "output_type": "stream",
          "text": [
            "100%|██████████| 832/832 [00:00<00:00, 18366.93it/s]\n"
          ]
        },
        {
          "name": "stdout",
          "output_type": "stream",
          "text": [
            "Number of bbs after joining:, 10343\n",
            "Number of bbs after NMS:, 3007\n",
            "Number of bbs after enclosed bbs filtering:, 2841\n",
            "FINISH UNIFY CROPS\n",
            "\n"
          ]
        },
        {
          "name": "stderr",
          "output_type": "stream",
          "text": [
            "2841it [00:31, 91.55it/s]\n"
          ]
        },
        {
          "name": "stdout",
          "output_type": "stream",
          "text": [
            "mAP: 0.50\n",
            "Last precision: 0.88\n",
            "Last recall: 0.52\n",
            "Last f1: 0.65\n",
            "Best f1: 0.65; index: 2836\n",
            "mAP:0.49702802728976475 f1:0.6522423288749016 prec:0.8753959873284055 rec:0.5197492163009404\n",
            "END HYPERPARAMETERS conf_thres:0.5 iou_nms_thres:0.45\n",
            "\n",
            "START HYPERPARAMETERS conf_thres:0.5 iou_nms_thres:0.6\n",
            "CROP IMAGE ...\n"
          ]
        },
        {
          "name": "stderr",
          "output_type": "stream",
          "text": [
            "100%|██████████| 945/945 [00:13<00:00, 69.99it/s]\n"
          ]
        },
        {
          "name": "stdout",
          "output_type": "stream",
          "text": [
            "FINISH CROP IMAGE\n",
            "\n",
            "RUN MODEL ON PATCHES ...\n",
            "Fusing layers... \n",
            "RepConv.fuse_repvgg_block\n",
            "RepConv.fuse_repvgg_block\n",
            "RepConv.fuse_repvgg_block\n",
            "IDetect.fuse\n",
            " Convert model to Traced-model... \n",
            " traced_script_module saved! \n",
            " model is traced! \n",
            "\n"
          ]
        },
        {
          "name": "stderr",
          "output_type": "stream",
          "text": [
            "100%|██████████| 945/945 [01:04<00:00, 14.60it/s]\n"
          ]
        },
        {
          "name": "stdout",
          "output_type": "stream",
          "text": [
            "FINISH RUN MODEL ON PATCHES\n",
            "\n",
            "UNIFY CROPS BBS ...\n"
          ]
        },
        {
          "name": "stderr",
          "output_type": "stream",
          "text": [
            "100%|██████████| 832/832 [00:00<00:00, 3311.93it/s]\n"
          ]
        },
        {
          "name": "stdout",
          "output_type": "stream",
          "text": [
            "Number of bbs after joining:, 10367\n",
            "Number of bbs after NMS:, 3211\n",
            "Number of bbs after enclosed bbs filtering:, 2841\n",
            "FINISH UNIFY CROPS\n",
            "\n"
          ]
        },
        {
          "name": "stderr",
          "output_type": "stream",
          "text": [
            "2841it [00:30, 91.96it/s]\n"
          ]
        },
        {
          "name": "stdout",
          "output_type": "stream",
          "text": [
            "mAP: 0.50\n",
            "Last precision: 0.88\n",
            "Last recall: 0.52\n",
            "Last f1: 0.65\n",
            "Best f1: 0.65; index: 2838\n",
            "mAP:0.4996077819709735 f1:0.6538158929976396 prec:0.877507919746568 rec:0.5210031347962383\n",
            "END HYPERPARAMETERS conf_thres:0.5 iou_nms_thres:0.6\n",
            "\n",
            "BEST HYPERPARAMETERS conf_thres:0.3 iou_nms_thres:0.6\n",
            "mAP:0.6031307595866406 f1:0.699130041803186 prec:0.7609444171175602 rec:0.6466039707419018\n"
          ]
        },
        {
          "data": {
            "image/png": "[encoded data removed]",
            "text/plain": [
              "<Figure size 640x480 with 2 Axes>"
            ]
          },
          "metadata": {},
          "output_type": "display_data"
        }
      ],
      "source": [
        "%matplotlib inline\n",
        "path_to_weigths = 'weigths/best_infrared_train.pt'\n",
        "image_path = os.path.join(base_dir, 'dataset/19K53/19K53.tif')\n",
        "gt_boxes_txt_path = os.path.join(base_dir, 'dataset/19K53/19K53_boxes.txt')\n",
        "conf_thres_list = [0.1, 0.15, 0.2, 0.25, 0.3, 0.35, 0.4, 0.45, 0.5]\n",
        "iou_nms_thres_list = [0.3, 0.45, 0.6]\n",
        "hyperparameters_metrics_dict = inference_parameters_tuning(path_to_weigths, image_path, gt_boxes_txt_path, conf_thres_list, iou_nms_thres_list,\n",
        "                                                           infrared=True, crop_size=CROP_SIZE, step=STEP, preferred_metric='f1', iou_eval_thres=0.4,\n",
        "                                                           plot=True)"
      ]
    },
    {
      "cell_type": "markdown",
      "metadata": {},
      "source": [
        "Results of the tuning.\n",
        "- Best values : `best_conf=0.3` and `best_iou_nms=0.6`.\n",
        "- F1 score : $0.699$.\n",
        "- Precision : $0.761$ ; Recall : $0.647$.\n",
        "- MAP : $0.603$."
      ]
    },
    {
      "cell_type": "code",
      "execution_count": null,
      "metadata": {
        "id": "4X923g812hqH"
      },
      "outputs": [],
      "source": [
        "best_conf = 0.3\n",
        "best_iou_nms = 0.6"
      ]
    },
    {
      "cell_type": "markdown",
      "metadata": {
        "id": "9pNYWUHr0QG0"
      },
      "source": [
        "# Test"
      ]
    },
    {
      "cell_type": "markdown",
      "metadata": {},
      "source": [
        "Let's now perform a training on the train + validation : we call this **full training**. This is our final model. *(The starting point of this training is still the fine-tuning on the pre-trained `yolov7_training.pt` weigths).*\n",
        "\n",
        "We then test this final model on the test image. The inference is run using the best inference parameters found before with the tuning."
      ]
    },
    {
      "cell_type": "markdown",
      "metadata": {
        "id": "FLZGZdVdKmZm"
      },
      "source": [
        "### Full training"
      ]
    },
    {
      "cell_type": "code",
      "execution_count": null,
      "metadata": {
        "id": "-4IeKdPwM15C"
      },
      "outputs": [],
      "source": [
        "%mkdir full_train\n",
        "%cp -r train/images full_train/\n",
        "%cp -r train/labels full_train/\n",
        "%cp -r val/images full_train/\n",
        "%cp -r val/labels full_train/"
      ]
    },
    {
      "cell_type": "code",
      "execution_count": null,
      "metadata": {
        "colab": {
          "base_uri": "https://localhost:8080/"
        },
        "id": "ZH7ytC1Zwowl",
        "outputId": "6d70f2df-59d3-4755-e907-2c23b192a220"
      },
      "outputs": [
        {
          "name": "stdout",
          "output_type": "stream",
          "text": [
            "2023-10-05 16:54:15.427069: I tensorflow/core/platform/cpu_feature_guard.cc:182] This TensorFlow binary is optimized to use available CPU instructions in performance-critical operations.\n",
            "To enable the following instructions: AVX2 FMA, in other operations, rebuild TensorFlow with the appropriate compiler flags.\n",
            "2023-10-05 16:54:16.400555: W tensorflow/compiler/tf2tensorrt/utils/py_utils.cc:38] TF-TRT Warning: Could not find TensorRT\n",
            "YOLOR 🚀 2023-10-5 torch 2.0.1+cu118 CUDA:0 (Tesla T4, 15101.8125MB)\n",
            "\n",
            "Namespace(rgb_only=False, weights='yolov7_training.pt', cfg='cfg/training/yolov7-tree.yaml', data='data_fulltrain.yaml', hyp='data/hyp.scratch.p5.yaml', epochs=30, batch_size=8, img_size=[640, 640], rect=False, resume=False, nosave=False, notest=False, noautoanchor=False, evolve=False, bucket='', cache_images=False, image_weights=False, device='0', multi_scale=False, single_cls=False, adam=False, sync_bn=False, local_rank=-1, workers=8, project='runs/train', entity=None, name='exp', exist_ok=False, quad=False, linear_lr=False, label_smoothing=0.0, upload_dataset=False, bbox_interval=-1, save_period=-1, artifact_alias='latest', freeze=[0], v5_metric=False, world_size=1, global_rank=-1, save_dir='runs/train/exp2', total_batch_size=8)\n",
            "\u001b[34m\u001b[1mtensorboard: \u001b[0mStart with 'tensorboard --logdir runs/train', view at http://localhost:6006/\n",
            "\u001b[34m\u001b[1mhyperparameters: \u001b[0mlr0=0.01, lrf=0.1, momentum=0.937, weight_decay=0.0005, warmup_epochs=3.0, warmup_momentum=0.8, warmup_bias_lr=0.1, box=0.05, cls=0.3, cls_pw=1.0, obj=0.7, obj_pw=1.0, iou_t=0.2, anchor_t=4.0, fl_gamma=0.0, hsv_h=0.015, hsv_s=0.7, hsv_v=0.4, degrees=0.0, translate=0.2, scale=0.9, shear=0.0, perspective=0.0, flipud=0.0, fliplr=0.5, mosaic=1.0, mixup=0.15, copy_paste=0.0, paste_in=0.15, loss_ota=1\n",
            "\u001b[34m\u001b[1mwandb: \u001b[0mInstall Weights & Biases for YOLOR logging with 'pip install wandb' (recommended)\n",
            "\n",
            "                 from  n    params  module                                  arguments                     \n",
            "  0                -1  1      1216  models.common.Conv                      [4, 32, 3, 1]                 \n",
            "  1                -1  1     18560  models.common.Conv                      [32, 64, 3, 2]                \n",
            "  2                -1  1     36992  models.common.Conv                      [64, 64, 3, 1]                \n",
            "  3                -1  1     73984  models.common.Conv                      [64, 128, 3, 2]               \n",
            "  4                -1  1      8320  models.common.Conv                      [128, 64, 1, 1]               \n",
            "  5                -2  1      8320  models.common.Conv                      [128, 64, 1, 1]               \n",
            "  6                -1  1     36992  models.common.Conv                      [64, 64, 3, 1]                \n",
            "  7                -1  1     36992  models.common.Conv                      [64, 64, 3, 1]                \n",
            "  8                -1  1     36992  models.common.Conv                      [64, 64, 3, 1]                \n",
            "  9                -1  1     36992  models.common.Conv                      [64, 64, 3, 1]                \n",
            " 10  [-1, -3, -5, -6]  1         0  models.common.Concat                    [1]                           \n",
            " 11                -1  1     66048  models.common.Conv                      [256, 256, 1, 1]              \n",
            " 12                -1  1         0  models.common.MP                        []                            \n",
            " 13                -1  1     33024  models.common.Conv                      [256, 128, 1, 1]              \n",
            " 14                -3  1     33024  models.common.Conv                      [256, 128, 1, 1]              \n",
            " 15                -1  1    147712  models.common.Conv                      [128, 128, 3, 2]              \n",
            " 16          [-1, -3]  1         0  models.common.Concat                    [1]                           \n",
            " 17                -1  1     33024  models.common.Conv                      [256, 128, 1, 1]              \n",
            " 18                -2  1     33024  models.common.Conv                      [256, 128, 1, 1]              \n",
            " 19                -1  1    147712  models.common.Conv                      [128, 128, 3, 1]              \n",
            " 20                -1  1    147712  models.common.Conv                      [128, 128, 3, 1]              \n",
            " 21                -1  1    147712  models.common.Conv                      [128, 128, 3, 1]              \n",
            " 22                -1  1    147712  models.common.Conv                      [128, 128, 3, 1]              \n",
            " 23  [-1, -3, -5, -6]  1         0  models.common.Concat                    [1]                           \n",
            " 24                -1  1    263168  models.common.Conv                      [512, 512, 1, 1]              \n",
            " 25                -1  1         0  models.common.MP                        []                            \n",
            " 26                -1  1    131584  models.common.Conv                      [512, 256, 1, 1]              \n",
            " 27                -3  1    131584  models.common.Conv                      [512, 256, 1, 1]              \n",
            " 28                -1  1    590336  models.common.Conv                      [256, 256, 3, 2]              \n",
            " 29          [-1, -3]  1         0  models.common.Concat                    [1]                           \n",
            " 30                -1  1    131584  models.common.Conv                      [512, 256, 1, 1]              \n",
            " 31                -2  1    131584  models.common.Conv                      [512, 256, 1, 1]              \n",
            " 32                -1  1    590336  models.common.Conv                      [256, 256, 3, 1]              \n",
            " 33                -1  1    590336  models.common.Conv                      [256, 256, 3, 1]              \n",
            " 34                -1  1    590336  models.common.Conv                      [256, 256, 3, 1]              \n",
            " 35                -1  1    590336  models.common.Conv                      [256, 256, 3, 1]              \n",
            " 36  [-1, -3, -5, -6]  1         0  models.common.Concat                    [1]                           \n",
            " 37                -1  1   1050624  models.common.Conv                      [1024, 1024, 1, 1]            \n",
            " 38                -1  1         0  models.common.MP                        []                            \n",
            " 39                -1  1    525312  models.common.Conv                      [1024, 512, 1, 1]             \n",
            " 40                -3  1    525312  models.common.Conv                      [1024, 512, 1, 1]             \n",
            " 41                -1  1   2360320  models.common.Conv                      [512, 512, 3, 2]              \n",
            " 42          [-1, -3]  1         0  models.common.Concat                    [1]                           \n",
            " 43                -1  1    262656  models.common.Conv                      [1024, 256, 1, 1]             \n",
            " 44                -2  1    262656  models.common.Conv                      [1024, 256, 1, 1]             \n",
            " 45                -1  1    590336  models.common.Conv                      [256, 256, 3, 1]              \n",
            " 46                -1  1    590336  models.common.Conv                      [256, 256, 3, 1]              \n",
            " 47                -1  1    590336  models.common.Conv                      [256, 256, 3, 1]              \n",
            " 48                -1  1    590336  models.common.Conv                      [256, 256, 3, 1]              \n",
            " 49  [-1, -3, -5, -6]  1         0  models.common.Concat                    [1]                           \n",
            " 50                -1  1   1050624  models.common.Conv                      [1024, 1024, 1, 1]            \n",
            " 51                -1  1   7609344  models.common.SPPCSPC                   [1024, 512, 1]                \n",
            " 52                -1  1    131584  models.common.Conv                      [512, 256, 1, 1]              \n",
            " 53                -1  1         0  torch.nn.modules.upsampling.Upsample    [None, 2, 'nearest']          \n",
            " 54                37  1    262656  models.common.Conv                      [1024, 256, 1, 1]             \n",
            " 55          [-1, -2]  1         0  models.common.Concat                    [1]                           \n",
            " 56                -1  1    131584  models.common.Conv                      [512, 256, 1, 1]              \n",
            " 57                -2  1    131584  models.common.Conv                      [512, 256, 1, 1]              \n",
            " 58                -1  1    295168  models.common.Conv                      [256, 128, 3, 1]              \n",
            " 59                -1  1    147712  models.common.Conv                      [128, 128, 3, 1]              \n",
            " 60                -1  1    147712  models.common.Conv                      [128, 128, 3, 1]              \n",
            " 61                -1  1    147712  models.common.Conv                      [128, 128, 3, 1]              \n",
            " 62[-1, -2, -3, -4, -5, -6]  1         0  models.common.Concat                    [1]                           \n",
            " 63                -1  1    262656  models.common.Conv                      [1024, 256, 1, 1]             \n",
            " 64                -1  1     33024  models.common.Conv                      [256, 128, 1, 1]              \n",
            " 65                -1  1         0  torch.nn.modules.upsampling.Upsample    [None, 2, 'nearest']          \n",
            " 66                24  1     65792  models.common.Conv                      [512, 128, 1, 1]              \n",
            " 67          [-1, -2]  1         0  models.common.Concat                    [1]                           \n",
            " 68                -1  1     33024  models.common.Conv                      [256, 128, 1, 1]              \n",
            " 69                -2  1     33024  models.common.Conv                      [256, 128, 1, 1]              \n",
            " 70                -1  1     73856  models.common.Conv                      [128, 64, 3, 1]               \n",
            " 71                -1  1     36992  models.common.Conv                      [64, 64, 3, 1]                \n",
            " 72                -1  1     36992  models.common.Conv                      [64, 64, 3, 1]                \n",
            " 73                -1  1     36992  models.common.Conv                      [64, 64, 3, 1]                \n",
            " 74[-1, -2, -3, -4, -5, -6]  1         0  models.common.Concat                    [1]                           \n",
            " 75                -1  1     65792  models.common.Conv                      [512, 128, 1, 1]              \n",
            " 76                -1  1         0  models.common.MP                        []                            \n",
            " 77                -1  1     16640  models.common.Conv                      [128, 128, 1, 1]              \n",
            " 78                -3  1     16640  models.common.Conv                      [128, 128, 1, 1]              \n",
            " 79                -1  1    147712  models.common.Conv                      [128, 128, 3, 2]              \n",
            " 80      [-1, -3, 63]  1         0  models.common.Concat                    [1]                           \n",
            " 81                -1  1    131584  models.common.Conv                      [512, 256, 1, 1]              \n",
            " 82                -2  1    131584  models.common.Conv                      [512, 256, 1, 1]              \n",
            " 83                -1  1    295168  models.common.Conv                      [256, 128, 3, 1]              \n",
            " 84                -1  1    147712  models.common.Conv                      [128, 128, 3, 1]              \n",
            " 85                -1  1    147712  models.common.Conv                      [128, 128, 3, 1]              \n",
            " 86                -1  1    147712  models.common.Conv                      [128, 128, 3, 1]              \n",
            " 87[-1, -2, -3, -4, -5, -6]  1         0  models.common.Concat                    [1]                           \n",
            " 88                -1  1    262656  models.common.Conv                      [1024, 256, 1, 1]             \n",
            " 89                -1  1         0  models.common.MP                        []                            \n",
            " 90                -1  1     66048  models.common.Conv                      [256, 256, 1, 1]              \n",
            " 91                -3  1     66048  models.common.Conv                      [256, 256, 1, 1]              \n",
            " 92                -1  1    590336  models.common.Conv                      [256, 256, 3, 2]              \n",
            " 93      [-1, -3, 51]  1         0  models.common.Concat                    [1]                           \n",
            " 94                -1  1    525312  models.common.Conv                      [1024, 512, 1, 1]             \n",
            " 95                -2  1    525312  models.common.Conv                      [1024, 512, 1, 1]             \n",
            " 96                -1  1   1180160  models.common.Conv                      [512, 256, 3, 1]              \n",
            " 97                -1  1    590336  models.common.Conv                      [256, 256, 3, 1]              \n",
            " 98                -1  1    590336  models.common.Conv                      [256, 256, 3, 1]              \n",
            " 99                -1  1    590336  models.common.Conv                      [256, 256, 3, 1]              \n",
            "100[-1, -2, -3, -4, -5, -6]  1         0  models.common.Concat                    [1]                           \n",
            "101                -1  1   1049600  models.common.Conv                      [2048, 512, 1, 1]             \n",
            "102                75  1    328704  models.common.RepConv                   [128, 256, 3, 1]              \n",
            "103                88  1   1312768  models.common.RepConv                   [256, 512, 3, 1]              \n",
            "104               101  1   5246976  models.common.RepConv                   [512, 1024, 3, 1]             \n",
            "105   [102, 103, 104]  1     34156  models.yolo.IDetect                     [1, [[12, 16, 19, 36, 40, 28], [36, 75, 76, 55, 72, 146], [142, 110, 192, 243, 459, 401]], [256, 512, 1024]]\n",
            "Model Summary: 415 layers, 37196844 parameters, 37196844 gradients\n",
            "\n",
            "Transferred 554/566 items from yolov7_training.pt\n",
            "Scaled weight_decay = 0.0005\n",
            "Optimizer groups: 95 .bias, 95 conv.weight, 98 other\n",
            "\u001b[34m\u001b[1mtrain: \u001b[0mScanning 'full_train/labels' images and labels... 3296 found, 0 missing, 0 empty, 0 corrupted: 100% 3296/3296 [00:02<00:00, 1443.15it/s]\n",
            "\u001b[34m\u001b[1mtrain: \u001b[0mNew cache created: full_train/labels.cache\n",
            "\u001b[34m\u001b[1mval: \u001b[0mScanning 'test/labels' images and labels... 944 found, 0 missing, 0 empty, 0 corrupted: 100% 944/944 [00:01<00:00, 890.42it/s] \n",
            "\u001b[34m\u001b[1mval: \u001b[0mNew cache created: test/labels.cache\n",
            "\n",
            "\u001b[34m\u001b[1mautoanchor: \u001b[0mAnalyzing anchors... anchors/target = 5.62, Best Possible Recall (BPR) = 0.9999\n",
            "Image sizes 640 train, 640 test\n",
            "Using 8 dataloader workers\n",
            "Logging results to runs/train/exp2\n",
            "Starting training for 30 epochs...\n",
            "\n",
            "     Epoch   gpu_mem       box       obj       cls     total    labels  img_size\n",
            "      0/29     1.54G   0.08536    0.0943         0    0.1797       803       640:   0% 1/412 [00:08<56:33,  8.26s/it]Exception in thread Thread-5 (plot_images):\n",
            "Traceback (most recent call last):\n",
            "  File \"/usr/lib/python3.10/threading.py\", line 1016, in _bootstrap_inner\n",
            "    self.run()\n",
            "  File \"/usr/lib/python3.10/threading.py\", line 953, in run\n",
            "    self._target(*self._args, **self._kwargs)\n",
            "  File \"/content/yolov7/utils/plots.py\", line 151, in plot_images\n",
            "    mosaic[block_y:block_y + h, block_x:block_x + w, :] = img\n",
            "ValueError: could not broadcast input array from shape (640,640,4) into shape (640,640,3)\n",
            "      0/29     6.73G    0.0832   0.09498         0    0.1782       573       640:   0% 2/412 [00:08<25:16,  3.70s/it]Exception in thread Thread-6 (plot_images):\n",
            "Traceback (most recent call last):\n",
            "  File \"/usr/lib/python3.10/threading.py\", line 1016, in _bootstrap_inner\n",
            "    self.run()\n",
            "  File \"/usr/lib/python3.10/threading.py\", line 953, in run\n",
            "    self._target(*self._args, **self._kwargs)\n",
            "  File \"/content/yolov7/utils/plots.py\", line 151, in plot_images\n",
            "    mosaic[block_y:block_y + h, block_x:block_x + w, :] = img\n",
            "ValueError: could not broadcast input array from shape (640,640,4) into shape (640,640,3)\n",
            "      0/29     6.73G   0.08381    0.1004         0    0.1842       731       640:   1% 3/412 [00:09<15:20,  2.25s/it]Exception in thread Thread-7 (plot_images):\n",
            "Traceback (most recent call last):\n",
            "  File \"/usr/lib/python3.10/threading.py\", line 1016, in _bootstrap_inner\n",
            "    self.run()\n",
            "  File \"/usr/lib/python3.10/threading.py\", line 953, in run\n",
            "    self._target(*self._args, **self._kwargs)\n",
            "  File \"/content/yolov7/utils/plots.py\", line 151, in plot_images\n",
            "    mosaic[block_y:block_y + h, block_x:block_x + w, :] = img\n",
            "ValueError: could not broadcast input array from shape (640,640,4) into shape (640,640,3)\n",
            "      0/29     6.73G   0.08504    0.1332         0    0.2182      1813       640:   1% 4/412 [00:09<10:57,  1.61s/it]Exception in thread Thread-8 (plot_images):\n",
            "Traceback (most recent call last):\n",
            "  File \"/usr/lib/python3.10/threading.py\", line 1016, in _bootstrap_inner\n",
            "    self.run()\n",
            "  File \"/usr/lib/python3.10/threading.py\", line 953, in run\n",
            "    self._target(*self._args, **self._kwargs)\n",
            "  File \"/content/yolov7/utils/plots.py\", line 151, in plot_images\n",
            "    mosaic[block_y:block_y + h, block_x:block_x + w, :] = img\n",
            "ValueError: could not broadcast input array from shape (640,640,4) into shape (640,640,3)\n",
            "      0/29     6.73G   0.08483    0.1208         0    0.2056       723       640:   1% 5/412 [00:10<08:14,  1.22s/it]Exception in thread Thread-9 (plot_images):\n",
            "Traceback (most recent call last):\n",
            "  File \"/usr/lib/python3.10/threading.py\", line 1016, in _bootstrap_inner\n",
            "    self.run()\n",
            "  File \"/usr/lib/python3.10/threading.py\", line 953, in run\n",
            "    self._target(*self._args, **self._kwargs)\n",
            "  File \"/content/yolov7/utils/plots.py\", line 151, in plot_images\n",
            "    mosaic[block_y:block_y + h, block_x:block_x + w, :] = img\n",
            "ValueError: could not broadcast input array from shape (640,640,4) into shape (640,640,3)\n",
            "      0/29     6.73G   0.08595    0.1207         0    0.2066      1286       640:   1% 6/412 [00:11<06:43,  1.00it/s]Exception in thread Thread-10 (plot_images):\n",
            "Traceback (most recent call last):\n",
            "  File \"/usr/lib/python3.10/threading.py\", line 1016, in _bootstrap_inner\n",
            "    self.run()\n",
            "  File \"/usr/lib/python3.10/threading.py\", line 953, in run\n",
            "    self._target(*self._args, **self._kwargs)\n",
            "  File \"/content/yolov7/utils/plots.py\", line 151, in plot_images\n",
            "    mosaic[block_y:block_y + h, block_x:block_x + w, :] = img\n",
            "ValueError: could not broadcast input array from shape (640,640,4) into shape (640,640,3)\n",
            "      0/29     6.73G   0.08545    0.1222         0    0.2077       835       640:   2% 7/412 [00:11<05:41,  1.19it/s]Exception in thread Thread-11 (plot_images):\n",
            "Traceback (most recent call last):\n",
            "  File \"/usr/lib/python3.10/threading.py\", line 1016, in _bootstrap_inner\n",
            "    self.run()\n",
            "  File \"/usr/lib/python3.10/threading.py\", line 953, in run\n",
            "    self._target(*self._args, **self._kwargs)\n",
            "  File \"/content/yolov7/utils/plots.py\", line 151, in plot_images\n",
            "    mosaic[block_y:block_y + h, block_x:block_x + w, :] = img\n",
            "ValueError: could not broadcast input array from shape (640,640,4) into shape (640,640,3)\n",
            "      0/29     6.73G   0.08517    0.1209         0     0.206       885       640:   2% 8/412 [00:12<05:01,  1.34it/s]Exception in thread Thread-12 (plot_images):\n",
            "Traceback (most recent call last):\n",
            "  File \"/usr/lib/python3.10/threading.py\", line 1016, in _bootstrap_inner\n",
            "    self.run()\n",
            "  File \"/usr/lib/python3.10/threading.py\", line 953, in run\n",
            "    self._target(*self._args, **self._kwargs)\n",
            "  File \"/content/yolov7/utils/plots.py\", line 151, in plot_images\n",
            "    mosaic[block_y:block_y + h, block_x:block_x + w, :] = img\n",
            "ValueError: could not broadcast input array from shape (640,640,4) into shape (640,640,3)\n",
            "      0/29     6.73G   0.08531    0.1173         0    0.2026       853       640:   2% 9/412 [00:12<04:32,  1.48it/s]Exception in thread Thread-13 (plot_images):\n",
            "Traceback (most recent call last):\n",
            "  File \"/usr/lib/python3.10/threading.py\", line 1016, in _bootstrap_inner\n",
            "    self.run()\n",
            "  File \"/usr/lib/python3.10/threading.py\", line 953, in run\n",
            "    self._target(*self._args, **self._kwargs)\n",
            "  File \"/content/yolov7/utils/plots.py\", line 151, in plot_images\n",
            "    mosaic[block_y:block_y + h, block_x:block_x + w, :] = img\n",
            "ValueError: could not broadcast input array from shape (640,640,4) into shape (640,640,3)\n",
            "      0/29     6.73G   0.08503    0.1153         0    0.2004       582       640:   2% 10/412 [00:13<04:10,  1.61it/s]Exception in thread Thread-14 (plot_images):\n",
            "Traceback (most recent call last):\n",
            "  File \"/usr/lib/python3.10/threading.py\", line 1016, in _bootstrap_inner\n",
            "    self.run()\n",
            "  File \"/usr/lib/python3.10/threading.py\", line 953, in run\n",
            "    self._target(*self._args, **self._kwargs)\n",
            "  File \"/content/yolov7/utils/plots.py\", line 151, in plot_images\n",
            "    mosaic[block_y:block_y + h, block_x:block_x + w, :] = img\n",
            "ValueError: could not broadcast input array from shape (640,640,4) into shape (640,640,3)\n",
            "      0/29     6.76G   0.07239   0.09824         0    0.1706       977       640: 100% 412/412 [03:31<00:00,  1.95it/s]\n",
            "               Class      Images      Labels           P           R      mAP@.5  mAP@.5:.95:   0% 0/59 [00:00<?, ?it/s]/usr/local/lib/python3.10/dist-packages/torch/functional.py:504: UserWarning: torch.meshgrid: in an upcoming release, it will be required to pass the indexing argument. (Triggered internally at ../aten/src/ATen/native/TensorShape.cpp:3483.)\n",
            "  return _VF.meshgrid(tensors, **kwargs)  # type: ignore[attr-defined]\n",
            "               Class      Images      Labels           P           R      mAP@.5  mAP@.5:.95: 100% 59/59 [00:31<00:00,  1.89it/s]\n",
            "                 all         944       30290       0.397       0.381       0.317      0.0813\n",
            "\n",
            "     Epoch   gpu_mem       box       obj       cls     total    labels  img_size\n",
            "      1/29     6.26G   0.06075    0.1078         0    0.1685       537       640: 100% 412/412 [03:20<00:00,  2.05it/s]\n",
            "               Class      Images      Labels           P           R      mAP@.5  mAP@.5:.95: 100% 59/59 [00:27<00:00,  2.17it/s]\n",
            "                 all         944       30290       0.485       0.419       0.439       0.145\n",
            "\n",
            "     Epoch   gpu_mem       box       obj       cls     total    labels  img_size\n",
            "      2/29     6.26G   0.05973   0.09791         0    0.1576       433       640: 100% 412/412 [03:20<00:00,  2.05it/s]\n",
            "               Class      Images      Labels           P           R      mAP@.5  mAP@.5:.95: 100% 59/59 [00:23<00:00,  2.49it/s]\n",
            "                 all         944       30290        0.63       0.586       0.608       0.236\n",
            "\n",
            "     Epoch   gpu_mem       box       obj       cls     total    labels  img_size\n",
            "      3/29     6.26G   0.05566   0.09359         0    0.1493       828       640: 100% 412/412 [03:20<00:00,  2.06it/s]\n",
            "               Class      Images      Labels           P           R      mAP@.5  mAP@.5:.95: 100% 59/59 [00:22<00:00,  2.61it/s]\n",
            "                 all         944       30290       0.676       0.614       0.641       0.262\n",
            "\n",
            "     Epoch   gpu_mem       box       obj       cls     total    labels  img_size\n",
            "      4/29     6.26G   0.05396   0.09235         0    0.1463       801       640: 100% 412/412 [03:15<00:00,  2.11it/s]\n",
            "               Class      Images      Labels           P           R      mAP@.5  mAP@.5:.95: 100% 59/59 [00:22<00:00,  2.67it/s]\n",
            "                 all         944       30290       0.666        0.62       0.635       0.264\n",
            "\n",
            "     Epoch   gpu_mem       box       obj       cls     total    labels  img_size\n",
            "      5/29     6.26G   0.05301   0.09157         0    0.1446       515       640: 100% 412/412 [03:17<00:00,  2.08it/s]\n",
            "               Class      Images      Labels           P           R      mAP@.5  mAP@.5:.95: 100% 59/59 [00:22<00:00,  2.65it/s]\n",
            "                 all         944       30290       0.684       0.638       0.659       0.276\n",
            "\n",
            "     Epoch   gpu_mem       box       obj       cls     total    labels  img_size\n",
            "      6/29     6.26G   0.05258   0.09067         0    0.1433       594       640: 100% 412/412 [03:20<00:00,  2.05it/s]\n",
            "               Class      Images      Labels           P           R      mAP@.5  mAP@.5:.95: 100% 59/59 [00:22<00:00,  2.65it/s]\n",
            "                 all         944       30290       0.667       0.642       0.643       0.276\n",
            "\n",
            "     Epoch   gpu_mem       box       obj       cls     total    labels  img_size\n",
            "      7/29     6.26G   0.05206   0.08865         0    0.1407       922       640: 100% 412/412 [03:20<00:00,  2.06it/s]\n",
            "               Class      Images      Labels           P           R      mAP@.5  mAP@.5:.95: 100% 59/59 [00:22<00:00,  2.64it/s]\n",
            "                 all         944       30290       0.666       0.634       0.648       0.278\n",
            "\n",
            "     Epoch   gpu_mem       box       obj       cls     total    labels  img_size\n",
            "      8/29     6.26G   0.05173   0.08968         0    0.1414       405       640: 100% 412/412 [03:20<00:00,  2.05it/s]\n",
            "               Class      Images      Labels           P           R      mAP@.5  mAP@.5:.95: 100% 59/59 [00:22<00:00,  2.67it/s]\n",
            "                 all         944       30290       0.667       0.659       0.661       0.282\n",
            "\n",
            "     Epoch   gpu_mem       box       obj       cls     total    labels  img_size\n",
            "      9/29     6.26G   0.05115   0.08663         0    0.1378       705       640: 100% 412/412 [03:20<00:00,  2.06it/s]\n",
            "               Class      Images      Labels           P           R      mAP@.5  mAP@.5:.95: 100% 59/59 [00:22<00:00,  2.68it/s]\n",
            "                 all         944       30290        0.65       0.643       0.632       0.269\n",
            "\n",
            "     Epoch   gpu_mem       box       obj       cls     total    labels  img_size\n",
            "     10/29     6.26G   0.05108   0.08534         0    0.1364       317       640: 100% 412/412 [03:20<00:00,  2.05it/s]\n",
            "               Class      Images      Labels           P           R      mAP@.5  mAP@.5:.95: 100% 59/59 [00:22<00:00,  2.67it/s]\n",
            "                 all         944       30290       0.658       0.642       0.632       0.271\n",
            "\n",
            "     Epoch   gpu_mem       box       obj       cls     total    labels  img_size\n",
            "     11/29     6.26G   0.05069    0.0859         0    0.1366      1147       640: 100% 412/412 [03:19<00:00,  2.06it/s]\n",
            "               Class      Images      Labels           P           R      mAP@.5  mAP@.5:.95: 100% 59/59 [00:21<00:00,  2.68it/s]\n",
            "                 all         944       30290       0.657       0.627       0.627       0.271\n",
            "\n",
            "     Epoch   gpu_mem       box       obj       cls     total    labels  img_size\n",
            "     12/29     6.26G   0.05048   0.08607         0    0.1365       687       640: 100% 412/412 [03:20<00:00,  2.05it/s]\n",
            "               Class      Images      Labels           P           R      mAP@.5  mAP@.5:.95: 100% 59/59 [00:21<00:00,  2.71it/s]\n",
            "                 all         944       30290        0.66       0.644       0.651       0.282\n",
            "\n",
            "     Epoch   gpu_mem       box       obj       cls     total    labels  img_size\n",
            "     13/29     6.26G    0.0504   0.08445         0    0.1349       498       640: 100% 412/412 [03:20<00:00,  2.06it/s]\n",
            "               Class      Images      Labels           P           R      mAP@.5  mAP@.5:.95: 100% 59/59 [00:21<00:00,  2.71it/s]\n",
            "                 all         944       30290       0.625       0.652       0.619       0.267\n",
            "\n",
            "     Epoch   gpu_mem       box       obj       cls     total    labels  img_size\n",
            "     14/29     6.26G   0.04999   0.08199         0     0.132       240       640: 100% 412/412 [03:19<00:00,  2.07it/s]\n",
            "               Class      Images      Labels           P           R      mAP@.5  mAP@.5:.95: 100% 59/59 [00:22<00:00,  2.68it/s]\n",
            "                 all         944       30290       0.673       0.637       0.641       0.276\n",
            "\n",
            "     Epoch   gpu_mem       box       obj       cls     total    labels  img_size\n",
            "     15/29     6.26G   0.04988   0.08157         0    0.1314       550       640: 100% 412/412 [03:18<00:00,  2.07it/s]\n",
            "               Class      Images      Labels           P           R      mAP@.5  mAP@.5:.95: 100% 59/59 [00:21<00:00,  2.71it/s]\n",
            "                 all         944       30290       0.641       0.658        0.64       0.278\n",
            "\n",
            "     Epoch   gpu_mem       box       obj       cls     total    labels  img_size\n",
            "     16/29     6.26G   0.04962   0.08459         0    0.1342       919       640: 100% 412/412 [03:21<00:00,  2.05it/s]\n",
            "               Class      Images      Labels           P           R      mAP@.5  mAP@.5:.95: 100% 59/59 [00:21<00:00,  2.71it/s]\n",
            "                 all         944       30290       0.659       0.641       0.624       0.267\n",
            "\n",
            "     Epoch   gpu_mem       box       obj       cls     total    labels  img_size\n",
            "     17/29     6.26G   0.04939   0.08097         0    0.1304       435       640: 100% 412/412 [03:19<00:00,  2.06it/s]\n",
            "               Class      Images      Labels           P           R      mAP@.5  mAP@.5:.95: 100% 59/59 [00:21<00:00,  2.74it/s]\n",
            "                 all         944       30290       0.681       0.633       0.647       0.279\n",
            "\n",
            "     Epoch   gpu_mem       box       obj       cls     total    labels  img_size\n",
            "     18/29     6.26G   0.04915   0.08171         0    0.1309       572       640: 100% 412/412 [03:19<00:00,  2.06it/s]\n",
            "               Class      Images      Labels           P           R      mAP@.5  mAP@.5:.95: 100% 59/59 [00:21<00:00,  2.73it/s]\n",
            "                 all         944       30290       0.641       0.649       0.619       0.265\n",
            "\n",
            "     Epoch   gpu_mem       box       obj       cls     total    labels  img_size\n",
            "     19/29     6.26G   0.04909     0.084         0    0.1331      1000       640: 100% 412/412 [03:20<00:00,  2.05it/s]\n",
            "               Class      Images      Labels           P           R      mAP@.5  mAP@.5:.95: 100% 59/59 [00:21<00:00,  2.74it/s]\n",
            "                 all         944       30290       0.636       0.659       0.616       0.265\n",
            "\n",
            "     Epoch   gpu_mem       box       obj       cls     total    labels  img_size\n",
            "     20/29     6.26G   0.04874   0.08245         0    0.1312       417       640: 100% 412/412 [03:21<00:00,  2.04it/s]\n",
            "               Class      Images      Labels           P           R      mAP@.5  mAP@.5:.95: 100% 59/59 [00:21<00:00,  2.72it/s]\n",
            "                 all         944       30290       0.651       0.639       0.627       0.271\n",
            "\n",
            "     Epoch   gpu_mem       box       obj       cls     total    labels  img_size\n",
            "     21/29     6.26G   0.04877   0.08302         0    0.1318       636       640: 100% 412/412 [03:21<00:00,  2.04it/s]\n",
            "               Class      Images      Labels           P           R      mAP@.5  mAP@.5:.95: 100% 59/59 [00:21<00:00,  2.72it/s]\n",
            "                 all         944       30290        0.65       0.646       0.626       0.268\n",
            "\n",
            "     Epoch   gpu_mem       box       obj       cls     total    labels  img_size\n",
            "     22/29     6.26G   0.04837   0.08081         0    0.1292       252       640: 100% 412/412 [03:20<00:00,  2.05it/s]\n",
            "               Class      Images      Labels           P           R      mAP@.5  mAP@.5:.95: 100% 59/59 [00:21<00:00,  2.73it/s]\n",
            "                 all         944       30290       0.631       0.643       0.618       0.262\n",
            "\n",
            "     Epoch   gpu_mem       box       obj       cls     total    labels  img_size\n",
            "     23/29     6.26G   0.04822   0.08216         0    0.1304       362       640: 100% 412/412 [03:21<00:00,  2.05it/s]\n",
            "               Class      Images      Labels           P           R      mAP@.5  mAP@.5:.95: 100% 59/59 [00:21<00:00,  2.73it/s]\n",
            "                 all         944       30290       0.669       0.633       0.633       0.271\n",
            "\n",
            "     Epoch   gpu_mem       box       obj       cls     total    labels  img_size\n",
            "     24/29     6.26G   0.04808    0.0802         0    0.1283       588       640: 100% 412/412 [03:21<00:00,  2.05it/s]\n",
            "               Class      Images      Labels           P           R      mAP@.5  mAP@.5:.95: 100% 59/59 [00:21<00:00,  2.73it/s]\n",
            "                 all         944       30290       0.643       0.652        0.63       0.268\n",
            "\n",
            "     Epoch   gpu_mem       box       obj       cls     total    labels  img_size\n",
            "     25/29     6.26G   0.04803   0.08051         0    0.1285       353       640: 100% 412/412 [03:21<00:00,  2.05it/s]\n",
            "               Class      Images      Labels           P           R      mAP@.5  mAP@.5:.95: 100% 59/59 [00:21<00:00,  2.74it/s]\n",
            "                 all         944       30290       0.641       0.651       0.622       0.264\n",
            "\n",
            "     Epoch   gpu_mem       box       obj       cls     total    labels  img_size\n",
            "     26/29     6.26G   0.04786   0.07863         0    0.1265       557       640: 100% 412/412 [03:19<00:00,  2.07it/s]\n",
            "               Class      Images      Labels           P           R      mAP@.5  mAP@.5:.95: 100% 59/59 [00:21<00:00,  2.74it/s]\n",
            "                 all         944       30290       0.656       0.626        0.62       0.263\n",
            "\n",
            "     Epoch   gpu_mem       box       obj       cls     total    labels  img_size\n",
            "     27/29     6.26G    0.0476   0.07974         0    0.1273       710       640: 100% 412/412 [03:20<00:00,  2.06it/s]\n",
            "               Class      Images      Labels           P           R      mAP@.5  mAP@.5:.95: 100% 59/59 [00:21<00:00,  2.74it/s]\n",
            "                 all         944       30290       0.652       0.642       0.623       0.264\n",
            "\n",
            "     Epoch   gpu_mem       box       obj       cls     total    labels  img_size\n",
            "     28/29     6.26G   0.04756   0.08047         0     0.128       692       640: 100% 412/412 [03:20<00:00,  2.05it/s]\n",
            "               Class      Images      Labels           P           R      mAP@.5  mAP@.5:.95: 100% 59/59 [00:21<00:00,  2.75it/s]\n",
            "                 all         944       30290       0.644        0.65       0.624       0.265\n",
            "\n",
            "     Epoch   gpu_mem       box       obj       cls     total    labels  img_size\n",
            "     29/29     6.26G   0.04734   0.07971         0     0.127       675       640: 100% 412/412 [03:20<00:00,  2.05it/s]\n",
            "               Class      Images      Labels           P           R      mAP@.5  mAP@.5:.95:   0% 0/59 [00:00<?, ?it/s]Exception in thread Thread-15 (plot_images):\n",
            "Traceback (most recent call last):\n",
            "  File \"/usr/lib/python3.10/threading.py\", line 1016, in _bootstrap_inner\n",
            "    self.run()\n",
            "  File \"/usr/lib/python3.10/threading.py\", line 953, in run\n",
            "    self._target(*self._args, **self._kwargs)\n",
            "  File \"/content/yolov7/utils/plots.py\", line 151, in plot_images\n",
            "    mosaic[block_y:block_y + h, block_x:block_x + w, :] = img\n",
            "ValueError: could not broadcast input array from shape (640,640,4) into shape (640,640,3)\n",
            "               Class      Images      Labels           P           R      mAP@.5  mAP@.5:.95:   2% 1/59 [00:00<00:36,  1.59it/s]Exception in thread Thread-16 (plot_images):\n",
            "Traceback (most recent call last):\n",
            "  File \"/usr/lib/python3.10/threading.py\", line 1016, in _bootstrap_inner\n",
            "    self.run()\n",
            "  File \"/usr/lib/python3.10/threading.py\", line 953, in run\n",
            "    self._target(*self._args, **self._kwargs)\n",
            "  File \"/content/yolov7/utils/plots.py\", line 151, in plot_images\n",
            "    mosaic[block_y:block_y + h, block_x:block_x + w, :] = img\n",
            "ValueError: could not broadcast input array from shape (640,640,4) into shape (640,640,3)\n",
            "Exception in thread Thread-17 (plot_images):\n",
            "Traceback (most recent call last):\n",
            "  File \"/usr/lib/python3.10/threading.py\", line 1016, in _bootstrap_inner\n",
            "    self.run()\n",
            "  File \"/usr/lib/python3.10/threading.py\", line 953, in run\n",
            "    self._target(*self._args, **self._kwargs)\n",
            "  File \"/content/yolov7/utils/plots.py\", line 151, in plot_images\n",
            "    mosaic[block_y:block_y + h, block_x:block_x + w, :] = img\n",
            "ValueError: could not broadcast input array from shape (640,640,4) into shape (640,640,3)\n",
            "               Class      Images      Labels           P           R      mAP@.5  mAP@.5:.95:   3% 2/59 [00:01<00:35,  1.60it/s]Exception in thread Thread-18 (plot_images):\n",
            "Traceback (most recent call last):\n",
            "  File \"/usr/lib/python3.10/threading.py\", line 1016, in _bootstrap_inner\n",
            "    self.run()\n",
            "  File \"/usr/lib/python3.10/threading.py\", line 953, in run\n",
            "    self._target(*self._args, **self._kwargs)\n",
            "  File \"/content/yolov7/utils/plots.py\", line 151, in plot_images\n",
            "    mosaic[block_y:block_y + h, block_x:block_x + w, :] = img\n",
            "ValueError: could not broadcast input array from shape (640,640,4) into shape (640,640,3)\n",
            "Exception in thread Thread-19 (plot_images):\n",
            "Traceback (most recent call last):\n",
            "  File \"/usr/lib/python3.10/threading.py\", line 1016, in _bootstrap_inner\n",
            "    self.run()\n",
            "  File \"/usr/lib/python3.10/threading.py\", line 953, in run\n",
            "    self._target(*self._args, **self._kwargs)\n",
            "  File \"/content/yolov7/utils/plots.py\", line 151, in plot_images\n",
            "    mosaic[block_y:block_y + h, block_x:block_x + w, :] = img\n",
            "ValueError: could not broadcast input array from shape (640,640,4) into shape (640,640,3)\n",
            "               Class      Images      Labels           P           R      mAP@.5  mAP@.5:.95:   5% 3/59 [00:02<00:38,  1.46it/s]Exception in thread Thread-20 (plot_images):\n",
            "Traceback (most recent call last):\n",
            "  File \"/usr/lib/python3.10/threading.py\", line 1016, in _bootstrap_inner\n",
            "    self.run()\n",
            "  File \"/usr/lib/python3.10/threading.py\", line 953, in run\n",
            "    self._target(*self._args, **self._kwargs)\n",
            "  File \"/content/yolov7/utils/plots.py\", line 151, in plot_images\n",
            "    mosaic[block_y:block_y + h, block_x:block_x + w, :] = img\n",
            "ValueError: could not broadcast input array from shape (640,640,4) into shape (640,640,3)\n",
            "               Class      Images      Labels           P           R      mAP@.5  mAP@.5:.95: 100% 59/59 [00:27<00:00,  2.17it/s]\n",
            "                 all         944       30290       0.665       0.642       0.639        0.27\n",
            "30 epochs completed in 1.882 hours.\n",
            "\n",
            "Optimizer stripped from runs/train/exp2/weights/last.pt, 74.8MB\n",
            "Optimizer stripped from runs/train/exp2/weights/best.pt, 74.8MB\n"
          ]
        }
      ],
      "source": [
        "!python train.py --epochs 30 --workers 8 --device 0 --batch-size 8 --data 'data_fulltrain.yaml' --img 640 640 --cfg 'cfg/training/yolov7-tree.yaml' --weights 'yolov7_training.pt'"
      ]
    },
    {
      "cell_type": "markdown",
      "metadata": {
        "id": "PR65NvCE2viG"
      },
      "source": [
        "### Inference"
      ]
    },
    {
      "cell_type": "code",
      "execution_count": null,
      "metadata": {
        "colab": {
          "base_uri": "https://localhost:8080/"
        },
        "id": "5YaKQepz-TvK",
        "outputId": "b2d3fa15-d8df-490c-ca5c-1b209c4ec2e6"
      },
      "outputs": [
        {
          "name": "stdout",
          "output_type": "stream",
          "text": [
            "CROP IMAGE ...\n"
          ]
        },
        {
          "name": "stderr",
          "output_type": "stream",
          "text": [
            "/usr/local/lib/python3.10/dist-packages/PIL/Image.py:3167: DecompressionBombWarning: Image size (98211778 pixels) exceeds limit of 89478485 pixels, could be decompression bomb DOS attack.\n",
            "  warnings.warn(\n",
            "100%|██████████| 945/945 [00:11<00:00, 79.02it/s]\n"
          ]
        },
        {
          "name": "stdout",
          "output_type": "stream",
          "text": [
            "FINISH CROP IMAGE\n",
            "\n",
            "RUN MODEL ON PATCHES ...\n",
            "Fusing layers... \n",
            "RepConv.fuse_repvgg_block\n",
            "RepConv.fuse_repvgg_block\n",
            "RepConv.fuse_repvgg_block\n",
            "IDetect.fuse\n"
          ]
        },
        {
          "name": "stderr",
          "output_type": "stream",
          "text": [
            "/usr/local/lib/python3.10/dist-packages/torch/functional.py:504: UserWarning: torch.meshgrid: in an upcoming release, it will be required to pass the indexing argument. (Triggered internally at ../aten/src/ATen/native/TensorShape.cpp:3483.)\n",
            "  return _VF.meshgrid(tensors, **kwargs)  # type: ignore[attr-defined]\n"
          ]
        },
        {
          "name": "stdout",
          "output_type": "stream",
          "text": [
            " Convert model to Traced-model... \n",
            " traced_script_module saved! \n",
            " model is traced! \n",
            "\n"
          ]
        },
        {
          "name": "stderr",
          "output_type": "stream",
          "text": [
            "100%|██████████| 945/945 [01:12<00:00, 13.01it/s]\n"
          ]
        },
        {
          "name": "stdout",
          "output_type": "stream",
          "text": [
            "FINISH RUN MODEL ON PATCHES\n",
            "\n",
            "UNIFY CROPS BBS ...\n"
          ]
        },
        {
          "name": "stderr",
          "output_type": "stream",
          "text": [
            "100%|██████████| 945/945 [00:00<00:00, 9913.50it/s]\n"
          ]
        },
        {
          "name": "stdout",
          "output_type": "stream",
          "text": [
            "Number of bbs after joining:, 37545\n",
            "Number of bbs after NMS:, 11362\n",
            "Number of bbs after enclosed bbs filtering:, 9626\n",
            "FINISH UNIFY CROPS\n",
            "\n",
            "SAVING IMAGE ...\n"
          ]
        },
        {
          "name": "stderr",
          "output_type": "stream",
          "text": [
            "100%|██████████| 9626/9626 [00:00<00:00, 56035.59it/s]\n"
          ]
        },
        {
          "name": "stdout",
          "output_type": "stream",
          "text": [
            "Image saved\n",
            "FINISH SAVING IMAGE\n"
          ]
        }
      ],
      "source": [
        "path_to_weigths = 'weigths/best_infrared_fulltrain.pt'\n",
        "image_path = os.path.join(base_dir, 'dataset/19K59/19K59.tif')\n",
        "predict_on_img(path_to_weigths, image_path, output_bbs_path='./boxes.txt', infrared=True, crop_size=CROP_SIZE, step=STEP,\n",
        "                   conf_thres=best_conf, iou_nms_thres=best_iou_nms, intersect_thres=0.75, verbose=True, save_fig_pred_bbs=True)"
      ]
    },
    {
      "cell_type": "markdown",
      "metadata": {
        "id": "0OYgADLn3I3G"
      },
      "source": [
        "### Evaluation"
      ]
    },
    {
      "cell_type": "code",
      "execution_count": null,
      "metadata": {
        "colab": {
          "base_uri": "https://localhost:8080/"
        },
        "id": "o4KW2p2z3ILX",
        "outputId": "3503b8d6-56e7-415a-b53b-bb36ee1f23a0"
      },
      "outputs": [
        {
          "name": "stderr",
          "output_type": "stream",
          "text": [
            "100%|██████████| 11310/11310 [00:00<00:00, 50704.20it/s]\n",
            "100%|██████████| 8695/8695 [00:00<00:00, 94653.62it/s]\n"
          ]
        },
        {
          "name": "stdout",
          "output_type": "stream",
          "text": [
            "Figure saved\n"
          ]
        }
      ],
      "source": [
        "# Save a figure containing both the ground truths and predictes boxes, both with the \n",
        "# missings and the errors\n",
        "image_path = os.path.join(base_dir, 'dataset/19K59/19K59_RGB.tif')\n",
        "gt_boxes_txt_path = os.path.join(base_dir, 'dataset/19K59/19K59_boxes.txt')\n",
        "pred_boxes_txt_path = 'boxes.txt'\n",
        "visualize_errors_and_missings(image_path, gt_boxes_txt_path, pred_boxes_txt_path, iou_eval_thres=0.4, show=False)"
      ]
    },
    {
      "cell_type": "code",
      "execution_count": null,
      "metadata": {
        "colab": {
          "base_uri": "https://localhost:8080/",
          "height": 989
        },
        "id": "we50Pqpj_vqc",
        "outputId": "49820e48-97aa-4467-ae65-4f0ddcbf820b"
      },
      "outputs": [
        {
          "name": "stderr",
          "output_type": "stream",
          "text": [
            "9626it [02:45, 58.10it/s]\n"
          ]
        },
        {
          "name": "stdout",
          "output_type": "stream",
          "text": [
            "mAP: 0.71\n",
            "Last precision: 0.70\n",
            "Last recall: 0.78\n",
            "Last f1: 0.74\n",
            "Best f1: 0.75; index: 8506\n"
          ]
        },
        {
          "data": {
            "image/png": "[encoded data removed]",
            "text/plain": [
              "<Figure size 640x480 with 1 Axes>"
            ]
          },
          "metadata": {},
          "output_type": "display_data"
        },
        {
          "data": {
            "image/png": "[encoded data removed]",
            "text/plain": [
              "<Figure size 640x480 with 1 Axes>"
            ]
          },
          "metadata": {},
          "output_type": "display_data"
        }
      ],
      "source": [
        "%matplotlib inline\n",
        "gt_boxes_txt_path = os.path.join(base_dir,'dataset/19K59/19K59_boxes.txt')\n",
        "pred_boxes_txt_path = 'boxes.txt'\n",
        "map_score, last_f1, last_prec, last_rec = evaluate_predicted_boxes(gt_boxes_txt_path, pred_boxes_txt_path, iou_eval_thres=0.4,\n",
        "                                                                   plot_prec_rec=True, plot_f1=True, verbose=True)"
      ]
    },
    {
      "cell_type": "markdown",
      "metadata": {},
      "source": [
        "Final test scores. \n",
        "- F1 score : $0.74$.\n",
        "- Precision : $0.70$.\n",
        "- Recall : $0.78$.\n",
        "- MAP : $0.71$."
      ]
    }
  ],
  "metadata": {
    "accelerator": "GPU",
    "colab": {
      "gpuType": "T4",
      "machine_shape": "hm",
      "provenance": []
    },
    "kernelspec": {
      "display_name": "Python 3",
      "name": "python3"
    },
    "language_info": {
      "name": "python"
    }
  },
  "nbformat": 4,
  "nbformat_minor": 0
}
