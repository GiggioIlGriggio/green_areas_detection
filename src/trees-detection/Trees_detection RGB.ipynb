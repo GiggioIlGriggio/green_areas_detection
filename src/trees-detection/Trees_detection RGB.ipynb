{
  "cells": [
    {
      "cell_type": "code",
      "execution_count": null,
      "metadata": {
        "id": "TakiD3yxQHcO"
      },
      "outputs": [],
      "source": [
        "colab = True"
      ]
    },
    {
      "cell_type": "code",
      "execution_count": null,
      "metadata": {
        "id": "oGjwgeJwWxA1"
      },
      "outputs": [],
      "source": [
        "import os"
      ]
    },
    {
      "cell_type": "code",
      "execution_count": null,
      "metadata": {
        "colab": {
          "base_uri": "https://localhost:8080/"
        },
        "id": "OlpzVF0NcXKn",
        "outputId": "fc6871a4-4390-48a8-dc76-198bb76a39d1"
      },
      "outputs": [
        {
          "name": "stdout",
          "output_type": "stream",
          "text": [
            "Mounted at /content/drive\n"
          ]
        }
      ],
      "source": [
        "if colab:\n",
        "  from google.colab import drive\n",
        "  drive.mount('/content/drive')"
      ]
    },
    {
      "cell_type": "code",
      "execution_count": null,
      "metadata": {
        "id": "aptSCC4mceSG"
      },
      "outputs": [],
      "source": [
        "if colab:\n",
        "  base_dir = '/content/drive/MyDrive/green_areas_detection'\n",
        "  %cp -R \"/content/drive/MyDrive/green_areas_detection/trees_detection/yolov7\" \"./\"\n",
        "  %cp -R \"/content/drive/MyDrive/green_areas_detection/trees_detection/weigths\" \"./\"\n",
        "else:\n",
        "  base_dir = ''"
      ]
    },
    {
      "cell_type": "code",
      "execution_count": null,
      "metadata": {
        "colab": {
          "base_uri": "https://localhost:8080/"
        },
        "id": "akzatBH3s3af",
        "outputId": "3dfe8e8b-ad91-4364-da5b-7e7eff211f1d"
      },
      "outputs": [
        {
          "name": "stdout",
          "output_type": "stream",
          "text": [
            "/content/yolov7\n"
          ]
        }
      ],
      "source": [
        "# IMPORTANT : from now on, we enter inside the `yolov7` folder\n",
        "%cd yolov7"
      ]
    },
    {
      "cell_type": "markdown",
      "metadata": {
        "id": "FGXqY_gZWJTQ"
      },
      "source": [
        "# LOAD AND PREPARE DATASET\n",
        "We use $3$ images for the training : `19K35`, `19K38`, `18K11`.\n",
        "\n",
        "We use $1$ image for the validation : `19K53`.  \n",
        "\n",
        "We use $1$ image for the validation : `19K59`.  \n",
        "\n",
        "We use only the 3 RGB channels."
      ]
    },
    {
      "cell_type": "code",
      "execution_count": null,
      "metadata": {
        "id": "MEWGUBStPVet"
      },
      "outputs": [],
      "source": [
        "from trees_detection_utils.dataset_handler import crop_images_and_bbs, save_bbs_as_txt, crop_images"
      ]
    },
    {
      "cell_type": "code",
      "execution_count": null,
      "metadata": {
        "id": "5RmT-vE0WNgm"
      },
      "outputs": [],
      "source": [
        "CROP_SIZE = 640\n",
        "STEP = 320"
      ]
    },
    {
      "cell_type": "markdown",
      "metadata": {
        "id": "mZJVI5HN3yLL"
      },
      "source": [
        "## Training images\n",
        "We create the folder `train`, with two subfolders.\n",
        "1. `train\\images`, containing the crops.\n",
        "2. `train\\labels`, containing the info about the bounding boxes of each crop. For each crop, a corresponding `.txt` file is present, containing the bounding boxes enclosed in that crop."
      ]
    },
    {
      "cell_type": "code",
      "execution_count": null,
      "metadata": {
        "id": "-r09jHXH5tkg"
      },
      "outputs": [],
      "source": [
        "dataset_folder = os.path.join(base_dir, 'dataset')\n",
        "\n",
        "train_image_names_list = ['18K11', '19K38', '19K35']\n",
        "\n",
        "train_image_paths_list = [os.path.join(dataset_folder, img_name, f'{img_name}.tif') for img_name in train_image_names_list]\n",
        "\n",
        "train_bbs_shp_paths_list = [os.path.join(dataset_folder, img_name, 'trees_shp', f'{img_name}_trees.shp') for img_name in train_image_names_list]"
      ]
    },
    {
      "cell_type": "code",
      "execution_count": null,
      "metadata": {
        "colab": {
          "base_uri": "https://localhost:8080/"
        },
        "id": "RnKRSJciHT-b",
        "outputId": "ba48647e-a8eb-47fb-8dfa-681fac479660"
      },
      "outputs": [
        {
          "name": "stdout",
          "output_type": "stream",
          "text": [
            "Processing image 18K11.tif\n"
          ]
        },
        {
          "name": "stderr",
          "output_type": "stream",
          "text": [
            "/usr/local/lib/python3.10/dist-packages/PIL/Image.py:3167: DecompressionBombWarning: Image size (98211778 pixels) exceeds limit of 89478485 pixels, could be decompression bomb DOS attack.\n",
            "  warnings.warn(\n",
            "100%|██████████| 911/911 [00:09<00:00, 98.56it/s]\n"
          ]
        },
        {
          "name": "stdout",
          "output_type": "stream",
          "text": [
            "BBs frequencies assignment {0: 0.01, 1: 0.02, 2: 0.24, 3: 0.01, 4: 0.69, 6: 0.04, 9: 0.0}\n",
            "\n",
            "Processing image 19K38.tif\n"
          ]
        },
        {
          "name": "stderr",
          "output_type": "stream",
          "text": [
            "100%|██████████| 875/875 [00:08<00:00, 98.17it/s]\n"
          ]
        },
        {
          "name": "stdout",
          "output_type": "stream",
          "text": [
            "BBs frequencies assignment {0: 0.01, 1: 0.02, 2: 0.23, 3: 0.0, 4: 0.7, 6: 0.03, 9: 0.0}\n",
            "\n",
            "Processing image 19K35.tif\n"
          ]
        },
        {
          "name": "stderr",
          "output_type": "stream",
          "text": [
            "100%|██████████| 655/655 [00:06<00:00, 96.60it/s]"
          ]
        },
        {
          "name": "stdout",
          "output_type": "stream",
          "text": [
            "BBs frequencies assignment {0: 0.02, 1: 0.04, 2: 0.28, 3: 0.01, 4: 0.61, 6: 0.05, 9: 0.0}\n",
            "\n"
          ]
        },
        {
          "name": "stderr",
          "output_type": "stream",
          "text": [
            "\n"
          ]
        }
      ],
      "source": [
        "crop_images_and_bbs(train_image_paths_list, train_bbs_shp_paths_list, crop_size=CROP_SIZE, step=STEP, folder_path='./train', infrared=False)"
      ]
    },
    {
      "cell_type": "markdown",
      "metadata": {
        "id": "Fhy5K3DpJVXY"
      },
      "source": [
        "## Validation images\n",
        "We create the folder `val`, with two subfolders.\n",
        "1. `val\\images`, containing the crops.\n",
        "2. `val\\labels`, containing the info about the bounding boxes of each crop. For each crop, a corresponding `.txt` file is present, containing the bounding boxes enclosed in that crop."
      ]
    },
    {
      "cell_type": "code",
      "execution_count": null,
      "metadata": {
        "id": "5NZnIxIGJVXY"
      },
      "outputs": [],
      "source": [
        "dataset_folder = os.path.join(base_dir, 'dataset')\n",
        "\n",
        "val_image_names_list = ['19K53']\n",
        "\n",
        "val_image_paths_list = [os.path.join(dataset_folder, img_name, f'{img_name}.tif') for img_name in val_image_names_list]\n",
        "\n",
        "val_bbs_shp_paths_list = [os.path.join(dataset_folder, img_name, 'trees_shp', f'{img_name}_trees.shp') for img_name in val_image_names_list]"
      ]
    },
    {
      "cell_type": "code",
      "execution_count": null,
      "metadata": {
        "colab": {
          "base_uri": "https://localhost:8080/"
        },
        "id": "Dn6VWyTVKMSN",
        "outputId": "c9097bc6-d458-4ccd-a088-1a245502ec0d"
      },
      "outputs": [
        {
          "name": "stdout",
          "output_type": "stream",
          "text": [
            "Processing image 19K53.tif\n"
          ]
        },
        {
          "name": "stderr",
          "output_type": "stream",
          "text": [
            "100%|██████████| 855/855 [00:09<00:00, 94.95it/s]"
          ]
        },
        {
          "name": "stdout",
          "output_type": "stream",
          "text": [
            "BBs frequencies assignment {0: 0.01, 1: 0.04, 2: 0.28, 3: 0.01, 4: 0.64, 6: 0.03, 9: 0.0}\n",
            "\n"
          ]
        },
        {
          "name": "stderr",
          "output_type": "stream",
          "text": [
            "\n"
          ]
        }
      ],
      "source": [
        "crop_images_and_bbs(val_image_paths_list, val_bbs_shp_paths_list, crop_size=CROP_SIZE, step=STEP, folder_path='./val', infrared=False)"
      ]
    },
    {
      "cell_type": "code",
      "execution_count": null,
      "metadata": {
        "id": "XjdBC7zebyGs"
      },
      "outputs": [],
      "source": [
        "save_bbs_as_txt(val_bbs_shp_paths_list[0], val_image_paths_list[0], output_file_path=None)"
      ]
    },
    {
      "cell_type": "markdown",
      "metadata": {
        "id": "UrfBaiX766a0"
      },
      "source": [
        "## Test images\n",
        "We create the folder `test`, with two subfolders.\n",
        "1. `test\\images`, containing the crops.\n",
        "2. `test\\labels`, containing the info about the bounding boxes of each crop. For each crop, a corresponding `.txt` file is present, containing the bounding boxes enclosed in that crop."
      ]
    },
    {
      "cell_type": "code",
      "execution_count": null,
      "metadata": {
        "id": "cHBd0BI66-bL"
      },
      "outputs": [],
      "source": [
        "dataset_folder = os.path.join(base_dir, 'dataset')\n",
        "\n",
        "test_image_names_list = ['19K59']\n",
        "\n",
        "test_image_paths_list = [os.path.join(dataset_folder, img_name, f'{img_name}.tif') for img_name in test_image_names_list]\n",
        "\n",
        "test_bbs_shp_paths_list = [os.path.join(dataset_folder, img_name, 'trees_shp', f'{img_name}_trees.shp') for img_name in test_image_names_list]"
      ]
    },
    {
      "cell_type": "code",
      "execution_count": null,
      "metadata": {
        "colab": {
          "base_uri": "https://localhost:8080/"
        },
        "id": "KhWjI46VL9l2",
        "outputId": "b000be27-241b-439f-d14d-7a4b9513efcb"
      },
      "outputs": [
        {
          "name": "stdout",
          "output_type": "stream",
          "text": [
            "Processing image 19K59.tif\n"
          ]
        },
        {
          "name": "stderr",
          "output_type": "stream",
          "text": [
            "100%|██████████| 944/944 [00:09<00:00, 98.27it/s]"
          ]
        },
        {
          "name": "stdout",
          "output_type": "stream",
          "text": [
            "BBs frequencies assignment {0: 0.01, 1: 0.03, 2: 0.24, 3: 0.01, 4: 0.65, 6: 0.05, 9: 0.0}\n",
            "\n"
          ]
        },
        {
          "name": "stderr",
          "output_type": "stream",
          "text": [
            "\n"
          ]
        }
      ],
      "source": [
        "crop_images_and_bbs(test_image_paths_list, test_bbs_shp_paths_list, crop_size=CROP_SIZE, step=STEP, folder_path='./test', infrared=False)"
      ]
    },
    {
      "cell_type": "code",
      "execution_count": null,
      "metadata": {
        "id": "GePx5-px7Uxu"
      },
      "outputs": [],
      "source": [
        "save_bbs_as_txt(test_bbs_shp_paths_list[0], test_image_paths_list[0], output_file_path=None)"
      ]
    },
    {
      "cell_type": "markdown",
      "metadata": {
        "id": "7mGmQbAO5pQb"
      },
      "source": [
        "# YOLO MODEL\n",
        "https://github.com/WongKinYiu/yolov7"
      ]
    },
    {
      "cell_type": "code",
      "execution_count": null,
      "metadata": {
        "colab": {
          "base_uri": "https://localhost:8080/"
        },
        "id": "JGJspIl90XhV",
        "outputId": "e578ffe5-a419-4fb6-cc19-307d26fa8119"
      },
      "outputs": [
        {
          "name": "stdout",
          "output_type": "stream",
          "text": [
            "Mon Oct  9 08:22:42 2023       \n",
            "+-----------------------------------------------------------------------------+\n",
            "| NVIDIA-SMI 525.105.17   Driver Version: 525.105.17   CUDA Version: 12.0     |\n",
            "|-------------------------------+----------------------+----------------------+\n",
            "| GPU  Name        Persistence-M| Bus-Id        Disp.A | Volatile Uncorr. ECC |\n",
            "| Fan  Temp  Perf  Pwr:Usage/Cap|         Memory-Usage | GPU-Util  Compute M. |\n",
            "|                               |                      |               MIG M. |\n",
            "|===============================+======================+======================|\n",
            "|   0  Tesla T4            Off  | 00000000:00:04.0 Off |                    0 |\n",
            "| N/A   35C    P8     9W /  70W |      0MiB / 15360MiB |      0%      Default |\n",
            "|                               |                      |                  N/A |\n",
            "+-------------------------------+----------------------+----------------------+\n",
            "                                                                               \n",
            "+-----------------------------------------------------------------------------+\n",
            "| Processes:                                                                  |\n",
            "|  GPU   GI   CI        PID   Type   Process name                  GPU Memory |\n",
            "|        ID   ID                                                   Usage      |\n",
            "|=============================================================================|\n",
            "|  No running processes found                                                 |\n",
            "+-----------------------------------------------------------------------------+\n"
          ]
        }
      ],
      "source": [
        "# Just to check GPU\n",
        "!nvidia-smi"
      ]
    },
    {
      "cell_type": "code",
      "execution_count": null,
      "metadata": {
        "colab": {
          "base_uri": "https://localhost:8080/"
        },
        "id": "-0diwz-Mkj-m",
        "outputId": "315fdf65-c204-43f1-a3cf-87459e80fff9"
      },
      "outputs": [
        {
          "name": "stdout",
          "output_type": "stream",
          "text": [
            "[Errno 2] No such file or directory: 'yolov7'\n",
            "/content/yolov7\n"
          ]
        }
      ],
      "source": [
        "%cd yolov7"
      ]
    },
    {
      "cell_type": "code",
      "execution_count": null,
      "metadata": {
        "colab": {
          "base_uri": "https://localhost:8080/"
        },
        "id": "nD-uPyQ_2jiN",
        "outputId": "52193e87-9068-4363-e259-9420e0bc8422"
      },
      "outputs": [
        {
          "name": "stdout",
          "output_type": "stream",
          "text": [
            "Requirement already satisfied: matplotlib>=3.2.2 in /usr/local/lib/python3.10/dist-packages (from -r requirements.txt (line 4)) (3.7.1)\n",
            "Requirement already satisfied: numpy>=1.18.5 in /usr/local/lib/python3.10/dist-packages (from -r requirements.txt (line 5)) (1.23.5)\n",
            "Requirement already satisfied: opencv-python>=4.1.1 in /usr/local/lib/python3.10/dist-packages (from -r requirements.txt (line 6)) (4.8.0.76)\n",
            "Requirement already satisfied: Pillow>=7.1.2 in /usr/local/lib/python3.10/dist-packages (from -r requirements.txt (line 7)) (9.4.0)\n",
            "Requirement already satisfied: PyYAML>=5.3.1 in /usr/local/lib/python3.10/dist-packages (from -r requirements.txt (line 8)) (6.0.1)\n",
            "Requirement already satisfied: requests>=2.23.0 in /usr/local/lib/python3.10/dist-packages (from -r requirements.txt (line 9)) (2.31.0)\n",
            "Requirement already satisfied: scipy>=1.4.1 in /usr/local/lib/python3.10/dist-packages (from -r requirements.txt (line 10)) (1.11.3)\n",
            "Requirement already satisfied: torch!=1.12.0,>=1.7.0 in /usr/local/lib/python3.10/dist-packages (from -r requirements.txt (line 11)) (2.0.1+cu118)\n",
            "Requirement already satisfied: torchvision!=0.13.0,>=0.8.1 in /usr/local/lib/python3.10/dist-packages (from -r requirements.txt (line 12)) (0.15.2+cu118)\n",
            "Requirement already satisfied: tqdm>=4.41.0 in /usr/local/lib/python3.10/dist-packages (from -r requirements.txt (line 13)) (4.66.1)\n",
            "Requirement already satisfied: protobuf<4.21.3 in /usr/local/lib/python3.10/dist-packages (from -r requirements.txt (line 14)) (3.20.3)\n",
            "Requirement already satisfied: tensorboard>=2.4.1 in /usr/local/lib/python3.10/dist-packages (from -r requirements.txt (line 17)) (2.13.0)\n",
            "Requirement already satisfied: pandas>=1.1.4 in /usr/local/lib/python3.10/dist-packages (from -r requirements.txt (line 21)) (1.5.3)\n",
            "Requirement already satisfied: seaborn>=0.11.0 in /usr/local/lib/python3.10/dist-packages (from -r requirements.txt (line 22)) (0.12.2)\n",
            "Requirement already satisfied: ipython in /usr/local/lib/python3.10/dist-packages (from -r requirements.txt (line 34)) (7.34.0)\n",
            "Requirement already satisfied: psutil in /usr/local/lib/python3.10/dist-packages (from -r requirements.txt (line 35)) (5.9.5)\n",
            "Collecting thop (from -r requirements.txt (line 36))\n",
            "  Downloading thop-0.1.1.post2209072238-py3-none-any.whl (15 kB)\n",
            "Requirement already satisfied: contourpy>=1.0.1 in /usr/local/lib/python3.10/dist-packages (from matplotlib>=3.2.2->-r requirements.txt (line 4)) (1.1.1)\n",
            "Requirement already satisfied: cycler>=0.10 in /usr/local/lib/python3.10/dist-packages (from matplotlib>=3.2.2->-r requirements.txt (line 4)) (0.12.0)\n",
            "Requirement already satisfied: fonttools>=4.22.0 in /usr/local/lib/python3.10/dist-packages (from matplotlib>=3.2.2->-r requirements.txt (line 4)) (4.43.0)\n",
            "Requirement already satisfied: kiwisolver>=1.0.1 in /usr/local/lib/python3.10/dist-packages (from matplotlib>=3.2.2->-r requirements.txt (line 4)) (1.4.5)\n",
            "Requirement already satisfied: packaging>=20.0 in /usr/local/lib/python3.10/dist-packages (from matplotlib>=3.2.2->-r requirements.txt (line 4)) (23.2)\n",
            "Requirement already satisfied: pyparsing>=2.3.1 in /usr/local/lib/python3.10/dist-packages (from matplotlib>=3.2.2->-r requirements.txt (line 4)) (3.1.1)\n",
            "Requirement already satisfied: python-dateutil>=2.7 in /usr/local/lib/python3.10/dist-packages (from matplotlib>=3.2.2->-r requirements.txt (line 4)) (2.8.2)\n",
            "Requirement already satisfied: charset-normalizer<4,>=2 in /usr/local/lib/python3.10/dist-packages (from requests>=2.23.0->-r requirements.txt (line 9)) (3.3.0)\n",
            "Requirement already satisfied: idna<4,>=2.5 in /usr/local/lib/python3.10/dist-packages (from requests>=2.23.0->-r requirements.txt (line 9)) (3.4)\n",
            "Requirement already satisfied: urllib3<3,>=1.21.1 in /usr/local/lib/python3.10/dist-packages (from requests>=2.23.0->-r requirements.txt (line 9)) (2.0.6)\n",
            "Requirement already satisfied: certifi>=2017.4.17 in /usr/local/lib/python3.10/dist-packages (from requests>=2.23.0->-r requirements.txt (line 9)) (2023.7.22)\n",
            "Requirement already satisfied: filelock in /usr/local/lib/python3.10/dist-packages (from torch!=1.12.0,>=1.7.0->-r requirements.txt (line 11)) (3.12.4)\n",
            "Requirement already satisfied: typing-extensions in /usr/local/lib/python3.10/dist-packages (from torch!=1.12.0,>=1.7.0->-r requirements.txt (line 11)) (4.5.0)\n",
            "Requirement already satisfied: sympy in /usr/local/lib/python3.10/dist-packages (from torch!=1.12.0,>=1.7.0->-r requirements.txt (line 11)) (1.12)\n",
            "Requirement already satisfied: networkx in /usr/local/lib/python3.10/dist-packages (from torch!=1.12.0,>=1.7.0->-r requirements.txt (line 11)) (3.1)\n",
            "Requirement already satisfied: jinja2 in /usr/local/lib/python3.10/dist-packages (from torch!=1.12.0,>=1.7.0->-r requirements.txt (line 11)) (3.1.2)\n",
            "Requirement already satisfied: triton==2.0.0 in /usr/local/lib/python3.10/dist-packages (from torch!=1.12.0,>=1.7.0->-r requirements.txt (line 11)) (2.0.0)\n",
            "Requirement already satisfied: cmake in /usr/local/lib/python3.10/dist-packages (from triton==2.0.0->torch!=1.12.0,>=1.7.0->-r requirements.txt (line 11)) (3.27.6)\n",
            "Requirement already satisfied: lit in /usr/local/lib/python3.10/dist-packages (from triton==2.0.0->torch!=1.12.0,>=1.7.0->-r requirements.txt (line 11)) (17.0.2)\n",
            "Requirement already satisfied: absl-py>=0.4 in /usr/local/lib/python3.10/dist-packages (from tensorboard>=2.4.1->-r requirements.txt (line 17)) (1.4.0)\n",
            "Requirement already satisfied: grpcio>=1.48.2 in /usr/local/lib/python3.10/dist-packages (from tensorboard>=2.4.1->-r requirements.txt (line 17)) (1.59.0)\n",
            "Requirement already satisfied: google-auth<3,>=1.6.3 in /usr/local/lib/python3.10/dist-packages (from tensorboard>=2.4.1->-r requirements.txt (line 17)) (2.17.3)\n",
            "Requirement already satisfied: google-auth-oauthlib<1.1,>=0.5 in /usr/local/lib/python3.10/dist-packages (from tensorboard>=2.4.1->-r requirements.txt (line 17)) (1.0.0)\n",
            "Requirement already satisfied: markdown>=2.6.8 in /usr/local/lib/python3.10/dist-packages (from tensorboard>=2.4.1->-r requirements.txt (line 17)) (3.4.4)\n",
            "Requirement already satisfied: setuptools>=41.0.0 in /usr/local/lib/python3.10/dist-packages (from tensorboard>=2.4.1->-r requirements.txt (line 17)) (67.7.2)\n",
            "Requirement already satisfied: tensorboard-data-server<0.8.0,>=0.7.0 in /usr/local/lib/python3.10/dist-packages (from tensorboard>=2.4.1->-r requirements.txt (line 17)) (0.7.1)\n",
            "Requirement already satisfied: werkzeug>=1.0.1 in /usr/local/lib/python3.10/dist-packages (from tensorboard>=2.4.1->-r requirements.txt (line 17)) (3.0.0)\n",
            "Requirement already satisfied: wheel>=0.26 in /usr/local/lib/python3.10/dist-packages (from tensorboard>=2.4.1->-r requirements.txt (line 17)) (0.41.2)\n",
            "Requirement already satisfied: pytz>=2020.1 in /usr/local/lib/python3.10/dist-packages (from pandas>=1.1.4->-r requirements.txt (line 21)) (2023.3.post1)\n",
            "Collecting jedi>=0.16 (from ipython->-r requirements.txt (line 34))\n",
            "  Downloading jedi-0.19.1-py2.py3-none-any.whl (1.6 MB)\n",
            "\u001b[2K     \u001b[90m━━━━━━━━━━━━━━━━━━━━━━━━━━━━━━━━━━━━━━━━\u001b[0m \u001b[32m1.6/1.6 MB\u001b[0m \u001b[31m19.5 MB/s\u001b[0m eta \u001b[36m0:00:00\u001b[0m\n",
            "\u001b[?25hRequirement already satisfied: decorator in /usr/local/lib/python3.10/dist-packages (from ipython->-r requirements.txt (line 34)) (4.4.2)\n",
            "Requirement already satisfied: pickleshare in /usr/local/lib/python3.10/dist-packages (from ipython->-r requirements.txt (line 34)) (0.7.5)\n",
            "Requirement already satisfied: traitlets>=4.2 in /usr/local/lib/python3.10/dist-packages (from ipython->-r requirements.txt (line 34)) (5.7.1)\n",
            "Requirement already satisfied: prompt-toolkit!=3.0.0,!=3.0.1,<3.1.0,>=2.0.0 in /usr/local/lib/python3.10/dist-packages (from ipython->-r requirements.txt (line 34)) (3.0.39)\n",
            "Requirement already satisfied: pygments in /usr/local/lib/python3.10/dist-packages (from ipython->-r requirements.txt (line 34)) (2.16.1)\n",
            "Requirement already satisfied: backcall in /usr/local/lib/python3.10/dist-packages (from ipython->-r requirements.txt (line 34)) (0.2.0)\n",
            "Requirement already satisfied: matplotlib-inline in /usr/local/lib/python3.10/dist-packages (from ipython->-r requirements.txt (line 34)) (0.1.6)\n",
            "Requirement already satisfied: pexpect>4.3 in /usr/local/lib/python3.10/dist-packages (from ipython->-r requirements.txt (line 34)) (4.8.0)\n",
            "Requirement already satisfied: cachetools<6.0,>=2.0.0 in /usr/local/lib/python3.10/dist-packages (from google-auth<3,>=1.6.3->tensorboard>=2.4.1->-r requirements.txt (line 17)) (5.3.1)\n",
            "Requirement already satisfied: pyasn1-modules>=0.2.1 in /usr/local/lib/python3.10/dist-packages (from google-auth<3,>=1.6.3->tensorboard>=2.4.1->-r requirements.txt (line 17)) (0.3.0)\n",
            "Requirement already satisfied: six>=1.9.0 in /usr/local/lib/python3.10/dist-packages (from google-auth<3,>=1.6.3->tensorboard>=2.4.1->-r requirements.txt (line 17)) (1.16.0)\n",
            "Requirement already satisfied: rsa<5,>=3.1.4 in /usr/local/lib/python3.10/dist-packages (from google-auth<3,>=1.6.3->tensorboard>=2.4.1->-r requirements.txt (line 17)) (4.9)\n",
            "Requirement already satisfied: requests-oauthlib>=0.7.0 in /usr/local/lib/python3.10/dist-packages (from google-auth-oauthlib<1.1,>=0.5->tensorboard>=2.4.1->-r requirements.txt (line 17)) (1.3.1)\n",
            "Requirement already satisfied: parso<0.9.0,>=0.8.3 in /usr/local/lib/python3.10/dist-packages (from jedi>=0.16->ipython->-r requirements.txt (line 34)) (0.8.3)\n",
            "Requirement already satisfied: ptyprocess>=0.5 in /usr/local/lib/python3.10/dist-packages (from pexpect>4.3->ipython->-r requirements.txt (line 34)) (0.7.0)\n",
            "Requirement already satisfied: wcwidth in /usr/local/lib/python3.10/dist-packages (from prompt-toolkit!=3.0.0,!=3.0.1,<3.1.0,>=2.0.0->ipython->-r requirements.txt (line 34)) (0.2.8)\n",
            "Requirement already satisfied: MarkupSafe>=2.1.1 in /usr/local/lib/python3.10/dist-packages (from werkzeug>=1.0.1->tensorboard>=2.4.1->-r requirements.txt (line 17)) (2.1.3)\n",
            "Requirement already satisfied: mpmath>=0.19 in /usr/local/lib/python3.10/dist-packages (from sympy->torch!=1.12.0,>=1.7.0->-r requirements.txt (line 11)) (1.3.0)\n",
            "Requirement already satisfied: pyasn1<0.6.0,>=0.4.6 in /usr/local/lib/python3.10/dist-packages (from pyasn1-modules>=0.2.1->google-auth<3,>=1.6.3->tensorboard>=2.4.1->-r requirements.txt (line 17)) (0.5.0)\n",
            "Requirement already satisfied: oauthlib>=3.0.0 in /usr/local/lib/python3.10/dist-packages (from requests-oauthlib>=0.7.0->google-auth-oauthlib<1.1,>=0.5->tensorboard>=2.4.1->-r requirements.txt (line 17)) (3.2.2)\n",
            "Installing collected packages: jedi, thop\n",
            "Successfully installed jedi-0.19.1 thop-0.1.1.post2209072238\n"
          ]
        }
      ],
      "source": [
        "!pip install -r requirements.txt ;"
      ]
    },
    {
      "cell_type": "markdown",
      "metadata": {
        "id": "bHfT9gEiBsBd"
      },
      "source": [
        "# Training\n",
        "Train the model on the $3$ train images, with $1$ val image.\n",
        "\n",
        "*(The starting point of this training is the fine-tuning on the pre-trained `yolov7_training.pt` weigths).*\n"
      ]
    },
    {
      "cell_type": "code",
      "execution_count": null,
      "metadata": {
        "colab": {
          "base_uri": "https://localhost:8080/"
        },
        "id": "CpOrYXn9xC_r",
        "outputId": "0e3e2b8f-9fa1-4bfc-83e9-485a4fd11608"
      },
      "outputs": [
        {
          "name": "stdout",
          "output_type": "stream",
          "text": [
            "2023-10-08 15:37:24.486583: I tensorflow/core/util/port.cc:110] oneDNN custom operations are on. You may see slightly different numerical results due to floating-point round-off errors from different computation orders. To turn them off, set the environment variable `TF_ENABLE_ONEDNN_OPTS=0`.\n",
            "2023-10-08 15:37:24.541547: I tensorflow/core/platform/cpu_feature_guard.cc:182] This TensorFlow binary is optimized to use available CPU instructions in performance-critical operations.\n",
            "To enable the following instructions: AVX2 AVX512F AVX512_VNNI FMA, in other operations, rebuild TensorFlow with the appropriate compiler flags.\n",
            "2023-10-08 15:37:25.453444: W tensorflow/compiler/tf2tensorrt/utils/py_utils.cc:38] TF-TRT Warning: Could not find TensorRT\n",
            "YOLOR 🚀 2023-10-8 torch 2.0.1+cu118 CUDA:0 (NVIDIA A100-SXM4-40GB, 40513.5625MB)\n",
            "\n",
            "Namespace(rgb_only=True, weights='yolov7_training.pt', cfg='cfg/training/yolov7-tree.yaml', data='data.yaml', hyp='data/hyp.scratch.p5.yaml', epochs=25, batch_size=8, img_size=[640, 640], rect=False, resume=False, nosave=False, notest=False, noautoanchor=False, evolve=False, bucket='', cache_images=False, image_weights=False, device='0', multi_scale=False, single_cls=False, adam=False, sync_bn=False, local_rank=-1, workers=8, project='runs/train', entity=None, name='exp', exist_ok=False, quad=False, linear_lr=False, label_smoothing=0.0, upload_dataset=False, bbox_interval=-1, save_period=-1, artifact_alias='latest', freeze=[0], v5_metric=False, world_size=1, global_rank=-1, save_dir='runs/train/exp', total_batch_size=8)\n",
            "\u001b[34m\u001b[1mtensorboard: \u001b[0mStart with 'tensorboard --logdir runs/train', view at http://localhost:6006/\n",
            "\u001b[34m\u001b[1mhyperparameters: \u001b[0mlr0=0.01, lrf=0.1, momentum=0.937, weight_decay=0.0005, warmup_epochs=3.0, warmup_momentum=0.8, warmup_bias_lr=0.1, box=0.05, cls=0.3, cls_pw=1.0, obj=0.7, obj_pw=1.0, iou_t=0.2, anchor_t=4.0, fl_gamma=0.0, hsv_h=0.015, hsv_s=0.7, hsv_v=0.4, degrees=0.0, translate=0.2, scale=0.9, shear=0.0, perspective=0.0, flipud=0.0, fliplr=0.5, mosaic=1.0, mixup=0.15, copy_paste=0.0, paste_in=0.15, loss_ota=1\n",
            "\u001b[34m\u001b[1mwandb: \u001b[0mInstall Weights & Biases for YOLOR logging with 'pip install wandb' (recommended)\n",
            "\n",
            "                 from  n    params  module                                  arguments                     \n",
            "  0                -1  1       928  models.common.Conv                      [3, 32, 3, 1]                 \n",
            "  1                -1  1     18560  models.common.Conv                      [32, 64, 3, 2]                \n",
            "  2                -1  1     36992  models.common.Conv                      [64, 64, 3, 1]                \n",
            "  3                -1  1     73984  models.common.Conv                      [64, 128, 3, 2]               \n",
            "  4                -1  1      8320  models.common.Conv                      [128, 64, 1, 1]               \n",
            "  5                -2  1      8320  models.common.Conv                      [128, 64, 1, 1]               \n",
            "  6                -1  1     36992  models.common.Conv                      [64, 64, 3, 1]                \n",
            "  7                -1  1     36992  models.common.Conv                      [64, 64, 3, 1]                \n",
            "  8                -1  1     36992  models.common.Conv                      [64, 64, 3, 1]                \n",
            "  9                -1  1     36992  models.common.Conv                      [64, 64, 3, 1]                \n",
            " 10  [-1, -3, -5, -6]  1         0  models.common.Concat                    [1]                           \n",
            " 11                -1  1     66048  models.common.Conv                      [256, 256, 1, 1]              \n",
            " 12                -1  1         0  models.common.MP                        []                            \n",
            " 13                -1  1     33024  models.common.Conv                      [256, 128, 1, 1]              \n",
            " 14                -3  1     33024  models.common.Conv                      [256, 128, 1, 1]              \n",
            " 15                -1  1    147712  models.common.Conv                      [128, 128, 3, 2]              \n",
            " 16          [-1, -3]  1         0  models.common.Concat                    [1]                           \n",
            " 17                -1  1     33024  models.common.Conv                      [256, 128, 1, 1]              \n",
            " 18                -2  1     33024  models.common.Conv                      [256, 128, 1, 1]              \n",
            " 19                -1  1    147712  models.common.Conv                      [128, 128, 3, 1]              \n",
            " 20                -1  1    147712  models.common.Conv                      [128, 128, 3, 1]              \n",
            " 21                -1  1    147712  models.common.Conv                      [128, 128, 3, 1]              \n",
            " 22                -1  1    147712  models.common.Conv                      [128, 128, 3, 1]              \n",
            " 23  [-1, -3, -5, -6]  1         0  models.common.Concat                    [1]                           \n",
            " 24                -1  1    263168  models.common.Conv                      [512, 512, 1, 1]              \n",
            " 25                -1  1         0  models.common.MP                        []                            \n",
            " 26                -1  1    131584  models.common.Conv                      [512, 256, 1, 1]              \n",
            " 27                -3  1    131584  models.common.Conv                      [512, 256, 1, 1]              \n",
            " 28                -1  1    590336  models.common.Conv                      [256, 256, 3, 2]              \n",
            " 29          [-1, -3]  1         0  models.common.Concat                    [1]                           \n",
            " 30                -1  1    131584  models.common.Conv                      [512, 256, 1, 1]              \n",
            " 31                -2  1    131584  models.common.Conv                      [512, 256, 1, 1]              \n",
            " 32                -1  1    590336  models.common.Conv                      [256, 256, 3, 1]              \n",
            " 33                -1  1    590336  models.common.Conv                      [256, 256, 3, 1]              \n",
            " 34                -1  1    590336  models.common.Conv                      [256, 256, 3, 1]              \n",
            " 35                -1  1    590336  models.common.Conv                      [256, 256, 3, 1]              \n",
            " 36  [-1, -3, -5, -6]  1         0  models.common.Concat                    [1]                           \n",
            " 37                -1  1   1050624  models.common.Conv                      [1024, 1024, 1, 1]            \n",
            " 38                -1  1         0  models.common.MP                        []                            \n",
            " 39                -1  1    525312  models.common.Conv                      [1024, 512, 1, 1]             \n",
            " 40                -3  1    525312  models.common.Conv                      [1024, 512, 1, 1]             \n",
            " 41                -1  1   2360320  models.common.Conv                      [512, 512, 3, 2]              \n",
            " 42          [-1, -3]  1         0  models.common.Concat                    [1]                           \n",
            " 43                -1  1    262656  models.common.Conv                      [1024, 256, 1, 1]             \n",
            " 44                -2  1    262656  models.common.Conv                      [1024, 256, 1, 1]             \n",
            " 45                -1  1    590336  models.common.Conv                      [256, 256, 3, 1]              \n",
            " 46                -1  1    590336  models.common.Conv                      [256, 256, 3, 1]              \n",
            " 47                -1  1    590336  models.common.Conv                      [256, 256, 3, 1]              \n",
            " 48                -1  1    590336  models.common.Conv                      [256, 256, 3, 1]              \n",
            " 49  [-1, -3, -5, -6]  1         0  models.common.Concat                    [1]                           \n",
            " 50                -1  1   1050624  models.common.Conv                      [1024, 1024, 1, 1]            \n",
            " 51                -1  1   7609344  models.common.SPPCSPC                   [1024, 512, 1]                \n",
            " 52                -1  1    131584  models.common.Conv                      [512, 256, 1, 1]              \n",
            " 53                -1  1         0  torch.nn.modules.upsampling.Upsample    [None, 2, 'nearest']          \n",
            " 54                37  1    262656  models.common.Conv                      [1024, 256, 1, 1]             \n",
            " 55          [-1, -2]  1         0  models.common.Concat                    [1]                           \n",
            " 56                -1  1    131584  models.common.Conv                      [512, 256, 1, 1]              \n",
            " 57                -2  1    131584  models.common.Conv                      [512, 256, 1, 1]              \n",
            " 58                -1  1    295168  models.common.Conv                      [256, 128, 3, 1]              \n",
            " 59                -1  1    147712  models.common.Conv                      [128, 128, 3, 1]              \n",
            " 60                -1  1    147712  models.common.Conv                      [128, 128, 3, 1]              \n",
            " 61                -1  1    147712  models.common.Conv                      [128, 128, 3, 1]              \n",
            " 62[-1, -2, -3, -4, -5, -6]  1         0  models.common.Concat                    [1]                           \n",
            " 63                -1  1    262656  models.common.Conv                      [1024, 256, 1, 1]             \n",
            " 64                -1  1     33024  models.common.Conv                      [256, 128, 1, 1]              \n",
            " 65                -1  1         0  torch.nn.modules.upsampling.Upsample    [None, 2, 'nearest']          \n",
            " 66                24  1     65792  models.common.Conv                      [512, 128, 1, 1]              \n",
            " 67          [-1, -2]  1         0  models.common.Concat                    [1]                           \n",
            " 68                -1  1     33024  models.common.Conv                      [256, 128, 1, 1]              \n",
            " 69                -2  1     33024  models.common.Conv                      [256, 128, 1, 1]              \n",
            " 70                -1  1     73856  models.common.Conv                      [128, 64, 3, 1]               \n",
            " 71                -1  1     36992  models.common.Conv                      [64, 64, 3, 1]                \n",
            " 72                -1  1     36992  models.common.Conv                      [64, 64, 3, 1]                \n",
            " 73                -1  1     36992  models.common.Conv                      [64, 64, 3, 1]                \n",
            " 74[-1, -2, -3, -4, -5, -6]  1         0  models.common.Concat                    [1]                           \n",
            " 75                -1  1     65792  models.common.Conv                      [512, 128, 1, 1]              \n",
            " 76                -1  1         0  models.common.MP                        []                            \n",
            " 77                -1  1     16640  models.common.Conv                      [128, 128, 1, 1]              \n",
            " 78                -3  1     16640  models.common.Conv                      [128, 128, 1, 1]              \n",
            " 79                -1  1    147712  models.common.Conv                      [128, 128, 3, 2]              \n",
            " 80      [-1, -3, 63]  1         0  models.common.Concat                    [1]                           \n",
            " 81                -1  1    131584  models.common.Conv                      [512, 256, 1, 1]              \n",
            " 82                -2  1    131584  models.common.Conv                      [512, 256, 1, 1]              \n",
            " 83                -1  1    295168  models.common.Conv                      [256, 128, 3, 1]              \n",
            " 84                -1  1    147712  models.common.Conv                      [128, 128, 3, 1]              \n",
            " 85                -1  1    147712  models.common.Conv                      [128, 128, 3, 1]              \n",
            " 86                -1  1    147712  models.common.Conv                      [128, 128, 3, 1]              \n",
            " 87[-1, -2, -3, -4, -5, -6]  1         0  models.common.Concat                    [1]                           \n",
            " 88                -1  1    262656  models.common.Conv                      [1024, 256, 1, 1]             \n",
            " 89                -1  1         0  models.common.MP                        []                            \n",
            " 90                -1  1     66048  models.common.Conv                      [256, 256, 1, 1]              \n",
            " 91                -3  1     66048  models.common.Conv                      [256, 256, 1, 1]              \n",
            " 92                -1  1    590336  models.common.Conv                      [256, 256, 3, 2]              \n",
            " 93      [-1, -3, 51]  1         0  models.common.Concat                    [1]                           \n",
            " 94                -1  1    525312  models.common.Conv                      [1024, 512, 1, 1]             \n",
            " 95                -2  1    525312  models.common.Conv                      [1024, 512, 1, 1]             \n",
            " 96                -1  1   1180160  models.common.Conv                      [512, 256, 3, 1]              \n",
            " 97                -1  1    590336  models.common.Conv                      [256, 256, 3, 1]              \n",
            " 98                -1  1    590336  models.common.Conv                      [256, 256, 3, 1]              \n",
            " 99                -1  1    590336  models.common.Conv                      [256, 256, 3, 1]              \n",
            "100[-1, -2, -3, -4, -5, -6]  1         0  models.common.Concat                    [1]                           \n",
            "101                -1  1   1049600  models.common.Conv                      [2048, 512, 1, 1]             \n",
            "102                75  1    328704  models.common.RepConv                   [128, 256, 3, 1]              \n",
            "103                88  1   1312768  models.common.RepConv                   [256, 512, 3, 1]              \n",
            "104               101  1   5246976  models.common.RepConv                   [512, 1024, 3, 1]             \n",
            "105   [102, 103, 104]  1     34156  models.yolo.IDetect                     [1, [[12, 16, 19, 36, 40, 28], [36, 75, 76, 55, 72, 146], [142, 110, 192, 243, 459, 401]], [256, 512, 1024]]\n",
            "/usr/local/lib/python3.10/dist-packages/torch/functional.py:504: UserWarning: torch.meshgrid: in an upcoming release, it will be required to pass the indexing argument. (Triggered internally at ../aten/src/ATen/native/TensorShape.cpp:3483.)\n",
            "  return _VF.meshgrid(tensors, **kwargs)  # type: ignore[attr-defined]\n",
            "Model Summary: 415 layers, 37196556 parameters, 37196556 gradients, 105.1 GFLOPS\n",
            "\n",
            "Transferred 555/566 items from yolov7_training.pt\n",
            "Scaled weight_decay = 0.0005\n",
            "Optimizer groups: 95 .bias, 95 conv.weight, 98 other\n",
            "\u001b[34m\u001b[1mtrain: \u001b[0mScanning 'train/labels' images and labels... 2441 found, 0 missing, 0 empty, 0 corrupted: 100% 2441/2441 [00:01<00:00, 1463.24it/s]\n",
            "\u001b[34m\u001b[1mtrain: \u001b[0mNew cache created: train/labels.cache\n",
            "\u001b[34m\u001b[1mval: \u001b[0mScanning 'val/labels' images and labels... 855 found, 0 missing, 0 empty, 0 corrupted: 100% 855/855 [00:00<00:00, 1638.22it/s]\n",
            "\u001b[34m\u001b[1mval: \u001b[0mNew cache created: val/labels.cache\n",
            "\n",
            "\u001b[34m\u001b[1mautoanchor: \u001b[0mAnalyzing anchors... anchors/target = 5.60, Best Possible Recall (BPR) = 0.9999\n",
            "Image sizes 640 train, 640 test\n",
            "Using 8 dataloader workers\n",
            "Logging results to runs/train/exp\n",
            "Starting training for 25 epochs...\n",
            "\n",
            "     Epoch   gpu_mem       box       obj       cls     total    labels  img_size\n",
            "      0/24     3.07G   0.07429    0.1067         0     0.181        32       640: 100% 306/306 [01:49<00:00,  2.78it/s]\n",
            "               Class      Images      Labels           P           R      mAP@.5  mAP@.5:.95: 100% 54/54 [00:13<00:00,  4.03it/s]\n",
            "                 all         855       15936       0.318       0.334       0.228      0.0494\n",
            "\n",
            "     Epoch   gpu_mem       box       obj       cls     total    labels  img_size\n",
            "      1/24     7.08G   0.06315    0.1184         0    0.1816       167       640: 100% 306/306 [01:17<00:00,  3.96it/s]\n",
            "               Class      Images      Labels           P           R      mAP@.5  mAP@.5:.95: 100% 54/54 [00:08<00:00,  6.18it/s]\n",
            "                 all         855       15936       0.381       0.369       0.299      0.0684\n",
            "\n",
            "     Epoch   gpu_mem       box       obj       cls     total    labels  img_size\n",
            "      2/24     8.74G   0.06125    0.1188         0    0.1801       132       640: 100% 306/306 [01:16<00:00,  4.00it/s]\n",
            "               Class      Images      Labels           P           R      mAP@.5  mAP@.5:.95: 100% 54/54 [00:08<00:00,  6.74it/s]\n",
            "                 all         855       15936       0.537       0.452       0.438        0.13\n",
            "\n",
            "     Epoch   gpu_mem       box       obj       cls     total    labels  img_size\n",
            "      3/24     8.74G    0.0582    0.1166         0    0.1748       268       640: 100% 306/306 [01:15<00:00,  4.04it/s]\n",
            "               Class      Images      Labels           P           R      mAP@.5  mAP@.5:.95: 100% 54/54 [00:08<00:00,  6.62it/s]\n",
            "                 all         855       15936       0.589       0.493       0.506       0.167\n",
            "\n",
            "     Epoch   gpu_mem       box       obj       cls     total    labels  img_size\n",
            "      4/24     8.74G   0.05558    0.1116         0    0.1672       111       640: 100% 306/306 [01:14<00:00,  4.08it/s]\n",
            "               Class      Images      Labels           P           R      mAP@.5  mAP@.5:.95: 100% 54/54 [00:07<00:00,  7.05it/s]\n",
            "                 all         855       15936       0.651       0.516       0.547       0.179\n",
            "\n",
            "     Epoch   gpu_mem       box       obj       cls     total    labels  img_size\n",
            "      5/24     8.74G   0.05496    0.1129         0    0.1679        40       640: 100% 306/306 [01:16<00:00,  4.00it/s]\n",
            "               Class      Images      Labels           P           R      mAP@.5  mAP@.5:.95: 100% 54/54 [00:07<00:00,  6.95it/s]\n",
            "                 all         855       15936       0.637       0.495       0.522       0.173\n",
            "\n",
            "     Epoch   gpu_mem       box       obj       cls     total    labels  img_size\n",
            "      6/24     8.74G     0.054    0.1096         0    0.1636         0       640: 100% 306/306 [01:15<00:00,  4.07it/s]\n",
            "               Class      Images      Labels           P           R      mAP@.5  mAP@.5:.95: 100% 54/54 [00:07<00:00,  7.42it/s]\n",
            "                 all         855       15936       0.624       0.501       0.516       0.166\n",
            "\n",
            "     Epoch   gpu_mem       box       obj       cls     total    labels  img_size\n",
            "      7/24     8.74G   0.05393    0.1084         0    0.1623        47       640: 100% 306/306 [01:15<00:00,  4.05it/s]\n",
            "               Class      Images      Labels           P           R      mAP@.5  mAP@.5:.95: 100% 54/54 [00:07<00:00,  7.09it/s]\n",
            "                 all         855       15936       0.621        0.52       0.536       0.177\n",
            "\n",
            "     Epoch   gpu_mem       box       obj       cls     total    labels  img_size\n",
            "      8/24     8.74G    0.0532    0.1077         0    0.1609        78       640: 100% 306/306 [01:15<00:00,  4.04it/s]\n",
            "               Class      Images      Labels           P           R      mAP@.5  mAP@.5:.95: 100% 54/54 [00:07<00:00,  7.09it/s]\n",
            "                 all         855       15936       0.657       0.515       0.547       0.185\n",
            "\n",
            "     Epoch   gpu_mem       box       obj       cls     total    labels  img_size\n",
            "      9/24     8.74G   0.05275    0.1078         0    0.1606        33       640: 100% 306/306 [01:16<00:00,  4.02it/s]\n",
            "               Class      Images      Labels           P           R      mAP@.5  mAP@.5:.95: 100% 54/54 [00:07<00:00,  7.34it/s]\n",
            "                 all         855       15936       0.655       0.532       0.555        0.19\n",
            "\n",
            "     Epoch   gpu_mem       box       obj       cls     total    labels  img_size\n",
            "     10/24     8.74G   0.05271    0.1067         0    0.1594       117       640: 100% 306/306 [01:15<00:00,  4.07it/s]\n",
            "               Class      Images      Labels           P           R      mAP@.5  mAP@.5:.95: 100% 54/54 [00:07<00:00,  7.44it/s]\n",
            "                 all         855       15936       0.668       0.523       0.562       0.191\n",
            "\n",
            "     Epoch   gpu_mem       box       obj       cls     total    labels  img_size\n",
            "     11/24     8.74G   0.05239    0.1085         0    0.1609       102       640: 100% 306/306 [01:15<00:00,  4.05it/s]\n",
            "               Class      Images      Labels           P           R      mAP@.5  mAP@.5:.95: 100% 54/54 [00:07<00:00,  7.34it/s]\n",
            "                 all         855       15936       0.627       0.538       0.546       0.179\n",
            "\n",
            "     Epoch   gpu_mem       box       obj       cls     total    labels  img_size\n",
            "     12/24     8.74G   0.05198     0.105         0     0.157         2       640: 100% 306/306 [01:15<00:00,  4.07it/s]\n",
            "               Class      Images      Labels           P           R      mAP@.5  mAP@.5:.95: 100% 54/54 [00:07<00:00,  7.39it/s]\n",
            "                 all         855       15936       0.678       0.518       0.558       0.189\n",
            "\n",
            "     Epoch   gpu_mem       box       obj       cls     total    labels  img_size\n",
            "     13/24     8.74G   0.05169    0.1057         0    0.1574       120       640: 100% 306/306 [01:15<00:00,  4.04it/s]\n",
            "               Class      Images      Labels           P           R      mAP@.5  mAP@.5:.95: 100% 54/54 [00:07<00:00,  7.46it/s]\n",
            "                 all         855       15936       0.681       0.527       0.561       0.193\n",
            "\n",
            "     Epoch   gpu_mem       box       obj       cls     total    labels  img_size\n",
            "     14/24     8.74G   0.05153    0.1056         0    0.1571       101       640: 100% 306/306 [01:15<00:00,  4.03it/s]\n",
            "               Class      Images      Labels           P           R      mAP@.5  mAP@.5:.95: 100% 54/54 [00:07<00:00,  7.31it/s]\n",
            "                 all         855       15936       0.652       0.531       0.556       0.185\n",
            "\n",
            "     Epoch   gpu_mem       box       obj       cls     total    labels  img_size\n",
            "     15/24     8.74G   0.05134     0.107         0    0.1584        80       640: 100% 306/306 [01:16<00:00,  3.98it/s]\n",
            "               Class      Images      Labels           P           R      mAP@.5  mAP@.5:.95: 100% 54/54 [00:07<00:00,  7.53it/s]\n",
            "                 all         855       15936       0.657       0.499       0.531       0.177\n",
            "\n",
            "     Epoch   gpu_mem       box       obj       cls     total    labels  img_size\n",
            "     16/24     8.74G   0.05117    0.1052         0    0.1564       186       640: 100% 306/306 [01:16<00:00,  4.02it/s]\n",
            "               Class      Images      Labels           P           R      mAP@.5  mAP@.5:.95: 100% 54/54 [00:07<00:00,  7.44it/s]\n",
            "                 all         855       15936       0.684       0.514       0.557       0.189\n",
            "\n",
            "     Epoch   gpu_mem       box       obj       cls     total    labels  img_size\n",
            "     17/24     8.74G   0.05087    0.1081         0     0.159       204       640: 100% 306/306 [01:16<00:00,  4.02it/s]\n",
            "               Class      Images      Labels           P           R      mAP@.5  mAP@.5:.95: 100% 54/54 [00:07<00:00,  7.50it/s]\n",
            "                 all         855       15936        0.64       0.528       0.554       0.186\n",
            "\n",
            "     Epoch   gpu_mem       box       obj       cls     total    labels  img_size\n",
            "     18/24     8.74G    0.0506    0.1074         0     0.158       303       640: 100% 306/306 [01:15<00:00,  4.04it/s]\n",
            "               Class      Images      Labels           P           R      mAP@.5  mAP@.5:.95: 100% 54/54 [00:07<00:00,  7.62it/s]\n",
            "                 all         855       15936       0.676         0.5       0.537       0.179\n",
            "\n",
            "     Epoch   gpu_mem       box       obj       cls     total    labels  img_size\n",
            "     19/24     8.74G   0.05052    0.1064         0    0.1569        59       640: 100% 306/306 [01:15<00:00,  4.05it/s]\n",
            "               Class      Images      Labels           P           R      mAP@.5  mAP@.5:.95: 100% 54/54 [00:07<00:00,  7.57it/s]\n",
            "                 all         855       15936       0.672       0.517       0.557       0.186\n",
            "\n",
            "     Epoch   gpu_mem       box       obj       cls     total    labels  img_size\n",
            "     20/24     8.74G    0.0504    0.1065         0    0.1569       397       640: 100% 306/306 [01:15<00:00,  4.04it/s]\n",
            "               Class      Images      Labels           P           R      mAP@.5  mAP@.5:.95: 100% 54/54 [00:07<00:00,  7.47it/s]\n",
            "                 all         855       15936       0.708       0.501       0.559       0.189\n",
            "\n",
            "     Epoch   gpu_mem       box       obj       cls     total    labels  img_size\n",
            "     21/24     8.74G   0.04997    0.1073         0    0.1573       149       640: 100% 306/306 [01:16<00:00,  4.02it/s]\n",
            "               Class      Images      Labels           P           R      mAP@.5  mAP@.5:.95: 100% 54/54 [00:07<00:00,  7.55it/s]\n",
            "                 all         855       15936        0.67       0.513       0.547       0.181\n",
            "\n",
            "     Epoch   gpu_mem       box       obj       cls     total    labels  img_size\n",
            "     22/24     8.74G   0.04987    0.1073         0    0.1572       118       640: 100% 306/306 [01:16<00:00,  4.03it/s]\n",
            "               Class      Images      Labels           P           R      mAP@.5  mAP@.5:.95: 100% 54/54 [00:07<00:00,  7.61it/s]\n",
            "                 all         855       15936       0.656       0.538       0.562        0.19\n",
            "\n",
            "     Epoch   gpu_mem       box       obj       cls     total    labels  img_size\n",
            "     23/24     8.74G   0.04988    0.1068         0    0.1567       139       640: 100% 306/306 [01:16<00:00,  3.99it/s]\n",
            "               Class      Images      Labels           P           R      mAP@.5  mAP@.5:.95: 100% 54/54 [00:07<00:00,  7.59it/s]\n",
            "                 all         855       15936       0.675       0.514       0.549       0.185\n",
            "\n",
            "     Epoch   gpu_mem       box       obj       cls     total    labels  img_size\n",
            "     24/24     8.74G    0.0499    0.1074         0    0.1573        16       640: 100% 306/306 [01:16<00:00,  4.01it/s]\n",
            "               Class      Images      Labels           P           R      mAP@.5  mAP@.5:.95: 100% 54/54 [00:10<00:00,  5.36it/s]\n",
            "                 all         855       15936        0.68       0.509       0.544       0.184\n",
            "25 epochs completed in 0.604 hours.\n",
            "\n",
            "Optimizer stripped from runs/train/exp/weights/last.pt, 74.8MB\n",
            "Optimizer stripped from runs/train/exp/weights/best.pt, 74.8MB\n"
          ]
        }
      ],
      "source": [
        "# System RAM : ~9GB\n",
        "# GPU RAM : ~10GB\n",
        "!python train.py --rgb_only --epochs 25 --workers 8 --device 0 --batch-size 8 --data 'data.yaml' --img 640 640 --cfg 'cfg/training/yolov7-tree.yaml' --weights 'yolov7_training.pt'"
      ]
    },
    {
      "cell_type": "markdown",
      "metadata": {},
      "source": [
        "*Remark : the printed scores (MAP; precision, recall, ...) are computed on the validation image. But pay attention that they are computed on the validation crops, not on whole full val image. In addition, pay attention that these scores are computed using particular confidence and iou_nms thresholds. So, you don't have to much high consideration on these scores.*"
      ]
    },
    {
      "cell_type": "markdown",
      "metadata": {
        "id": "0W0MpUaTCJro"
      },
      "source": [
        "# Inference and evaluation on the full validation image"
      ]
    },
    {
      "cell_type": "code",
      "execution_count": null,
      "metadata": {
        "colab": {
          "base_uri": "https://localhost:8080/"
        },
        "id": "i8QaoHNoKCcx",
        "outputId": "98f5174c-8bb2-4330-8f18-1d0e919160e6"
      },
      "outputs": [
        {
          "name": "stdout",
          "output_type": "stream",
          "text": [
            "[Errno 2] No such file or directory: 'yolov7'\n",
            "/content/yolov7\n"
          ]
        }
      ],
      "source": [
        "%cd yolov7"
      ]
    },
    {
      "cell_type": "code",
      "execution_count": null,
      "metadata": {
        "id": "q_nD09QouqGy"
      },
      "outputs": [],
      "source": [
        "from trees_detection_utils.inference import predict_on_img"
      ]
    },
    {
      "cell_type": "markdown",
      "metadata": {
        "id": "RTu_Ams6f_Cv"
      },
      "source": [
        "### Inference\n",
        "Perform inference on the whole validation image. The result of this is a single `.txt` file, containing all the bounding boxes on the whole validation image.\n",
        "\n",
        "For now, we perform this inference by setting `conf_thres=0.25` and `iou_nms_thres=0.45`. These two very important inference parameters will be later tuned."
      ]
    },
    {
      "cell_type": "code",
      "execution_count": null,
      "metadata": {
        "colab": {
          "base_uri": "https://localhost:8080/"
        },
        "id": "_B4usM6yRuV8",
        "outputId": "1bfc19d0-ee88-40f1-9842-c1bdc2df4be1"
      },
      "outputs": [
        {
          "name": "stdout",
          "output_type": "stream",
          "text": [
            "CROP IMAGE ...\n"
          ]
        },
        {
          "name": "stderr",
          "output_type": "stream",
          "text": [
            "/usr/local/lib/python3.10/dist-packages/PIL/Image.py:3167: DecompressionBombWarning: Image size (98211778 pixels) exceeds limit of 89478485 pixels, could be decompression bomb DOS attack.\n",
            "  warnings.warn(\n",
            "100%|██████████| 945/945 [00:08<00:00, 109.71it/s]\n"
          ]
        },
        {
          "name": "stdout",
          "output_type": "stream",
          "text": [
            "FINISH CROP IMAGE\n",
            "\n",
            "RUN MODEL ON PATCHES ...\n",
            "Fusing layers... \n",
            "RepConv.fuse_repvgg_block\n",
            "RepConv.fuse_repvgg_block\n",
            "RepConv.fuse_repvgg_block\n",
            "IDetect.fuse\n"
          ]
        },
        {
          "name": "stderr",
          "output_type": "stream",
          "text": [
            "/usr/local/lib/python3.10/dist-packages/torch/functional.py:504: UserWarning: torch.meshgrid: in an upcoming release, it will be required to pass the indexing argument. (Triggered internally at ../aten/src/ATen/native/TensorShape.cpp:3483.)\n",
            "  return _VF.meshgrid(tensors, **kwargs)  # type: ignore[attr-defined]\n"
          ]
        },
        {
          "name": "stdout",
          "output_type": "stream",
          "text": [
            " Convert model to Traced-model... \n",
            " traced_script_module saved! \n",
            " model is traced! \n",
            "\n"
          ]
        },
        {
          "name": "stderr",
          "output_type": "stream",
          "text": [
            "100%|██████████| 945/945 [00:49<00:00, 18.92it/s]\n"
          ]
        },
        {
          "name": "stdout",
          "output_type": "stream",
          "text": [
            "FINISH RUN MODEL ON PATCHES\n",
            "\n",
            "UNIFY CROPS BBS ...\n"
          ]
        },
        {
          "name": "stderr",
          "output_type": "stream",
          "text": [
            "100%|██████████| 866/866 [00:00<00:00, 17755.19it/s]\n"
          ]
        },
        {
          "name": "stdout",
          "output_type": "stream",
          "text": [
            "Number of bbs after joining:, 14814\n",
            "Number of bbs after NMS:, 4491\n",
            "Number of bbs after enclosed bbs filtering:, 3910\n",
            "FINISH UNIFY CROPS\n",
            "\n",
            "SAVING IMAGE ...\n"
          ]
        },
        {
          "name": "stderr",
          "output_type": "stream",
          "text": [
            "100%|██████████| 3910/3910 [00:00<00:00, 52991.92it/s]\n"
          ]
        },
        {
          "name": "stdout",
          "output_type": "stream",
          "text": [
            "Image saved\n",
            "FINISH SAVING IMAGE\n"
          ]
        }
      ],
      "source": [
        "path_to_weigths = '../weigths/best_rgb_train.pt'\n",
        "image_path = os.path.join(base_dir, 'dataset/19K53/19K53.tif')\n",
        "predict_on_img(path_to_weigths, image_path, output_bbs_path='./boxes.txt', crop_size=CROP_SIZE, step=STEP,\n",
        "               conf_thres=0.25, iou_nms_thres=0.45, intersect_thres=0.75, verbose=True,\n",
        "               save_fig_pred_bbs=True, infrared=False)"
      ]
    },
    {
      "cell_type": "markdown",
      "metadata": {
        "id": "KpWeW2hDY1UP"
      },
      "source": [
        "### Evaluation\n",
        "Evaluate these predicted bounding boxes w.r.t. the ground truth ones, still on the whole val image."
      ]
    },
    {
      "cell_type": "code",
      "execution_count": null,
      "metadata": {
        "id": "nafvEiewuvfp"
      },
      "outputs": [],
      "source": [
        "from trees_detection_utils.evaluation import visualize_errors_and_missings, evaluate_predicted_boxes"
      ]
    },
    {
      "cell_type": "code",
      "execution_count": null,
      "metadata": {
        "colab": {
          "base_uri": "https://localhost:8080/"
        },
        "id": "IMFW7BaUxpU4",
        "outputId": "5d428bcf-0b25-4c5a-faf4-b222454cf318"
      },
      "outputs": [
        {
          "name": "stderr",
          "output_type": "stream",
          "text": [
            "100%|██████████| 3910/3910 [00:00<00:00, 47332.81it/s]\n",
            "100%|██████████| 4785/4785 [00:00<00:00, 73749.22it/s]\n"
          ]
        },
        {
          "name": "stdout",
          "output_type": "stream",
          "text": [
            "Figure saved\n"
          ]
        }
      ],
      "source": [
        "# Save a figure containing both the ground truths and predictes boxes, both with the \n",
        "# missings and the errors\n",
        "image_path = os.path.join(base_dir, 'dataset/19K53/19K53_RGB.tif')\n",
        "gt_boxes_txt_path = os.path.join(base_dir, 'dataset/19K53/19K53_boxes.txt')\n",
        "pred_boxes_txt_path = 'boxes.txt'\n",
        "visualize_errors_and_missings(image_path, gt_boxes_txt_path, pred_boxes_txt_path,\n",
        "                              iou_eval_thres=0.4, show=False)"
      ]
    },
    {
      "cell_type": "code",
      "execution_count": null,
      "metadata": {
        "colab": {
          "base_uri": "https://localhost:8080/",
          "height": 989
        },
        "id": "mi5KY3QLSNTa",
        "outputId": "a3f9b4c8-cf8f-4e0a-9293-12127b940719"
      },
      "outputs": [
        {
          "name": "stderr",
          "output_type": "stream",
          "text": [
            "3910it [00:37, 105.12it/s]\n"
          ]
        },
        {
          "name": "stdout",
          "output_type": "stream",
          "text": [
            "mAP: 0.58\n",
            "Last precision: 0.76\n",
            "Last recall: 0.62\n",
            "Last f1: 0.68\n",
            "Best f1: 0.68; index: 3703\n"
          ]
        },
        {
          "data": {
            "image/png": "[encoded data removed]",
            "text/plain": [
              "<Figure size 640x480 with 1 Axes>"
            ]
          },
          "metadata": {},
          "output_type": "display_data"
        },
        {
          "data": {
            "image/png": "[encoded data removed]",
            "text/plain": [
              "<Figure size 640x480 with 1 Axes>"
            ]
          },
          "metadata": {},
          "output_type": "display_data"
        }
      ],
      "source": [
        "%matplotlib inline\n",
        "gt_boxes_txt_path = os.path.join(base_dir,'dataset/19K53/19K53_boxes.txt')\n",
        "pred_boxes_txt_path = 'boxes.txt'\n",
        "map_score, last_f1, last_prec, last_rec = evaluate_predicted_boxes(gt_boxes_txt_path, pred_boxes_txt_path, iou_eval_thres=0.4, plot_prec_rec=True, plot_f1=True, verbose=True)"
      ]
    },
    {
      "cell_type": "markdown",
      "metadata": {},
      "source": [
        "Validation scores. \n",
        "- F1 score : $0.68$.\n",
        "- Precision : $0.76$.\n",
        "- Recall : $0.62$.\n",
        "- MAP : $0.58$."
      ]
    },
    {
      "cell_type": "markdown",
      "metadata": {
        "id": "ZNa0EE2rzh5w"
      },
      "source": [
        "# Hyperparameters tuning\n",
        "Let's now tune the two inference parameters `conf_thres` and `iou_nms_thrss` on the validation image.\n",
        "\n",
        "Exaustive grid search among all possible couples of values.\n",
        "\n",
        "This tuning is done w.r.t. the f1 score. This is the measure to monitor."
      ]
    },
    {
      "cell_type": "code",
      "execution_count": null,
      "metadata": {
        "id": "LzOanbrsDrVn"
      },
      "outputs": [],
      "source": [
        "from trees_detection_utils.evaluation import inference_parameters_tuning"
      ]
    },
    {
      "cell_type": "code",
      "execution_count": null,
      "metadata": {
        "colab": {
          "base_uri": "https://localhost:8080/",
          "height": 1000
        },
        "id": "LQwz8q1fS4LS",
        "outputId": "6ba9b498-fe75-4f6d-97eb-e562879ad71e"
      },
      "outputs": [
        {
          "name": "stdout",
          "output_type": "stream",
          "text": [
            "[(0.1, 0.3), (0.1, 0.45), (0.1, 0.6), (0.15, 0.3), (0.15, 0.45), (0.15, 0.6), (0.2, 0.3), (0.2, 0.45), (0.2, 0.6), (0.25, 0.3), (0.25, 0.45), (0.25, 0.6), (0.3, 0.3), (0.3, 0.45), (0.3, 0.6), (0.35, 0.3), (0.35, 0.45), (0.35, 0.6), (0.4, 0.3), (0.4, 0.45), (0.4, 0.6), (0.45, 0.3), (0.45, 0.45), (0.45, 0.6), (0.5, 0.3), (0.5, 0.45), (0.5, 0.6)]\n",
            "START HYPERPARAMETERS conf_thres:0.1 iou_nms_thres:0.3\n",
            "CROP IMAGE ...\n"
          ]
        },
        {
          "name": "stderr",
          "output_type": "stream",
          "text": [
            "100%|██████████| 945/945 [00:08<00:00, 107.34it/s]\n"
          ]
        },
        {
          "name": "stdout",
          "output_type": "stream",
          "text": [
            "FINISH CROP IMAGE\n",
            "\n",
            "RUN MODEL ON PATCHES ...\n",
            "Fusing layers... \n",
            "RepConv.fuse_repvgg_block\n",
            "RepConv.fuse_repvgg_block\n",
            "RepConv.fuse_repvgg_block\n",
            "IDetect.fuse\n",
            " Convert model to Traced-model... \n",
            " traced_script_module saved! \n",
            " model is traced! \n",
            "\n"
          ]
        },
        {
          "name": "stderr",
          "output_type": "stream",
          "text": [
            "100%|██████████| 945/945 [00:53<00:00, 17.81it/s]\n"
          ]
        },
        {
          "name": "stdout",
          "output_type": "stream",
          "text": [
            "FINISH RUN MODEL ON PATCHES\n",
            "\n",
            "UNIFY CROPS BBS ...\n"
          ]
        },
        {
          "name": "stderr",
          "output_type": "stream",
          "text": [
            "100%|██████████| 904/904 [00:00<00:00, 15661.44it/s]\n"
          ]
        },
        {
          "name": "stdout",
          "output_type": "stream",
          "text": [
            "Number of bbs after joining:, 20618\n",
            "Number of bbs after NMS:, 6102\n",
            "Number of bbs after enclosed bbs filtering:, 5486\n",
            "FINISH UNIFY CROPS\n",
            "\n"
          ]
        },
        {
          "name": "stderr",
          "output_type": "stream",
          "text": [
            "5486it [00:51, 105.55it/s]\n"
          ]
        },
        {
          "name": "stdout",
          "output_type": "stream",
          "text": [
            "mAP: 0.62\n",
            "Last precision: 0.59\n",
            "Last recall: 0.68\n",
            "Last f1: 0.63\n",
            "Best f1: 0.68; index: 3681\n",
            "mAP:0.6160751537440248 f1:0.633433940220037 prec:0.592963908129785 rec:0.6798328108672936\n",
            "END HYPERPARAMETERS conf_thres:0.1 iou_nms_thres:0.3\n",
            "\n",
            "START HYPERPARAMETERS conf_thres:0.1 iou_nms_thres:0.45\n",
            "CROP IMAGE ...\n"
          ]
        },
        {
          "name": "stderr",
          "output_type": "stream",
          "text": [
            "100%|██████████| 945/945 [00:08<00:00, 110.93it/s]\n"
          ]
        },
        {
          "name": "stdout",
          "output_type": "stream",
          "text": [
            "FINISH CROP IMAGE\n",
            "\n",
            "RUN MODEL ON PATCHES ...\n",
            "Fusing layers... \n",
            "RepConv.fuse_repvgg_block\n",
            "RepConv.fuse_repvgg_block\n",
            "RepConv.fuse_repvgg_block\n",
            "IDetect.fuse\n",
            " Convert model to Traced-model... \n",
            " traced_script_module saved! \n",
            " model is traced! \n",
            "\n"
          ]
        },
        {
          "name": "stderr",
          "output_type": "stream",
          "text": [
            "100%|██████████| 945/945 [00:53<00:00, 17.61it/s]\n"
          ]
        },
        {
          "name": "stdout",
          "output_type": "stream",
          "text": [
            "FINISH RUN MODEL ON PATCHES\n",
            "\n",
            "UNIFY CROPS BBS ...\n"
          ]
        },
        {
          "name": "stderr",
          "output_type": "stream",
          "text": [
            "100%|██████████| 904/904 [00:00<00:00, 14820.46it/s]\n"
          ]
        },
        {
          "name": "stdout",
          "output_type": "stream",
          "text": [
            "Number of bbs after joining:, 21699\n",
            "Number of bbs after NMS:, 6872\n",
            "Number of bbs after enclosed bbs filtering:, 5505\n",
            "FINISH UNIFY CROPS\n",
            "\n"
          ]
        },
        {
          "name": "stderr",
          "output_type": "stream",
          "text": [
            "5505it [00:52, 105.83it/s]\n"
          ]
        },
        {
          "name": "stdout",
          "output_type": "stream",
          "text": [
            "mAP: 0.62\n",
            "Last precision: 0.59\n",
            "Last recall: 0.68\n",
            "Last f1: 0.63\n",
            "Best f1: 0.68; index: 3579\n",
            "mAP:0.6163612814279634 f1:0.6324586977648201 prec:0.5910990009082652 rec:0.6800417972831766\n",
            "END HYPERPARAMETERS conf_thres:0.1 iou_nms_thres:0.45\n",
            "\n",
            "START HYPERPARAMETERS conf_thres:0.1 iou_nms_thres:0.6\n",
            "CROP IMAGE ...\n"
          ]
        },
        {
          "name": "stderr",
          "output_type": "stream",
          "text": [
            "100%|██████████| 945/945 [00:08<00:00, 109.04it/s]\n"
          ]
        },
        {
          "name": "stdout",
          "output_type": "stream",
          "text": [
            "FINISH CROP IMAGE\n",
            "\n",
            "RUN MODEL ON PATCHES ...\n",
            "Fusing layers... \n",
            "RepConv.fuse_repvgg_block\n",
            "RepConv.fuse_repvgg_block\n",
            "RepConv.fuse_repvgg_block\n",
            "IDetect.fuse\n",
            " Convert model to Traced-model... \n",
            " traced_script_module saved! \n",
            " model is traced! \n",
            "\n"
          ]
        },
        {
          "name": "stderr",
          "output_type": "stream",
          "text": [
            "100%|██████████| 945/945 [00:54<00:00, 17.42it/s]\n"
          ]
        },
        {
          "name": "stdout",
          "output_type": "stream",
          "text": [
            "FINISH RUN MODEL ON PATCHES\n",
            "\n",
            "UNIFY CROPS BBS ...\n"
          ]
        },
        {
          "name": "stderr",
          "output_type": "stream",
          "text": [
            "100%|██████████| 904/904 [00:00<00:00, 13713.57it/s]\n"
          ]
        },
        {
          "name": "stdout",
          "output_type": "stream",
          "text": [
            "Number of bbs after joining:, 24149\n",
            "Number of bbs after NMS:, 8405\n",
            "Number of bbs after enclosed bbs filtering:, 5422\n",
            "FINISH UNIFY CROPS\n",
            "\n"
          ]
        },
        {
          "name": "stderr",
          "output_type": "stream",
          "text": [
            "5422it [00:51, 105.37it/s]\n"
          ]
        },
        {
          "name": "stdout",
          "output_type": "stream",
          "text": [
            "mAP: 0.60\n",
            "Last precision: 0.59\n",
            "Last recall: 0.66\n",
            "Last f1: 0.62\n",
            "Best f1: 0.66; index: 3362\n",
            "mAP:0.5974372735840883 f1:0.6217301851670421 prec:0.5852084101807451 rec:0.6631138975966562\n",
            "END HYPERPARAMETERS conf_thres:0.1 iou_nms_thres:0.6\n",
            "\n",
            "START HYPERPARAMETERS conf_thres:0.15 iou_nms_thres:0.3\n",
            "CROP IMAGE ...\n"
          ]
        },
        {
          "name": "stderr",
          "output_type": "stream",
          "text": [
            "100%|██████████| 945/945 [00:08<00:00, 108.74it/s]\n"
          ]
        },
        {
          "name": "stdout",
          "output_type": "stream",
          "text": [
            "FINISH CROP IMAGE\n",
            "\n",
            "RUN MODEL ON PATCHES ...\n",
            "Fusing layers... \n",
            "RepConv.fuse_repvgg_block\n",
            "RepConv.fuse_repvgg_block\n",
            "RepConv.fuse_repvgg_block\n",
            "IDetect.fuse\n",
            " Convert model to Traced-model... \n",
            " traced_script_module saved! \n",
            " model is traced! \n",
            "\n"
          ]
        },
        {
          "name": "stderr",
          "output_type": "stream",
          "text": [
            "100%|██████████| 945/945 [00:51<00:00, 18.28it/s]\n"
          ]
        },
        {
          "name": "stdout",
          "output_type": "stream",
          "text": [
            "FINISH RUN MODEL ON PATCHES\n",
            "\n",
            "UNIFY CROPS BBS ...\n"
          ]
        },
        {
          "name": "stderr",
          "output_type": "stream",
          "text": [
            "100%|██████████| 890/890 [00:00<00:00, 16456.01it/s]\n"
          ]
        },
        {
          "name": "stdout",
          "output_type": "stream",
          "text": [
            "Number of bbs after joining:, 17896\n",
            "Number of bbs after NMS:, 5195\n",
            "Number of bbs after enclosed bbs filtering:, 4773\n",
            "FINISH UNIFY CROPS\n",
            "\n"
          ]
        },
        {
          "name": "stderr",
          "output_type": "stream",
          "text": [
            "4773it [00:45, 105.58it/s]\n"
          ]
        },
        {
          "name": "stdout",
          "output_type": "stream",
          "text": [
            "mAP: 0.60\n",
            "Last precision: 0.66\n",
            "Last recall: 0.66\n",
            "Last f1: 0.66\n",
            "Best f1: 0.68; index: 3689\n",
            "mAP:0.6029532589520729 f1:0.6595522075748065 prec:0.6603813115441023 rec:0.6587251828631139\n",
            "END HYPERPARAMETERS conf_thres:0.15 iou_nms_thres:0.3\n",
            "\n",
            "START HYPERPARAMETERS conf_thres:0.15 iou_nms_thres:0.45\n",
            "CROP IMAGE ...\n"
          ]
        },
        {
          "name": "stderr",
          "output_type": "stream",
          "text": [
            "100%|██████████| 945/945 [00:08<00:00, 107.96it/s]\n"
          ]
        },
        {
          "name": "stdout",
          "output_type": "stream",
          "text": [
            "FINISH CROP IMAGE\n",
            "\n",
            "RUN MODEL ON PATCHES ...\n",
            "Fusing layers... \n",
            "RepConv.fuse_repvgg_block\n",
            "RepConv.fuse_repvgg_block\n",
            "RepConv.fuse_repvgg_block\n",
            "IDetect.fuse\n",
            " Convert model to Traced-model... \n",
            " traced_script_module saved! \n",
            " model is traced! \n",
            "\n"
          ]
        },
        {
          "name": "stderr",
          "output_type": "stream",
          "text": [
            "100%|██████████| 945/945 [00:08<00:00, 110.12it/s]\n"
          ]
        },
        {
          "name": "stdout",
          "output_type": "stream",
          "text": [
            "FINISH CROP IMAGE\n",
            "\n",
            "RUN MODEL ON PATCHES ...\n",
            "Fusing layers... \n",
            "RepConv.fuse_repvgg_block\n",
            "RepConv.fuse_repvgg_block\n",
            "RepConv.fuse_repvgg_block\n",
            "IDetect.fuse\n",
            " Convert model to Traced-model... \n",
            " traced_script_module saved! \n",
            " model is traced! \n",
            "\n"
          ]
        },
        {
          "name": "stderr",
          "output_type": "stream",
          "text": [
            "100%|██████████| 945/945 [00:52<00:00, 17.98it/s]\n"
          ]
        },
        {
          "name": "stdout",
          "output_type": "stream",
          "text": [
            "FINISH RUN MODEL ON PATCHES\n",
            "\n",
            "UNIFY CROPS BBS ...\n"
          ]
        },
        {
          "name": "stderr",
          "output_type": "stream",
          "text": [
            "100%|██████████| 890/890 [00:00<00:00, 15609.68it/s]\n"
          ]
        },
        {
          "name": "stdout",
          "output_type": "stream",
          "text": [
            "Number of bbs after joining:, 19602\n",
            "Number of bbs after NMS:, 6625\n",
            "Number of bbs after enclosed bbs filtering:, 4721\n",
            "FINISH UNIFY CROPS\n",
            "\n"
          ]
        },
        {
          "name": "stderr",
          "output_type": "stream",
          "text": [
            "4721it [00:44, 106.48it/s]\n"
          ]
        },
        {
          "name": "stdout",
          "output_type": "stream",
          "text": [
            "mAP: 0.59\n",
            "Last precision: 0.66\n",
            "Last recall: 0.65\n",
            "Last f1: 0.65\n",
            "Best f1: 0.67; index: 3627\n",
            "mAP:0.5934394188852028 f1:0.6532716179255207 prec:0.6576996399067994 rec:0.6489028213166145\n",
            "END HYPERPARAMETERS conf_thres:0.15 iou_nms_thres:0.6\n",
            "\n",
            "START HYPERPARAMETERS conf_thres:0.2 iou_nms_thres:0.3\n",
            "CROP IMAGE ...\n"
          ]
        },
        {
          "name": "stderr",
          "output_type": "stream",
          "text": [
            "100%|██████████| 945/945 [00:08<00:00, 107.97it/s]\n"
          ]
        },
        {
          "name": "stdout",
          "output_type": "stream",
          "text": [
            "FINISH CROP IMAGE\n",
            "\n",
            "RUN MODEL ON PATCHES ...\n",
            "Fusing layers... \n",
            "RepConv.fuse_repvgg_block\n",
            "RepConv.fuse_repvgg_block\n",
            "RepConv.fuse_repvgg_block\n",
            "IDetect.fuse\n",
            " Convert model to Traced-model... \n",
            " traced_script_module saved! \n",
            " model is traced! \n",
            "\n"
          ]
        },
        {
          "name": "stderr",
          "output_type": "stream",
          "text": [
            "100%|██████████| 945/945 [00:49<00:00, 18.93it/s]\n"
          ]
        },
        {
          "name": "stdout",
          "output_type": "stream",
          "text": [
            "FINISH RUN MODEL ON PATCHES\n",
            "\n",
            "UNIFY CROPS BBS ...\n"
          ]
        },
        {
          "name": "stderr",
          "output_type": "stream",
          "text": [
            "100%|██████████| 880/880 [00:00<00:00, 16452.94it/s]\n"
          ]
        },
        {
          "name": "stdout",
          "output_type": "stream",
          "text": [
            "Number of bbs after joining:, 16157\n",
            "Number of bbs after NMS:, 4620\n",
            "Number of bbs after enclosed bbs filtering:, 4295\n",
            "FINISH UNIFY CROPS\n",
            "\n"
          ]
        },
        {
          "name": "stderr",
          "output_type": "stream",
          "text": [
            "4295it [00:40, 105.92it/s]\n"
          ]
        },
        {
          "name": "stdout",
          "output_type": "stream",
          "text": [
            "mAP: 0.59\n",
            "Last precision: 0.71\n",
            "Last recall: 0.64\n",
            "Last f1: 0.67\n",
            "Best f1: 0.68; index: 3697\n",
            "mAP:0.5881742691799247 f1:0.6718061674008811 prec:0.710128055878929 rec:0.6374085684430512\n",
            "END HYPERPARAMETERS conf_thres:0.2 iou_nms_thres:0.3\n",
            "\n",
            "START HYPERPARAMETERS conf_thres:0.2 iou_nms_thres:0.45\n",
            "CROP IMAGE ...\n"
          ]
        },
        {
          "name": "stderr",
          "output_type": "stream",
          "text": [
            "100%|██████████| 945/945 [00:08<00:00, 109.90it/s]\n"
          ]
        },
        {
          "name": "stdout",
          "output_type": "stream",
          "text": [
            "FINISH CROP IMAGE\n",
            "\n",
            "RUN MODEL ON PATCHES ...\n",
            "Fusing layers... \n",
            "RepConv.fuse_repvgg_block\n",
            "RepConv.fuse_repvgg_block\n",
            "RepConv.fuse_repvgg_block\n",
            "IDetect.fuse\n",
            " Convert model to Traced-model... \n",
            " traced_script_module saved! \n",
            " model is traced! \n",
            "\n"
          ]
        },
        {
          "name": "stderr",
          "output_type": "stream",
          "text": [
            "100%|██████████| 945/945 [00:50<00:00, 18.82it/s]\n"
          ]
        },
        {
          "name": "stdout",
          "output_type": "stream",
          "text": [
            "FINISH RUN MODEL ON PATCHES\n",
            "\n",
            "UNIFY CROPS BBS ...\n"
          ]
        },
        {
          "name": "stderr",
          "output_type": "stream",
          "text": [
            "100%|██████████| 880/880 [00:00<00:00, 17190.33it/s]\n"
          ]
        },
        {
          "name": "stdout",
          "output_type": "stream",
          "text": [
            "Number of bbs after joining:, 16451\n",
            "Number of bbs after NMS:, 5009\n",
            "Number of bbs after enclosed bbs filtering:, 4300\n",
            "FINISH UNIFY CROPS\n",
            "\n"
          ]
        },
        {
          "name": "stderr",
          "output_type": "stream",
          "text": [
            "4300it [00:40, 106.34it/s]\n"
          ]
        },
        {
          "name": "stdout",
          "output_type": "stream",
          "text": [
            "mAP: 0.59\n",
            "Last precision: 0.71\n",
            "Last recall: 0.64\n",
            "Last f1: 0.67\n",
            "Best f1: 0.68; index: 3686\n",
            "mAP:0.5909881882217747 f1:0.6742982938910292 prec:0.7123255813953489 rec:0.6401253918495298\n",
            "END HYPERPARAMETERS conf_thres:0.2 iou_nms_thres:0.45\n",
            "\n",
            "START HYPERPARAMETERS conf_thres:0.2 iou_nms_thres:0.6\n",
            "CROP IMAGE ...\n"
          ]
        },
        {
          "name": "stderr",
          "output_type": "stream",
          "text": [
            "100%|██████████| 945/945 [00:08<00:00, 109.07it/s]\n"
          ]
        },
        {
          "name": "stdout",
          "output_type": "stream",
          "text": [
            "FINISH CROP IMAGE\n",
            "\n",
            "RUN MODEL ON PATCHES ...\n",
            "Fusing layers... \n",
            "RepConv.fuse_repvgg_block\n",
            "RepConv.fuse_repvgg_block\n",
            "RepConv.fuse_repvgg_block\n",
            "IDetect.fuse\n",
            " Convert model to Traced-model... \n",
            " traced_script_module saved! \n",
            " model is traced! \n",
            "\n"
          ]
        },
        {
          "name": "stderr",
          "output_type": "stream",
          "text": [
            "100%|██████████| 945/945 [00:51<00:00, 18.36it/s]\n"
          ]
        },
        {
          "name": "stdout",
          "output_type": "stream",
          "text": [
            "FINISH RUN MODEL ON PATCHES\n",
            "\n",
            "UNIFY CROPS BBS ...\n"
          ]
        },
        {
          "name": "stderr",
          "output_type": "stream",
          "text": [
            "100%|██████████| 880/880 [00:00<00:00, 15085.45it/s]\n"
          ]
        },
        {
          "name": "stdout",
          "output_type": "stream",
          "text": [
            "Number of bbs after joining:, 17073\n",
            "Number of bbs after NMS:, 5653\n",
            "Number of bbs after enclosed bbs filtering:, 4248\n",
            "FINISH UNIFY CROPS\n",
            "\n"
          ]
        },
        {
          "name": "stderr",
          "output_type": "stream",
          "text": [
            "4248it [00:42, 100.55it/s]\n"
          ]
        },
        {
          "name": "stdout",
          "output_type": "stream",
          "text": [
            "mAP: 0.59\n",
            "Last precision: 0.71\n",
            "Last recall: 0.63\n",
            "Last f1: 0.67\n",
            "Best f1: 0.68; index: 3728\n",
            "mAP:0.5850641211047751 f1:0.6713162847337539 prec:0.7137476459510358 rec:0.6336468129571577\n",
            "END HYPERPARAMETERS conf_thres:0.2 iou_nms_thres:0.6\n",
            "\n",
            "START HYPERPARAMETERS conf_thres:0.25 iou_nms_thres:0.3\n",
            "CROP IMAGE ...\n"
          ]
        },
        {
          "name": "stderr",
          "output_type": "stream",
          "text": [
            "100%|██████████| 945/945 [00:09<00:00, 102.64it/s]\n"
          ]
        },
        {
          "name": "stdout",
          "output_type": "stream",
          "text": [
            "FINISH CROP IMAGE\n",
            "\n",
            "RUN MODEL ON PATCHES ...\n",
            "Fusing layers... \n",
            "RepConv.fuse_repvgg_block\n",
            "RepConv.fuse_repvgg_block\n",
            "RepConv.fuse_repvgg_block\n",
            "IDetect.fuse\n",
            " Convert model to Traced-model... \n",
            " traced_script_module saved! \n",
            " model is traced! \n",
            "\n"
          ]
        },
        {
          "name": "stderr",
          "output_type": "stream",
          "text": [
            "100%|██████████| 945/945 [00:50<00:00, 18.88it/s]\n"
          ]
        },
        {
          "name": "stdout",
          "output_type": "stream",
          "text": [
            "FINISH RUN MODEL ON PATCHES\n",
            "\n",
            "UNIFY CROPS BBS ...\n"
          ]
        },
        {
          "name": "stderr",
          "output_type": "stream",
          "text": [
            "100%|██████████| 866/866 [00:00<00:00, 17731.35it/s]\n"
          ]
        },
        {
          "name": "stdout",
          "output_type": "stream",
          "text": [
            "Number of bbs after joining:, 14640\n",
            "Number of bbs after NMS:, 4159\n",
            "Number of bbs after enclosed bbs filtering:, 3904\n",
            "FINISH UNIFY CROPS\n",
            "\n"
          ]
        },
        {
          "name": "stderr",
          "output_type": "stream",
          "text": [
            "3904it [00:37, 102.78it/s]\n"
          ]
        },
        {
          "name": "stdout",
          "output_type": "stream",
          "text": [
            "mAP: 0.57\n",
            "Last precision: 0.76\n",
            "Last recall: 0.62\n",
            "Last f1: 0.68\n",
            "Best f1: 0.68; index: 3703\n",
            "mAP:0.5736364135402665 f1:0.6799401542179768 prec:0.7566598360655737 rec:0.6173458725182863\n",
            "END HYPERPARAMETERS conf_thres:0.25 iou_nms_thres:0.3\n",
            "\n",
            "START HYPERPARAMETERS conf_thres:0.25 iou_nms_thres:0.45\n",
            "CROP IMAGE ...\n"
          ]
        },
        {
          "name": "stderr",
          "output_type": "stream",
          "text": [
            "100%|██████████| 945/945 [00:08<00:00, 109.25it/s]\n"
          ]
        },
        {
          "name": "stdout",
          "output_type": "stream",
          "text": [
            "FINISH CROP IMAGE\n",
            "\n",
            "RUN MODEL ON PATCHES ...\n",
            "Fusing layers... \n",
            "RepConv.fuse_repvgg_block\n",
            "RepConv.fuse_repvgg_block\n",
            "RepConv.fuse_repvgg_block\n",
            "IDetect.fuse\n",
            " Convert model to Traced-model... \n",
            " traced_script_module saved! \n",
            " model is traced! \n",
            "\n"
          ]
        },
        {
          "name": "stderr",
          "output_type": "stream",
          "text": [
            "100%|██████████| 945/945 [00:53<00:00, 17.82it/s]\n"
          ]
        },
        {
          "name": "stdout",
          "output_type": "stream",
          "text": [
            "FINISH RUN MODEL ON PATCHES\n",
            "\n",
            "UNIFY CROPS BBS ...\n"
          ]
        },
        {
          "name": "stderr",
          "output_type": "stream",
          "text": [
            "100%|██████████| 866/866 [00:00<00:00, 15403.69it/s]\n"
          ]
        },
        {
          "name": "stdout",
          "output_type": "stream",
          "text": [
            "Number of bbs after joining:, 14814\n",
            "Number of bbs after NMS:, 4491\n",
            "Number of bbs after enclosed bbs filtering:, 3910\n",
            "FINISH UNIFY CROPS\n",
            "\n"
          ]
        },
        {
          "name": "stderr",
          "output_type": "stream",
          "text": [
            "3910it [00:42, 92.73it/s]\n"
          ]
        },
        {
          "name": "stdout",
          "output_type": "stream",
          "text": [
            "mAP: 0.58\n",
            "Last precision: 0.76\n",
            "Last recall: 0.62\n",
            "Last f1: 0.68\n",
            "Best f1: 0.68; index: 3703\n",
            "mAP:0.5752960128927714 f1:0.6808510638297872 prec:0.7570332480818415 rec:0.6185997910135841\n",
            "END HYPERPARAMETERS conf_thres:0.25 iou_nms_thres:0.45\n",
            "\n",
            "START HYPERPARAMETERS conf_thres:0.25 iou_nms_thres:0.6\n",
            "CROP IMAGE ...\n"
          ]
        },
        {
          "name": "stderr",
          "output_type": "stream",
          "text": [
            "100%|██████████| 945/945 [00:09<00:00, 100.94it/s]\n"
          ]
        },
        {
          "name": "stdout",
          "output_type": "stream",
          "text": [
            "FINISH CROP IMAGE\n",
            "\n",
            "RUN MODEL ON PATCHES ...\n",
            "Fusing layers... \n",
            "RepConv.fuse_repvgg_block\n",
            "RepConv.fuse_repvgg_block\n",
            "RepConv.fuse_repvgg_block\n",
            "IDetect.fuse\n",
            " Convert model to Traced-model... \n",
            " traced_script_module saved! \n",
            " model is traced! \n",
            "\n"
          ]
        },
        {
          "name": "stderr",
          "output_type": "stream",
          "text": [
            "100%|██████████| 945/945 [00:54<00:00, 17.40it/s]\n"
          ]
        },
        {
          "name": "stdout",
          "output_type": "stream",
          "text": [
            "FINISH RUN MODEL ON PATCHES\n",
            "\n",
            "UNIFY CROPS BBS ...\n"
          ]
        },
        {
          "name": "stderr",
          "output_type": "stream",
          "text": [
            "100%|██████████| 866/866 [00:00<00:00, 14961.76it/s]\n"
          ]
        },
        {
          "name": "stdout",
          "output_type": "stream",
          "text": [
            "Number of bbs after joining:, 15163\n",
            "Number of bbs after NMS:, 4980\n",
            "Number of bbs after enclosed bbs filtering:, 3874\n",
            "FINISH UNIFY CROPS\n",
            "\n"
          ]
        },
        {
          "name": "stderr",
          "output_type": "stream",
          "text": [
            "3874it [00:38, 100.38it/s]\n"
          ]
        },
        {
          "name": "stdout",
          "output_type": "stream",
          "text": [
            "mAP: 0.57\n",
            "Last precision: 0.76\n",
            "Last recall: 0.61\n",
            "Last f1: 0.68\n",
            "Best f1: 0.68; index: 3752\n",
            "mAP:0.5716742989108633 f1:0.6790622473726758 prec:0.7589055240061952 rec:0.6144200626959248\n",
            "END HYPERPARAMETERS conf_thres:0.25 iou_nms_thres:0.6\n",
            "\n",
            "START HYPERPARAMETERS conf_thres:0.3 iou_nms_thres:0.3\n",
            "CROP IMAGE ...\n"
          ]
        },
        {
          "name": "stderr",
          "output_type": "stream",
          "text": [
            "100%|██████████| 945/945 [00:09<00:00, 102.14it/s]\n"
          ]
        },
        {
          "name": "stdout",
          "output_type": "stream",
          "text": [
            "FINISH CROP IMAGE\n",
            "\n",
            "RUN MODEL ON PATCHES ...\n",
            "Fusing layers... \n",
            "RepConv.fuse_repvgg_block\n",
            "RepConv.fuse_repvgg_block\n",
            "RepConv.fuse_repvgg_block\n",
            "IDetect.fuse\n",
            " Convert model to Traced-model... \n",
            " traced_script_module saved! \n",
            " model is traced! \n",
            "\n"
          ]
        },
        {
          "name": "stderr",
          "output_type": "stream",
          "text": [
            "100%|██████████| 945/945 [00:52<00:00, 18.17it/s]\n"
          ]
        },
        {
          "name": "stdout",
          "output_type": "stream",
          "text": [
            "FINISH RUN MODEL ON PATCHES\n",
            "\n",
            "UNIFY CROPS BBS ...\n"
          ]
        },
        {
          "name": "stderr",
          "output_type": "stream",
          "text": [
            "100%|██████████| 853/853 [00:00<00:00, 17361.86it/s]\n"
          ]
        },
        {
          "name": "stdout",
          "output_type": "stream",
          "text": [
            "Number of bbs after joining:, 13392\n",
            "Number of bbs after NMS:, 3791\n",
            "Number of bbs after enclosed bbs filtering:, 3581\n",
            "FINISH UNIFY CROPS\n",
            "\n"
          ]
        },
        {
          "name": "stderr",
          "output_type": "stream",
          "text": [
            "3581it [00:35, 101.98it/s]\n"
          ]
        },
        {
          "name": "stdout",
          "output_type": "stream",
          "text": [
            "mAP: 0.56\n",
            "Last precision: 0.79\n",
            "Last recall: 0.59\n",
            "Last f1: 0.68\n",
            "Best f1: 0.68; index: 3523\n",
            "mAP:0.5553304967496653 f1:0.6791776237150371 prec:0.7933538117844178 rec:0.5937304075235109\n",
            "END HYPERPARAMETERS conf_thres:0.3 iou_nms_thres:0.3\n",
            "\n",
            "START HYPERPARAMETERS conf_thres:0.3 iou_nms_thres:0.45\n",
            "CROP IMAGE ...\n"
          ]
        },
        {
          "name": "stderr",
          "output_type": "stream",
          "text": [
            "100%|██████████| 945/945 [00:08<00:00, 108.48it/s]\n"
          ]
        },
        {
          "name": "stdout",
          "output_type": "stream",
          "text": [
            "FINISH CROP IMAGE\n",
            "\n",
            "RUN MODEL ON PATCHES ...\n",
            "Fusing layers... \n",
            "RepConv.fuse_repvgg_block\n",
            "RepConv.fuse_repvgg_block\n",
            "RepConv.fuse_repvgg_block\n",
            "IDetect.fuse\n",
            " Convert model to Traced-model... \n",
            " traced_script_module saved! \n",
            " model is traced! \n",
            "\n"
          ]
        },
        {
          "name": "stderr",
          "output_type": "stream",
          "text": [
            "100%|██████████| 945/945 [00:48<00:00, 19.38it/s]\n"
          ]
        },
        {
          "name": "stdout",
          "output_type": "stream",
          "text": [
            "FINISH RUN MODEL ON PATCHES\n",
            "\n",
            "UNIFY CROPS BBS ...\n"
          ]
        },
        {
          "name": "stderr",
          "output_type": "stream",
          "text": [
            "100%|██████████| 853/853 [00:00<00:00, 18331.88it/s]\n"
          ]
        },
        {
          "name": "stdout",
          "output_type": "stream",
          "text": [
            "Number of bbs after joining:, 13493\n",
            "Number of bbs after NMS:, 4066\n",
            "Number of bbs after enclosed bbs filtering:, 3590\n",
            "FINISH UNIFY CROPS\n",
            "\n"
          ]
        },
        {
          "name": "stderr",
          "output_type": "stream",
          "text": [
            "3590it [00:34, 104.69it/s]\n"
          ]
        },
        {
          "name": "stdout",
          "output_type": "stream",
          "text": [
            "mAP: 0.56\n",
            "Last precision: 0.79\n",
            "Last recall: 0.59\n",
            "Last f1: 0.68\n",
            "Best f1: 0.68; index: 3532\n",
            "mAP:0.5568301497248572 f1:0.6798805970149253 prec:0.7930362116991644 rec:0.5949843260188088\n",
            "END HYPERPARAMETERS conf_thres:0.3 iou_nms_thres:0.45\n",
            "\n",
            "START HYPERPARAMETERS conf_thres:0.3 iou_nms_thres:0.6\n",
            "CROP IMAGE ...\n"
          ]
        },
        {
          "name": "stderr",
          "output_type": "stream",
          "text": [
            "100%|██████████| 945/945 [00:08<00:00, 107.74it/s]\n"
          ]
        },
        {
          "name": "stdout",
          "output_type": "stream",
          "text": [
            "FINISH CROP IMAGE\n",
            "\n",
            "RUN MODEL ON PATCHES ...\n",
            "Fusing layers... \n",
            "RepConv.fuse_repvgg_block\n",
            "RepConv.fuse_repvgg_block\n",
            "RepConv.fuse_repvgg_block\n",
            "IDetect.fuse\n",
            " Convert model to Traced-model... \n",
            " traced_script_module saved! \n",
            " model is traced! \n",
            "\n"
          ]
        },
        {
          "name": "stderr",
          "output_type": "stream",
          "text": [
            "100%|██████████| 945/945 [00:49<00:00, 19.26it/s]\n"
          ]
        },
        {
          "name": "stdout",
          "output_type": "stream",
          "text": [
            "FINISH RUN MODEL ON PATCHES\n",
            "\n",
            "UNIFY CROPS BBS ...\n"
          ]
        },
        {
          "name": "stderr",
          "output_type": "stream",
          "text": [
            "100%|██████████| 853/853 [00:00<00:00, 17058.63it/s]\n"
          ]
        },
        {
          "name": "stdout",
          "output_type": "stream",
          "text": [
            "Number of bbs after joining:, 13688\n",
            "Number of bbs after NMS:, 4468\n",
            "Number of bbs after enclosed bbs filtering:, 3563\n",
            "FINISH UNIFY CROPS\n",
            "\n"
          ]
        },
        {
          "name": "stderr",
          "output_type": "stream",
          "text": [
            "3563it [00:33, 105.10it/s]\n"
          ]
        },
        {
          "name": "stdout",
          "output_type": "stream",
          "text": [
            "mAP: 0.55\n",
            "Last precision: 0.79\n",
            "Last recall: 0.59\n",
            "Last f1: 0.68\n",
            "Best f1: 0.68; index: 3549\n",
            "mAP:0.553962309087579 f1:0.6780067081935793 prec:0.7942744877911873 rec:0.5914315569487983\n",
            "END HYPERPARAMETERS conf_thres:0.3 iou_nms_thres:0.6\n",
            "\n",
            "START HYPERPARAMETERS conf_thres:0.35 iou_nms_thres:0.3\n",
            "CROP IMAGE ...\n"
          ]
        },
        {
          "name": "stderr",
          "output_type": "stream",
          "text": [
            "100%|██████████| 945/945 [00:08<00:00, 108.30it/s]\n"
          ]
        },
        {
          "name": "stdout",
          "output_type": "stream",
          "text": [
            "FINISH CROP IMAGE\n",
            "\n",
            "RUN MODEL ON PATCHES ...\n",
            "Fusing layers... \n",
            "RepConv.fuse_repvgg_block\n",
            "RepConv.fuse_repvgg_block\n",
            "RepConv.fuse_repvgg_block\n",
            "IDetect.fuse\n",
            " Convert model to Traced-model... \n",
            " traced_script_module saved! \n",
            " model is traced! \n",
            "\n"
          ]
        },
        {
          "name": "stderr",
          "output_type": "stream",
          "text": [
            "100%|██████████| 945/945 [00:47<00:00, 19.76it/s]\n"
          ]
        },
        {
          "name": "stdout",
          "output_type": "stream",
          "text": [
            "FINISH RUN MODEL ON PATCHES\n",
            "\n",
            "UNIFY CROPS BBS ...\n"
          ]
        },
        {
          "name": "stderr",
          "output_type": "stream",
          "text": [
            "100%|██████████| 842/842 [00:00<00:00, 18952.68it/s]\n"
          ]
        },
        {
          "name": "stdout",
          "output_type": "stream",
          "text": [
            "Number of bbs after joining:, 12335\n",
            "Number of bbs after NMS:, 3476\n",
            "Number of bbs after enclosed bbs filtering:, 3301\n",
            "FINISH UNIFY CROPS\n",
            "\n"
          ]
        },
        {
          "name": "stderr",
          "output_type": "stream",
          "text": [
            "3301it [00:31, 104.71it/s]\n"
          ]
        },
        {
          "name": "stdout",
          "output_type": "stream",
          "text": [
            "mAP: 0.54\n",
            "Last precision: 0.83\n",
            "Last recall: 0.57\n",
            "Last f1: 0.68\n",
            "Best f1: 0.68; index: 3286\n",
            "mAP:0.5366693205372374 f1:0.6757358397229779 prec:0.8276279915177219 rec:0.5709508881922675\n",
            "END HYPERPARAMETERS conf_thres:0.35 iou_nms_thres:0.3\n",
            "\n",
            "START HYPERPARAMETERS conf_thres:0.35 iou_nms_thres:0.45\n",
            "CROP IMAGE ...\n"
          ]
        },
        {
          "name": "stderr",
          "output_type": "stream",
          "text": [
            "100%|██████████| 945/945 [00:08<00:00, 108.51it/s]\n"
          ]
        },
        {
          "name": "stdout",
          "output_type": "stream",
          "text": [
            "FINISH CROP IMAGE\n",
            "\n",
            "RUN MODEL ON PATCHES ...\n",
            "Fusing layers... \n",
            "RepConv.fuse_repvgg_block\n",
            "RepConv.fuse_repvgg_block\n",
            "RepConv.fuse_repvgg_block\n",
            "IDetect.fuse\n",
            " Convert model to Traced-model... \n",
            " traced_script_module saved! \n",
            " model is traced! \n",
            "\n"
          ]
        },
        {
          "name": "stderr",
          "output_type": "stream",
          "text": [
            "100%|██████████| 945/945 [00:48<00:00, 19.34it/s]\n"
          ]
        },
        {
          "name": "stdout",
          "output_type": "stream",
          "text": [
            "FINISH RUN MODEL ON PATCHES\n",
            "\n",
            "UNIFY CROPS BBS ...\n"
          ]
        },
        {
          "name": "stderr",
          "output_type": "stream",
          "text": [
            "100%|██████████| 842/842 [00:00<00:00, 19041.07it/s]\n"
          ]
        },
        {
          "name": "stdout",
          "output_type": "stream",
          "text": [
            "Number of bbs after joining:, 12394\n",
            "Number of bbs after NMS:, 3702\n",
            "Number of bbs after enclosed bbs filtering:, 3312\n",
            "FINISH UNIFY CROPS\n",
            "\n"
          ]
        },
        {
          "name": "stderr",
          "output_type": "stream",
          "text": [
            "3312it [00:31, 105.44it/s]\n"
          ]
        },
        {
          "name": "stdout",
          "output_type": "stream",
          "text": [
            "mAP: 0.54\n",
            "Last precision: 0.83\n",
            "Last recall: 0.57\n",
            "Last f1: 0.68\n",
            "Best f1: 0.68; index: 3288\n",
            "mAP:0.5386946867685068 f1:0.6767938742744227 prec:0.8272946859903382 rec:0.5726227795193313\n",
            "END HYPERPARAMETERS conf_thres:0.35 iou_nms_thres:0.45\n",
            "\n",
            "START HYPERPARAMETERS conf_thres:0.35 iou_nms_thres:0.6\n",
            "CROP IMAGE ...\n"
          ]
        },
        {
          "name": "stderr",
          "output_type": "stream",
          "text": [
            "100%|██████████| 945/945 [00:08<00:00, 107.55it/s]\n"
          ]
        },
        {
          "name": "stdout",
          "output_type": "stream",
          "text": [
            "FINISH CROP IMAGE\n",
            "\n",
            "RUN MODEL ON PATCHES ...\n",
            "Fusing layers... \n",
            "RepConv.fuse_repvgg_block\n",
            "RepConv.fuse_repvgg_block\n",
            "RepConv.fuse_repvgg_block\n",
            "IDetect.fuse\n",
            " Convert model to Traced-model... \n",
            " traced_script_module saved! \n",
            " model is traced! \n",
            "\n"
          ]
        },
        {
          "name": "stderr",
          "output_type": "stream",
          "text": [
            "100%|██████████| 945/945 [00:48<00:00, 19.36it/s]\n"
          ]
        },
        {
          "name": "stdout",
          "output_type": "stream",
          "text": [
            "FINISH RUN MODEL ON PATCHES\n",
            "\n",
            "UNIFY CROPS BBS ...\n"
          ]
        },
        {
          "name": "stderr",
          "output_type": "stream",
          "text": [
            "100%|██████████| 842/842 [00:00<00:00, 18722.49it/s]\n"
          ]
        },
        {
          "name": "stdout",
          "output_type": "stream",
          "text": [
            "Number of bbs after joining:, 12488\n",
            "Number of bbs after NMS:, 4041\n",
            "Number of bbs after enclosed bbs filtering:, 3290\n",
            "FINISH UNIFY CROPS\n",
            "\n"
          ]
        },
        {
          "name": "stderr",
          "output_type": "stream",
          "text": [
            "3290it [00:31, 104.67it/s]\n"
          ]
        },
        {
          "name": "stdout",
          "output_type": "stream",
          "text": [
            "mAP: 0.54\n",
            "Last precision: 0.83\n",
            "Last recall: 0.57\n",
            "Last f1: 0.68\n",
            "Best f1: 0.68; index: 3259\n",
            "mAP:0.5382789091783778 f1:0.6771517027863777 prec:0.8310030395136778 rec:0.5713688610240334\n",
            "END HYPERPARAMETERS conf_thres:0.35 iou_nms_thres:0.6\n",
            "\n",
            "START HYPERPARAMETERS conf_thres:0.4 iou_nms_thres:0.3\n",
            "CROP IMAGE ...\n"
          ]
        },
        {
          "name": "stderr",
          "output_type": "stream",
          "text": [
            "100%|██████████| 945/945 [00:08<00:00, 108.77it/s]\n"
          ]
        },
        {
          "name": "stdout",
          "output_type": "stream",
          "text": [
            "FINISH CROP IMAGE\n",
            "\n",
            "RUN MODEL ON PATCHES ...\n",
            "Fusing layers... \n",
            "RepConv.fuse_repvgg_block\n",
            "RepConv.fuse_repvgg_block\n",
            "RepConv.fuse_repvgg_block\n",
            "IDetect.fuse\n",
            " Convert model to Traced-model... \n",
            " traced_script_module saved! \n",
            " model is traced! \n",
            "\n"
          ]
        },
        {
          "name": "stderr",
          "output_type": "stream",
          "text": [
            "100%|██████████| 945/945 [00:46<00:00, 20.13it/s]\n"
          ]
        },
        {
          "name": "stdout",
          "output_type": "stream",
          "text": [
            "FINISH RUN MODEL ON PATCHES\n",
            "\n",
            "UNIFY CROPS BBS ...\n"
          ]
        },
        {
          "name": "stderr",
          "output_type": "stream",
          "text": [
            "100%|██████████| 830/830 [00:00<00:00, 4102.05it/s]\n"
          ]
        },
        {
          "name": "stdout",
          "output_type": "stream",
          "text": [
            "Number of bbs after joining:, 11246\n",
            "Number of bbs after NMS:, 3167\n",
            "Number of bbs after enclosed bbs filtering:, 3036\n",
            "FINISH UNIFY CROPS\n",
            "\n"
          ]
        },
        {
          "name": "stderr",
          "output_type": "stream",
          "text": [
            "3036it [00:29, 104.35it/s]\n"
          ]
        },
        {
          "name": "stdout",
          "output_type": "stream",
          "text": [
            "mAP: 0.51\n",
            "Last precision: 0.85\n",
            "Last recall: 0.54\n",
            "Last f1: 0.66\n",
            "Best f1: 0.66; index: 3034\n",
            "mAP:0.5116099264411089 f1:0.6620636747219025 prec:0.8527667984189723 rec:0.5410658307210031\n",
            "END HYPERPARAMETERS conf_thres:0.4 iou_nms_thres:0.3\n",
            "\n",
            "START HYPERPARAMETERS conf_thres:0.4 iou_nms_thres:0.45\n",
            "CROP IMAGE ...\n"
          ]
        },
        {
          "name": "stderr",
          "output_type": "stream",
          "text": [
            "100%|██████████| 945/945 [00:08<00:00, 108.80it/s]\n"
          ]
        },
        {
          "name": "stdout",
          "output_type": "stream",
          "text": [
            "FINISH CROP IMAGE\n",
            "\n",
            "RUN MODEL ON PATCHES ...\n",
            "Fusing layers... \n",
            "RepConv.fuse_repvgg_block\n",
            "RepConv.fuse_repvgg_block\n",
            "RepConv.fuse_repvgg_block\n",
            "IDetect.fuse\n",
            " Convert model to Traced-model... \n",
            " traced_script_module saved! \n",
            " model is traced! \n",
            "\n"
          ]
        },
        {
          "name": "stderr",
          "output_type": "stream",
          "text": [
            "100%|██████████| 945/945 [00:47<00:00, 20.01it/s]\n"
          ]
        },
        {
          "name": "stdout",
          "output_type": "stream",
          "text": [
            "FINISH RUN MODEL ON PATCHES\n",
            "\n",
            "UNIFY CROPS BBS ...\n"
          ]
        },
        {
          "name": "stderr",
          "output_type": "stream",
          "text": [
            "100%|██████████| 830/830 [00:00<00:00, 19010.26it/s]\n"
          ]
        },
        {
          "name": "stdout",
          "output_type": "stream",
          "text": [
            "Number of bbs after joining:, 11286\n",
            "Number of bbs after NMS:, 3345\n",
            "Number of bbs after enclosed bbs filtering:, 3043\n",
            "FINISH UNIFY CROPS\n",
            "\n"
          ]
        },
        {
          "name": "stderr",
          "output_type": "stream",
          "text": [
            "3043it [00:29, 103.71it/s]\n"
          ]
        },
        {
          "name": "stdout",
          "output_type": "stream",
          "text": [
            "mAP: 0.51\n",
            "Last precision: 0.85\n",
            "Last recall: 0.54\n",
            "Last f1: 0.66\n",
            "Best f1: 0.66; index: 3041\n",
            "mAP:0.5128101653401984 f1:0.6624936126724579 prec:0.8521196187972395 rec:0.541901776384535\n",
            "END HYPERPARAMETERS conf_thres:0.4 iou_nms_thres:0.45\n",
            "\n",
            "START HYPERPARAMETERS conf_thres:0.4 iou_nms_thres:0.6\n",
            "CROP IMAGE ...\n"
          ]
        },
        {
          "name": "stderr",
          "output_type": "stream",
          "text": [
            "100%|██████████| 945/945 [00:08<00:00, 108.27it/s]\n"
          ]
        },
        {
          "name": "stdout",
          "output_type": "stream",
          "text": [
            "FINISH CROP IMAGE\n",
            "\n",
            "RUN MODEL ON PATCHES ...\n",
            "Fusing layers... \n",
            "RepConv.fuse_repvgg_block\n",
            "RepConv.fuse_repvgg_block\n",
            "RepConv.fuse_repvgg_block\n",
            "IDetect.fuse\n",
            " Convert model to Traced-model... \n",
            " traced_script_module saved! \n",
            " model is traced! \n",
            "\n"
          ]
        },
        {
          "name": "stderr",
          "output_type": "stream",
          "text": [
            "100%|██████████| 945/945 [00:47<00:00, 19.78it/s]\n"
          ]
        },
        {
          "name": "stdout",
          "output_type": "stream",
          "text": [
            "FINISH RUN MODEL ON PATCHES\n",
            "\n",
            "UNIFY CROPS BBS ...\n"
          ]
        },
        {
          "name": "stderr",
          "output_type": "stream",
          "text": [
            "100%|██████████| 830/830 [00:00<00:00, 3878.96it/s]\n"
          ]
        },
        {
          "name": "stdout",
          "output_type": "stream",
          "text": [
            "Number of bbs after joining:, 11335\n",
            "Number of bbs after NMS:, 3640\n",
            "Number of bbs after enclosed bbs filtering:, 3034\n",
            "FINISH UNIFY CROPS\n",
            "\n"
          ]
        },
        {
          "name": "stderr",
          "output_type": "stream",
          "text": [
            "3034it [00:29, 104.37it/s]\n"
          ]
        },
        {
          "name": "stdout",
          "output_type": "stream",
          "text": [
            "mAP: 0.51\n",
            "Last precision: 0.85\n",
            "Last recall: 0.54\n",
            "Last f1: 0.66\n",
            "Best f1: 0.66; index: 3032\n",
            "mAP:0.5127526777333419 f1:0.6624888093106535 prec:0.8536585365853658 rec:0.5412748171368861\n",
            "END HYPERPARAMETERS conf_thres:0.4 iou_nms_thres:0.6\n",
            "\n",
            "START HYPERPARAMETERS conf_thres:0.45 iou_nms_thres:0.3\n",
            "CROP IMAGE ...\n"
          ]
        },
        {
          "name": "stderr",
          "output_type": "stream",
          "text": [
            "100%|██████████| 945/945 [00:08<00:00, 108.71it/s]\n"
          ]
        },
        {
          "name": "stdout",
          "output_type": "stream",
          "text": [
            "FINISH CROP IMAGE\n",
            "\n",
            "RUN MODEL ON PATCHES ...\n",
            "Fusing layers... \n",
            "RepConv.fuse_repvgg_block\n",
            "RepConv.fuse_repvgg_block\n",
            "RepConv.fuse_repvgg_block\n",
            "IDetect.fuse\n",
            " Convert model to Traced-model... \n",
            " traced_script_module saved! \n",
            " model is traced! \n",
            "\n"
          ]
        },
        {
          "name": "stderr",
          "output_type": "stream",
          "text": [
            "100%|██████████| 945/945 [00:47<00:00, 19.87it/s]\n"
          ]
        },
        {
          "name": "stdout",
          "output_type": "stream",
          "text": [
            "FINISH RUN MODEL ON PATCHES\n",
            "\n",
            "UNIFY CROPS BBS ...\n"
          ]
        },
        {
          "name": "stderr",
          "output_type": "stream",
          "text": [
            "100%|██████████| 825/825 [00:00<00:00, 20958.82it/s]\n"
          ]
        },
        {
          "name": "stdout",
          "output_type": "stream",
          "text": [
            "Number of bbs after joining:, 10181\n",
            "Number of bbs after NMS:, 2889\n",
            "Number of bbs after enclosed bbs filtering:, 2793\n",
            "FINISH UNIFY CROPS\n",
            "\n"
          ]
        },
        {
          "name": "stderr",
          "output_type": "stream",
          "text": [
            "2793it [00:26, 105.94it/s]\n"
          ]
        },
        {
          "name": "stdout",
          "output_type": "stream",
          "text": [
            "mAP: 0.48\n",
            "Last precision: 0.87\n",
            "Last recall: 0.51\n",
            "Last f1: 0.64\n",
            "Best f1: 0.64; index: 2792\n",
            "mAP:0.4842692735842 f1:0.6434415413037742 prec:0.8728965270318654 rec:0.5095088819226751\n",
            "END HYPERPARAMETERS conf_thres:0.45 iou_nms_thres:0.3\n",
            "\n",
            "START HYPERPARAMETERS conf_thres:0.45 iou_nms_thres:0.45\n",
            "CROP IMAGE ...\n"
          ]
        },
        {
          "name": "stderr",
          "output_type": "stream",
          "text": [
            "100%|██████████| 945/945 [00:08<00:00, 109.52it/s]\n"
          ]
        },
        {
          "name": "stdout",
          "output_type": "stream",
          "text": [
            "FINISH CROP IMAGE\n",
            "\n",
            "RUN MODEL ON PATCHES ...\n",
            "Fusing layers... \n",
            "RepConv.fuse_repvgg_block\n",
            "RepConv.fuse_repvgg_block\n",
            "RepConv.fuse_repvgg_block\n",
            "IDetect.fuse\n",
            " Convert model to Traced-model... \n",
            " traced_script_module saved! \n",
            " model is traced! \n",
            "\n"
          ]
        },
        {
          "name": "stderr",
          "output_type": "stream",
          "text": [
            "100%|██████████| 945/945 [00:48<00:00, 19.68it/s]\n"
          ]
        },
        {
          "name": "stdout",
          "output_type": "stream",
          "text": [
            "FINISH RUN MODEL ON PATCHES\n",
            "\n",
            "UNIFY CROPS BBS ...\n"
          ]
        },
        {
          "name": "stderr",
          "output_type": "stream",
          "text": [
            "100%|██████████| 825/825 [00:00<00:00, 3655.11it/s]\n"
          ]
        },
        {
          "name": "stdout",
          "output_type": "stream",
          "text": [
            "Number of bbs after joining:, 10199\n",
            "Number of bbs after NMS:, 3027\n",
            "Number of bbs after enclosed bbs filtering:, 2802\n",
            "FINISH UNIFY CROPS\n",
            "\n"
          ]
        },
        {
          "name": "stderr",
          "output_type": "stream",
          "text": [
            "2802it [00:26, 103.82it/s]\n"
          ]
        },
        {
          "name": "stdout",
          "output_type": "stream",
          "text": [
            "mAP: 0.49\n",
            "Last precision: 0.87\n",
            "Last recall: 0.51\n",
            "Last f1: 0.64\n",
            "Best f1: 0.64; index: 2799\n",
            "mAP:0.4860613224577269 f1:0.6445235270858046 prec:0.8725910064239829 rec:0.5109717868338558\n",
            "END HYPERPARAMETERS conf_thres:0.45 iou_nms_thres:0.45\n",
            "\n",
            "START HYPERPARAMETERS conf_thres:0.45 iou_nms_thres:0.6\n",
            "CROP IMAGE ...\n"
          ]
        },
        {
          "name": "stderr",
          "output_type": "stream",
          "text": [
            "100%|██████████| 945/945 [00:08<00:00, 108.31it/s]\n"
          ]
        },
        {
          "name": "stdout",
          "output_type": "stream",
          "text": [
            "FINISH CROP IMAGE\n",
            "\n",
            "RUN MODEL ON PATCHES ...\n",
            "Fusing layers... \n",
            "RepConv.fuse_repvgg_block\n",
            "RepConv.fuse_repvgg_block\n",
            "RepConv.fuse_repvgg_block\n",
            "IDetect.fuse\n",
            " Convert model to Traced-model... \n",
            " traced_script_module saved! \n",
            " model is traced! \n",
            "\n"
          ]
        },
        {
          "name": "stderr",
          "output_type": "stream",
          "text": [
            "100%|██████████| 945/945 [00:46<00:00, 20.18it/s]\n"
          ]
        },
        {
          "name": "stdout",
          "output_type": "stream",
          "text": [
            "FINISH RUN MODEL ON PATCHES\n",
            "\n",
            "UNIFY CROPS BBS ...\n"
          ]
        },
        {
          "name": "stderr",
          "output_type": "stream",
          "text": [
            "100%|██████████| 825/825 [00:00<00:00, 20564.83it/s]\n"
          ]
        },
        {
          "name": "stdout",
          "output_type": "stream",
          "text": [
            "Number of bbs after joining:, 10208\n",
            "Number of bbs after NMS:, 3278\n",
            "Number of bbs after enclosed bbs filtering:, 2799\n",
            "FINISH UNIFY CROPS\n",
            "\n"
          ]
        },
        {
          "name": "stderr",
          "output_type": "stream",
          "text": [
            "2799it [00:27, 103.35it/s]\n"
          ]
        },
        {
          "name": "stdout",
          "output_type": "stream",
          "text": [
            "mAP: 0.49\n",
            "Last precision: 0.87\n",
            "Last recall: 0.51\n",
            "Last f1: 0.64\n",
            "Best f1: 0.64; index: 2798\n",
            "mAP:0.48655226909830507 f1:0.6447784810126582 prec:0.8735262593783494 rec:0.5109717868338558\n",
            "END HYPERPARAMETERS conf_thres:0.45 iou_nms_thres:0.6\n",
            "\n",
            "START HYPERPARAMETERS conf_thres:0.5 iou_nms_thres:0.3\n",
            "CROP IMAGE ...\n"
          ]
        },
        {
          "name": "stderr",
          "output_type": "stream",
          "text": [
            "100%|██████████| 945/945 [00:08<00:00, 107.59it/s]\n"
          ]
        },
        {
          "name": "stdout",
          "output_type": "stream",
          "text": [
            "FINISH CROP IMAGE\n",
            "\n",
            "RUN MODEL ON PATCHES ...\n",
            "Fusing layers... \n",
            "RepConv.fuse_repvgg_block\n",
            "RepConv.fuse_repvgg_block\n",
            "RepConv.fuse_repvgg_block\n",
            "IDetect.fuse\n",
            " Convert model to Traced-model... \n",
            " traced_script_module saved! \n",
            " model is traced! \n",
            "\n"
          ]
        },
        {
          "name": "stderr",
          "output_type": "stream",
          "text": [
            "100%|██████████| 945/945 [00:46<00:00, 20.29it/s]\n"
          ]
        },
        {
          "name": "stdout",
          "output_type": "stream",
          "text": [
            "FINISH RUN MODEL ON PATCHES\n",
            "\n",
            "UNIFY CROPS BBS ...\n"
          ]
        },
        {
          "name": "stderr",
          "output_type": "stream",
          "text": [
            "100%|██████████| 817/817 [00:00<00:00, 20787.31it/s]\n"
          ]
        },
        {
          "name": "stdout",
          "output_type": "stream",
          "text": [
            "Number of bbs after joining:, 9018\n",
            "Number of bbs after NMS:, 2557\n",
            "Number of bbs after enclosed bbs filtering:, 2492\n",
            "FINISH UNIFY CROPS\n",
            "\n"
          ]
        },
        {
          "name": "stderr",
          "output_type": "stream",
          "text": [
            "2492it [00:24, 103.46it/s]\n"
          ]
        },
        {
          "name": "stdout",
          "output_type": "stream",
          "text": [
            "mAP: 0.45\n",
            "Last precision: 0.90\n",
            "Last recall: 0.47\n",
            "Last f1: 0.61\n",
            "Best f1: 0.61; index: 2491\n",
            "mAP:0.4460744836635182 f1:0.6131647657001511 prec:0.8952648475120385 rec:0.46624869383490075\n",
            "END HYPERPARAMETERS conf_thres:0.5 iou_nms_thres:0.3\n",
            "\n",
            "START HYPERPARAMETERS conf_thres:0.5 iou_nms_thres:0.45\n",
            "CROP IMAGE ...\n"
          ]
        },
        {
          "name": "stderr",
          "output_type": "stream",
          "text": [
            "100%|██████████| 945/945 [00:08<00:00, 107.04it/s]\n"
          ]
        },
        {
          "name": "stdout",
          "output_type": "stream",
          "text": [
            "FINISH CROP IMAGE\n",
            "\n",
            "RUN MODEL ON PATCHES ...\n",
            "Fusing layers... \n",
            "RepConv.fuse_repvgg_block\n",
            "RepConv.fuse_repvgg_block\n",
            "RepConv.fuse_repvgg_block\n",
            "IDetect.fuse\n",
            " Convert model to Traced-model... \n",
            " traced_script_module saved! \n",
            " model is traced! \n",
            "\n"
          ]
        },
        {
          "name": "stderr",
          "output_type": "stream",
          "text": [
            "100%|██████████| 945/945 [00:46<00:00, 20.38it/s]\n"
          ]
        },
        {
          "name": "stdout",
          "output_type": "stream",
          "text": [
            "FINISH RUN MODEL ON PATCHES\n",
            "\n",
            "UNIFY CROPS BBS ...\n"
          ]
        },
        {
          "name": "stderr",
          "output_type": "stream",
          "text": [
            "100%|██████████| 817/817 [00:00<00:00, 21378.42it/s]\n"
          ]
        },
        {
          "name": "stdout",
          "output_type": "stream",
          "text": [
            "Number of bbs after joining:, 9026\n",
            "Number of bbs after NMS:, 2660\n",
            "Number of bbs after enclosed bbs filtering:, 2495\n",
            "FINISH UNIFY CROPS\n",
            "\n"
          ]
        },
        {
          "name": "stderr",
          "output_type": "stream",
          "text": [
            "2495it [00:24, 103.78it/s]\n"
          ]
        },
        {
          "name": "stdout",
          "output_type": "stream",
          "text": [
            "mAP: 0.45\n",
            "Last precision: 0.90\n",
            "Last recall: 0.47\n",
            "Last f1: 0.61\n",
            "Best f1: 0.61; index: 2494\n",
            "mAP:0.4472173526243045 f1:0.6140109890109889 prec:0.8957915831663327 rec:0.4670846394984326\n",
            "END HYPERPARAMETERS conf_thres:0.5 iou_nms_thres:0.45\n",
            "\n",
            "START HYPERPARAMETERS conf_thres:0.5 iou_nms_thres:0.6\n",
            "CROP IMAGE ...\n"
          ]
        },
        {
          "name": "stderr",
          "output_type": "stream",
          "text": [
            "100%|██████████| 945/945 [00:08<00:00, 109.12it/s]\n"
          ]
        },
        {
          "name": "stdout",
          "output_type": "stream",
          "text": [
            "FINISH CROP IMAGE\n",
            "\n",
            "RUN MODEL ON PATCHES ...\n",
            "Fusing layers... \n",
            "RepConv.fuse_repvgg_block\n",
            "RepConv.fuse_repvgg_block\n",
            "RepConv.fuse_repvgg_block\n",
            "IDetect.fuse\n",
            " Convert model to Traced-model... \n",
            " traced_script_module saved! \n",
            " model is traced! \n",
            "\n"
          ]
        },
        {
          "name": "stderr",
          "output_type": "stream",
          "text": [
            "100%|██████████| 945/945 [00:46<00:00, 20.39it/s]\n"
          ]
        },
        {
          "name": "stdout",
          "output_type": "stream",
          "text": [
            "FINISH RUN MODEL ON PATCHES\n",
            "\n",
            "UNIFY CROPS BBS ...\n"
          ]
        },
        {
          "name": "stderr",
          "output_type": "stream",
          "text": [
            "100%|██████████| 817/817 [00:00<00:00, 21795.73it/s]\n"
          ]
        },
        {
          "name": "stdout",
          "output_type": "stream",
          "text": [
            "Number of bbs after joining:, 9029\n",
            "Number of bbs after NMS:, 2866\n",
            "Number of bbs after enclosed bbs filtering:, 2495\n",
            "FINISH UNIFY CROPS\n",
            "\n"
          ]
        },
        {
          "name": "stderr",
          "output_type": "stream",
          "text": [
            "2495it [00:24, 101.98it/s]\n"
          ]
        },
        {
          "name": "stdout",
          "output_type": "stream",
          "text": [
            "mAP: 0.45\n",
            "Last precision: 0.89\n",
            "Last recall: 0.47\n",
            "Last f1: 0.61\n",
            "Best f1: 0.61; index: 2494\n",
            "mAP:0.4472227189890011 f1:0.6134615384615384 prec:0.8949899799599198 rec:0.4666666666666667\n",
            "END HYPERPARAMETERS conf_thres:0.5 iou_nms_thres:0.6\n",
            "\n",
            "BEST HYPERPARAMETERS conf_thres:0.25 iou_nms_thres:0.45\n",
            "mAP:0.5752960128927714 f1:0.6808510638297872 prec:0.7570332480818415 rec:0.6185997910135841\n"
          ]
        },
        {
          "data": {
            "image/png": "[encoded data removed]",
            "text/plain": [
              "<Figure size 640x480 with 2 Axes>"
            ]
          },
          "metadata": {},
          "output_type": "display_data"
        }
      ],
      "source": [
        "%matplotlib inline\n",
        "path_to_weigths = '../weigths/best_rgb_train.pt'\n",
        "image_path = os.path.join(base_dir, 'dataset/19K53/19K53.tif')\n",
        "gt_boxes_txt_path = os.path.join(base_dir, 'dataset/19K53/19K53_boxes.txt')\n",
        "conf_thres_list = [0.1, 0.15, 0.2, 0.25, 0.3, 0.35, 0.4, 0.45, 0.5]\n",
        "iou_nms_thres_list = [0.3, 0.45, 0.6]\n",
        "hyperparameters_list, hyperparameters_metrics_dict = inference_parameters_tuning(path_to_weigths, image_path, gt_boxes_txt_path, conf_thres_list, iou_nms_thres_list,\n",
        "                                                           infrared=False, crop_size=CROP_SIZE, step=STEP, preferred_metric='f1',\n",
        "                                                           iou_eval_thres=0.4, plot=True)"
      ]
    },
    {
      "cell_type": "markdown",
      "metadata": {},
      "source": [
        "Results of the tuning.\n",
        "- Best values : `best_conf=0.25` and `best_iou_nms=0.45`.\n",
        "- F1 score : $0.68$.\n",
        "- Precision : $0.76$ ; Recall : $0.62$.\n",
        "- MAP : $0.57$."
      ]
    },
    {
      "cell_type": "code",
      "execution_count": null,
      "metadata": {
        "id": "4X923g812hqH"
      },
      "outputs": [],
      "source": [
        "best_conf = 0.25\n",
        "best_iou_nms = 0.45"
      ]
    },
    {
      "cell_type": "markdown",
      "metadata": {
        "id": "9pNYWUHr0QG0"
      },
      "source": [
        "# Test\n",
        "Let's now perform a training on the train + validation : we call this **full training**. This is our final model. *(The starting point of this training is still the fine-tuning on the pre-trained `yolov7_training.pt` weigths).*\n",
        "\n",
        "We then test this final model on the test image. The inference is run using the bets inference parameters found before with the tuning."
      ]
    },
    {
      "cell_type": "markdown",
      "metadata": {},
      "source": [
        "### Full training"
      ]
    },
    {
      "cell_type": "code",
      "execution_count": null,
      "metadata": {
        "id": "U179C4We62-4"
      },
      "outputs": [],
      "source": [
        "%mkdir full_train\n",
        "%cp -r train/images full_train/\n",
        "%cp -r train/labels full_train/\n",
        "%cp -r val/images full_train/\n",
        "%cp -r val/labels full_train/"
      ]
    },
    {
      "cell_type": "code",
      "execution_count": null,
      "metadata": {
        "colab": {
          "base_uri": "https://localhost:8080/"
        },
        "id": "xCKtMEi_eIb7",
        "outputId": "32aca660-76d1-481f-fae7-aca4b3823c30"
      },
      "outputs": [
        {
          "name": "stdout",
          "output_type": "stream",
          "text": [
            "2023-10-09 08:23:00.499166: I tensorflow/core/platform/cpu_feature_guard.cc:182] This TensorFlow binary is optimized to use available CPU instructions in performance-critical operations.\n",
            "To enable the following instructions: AVX2 FMA, in other operations, rebuild TensorFlow with the appropriate compiler flags.\n",
            "2023-10-09 08:23:01.354508: W tensorflow/compiler/tf2tensorrt/utils/py_utils.cc:38] TF-TRT Warning: Could not find TensorRT\n",
            "YOLOR 🚀 2023-10-9 torch 2.0.1+cu118 CUDA:0 (Tesla T4, 15101.8125MB)\n",
            "\n",
            "Namespace(rgb_only=True, weights='yolov7_training.pt', cfg='cfg/training/yolov7-tree.yaml', data='data_fulltrain.yaml', hyp='data/hyp.scratch.p5.yaml', epochs=30, batch_size=8, img_size=[640, 640], rect=False, resume=False, nosave=False, notest=False, noautoanchor=False, evolve=False, bucket='', cache_images=False, image_weights=False, device='0', multi_scale=False, single_cls=False, adam=False, sync_bn=False, local_rank=-1, workers=8, project='runs/train', entity=None, name='exp', exist_ok=False, quad=False, linear_lr=False, label_smoothing=0.0, upload_dataset=False, bbox_interval=-1, save_period=-1, artifact_alias='latest', freeze=[0], v5_metric=False, world_size=1, global_rank=-1, save_dir='runs/train/exp', total_batch_size=8)\n",
            "\u001b[34m\u001b[1mtensorboard: \u001b[0mStart with 'tensorboard --logdir runs/train', view at http://localhost:6006/\n",
            "\u001b[34m\u001b[1mhyperparameters: \u001b[0mlr0=0.01, lrf=0.1, momentum=0.937, weight_decay=0.0005, warmup_epochs=3.0, warmup_momentum=0.8, warmup_bias_lr=0.1, box=0.05, cls=0.3, cls_pw=1.0, obj=0.7, obj_pw=1.0, iou_t=0.2, anchor_t=4.0, fl_gamma=0.0, hsv_h=0.015, hsv_s=0.7, hsv_v=0.4, degrees=0.0, translate=0.2, scale=0.9, shear=0.0, perspective=0.0, flipud=0.0, fliplr=0.5, mosaic=1.0, mixup=0.15, copy_paste=0.0, paste_in=0.15, loss_ota=1\n",
            "\u001b[34m\u001b[1mwandb: \u001b[0mInstall Weights & Biases for YOLOR logging with 'pip install wandb' (recommended)\n",
            "\n",
            "                 from  n    params  module                                  arguments                     \n",
            "  0                -1  1       928  models.common.Conv                      [3, 32, 3, 1]                 \n",
            "  1                -1  1     18560  models.common.Conv                      [32, 64, 3, 2]                \n",
            "  2                -1  1     36992  models.common.Conv                      [64, 64, 3, 1]                \n",
            "  3                -1  1     73984  models.common.Conv                      [64, 128, 3, 2]               \n",
            "  4                -1  1      8320  models.common.Conv                      [128, 64, 1, 1]               \n",
            "  5                -2  1      8320  models.common.Conv                      [128, 64, 1, 1]               \n",
            "  6                -1  1     36992  models.common.Conv                      [64, 64, 3, 1]                \n",
            "  7                -1  1     36992  models.common.Conv                      [64, 64, 3, 1]                \n",
            "  8                -1  1     36992  models.common.Conv                      [64, 64, 3, 1]                \n",
            "  9                -1  1     36992  models.common.Conv                      [64, 64, 3, 1]                \n",
            " 10  [-1, -3, -5, -6]  1         0  models.common.Concat                    [1]                           \n",
            " 11                -1  1     66048  models.common.Conv                      [256, 256, 1, 1]              \n",
            " 12                -1  1         0  models.common.MP                        []                            \n",
            " 13                -1  1     33024  models.common.Conv                      [256, 128, 1, 1]              \n",
            " 14                -3  1     33024  models.common.Conv                      [256, 128, 1, 1]              \n",
            " 15                -1  1    147712  models.common.Conv                      [128, 128, 3, 2]              \n",
            " 16          [-1, -3]  1         0  models.common.Concat                    [1]                           \n",
            " 17                -1  1     33024  models.common.Conv                      [256, 128, 1, 1]              \n",
            " 18                -2  1     33024  models.common.Conv                      [256, 128, 1, 1]              \n",
            " 19                -1  1    147712  models.common.Conv                      [128, 128, 3, 1]              \n",
            " 20                -1  1    147712  models.common.Conv                      [128, 128, 3, 1]              \n",
            " 21                -1  1    147712  models.common.Conv                      [128, 128, 3, 1]              \n",
            " 22                -1  1    147712  models.common.Conv                      [128, 128, 3, 1]              \n",
            " 23  [-1, -3, -5, -6]  1         0  models.common.Concat                    [1]                           \n",
            " 24                -1  1    263168  models.common.Conv                      [512, 512, 1, 1]              \n",
            " 25                -1  1         0  models.common.MP                        []                            \n",
            " 26                -1  1    131584  models.common.Conv                      [512, 256, 1, 1]              \n",
            " 27                -3  1    131584  models.common.Conv                      [512, 256, 1, 1]              \n",
            " 28                -1  1    590336  models.common.Conv                      [256, 256, 3, 2]              \n",
            " 29          [-1, -3]  1         0  models.common.Concat                    [1]                           \n",
            " 30                -1  1    131584  models.common.Conv                      [512, 256, 1, 1]              \n",
            " 31                -2  1    131584  models.common.Conv                      [512, 256, 1, 1]              \n",
            " 32                -1  1    590336  models.common.Conv                      [256, 256, 3, 1]              \n",
            " 33                -1  1    590336  models.common.Conv                      [256, 256, 3, 1]              \n",
            " 34                -1  1    590336  models.common.Conv                      [256, 256, 3, 1]              \n",
            " 35                -1  1    590336  models.common.Conv                      [256, 256, 3, 1]              \n",
            " 36  [-1, -3, -5, -6]  1         0  models.common.Concat                    [1]                           \n",
            " 37                -1  1   1050624  models.common.Conv                      [1024, 1024, 1, 1]            \n",
            " 38                -1  1         0  models.common.MP                        []                            \n",
            " 39                -1  1    525312  models.common.Conv                      [1024, 512, 1, 1]             \n",
            " 40                -3  1    525312  models.common.Conv                      [1024, 512, 1, 1]             \n",
            " 41                -1  1   2360320  models.common.Conv                      [512, 512, 3, 2]              \n",
            " 42          [-1, -3]  1         0  models.common.Concat                    [1]                           \n",
            " 43                -1  1    262656  models.common.Conv                      [1024, 256, 1, 1]             \n",
            " 44                -2  1    262656  models.common.Conv                      [1024, 256, 1, 1]             \n",
            " 45                -1  1    590336  models.common.Conv                      [256, 256, 3, 1]              \n",
            " 46                -1  1    590336  models.common.Conv                      [256, 256, 3, 1]              \n",
            " 47                -1  1    590336  models.common.Conv                      [256, 256, 3, 1]              \n",
            " 48                -1  1    590336  models.common.Conv                      [256, 256, 3, 1]              \n",
            " 49  [-1, -3, -5, -6]  1         0  models.common.Concat                    [1]                           \n",
            " 50                -1  1   1050624  models.common.Conv                      [1024, 1024, 1, 1]            \n",
            " 51                -1  1   7609344  models.common.SPPCSPC                   [1024, 512, 1]                \n",
            " 52                -1  1    131584  models.common.Conv                      [512, 256, 1, 1]              \n",
            " 53                -1  1         0  torch.nn.modules.upsampling.Upsample    [None, 2, 'nearest']          \n",
            " 54                37  1    262656  models.common.Conv                      [1024, 256, 1, 1]             \n",
            " 55          [-1, -2]  1         0  models.common.Concat                    [1]                           \n",
            " 56                -1  1    131584  models.common.Conv                      [512, 256, 1, 1]              \n",
            " 57                -2  1    131584  models.common.Conv                      [512, 256, 1, 1]              \n",
            " 58                -1  1    295168  models.common.Conv                      [256, 128, 3, 1]              \n",
            " 59                -1  1    147712  models.common.Conv                      [128, 128, 3, 1]              \n",
            " 60                -1  1    147712  models.common.Conv                      [128, 128, 3, 1]              \n",
            " 61                -1  1    147712  models.common.Conv                      [128, 128, 3, 1]              \n",
            " 62[-1, -2, -3, -4, -5, -6]  1         0  models.common.Concat                    [1]                           \n",
            " 63                -1  1    262656  models.common.Conv                      [1024, 256, 1, 1]             \n",
            " 64                -1  1     33024  models.common.Conv                      [256, 128, 1, 1]              \n",
            " 65                -1  1         0  torch.nn.modules.upsampling.Upsample    [None, 2, 'nearest']          \n",
            " 66                24  1     65792  models.common.Conv                      [512, 128, 1, 1]              \n",
            " 67          [-1, -2]  1         0  models.common.Concat                    [1]                           \n",
            " 68                -1  1     33024  models.common.Conv                      [256, 128, 1, 1]              \n",
            " 69                -2  1     33024  models.common.Conv                      [256, 128, 1, 1]              \n",
            " 70                -1  1     73856  models.common.Conv                      [128, 64, 3, 1]               \n",
            " 71                -1  1     36992  models.common.Conv                      [64, 64, 3, 1]                \n",
            " 72                -1  1     36992  models.common.Conv                      [64, 64, 3, 1]                \n",
            " 73                -1  1     36992  models.common.Conv                      [64, 64, 3, 1]                \n",
            " 74[-1, -2, -3, -4, -5, -6]  1         0  models.common.Concat                    [1]                           \n",
            " 75                -1  1     65792  models.common.Conv                      [512, 128, 1, 1]              \n",
            " 76                -1  1         0  models.common.MP                        []                            \n",
            " 77                -1  1     16640  models.common.Conv                      [128, 128, 1, 1]              \n",
            " 78                -3  1     16640  models.common.Conv                      [128, 128, 1, 1]              \n",
            " 79                -1  1    147712  models.common.Conv                      [128, 128, 3, 2]              \n",
            " 80      [-1, -3, 63]  1         0  models.common.Concat                    [1]                           \n",
            " 81                -1  1    131584  models.common.Conv                      [512, 256, 1, 1]              \n",
            " 82                -2  1    131584  models.common.Conv                      [512, 256, 1, 1]              \n",
            " 83                -1  1    295168  models.common.Conv                      [256, 128, 3, 1]              \n",
            " 84                -1  1    147712  models.common.Conv                      [128, 128, 3, 1]              \n",
            " 85                -1  1    147712  models.common.Conv                      [128, 128, 3, 1]              \n",
            " 86                -1  1    147712  models.common.Conv                      [128, 128, 3, 1]              \n",
            " 87[-1, -2, -3, -4, -5, -6]  1         0  models.common.Concat                    [1]                           \n",
            " 88                -1  1    262656  models.common.Conv                      [1024, 256, 1, 1]             \n",
            " 89                -1  1         0  models.common.MP                        []                            \n",
            " 90                -1  1     66048  models.common.Conv                      [256, 256, 1, 1]              \n",
            " 91                -3  1     66048  models.common.Conv                      [256, 256, 1, 1]              \n",
            " 92                -1  1    590336  models.common.Conv                      [256, 256, 3, 2]              \n",
            " 93      [-1, -3, 51]  1         0  models.common.Concat                    [1]                           \n",
            " 94                -1  1    525312  models.common.Conv                      [1024, 512, 1, 1]             \n",
            " 95                -2  1    525312  models.common.Conv                      [1024, 512, 1, 1]             \n",
            " 96                -1  1   1180160  models.common.Conv                      [512, 256, 3, 1]              \n",
            " 97                -1  1    590336  models.common.Conv                      [256, 256, 3, 1]              \n",
            " 98                -1  1    590336  models.common.Conv                      [256, 256, 3, 1]              \n",
            " 99                -1  1    590336  models.common.Conv                      [256, 256, 3, 1]              \n",
            "100[-1, -2, -3, -4, -5, -6]  1         0  models.common.Concat                    [1]                           \n",
            "101                -1  1   1049600  models.common.Conv                      [2048, 512, 1, 1]             \n",
            "102                75  1    328704  models.common.RepConv                   [128, 256, 3, 1]              \n",
            "103                88  1   1312768  models.common.RepConv                   [256, 512, 3, 1]              \n",
            "104               101  1   5246976  models.common.RepConv                   [512, 1024, 3, 1]             \n",
            "105   [102, 103, 104]  1     34156  models.yolo.IDetect                     [1, [[12, 16, 19, 36, 40, 28], [36, 75, 76, 55, 72, 146], [142, 110, 192, 243, 459, 401]], [256, 512, 1024]]\n",
            "/usr/local/lib/python3.10/dist-packages/torch/functional.py:504: UserWarning: torch.meshgrid: in an upcoming release, it will be required to pass the indexing argument. (Triggered internally at ../aten/src/ATen/native/TensorShape.cpp:3483.)\n",
            "  return _VF.meshgrid(tensors, **kwargs)  # type: ignore[attr-defined]\n",
            "Model Summary: 415 layers, 37196556 parameters, 37196556 gradients, 105.1 GFLOPS\n",
            "\n",
            "Transferred 555/566 items from yolov7_training.pt\n",
            "Scaled weight_decay = 0.0005\n",
            "Optimizer groups: 95 .bias, 95 conv.weight, 98 other\n",
            "\u001b[34m\u001b[1mtrain: \u001b[0mScanning 'full_train/labels' images and labels... 3296 found, 0 missing, 0 empty, 0 corrupted: 100% 3296/3296 [00:02<00:00, 1578.95it/s]\n",
            "\u001b[34m\u001b[1mtrain: \u001b[0mNew cache created: full_train/labels.cache\n",
            "\u001b[34m\u001b[1mval: \u001b[0mScanning 'test/labels' images and labels... 944 found, 0 missing, 0 empty, 0 corrupted: 100% 944/944 [00:00<00:00, 1064.68it/s]\n",
            "\u001b[34m\u001b[1mval: \u001b[0mNew cache created: test/labels.cache\n",
            "\n",
            "\u001b[34m\u001b[1mautoanchor: \u001b[0mAnalyzing anchors... anchors/target = 5.62, Best Possible Recall (BPR) = 0.9999\n",
            "Image sizes 640 train, 640 test\n",
            "Using 8 dataloader workers\n",
            "Logging results to runs/train/exp\n",
            "Starting training for 30 epochs...\n",
            "\n",
            "     Epoch   gpu_mem       box       obj       cls     total    labels  img_size\n",
            "      0/29     6.98G   0.07211   0.09283         0    0.1649       377       640: 100% 412/412 [03:23<00:00,  2.03it/s]\n",
            "               Class      Images      Labels           P           R      mAP@.5  mAP@.5:.95: 100% 59/59 [00:28<00:00,  2.04it/s]\n",
            "                 all         944       30290       0.435       0.425       0.362      0.0867\n",
            "\n",
            "     Epoch   gpu_mem       box       obj       cls     total    labels  img_size\n",
            "      1/29     6.04G   0.06148    0.1002         0    0.1616       950       640: 100% 412/412 [03:11<00:00,  2.15it/s]\n",
            "               Class      Images      Labels           P           R      mAP@.5  mAP@.5:.95: 100% 59/59 [00:23<00:00,  2.51it/s]\n",
            "                 all         944       30290       0.506       0.485       0.454       0.116\n",
            "\n",
            "     Epoch   gpu_mem       box       obj       cls     total    labels  img_size\n",
            "      2/29      6.1G   0.05937   0.09575         0    0.1551       356       640: 100% 412/412 [03:10<00:00,  2.17it/s]\n",
            "               Class      Images      Labels           P           R      mAP@.5  mAP@.5:.95: 100% 59/59 [00:22<00:00,  2.63it/s]\n",
            "                 all         944       30290       0.649       0.564       0.595       0.226\n",
            "\n",
            "     Epoch   gpu_mem       box       obj       cls     total    labels  img_size\n",
            "      3/29     6.11G   0.05615   0.09637         0    0.1525       488       640: 100% 412/412 [03:11<00:00,  2.15it/s]\n",
            "               Class      Images      Labels           P           R      mAP@.5  mAP@.5:.95: 100% 59/59 [00:22<00:00,  2.67it/s]\n",
            "                 all         944       30290       0.665       0.583       0.609       0.234\n",
            "\n",
            "     Epoch   gpu_mem       box       obj       cls     total    labels  img_size\n",
            "      4/29     6.11G    0.0545   0.09404         0    0.1485       789       640: 100% 412/412 [03:11<00:00,  2.15it/s]\n",
            "               Class      Images      Labels           P           R      mAP@.5  mAP@.5:.95: 100% 59/59 [00:21<00:00,  2.72it/s]\n",
            "                 all         944       30290       0.632        0.59       0.601       0.223\n",
            "\n",
            "     Epoch   gpu_mem       box       obj       cls     total    labels  img_size\n",
            "      5/29     6.11G   0.05423   0.09171         0    0.1459      1191       640: 100% 412/412 [03:11<00:00,  2.15it/s]\n",
            "               Class      Images      Labels           P           R      mAP@.5  mAP@.5:.95: 100% 59/59 [00:21<00:00,  2.76it/s]\n",
            "                 all         944       30290       0.669       0.617       0.638       0.258\n",
            "\n",
            "     Epoch   gpu_mem       box       obj       cls     total    labels  img_size\n",
            "      6/29     6.11G   0.05355   0.09056         0    0.1441       232       640: 100% 412/412 [03:11<00:00,  2.15it/s]\n",
            "               Class      Images      Labels           P           R      mAP@.5  mAP@.5:.95: 100% 59/59 [00:21<00:00,  2.80it/s]\n",
            "                 all         944       30290       0.669        0.62        0.65       0.261\n",
            "\n",
            "     Epoch   gpu_mem       box       obj       cls     total    labels  img_size\n",
            "      7/29     6.11G   0.05299    0.0889         0    0.1419       823       640: 100% 412/412 [03:10<00:00,  2.16it/s]\n",
            "               Class      Images      Labels           P           R      mAP@.5  mAP@.5:.95: 100% 59/59 [00:21<00:00,  2.76it/s]\n",
            "                 all         944       30290       0.685       0.623       0.656       0.268\n",
            "\n",
            "     Epoch   gpu_mem       box       obj       cls     total    labels  img_size\n",
            "      8/29     6.11G    0.0527   0.08845         0    0.1412       812       640: 100% 412/412 [03:10<00:00,  2.16it/s]\n",
            "               Class      Images      Labels           P           R      mAP@.5  mAP@.5:.95: 100% 59/59 [00:21<00:00,  2.81it/s]\n",
            "                 all         944       30290        0.69        0.61       0.652       0.265\n",
            "\n",
            "     Epoch   gpu_mem       box       obj       cls     total    labels  img_size\n",
            "      9/29     6.11G   0.05265   0.08761         0    0.1403       780       640: 100% 412/412 [03:10<00:00,  2.17it/s]\n",
            "               Class      Images      Labels           P           R      mAP@.5  mAP@.5:.95: 100% 59/59 [00:21<00:00,  2.79it/s]\n",
            "                 all         944       30290       0.696       0.634       0.663        0.27\n",
            "\n",
            "     Epoch   gpu_mem       box       obj       cls     total    labels  img_size\n",
            "     10/29     6.11G    0.0522   0.08762         0    0.1398       725       640: 100% 412/412 [03:10<00:00,  2.16it/s]\n",
            "               Class      Images      Labels           P           R      mAP@.5  mAP@.5:.95: 100% 59/59 [00:21<00:00,  2.73it/s]\n",
            "                 all         944       30290       0.695       0.624       0.665       0.273\n",
            "\n",
            "     Epoch   gpu_mem       box       obj       cls     total    labels  img_size\n",
            "     11/29     7.27G   0.05191   0.08798         0    0.1399       579       640: 100% 412/412 [03:12<00:00,  2.14it/s]\n",
            "               Class      Images      Labels           P           R      mAP@.5  mAP@.5:.95: 100% 59/59 [00:21<00:00,  2.80it/s]\n",
            "                 all         944       30290       0.691       0.624       0.657       0.267\n",
            "\n",
            "     Epoch   gpu_mem       box       obj       cls     total    labels  img_size\n",
            "     12/29     7.27G   0.05156   0.08625         0    0.1378       843       640: 100% 412/412 [03:11<00:00,  2.15it/s]\n",
            "               Class      Images      Labels           P           R      mAP@.5  mAP@.5:.95: 100% 59/59 [00:20<00:00,  2.82it/s]\n",
            "                 all         944       30290       0.689       0.638        0.67       0.275\n",
            "\n",
            "     Epoch   gpu_mem       box       obj       cls     total    labels  img_size\n",
            "     13/29     7.27G   0.05135   0.08902         0    0.1404       904       640: 100% 412/412 [03:11<00:00,  2.15it/s]\n",
            "               Class      Images      Labels           P           R      mAP@.5  mAP@.5:.95: 100% 59/59 [00:21<00:00,  2.81it/s]\n",
            "                 all         944       30290       0.695        0.63       0.665       0.273\n",
            "\n",
            "     Epoch   gpu_mem       box       obj       cls     total    labels  img_size\n",
            "     14/29     7.27G   0.05119   0.08589         0    0.1371       680       640: 100% 412/412 [03:11<00:00,  2.15it/s]\n",
            "               Class      Images      Labels           P           R      mAP@.5  mAP@.5:.95: 100% 59/59 [00:20<00:00,  2.82it/s]\n",
            "                 all         944       30290       0.688       0.611       0.648       0.264\n",
            "\n",
            "     Epoch   gpu_mem       box       obj       cls     total    labels  img_size\n",
            "     15/29     7.27G   0.05102   0.08467         0    0.1357       621       640: 100% 412/412 [03:11<00:00,  2.15it/s]\n",
            "               Class      Images      Labels           P           R      mAP@.5  mAP@.5:.95: 100% 59/59 [00:20<00:00,  2.84it/s]\n",
            "                 all         944       30290       0.692       0.639       0.665       0.273\n",
            "\n",
            "     Epoch   gpu_mem       box       obj       cls     total    labels  img_size\n",
            "     16/29     7.27G   0.05058   0.08455         0    0.1351       784       640: 100% 412/412 [03:10<00:00,  2.16it/s]\n",
            "               Class      Images      Labels           P           R      mAP@.5  mAP@.5:.95: 100% 59/59 [00:20<00:00,  2.85it/s]\n",
            "                 all         944       30290       0.714       0.622       0.665       0.273\n",
            "\n",
            "     Epoch   gpu_mem       box       obj       cls     total    labels  img_size\n",
            "     17/29     7.27G    0.0505   0.08389         0    0.1344       948       640: 100% 412/412 [03:10<00:00,  2.16it/s]\n",
            "               Class      Images      Labels           P           R      mAP@.5  mAP@.5:.95: 100% 59/59 [00:20<00:00,  2.86it/s]\n",
            "                 all         944       30290        0.71       0.632       0.668       0.272\n",
            "\n",
            "     Epoch   gpu_mem       box       obj       cls     total    labels  img_size\n",
            "     18/29     7.27G    0.0504   0.08434         0    0.1347       629       640: 100% 412/412 [03:10<00:00,  2.16it/s]\n",
            "               Class      Images      Labels           P           R      mAP@.5  mAP@.5:.95: 100% 59/59 [00:20<00:00,  2.85it/s]\n",
            "                 all         944       30290       0.692       0.647       0.669       0.275\n",
            "\n",
            "     Epoch   gpu_mem       box       obj       cls     total    labels  img_size\n",
            "     19/29     7.27G   0.05006   0.08271         0    0.1328       559       640: 100% 412/412 [03:09<00:00,  2.17it/s]\n",
            "               Class      Images      Labels           P           R      mAP@.5  mAP@.5:.95: 100% 59/59 [00:20<00:00,  2.87it/s]\n",
            "                 all         944       30290       0.703       0.638       0.663        0.27\n",
            "\n",
            "     Epoch   gpu_mem       box       obj       cls     total    labels  img_size\n",
            "     20/29     7.27G   0.04996   0.08405         0     0.134       464       640: 100% 412/412 [03:10<00:00,  2.16it/s]\n",
            "               Class      Images      Labels           P           R      mAP@.5  mAP@.5:.95: 100% 59/59 [00:20<00:00,  2.88it/s]\n",
            "                 all         944       30290       0.696       0.635       0.659       0.271\n",
            "\n",
            "     Epoch   gpu_mem       box       obj       cls     total    labels  img_size\n",
            "     21/29     7.27G   0.04955   0.08265         0    0.1322       680       640: 100% 412/412 [03:10<00:00,  2.16it/s]\n",
            "               Class      Images      Labels           P           R      mAP@.5  mAP@.5:.95: 100% 59/59 [00:20<00:00,  2.87it/s]\n",
            "                 all         944       30290       0.693       0.631       0.655       0.267\n",
            "\n",
            "     Epoch   gpu_mem       box       obj       cls     total    labels  img_size\n",
            "     22/29     7.27G   0.04966   0.08299         0    0.1326       938       640: 100% 412/412 [03:10<00:00,  2.16it/s]\n",
            "               Class      Images      Labels           P           R      mAP@.5  mAP@.5:.95: 100% 59/59 [00:20<00:00,  2.88it/s]\n",
            "                 all         944       30290       0.683       0.646       0.658       0.268\n",
            "\n",
            "     Epoch   gpu_mem       box       obj       cls     total    labels  img_size\n",
            "     23/29     7.27G    0.0494    0.0827         0    0.1321       814       640: 100% 412/412 [03:10<00:00,  2.16it/s]\n",
            "               Class      Images      Labels           P           R      mAP@.5  mAP@.5:.95: 100% 59/59 [00:20<00:00,  2.88it/s]\n",
            "                 all         944       30290         0.7       0.634       0.657       0.268\n",
            "\n",
            "     Epoch   gpu_mem       box       obj       cls     total    labels  img_size\n",
            "     24/29     7.27G   0.04935   0.08329         0    0.1326      1069       640: 100% 412/412 [03:11<00:00,  2.15it/s]\n",
            "               Class      Images      Labels           P           R      mAP@.5  mAP@.5:.95: 100% 59/59 [00:20<00:00,  2.87it/s]\n",
            "                 all         944       30290       0.693       0.634       0.656       0.267\n",
            "\n",
            "     Epoch   gpu_mem       box       obj       cls     total    labels  img_size\n",
            "     25/29     7.27G   0.04872   0.08234         0    0.1311       773       640: 100% 412/412 [03:11<00:00,  2.16it/s]\n",
            "               Class      Images      Labels           P           R      mAP@.5  mAP@.5:.95: 100% 59/59 [00:20<00:00,  2.90it/s]\n",
            "                 all         944       30290       0.704       0.626       0.657       0.268\n",
            "\n",
            "     Epoch   gpu_mem       box       obj       cls     total    labels  img_size\n",
            "     26/29     7.27G   0.04869   0.08086         0    0.1296       420       640: 100% 412/412 [03:11<00:00,  2.16it/s]\n",
            "               Class      Images      Labels           P           R      mAP@.5  mAP@.5:.95: 100% 59/59 [00:20<00:00,  2.88it/s]\n",
            "                 all         944       30290       0.692       0.636       0.654       0.267\n",
            "\n",
            "     Epoch   gpu_mem       box       obj       cls     total    labels  img_size\n",
            "     27/29     7.27G    0.0486   0.08053         0    0.1291       445       640: 100% 412/412 [03:11<00:00,  2.16it/s]\n",
            "               Class      Images      Labels           P           R      mAP@.5  mAP@.5:.95: 100% 59/59 [00:20<00:00,  2.89it/s]\n",
            "                 all         944       30290       0.702       0.624       0.651       0.264\n",
            "\n",
            "     Epoch   gpu_mem       box       obj       cls     total    labels  img_size\n",
            "     28/29     7.27G   0.04844   0.08045         0    0.1289       561       640: 100% 412/412 [03:09<00:00,  2.17it/s]\n",
            "               Class      Images      Labels           P           R      mAP@.5  mAP@.5:.95: 100% 59/59 [00:20<00:00,  2.89it/s]\n",
            "                 all         944       30290         0.7       0.627       0.649       0.262\n",
            "\n",
            "     Epoch   gpu_mem       box       obj       cls     total    labels  img_size\n",
            "     29/29     7.27G    0.0483   0.08148         0    0.1298       177       640: 100% 412/412 [03:10<00:00,  2.16it/s]\n",
            "               Class      Images      Labels           P           R      mAP@.5  mAP@.5:.95: 100% 59/59 [00:25<00:00,  2.36it/s]\n",
            "                 all         944       30290       0.696       0.638       0.651       0.263\n",
            "30 epochs completed in 1.789 hours.\n",
            "\n",
            "Optimizer stripped from runs/train/exp/weights/last.pt, 74.8MB\n",
            "Optimizer stripped from runs/train/exp/weights/best.pt, 74.8MB\n"
          ]
        }
      ],
      "source": [
        "# System RAM : ~8GB\n",
        "# GPU RAM : 7GB\n",
        "!python train.py --rgb_only --epochs 30 --workers 8 --device 0 --batch-size 8 --data 'data_fulltrain.yaml' --img 640 640 --cfg 'cfg/training/yolov7-tree.yaml' --weights 'yolov7_training.pt'"
      ]
    },
    {
      "cell_type": "markdown",
      "metadata": {
        "id": "PR65NvCE2viG"
      },
      "source": [
        "### Inference"
      ]
    },
    {
      "cell_type": "code",
      "execution_count": null,
      "metadata": {
        "colab": {
          "base_uri": "https://localhost:8080/"
        },
        "id": "BT3LpkFV7btT",
        "outputId": "cd44d4ac-ac01-40bb-c79d-3153db71710b"
      },
      "outputs": [
        {
          "name": "stdout",
          "output_type": "stream",
          "text": [
            "CROP IMAGE ...\n"
          ]
        },
        {
          "name": "stderr",
          "output_type": "stream",
          "text": [
            "/usr/local/lib/python3.10/dist-packages/PIL/Image.py:3167: DecompressionBombWarning: Image size (98211778 pixels) exceeds limit of 89478485 pixels, could be decompression bomb DOS attack.\n",
            "  warnings.warn(\n",
            "100%|██████████| 945/945 [00:09<00:00, 97.82it/s]\n"
          ]
        },
        {
          "name": "stdout",
          "output_type": "stream",
          "text": [
            "FINISH CROP IMAGE\n",
            "\n",
            "RUN MODEL ON PATCHES ...\n",
            "Fusing layers... \n",
            "RepConv.fuse_repvgg_block\n",
            "RepConv.fuse_repvgg_block\n",
            "RepConv.fuse_repvgg_block\n",
            "IDetect.fuse\n"
          ]
        },
        {
          "name": "stderr",
          "output_type": "stream",
          "text": [
            "/usr/local/lib/python3.10/dist-packages/torch/functional.py:504: UserWarning: torch.meshgrid: in an upcoming release, it will be required to pass the indexing argument. (Triggered internally at ../aten/src/ATen/native/TensorShape.cpp:3483.)\n",
            "  return _VF.meshgrid(tensors, **kwargs)  # type: ignore[attr-defined]\n"
          ]
        },
        {
          "name": "stdout",
          "output_type": "stream",
          "text": [
            " Convert model to Traced-model... \n",
            " traced_script_module saved! \n",
            " model is traced! \n",
            "\n"
          ]
        },
        {
          "name": "stderr",
          "output_type": "stream",
          "text": [
            "100%|██████████| 945/945 [01:05<00:00, 14.43it/s]\n"
          ]
        },
        {
          "name": "stdout",
          "output_type": "stream",
          "text": [
            "FINISH RUN MODEL ON PATCHES\n",
            "\n",
            "UNIFY CROPS BBS ...\n"
          ]
        },
        {
          "name": "stderr",
          "output_type": "stream",
          "text": [
            "100%|██████████| 945/945 [00:00<00:00, 4042.28it/s]\n"
          ]
        },
        {
          "name": "stdout",
          "output_type": "stream",
          "text": [
            "Number of bbs after joining:, 41057\n",
            "Number of bbs after NMS:, 11930\n",
            "Number of bbs after enclosed bbs filtering:, 10889\n",
            "FINISH UNIFY CROPS\n",
            "\n",
            "SAVING IMAGE ...\n"
          ]
        },
        {
          "name": "stderr",
          "output_type": "stream",
          "text": [
            "100%|██████████| 10889/10889 [00:00<00:00, 55637.58it/s]\n"
          ]
        },
        {
          "name": "stdout",
          "output_type": "stream",
          "text": [
            "Image saved\n",
            "FINISH SAVING IMAGE\n"
          ]
        }
      ],
      "source": [
        "path_to_weigths = '../weigths/best_rgb_fulltrain.pt'\n",
        "image_path = os.path.join(base_dir, 'dataset/19K59/19K59.tif')\n",
        "predict_on_img(path_to_weigths, image_path, output_bbs_path='./boxes.txt', infrared=False, crop_size=CROP_SIZE, step=STEP,\n",
        "                   conf_thres=best_conf, iou_nms_thres=best_iou_nms, intersect_thres=0.75, verbose=True, save_fig_pred_bbs=True)"
      ]
    },
    {
      "cell_type": "markdown",
      "metadata": {
        "id": "0OYgADLn3I3G"
      },
      "source": [
        "### Evaluation"
      ]
    },
    {
      "cell_type": "code",
      "execution_count": null,
      "metadata": {
        "colab": {
          "base_uri": "https://localhost:8080/"
        },
        "id": "o4KW2p2z3ILX",
        "outputId": "16f9c2c0-ed64-4f7c-b741-add7a397be9c"
      },
      "outputs": [
        {
          "name": "stderr",
          "output_type": "stream",
          "text": [
            "100%|██████████| 10889/10889 [00:00<00:00, 51432.24it/s]\n",
            "100%|██████████| 8695/8695 [00:00<00:00, 103429.28it/s]\n"
          ]
        },
        {
          "name": "stdout",
          "output_type": "stream",
          "text": [
            "Figure saved\n"
          ]
        }
      ],
      "source": [
        "image_path = os.path.join(base_dir, 'dataset/19K59/19K59_RGB.tif')\n",
        "gt_boxes_txt_path = os.path.join(base_dir, 'dataset/19K59/19K59_boxes.txt')\n",
        "pred_boxes_txt_path = 'boxes.txt'\n",
        "visualize_errors_and_missings(image_path, gt_boxes_txt_path, pred_boxes_txt_path, iou_eval_thres=0.4, show=False)"
      ]
    },
    {
      "cell_type": "code",
      "execution_count": null,
      "metadata": {
        "colab": {
          "base_uri": "https://localhost:8080/",
          "height": 989
        },
        "id": "5j_ZWDWzcvip",
        "outputId": "0a0a4009-7262-451f-c6c1-7a730ffc5a48"
      },
      "outputs": [
        {
          "name": "stderr",
          "output_type": "stream",
          "text": [
            "10889it [03:12, 56.66it/s]\n"
          ]
        },
        {
          "name": "stdout",
          "output_type": "stream",
          "text": [
            "mAP: 0.71\n",
            "Last precision: 0.63\n",
            "Last recall: 0.79\n",
            "Last f1: 0.70\n",
            "Best f1: 0.73; index: 8554\n"
          ]
        },
        {
          "data": {
            "image/png": "[encoded data removed]",
            "text/plain": [
              "<Figure size 640x480 with 1 Axes>"
            ]
          },
          "metadata": {},
          "output_type": "display_data"
        },
        {
          "data": {
            "image/png": "[encoded data removed]",
            "text/plain": [
              "<Figure size 640x480 with 1 Axes>"
            ]
          },
          "metadata": {},
          "output_type": "display_data"
        }
      ],
      "source": [
        "%matplotlib inline\n",
        "gt_boxes_txt_path = os.path.join(base_dir,'dataset/19K59/19K59_boxes.txt')\n",
        "pred_boxes_txt_path = 'boxes.txt'\n",
        "map_score, last_f1, last_prec, last_rec = evaluate_predicted_boxes(gt_boxes_txt_path, pred_boxes_txt_path,\n",
        "                                                                   iou_eval_thres=0.4,\n",
        "                                                                   plot_prec_rec=True, plot_f1=True, verbose=True)"
      ]
    },
    {
      "cell_type": "markdown",
      "metadata": {},
      "source": [
        "Final test scores. \n",
        "- F1 score : $0.7$.\n",
        "- Precision : $0.63$.\n",
        "- Recall : $0.79$.\n",
        "- MAP : $0.71$."
      ]
    }
  ],
  "metadata": {
    "accelerator": "GPU",
    "colab": {
      "gpuType": "T4",
      "machine_shape": "hm",
      "provenance": []
    },
    "kernelspec": {
      "display_name": "Python 3",
      "name": "python3"
    },
    "language_info": {
      "name": "python"
    }
  },
  "nbformat": 4,
  "nbformat_minor": 0
}
