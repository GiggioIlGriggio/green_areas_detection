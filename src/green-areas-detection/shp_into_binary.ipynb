{
 "cells": [
  {
   "cell_type": "code",
   "execution_count": 2,
   "metadata": {},
   "outputs": [
    {
     "name": "stdout",
     "output_type": "stream",
     "text": [
      "dataset\\19K59\\19K59_mask.png 2087 entità\n"
     ]
    }
   ],
   "source": [
    "# TRANSFORMING SHP FILES INTO BINARY IMAGES (i.e. masks)\n",
    "\n",
    "from utils.PyMask import shpToMask\n",
    "import os \n",
    "\n",
    "dataset_folder = 'dataset'\n",
    "samples_names = os.listdir(dataset_folder)\n",
    "\n",
    "valid_samples_names = ['19K59', '19K35', '19K38', '18K11', '19K53']\n",
    "\n",
    "for sample_name in samples_names:\n",
    "    if sample_name in valid_samples_names:\n",
    "        sample_folder_path = os.path.join(dataset_folder, sample_name) \n",
    "        #print(sample_folder_path)\n",
    "        img_path = os.path.join(sample_folder_path, f'{sample_name}.tif')\n",
    "        #print(img_path)\n",
    "        shp_path = os.path.join(sample_folder_path, 'green_areas_shp', f'{sample_name}_greenareas.shp')\n",
    "        #print(shp_path)\n",
    "        shpToMask(img_path, shp_path)"
   ]
  },
  {
   "cell_type": "code",
   "execution_count": null,
   "metadata": {},
   "outputs": [],
   "source": []
  }
 ],
 "metadata": {
  "kernelspec": {
   "display_name": "green_areas_detection",
   "language": "python",
   "name": "python3"
  },
  "language_info": {
   "codemirror_mode": {
    "name": "ipython",
    "version": 3
   },
   "file_extension": ".py",
   "mimetype": "text/x-python",
   "name": "python",
   "nbconvert_exporter": "python",
   "pygments_lexer": "ipython3",
   "version": "3.10.0"
  },
  "orig_nbformat": 4
 },
 "nbformat": 4,
 "nbformat_minor": 2
}
